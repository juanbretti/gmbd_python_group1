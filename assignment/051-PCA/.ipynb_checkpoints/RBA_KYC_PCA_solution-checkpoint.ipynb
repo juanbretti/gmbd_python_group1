{
 "cells": [
  {
   "cell_type": "markdown",
   "metadata": {},
   "source": [
    "# Statistical Programming Python\n",
    "\n",
    "## Dimensionality Reduction - Principal Component Analysis (PCA)\n"
   ]
  },
  {
   "cell_type": "markdown",
   "metadata": {},
   "source": [
    "<img src=\"profile_manoelgadi.png\" width=100 height=100 align=\"right\">\n",
    "\n",
    "Author: Prof. Manoel Gadi\n",
    "\n",
    "Contact: mfalonso@faculty.ie.edu\n",
    "\n",
    "Teaching Web: http://mfalonso.pythonanywhere.com\n",
    "\n",
    "Last revision: 14/October/2019"
   ]
  },
  {
   "cell_type": "markdown",
   "metadata": {},
   "source": [
    "---"
   ]
  },
  {
   "cell_type": "markdown",
   "metadata": {},
   "source": [
    "---"
   ]
  },
  {
   "cell_type": "markdown",
   "metadata": {},
   "source": [
    "PCA is the data reduction technique (columns).\n",
    "* This method seeks to find linear combinations of predictors, known as main components (PC), that capture the greatest possible variance.\n",
    "* The __1o main component of the PC captures the greatest variability among all linear combinations\n",
    "* Then, __the subsequent PCs__ are derived in such a way that these linear combinations capture the most remaining variability and, at the same time, do not correlate with all previous PCs."
   ]
  },
  {
   "cell_type": "markdown",
   "metadata": {},
   "source": [
    "\n",
    "Advantages:\n",
    "* Create components that are not correlated.\n",
    "* The PCA does not consider the response variable when summarizing the variability. Not supervised\n",
    "\n",
    "Warnings:\n",
    "* Sensitive to scales and distributions (biased).\n",
    "* PCA focuses on identifying the data structure based on measurement scales rather than the important relationships within the data.\n"
   ]
  },
  {
   "cell_type": "markdown",
   "metadata": {},
   "source": [
    "## PCA for data visualization\n",
    "\n",
    "Reference: https://towardsdatascience.com/pca-using-python-scikit-learn-e653f8989e60 and https://www.youtube.com/watch?v=kApPBm1YsqU\n",
    "\n",
    "For many machine learning applications, it is useful to be able to visualize your data. Visualizing data in 2 or 3 dimensions is not that challenging. However, even the Iris data set used in this part of the tutorial is 4 dimensions. One can use PCA to reduce that three-dimensional data to 2 or 3 dimensions so that it can plot and, hopefully, better understand the data.\n",
    "\n",
    "### Loading the Iris dataset\n",
    "\n",
    "The Iris data set is one of the data sets that scikit-learn comes with that does not require downloading any files from any external website. The following code will load the iris data set."
   ]
  },
  {
   "cell_type": "markdown",
   "metadata": {},
   "source": [
    "### Importing the database: RBA_KYC_Accounts.xlsx"
   ]
  },
  {
   "cell_type": "code",
   "execution_count": 45,
   "metadata": {},
   "outputs": [],
   "source": [
    "import pandas as pd\n",
    "df = pd.read_excel('RBA_KYC_Accounts_ALL_Ids.xlsx')"
   ]
  },
  {
   "cell_type": "markdown",
   "metadata": {},
   "source": [
    "## Checking some quick statistics"
   ]
  },
  {
   "cell_type": "code",
   "execution_count": 46,
   "metadata": {},
   "outputs": [
    {
     "data": {
      "text/html": [
       "<div>\n",
       "<style scoped>\n",
       "    .dataframe tbody tr th:only-of-type {\n",
       "        vertical-align: middle;\n",
       "    }\n",
       "\n",
       "    .dataframe tbody tr th {\n",
       "        vertical-align: top;\n",
       "    }\n",
       "\n",
       "    .dataframe thead th {\n",
       "        text-align: right;\n",
       "    }\n",
       "</style>\n",
       "<table border=\"1\" class=\"dataframe\">\n",
       "  <thead>\n",
       "    <tr style=\"text-align: right;\">\n",
       "      <th></th>\n",
       "      <th>orgCode</th>\n",
       "      <th>branchCode</th>\n",
       "      <th>customerId</th>\n",
       "      <th>customerType</th>\n",
       "      <th>residentStatus</th>\n",
       "      <th>age_in_year</th>\n",
       "      <th>birthCountry</th>\n",
       "      <th>profession</th>\n",
       "      <th>companyType</th>\n",
       "      <th>lastUpdate</th>\n",
       "      <th>...</th>\n",
       "      <th>avg_last_90_days</th>\n",
       "      <th>number_of_cash_dep_90_days</th>\n",
       "      <th>avg_cash_deposit_90_days</th>\n",
       "      <th>number_of_deposit_90_days</th>\n",
       "      <th>avg_of_dep_90_days</th>\n",
       "      <th>number_of_cash_wd_90_days</th>\n",
       "      <th>avg_of_cash_wd_90_days</th>\n",
       "      <th>number_of_wd_90_days</th>\n",
       "      <th>avg_of_wd_90_days</th>\n",
       "      <th>rbaValue</th>\n",
       "    </tr>\n",
       "  </thead>\n",
       "  <tbody>\n",
       "    <tr>\n",
       "      <th>count</th>\n",
       "      <td>68176.0</td>\n",
       "      <td>68176.000000</td>\n",
       "      <td>6.817600e+04</td>\n",
       "      <td>68176.000000</td>\n",
       "      <td>68176.000000</td>\n",
       "      <td>61989.000000</td>\n",
       "      <td>0.0</td>\n",
       "      <td>14057.000000</td>\n",
       "      <td>22057.000000</td>\n",
       "      <td>0.0</td>\n",
       "      <td>...</td>\n",
       "      <td>6.817600e+04</td>\n",
       "      <td>68176.000000</td>\n",
       "      <td>6.817600e+04</td>\n",
       "      <td>68176.000000</td>\n",
       "      <td>6.817600e+04</td>\n",
       "      <td>68176.000000</td>\n",
       "      <td>6.817600e+04</td>\n",
       "      <td>68176.000000</td>\n",
       "      <td>6.817600e+04</td>\n",
       "      <td>68176.000000</td>\n",
       "    </tr>\n",
       "    <tr>\n",
       "      <th>mean</th>\n",
       "      <td>1.0</td>\n",
       "      <td>202.206290</td>\n",
       "      <td>2.002982e+16</td>\n",
       "      <td>1.156155</td>\n",
       "      <td>1.048976</td>\n",
       "      <td>43.886625</td>\n",
       "      <td>NaN</td>\n",
       "      <td>19.822082</td>\n",
       "      <td>46.492542</td>\n",
       "      <td>NaN</td>\n",
       "      <td>...</td>\n",
       "      <td>2.697373e+03</td>\n",
       "      <td>0.176426</td>\n",
       "      <td>-4.414157e+02</td>\n",
       "      <td>0.325628</td>\n",
       "      <td>-2.051175e+03</td>\n",
       "      <td>0.041877</td>\n",
       "      <td>1.404528e+02</td>\n",
       "      <td>0.301543</td>\n",
       "      <td>1.183516e+03</td>\n",
       "      <td>20.629097</td>\n",
       "    </tr>\n",
       "    <tr>\n",
       "      <th>std</th>\n",
       "      <td>0.0</td>\n",
       "      <td>0.526089</td>\n",
       "      <td>1.958228e+15</td>\n",
       "      <td>0.363005</td>\n",
       "      <td>0.215820</td>\n",
       "      <td>17.584673</td>\n",
       "      <td>NaN</td>\n",
       "      <td>6.340374</td>\n",
       "      <td>10.125852</td>\n",
       "      <td>NaN</td>\n",
       "      <td>...</td>\n",
       "      <td>2.161992e+05</td>\n",
       "      <td>3.915997</td>\n",
       "      <td>2.007611e+04</td>\n",
       "      <td>12.251701</td>\n",
       "      <td>8.084940e+04</td>\n",
       "      <td>0.467647</td>\n",
       "      <td>6.356606e+03</td>\n",
       "      <td>13.653187</td>\n",
       "      <td>4.453170e+04</td>\n",
       "      <td>9.279658</td>\n",
       "    </tr>\n",
       "    <tr>\n",
       "      <th>min</th>\n",
       "      <td>1.0</td>\n",
       "      <td>201.000000</td>\n",
       "      <td>2.020028e+09</td>\n",
       "      <td>1.000000</td>\n",
       "      <td>1.000000</td>\n",
       "      <td>1.000000</td>\n",
       "      <td>NaN</td>\n",
       "      <td>1.000000</td>\n",
       "      <td>1.000000</td>\n",
       "      <td>NaN</td>\n",
       "      <td>...</td>\n",
       "      <td>-2.182338e+07</td>\n",
       "      <td>0.000000</td>\n",
       "      <td>-3.701874e+06</td>\n",
       "      <td>0.000000</td>\n",
       "      <td>-1.383243e+07</td>\n",
       "      <td>0.000000</td>\n",
       "      <td>0.000000e+00</td>\n",
       "      <td>0.000000</td>\n",
       "      <td>0.000000e+00</td>\n",
       "      <td>4.080000</td>\n",
       "    </tr>\n",
       "    <tr>\n",
       "      <th>25%</th>\n",
       "      <td>1.0</td>\n",
       "      <td>202.000000</td>\n",
       "      <td>2.020054e+16</td>\n",
       "      <td>1.000000</td>\n",
       "      <td>1.000000</td>\n",
       "      <td>32.000000</td>\n",
       "      <td>NaN</td>\n",
       "      <td>20.000000</td>\n",
       "      <td>37.000000</td>\n",
       "      <td>NaN</td>\n",
       "      <td>...</td>\n",
       "      <td>0.000000e+00</td>\n",
       "      <td>0.000000</td>\n",
       "      <td>0.000000e+00</td>\n",
       "      <td>0.000000</td>\n",
       "      <td>0.000000e+00</td>\n",
       "      <td>0.000000</td>\n",
       "      <td>0.000000e+00</td>\n",
       "      <td>0.000000</td>\n",
       "      <td>0.000000e+00</td>\n",
       "      <td>14.530000</td>\n",
       "    </tr>\n",
       "    <tr>\n",
       "      <th>50%</th>\n",
       "      <td>1.0</td>\n",
       "      <td>202.000000</td>\n",
       "      <td>2.020061e+16</td>\n",
       "      <td>1.000000</td>\n",
       "      <td>1.000000</td>\n",
       "      <td>44.000000</td>\n",
       "      <td>NaN</td>\n",
       "      <td>21.000000</td>\n",
       "      <td>51.000000</td>\n",
       "      <td>NaN</td>\n",
       "      <td>...</td>\n",
       "      <td>0.000000e+00</td>\n",
       "      <td>0.000000</td>\n",
       "      <td>0.000000e+00</td>\n",
       "      <td>0.000000</td>\n",
       "      <td>0.000000e+00</td>\n",
       "      <td>0.000000</td>\n",
       "      <td>0.000000e+00</td>\n",
       "      <td>0.000000</td>\n",
       "      <td>0.000000e+00</td>\n",
       "      <td>18.280000</td>\n",
       "    </tr>\n",
       "    <tr>\n",
       "      <th>75%</th>\n",
       "      <td>1.0</td>\n",
       "      <td>202.000000</td>\n",
       "      <td>2.020080e+16</td>\n",
       "      <td>1.000000</td>\n",
       "      <td>1.000000</td>\n",
       "      <td>56.000000</td>\n",
       "      <td>NaN</td>\n",
       "      <td>23.000000</td>\n",
       "      <td>51.000000</td>\n",
       "      <td>NaN</td>\n",
       "      <td>...</td>\n",
       "      <td>0.000000e+00</td>\n",
       "      <td>0.000000</td>\n",
       "      <td>0.000000e+00</td>\n",
       "      <td>0.000000</td>\n",
       "      <td>0.000000e+00</td>\n",
       "      <td>0.000000</td>\n",
       "      <td>0.000000e+00</td>\n",
       "      <td>0.000000</td>\n",
       "      <td>0.000000e+00</td>\n",
       "      <td>25.080000</td>\n",
       "    </tr>\n",
       "    <tr>\n",
       "      <th>max</th>\n",
       "      <td>1.0</td>\n",
       "      <td>204.000000</td>\n",
       "      <td>2.040085e+16</td>\n",
       "      <td>2.000000</td>\n",
       "      <td>2.000000</td>\n",
       "      <td>104.000000</td>\n",
       "      <td>NaN</td>\n",
       "      <td>39.000000</td>\n",
       "      <td>100.000000</td>\n",
       "      <td>NaN</td>\n",
       "      <td>...</td>\n",
       "      <td>1.867700e+07</td>\n",
       "      <td>605.000000</td>\n",
       "      <td>0.000000e+00</td>\n",
       "      <td>2629.000000</td>\n",
       "      <td>4.558496e+05</td>\n",
       "      <td>37.000000</td>\n",
       "      <td>1.119818e+06</td>\n",
       "      <td>2567.000000</td>\n",
       "      <td>5.993670e+06</td>\n",
       "      <td>100.000000</td>\n",
       "    </tr>\n",
       "  </tbody>\n",
       "</table>\n",
       "<p>8 rows × 31 columns</p>\n",
       "</div>"
      ],
      "text/plain": [
       "       orgCode    branchCode    customerId  customerType  residentStatus  \\\n",
       "count  68176.0  68176.000000  6.817600e+04  68176.000000    68176.000000   \n",
       "mean       1.0    202.206290  2.002982e+16      1.156155        1.048976   \n",
       "std        0.0      0.526089  1.958228e+15      0.363005        0.215820   \n",
       "min        1.0    201.000000  2.020028e+09      1.000000        1.000000   \n",
       "25%        1.0    202.000000  2.020054e+16      1.000000        1.000000   \n",
       "50%        1.0    202.000000  2.020061e+16      1.000000        1.000000   \n",
       "75%        1.0    202.000000  2.020080e+16      1.000000        1.000000   \n",
       "max        1.0    204.000000  2.040085e+16      2.000000        2.000000   \n",
       "\n",
       "        age_in_year  birthCountry    profession   companyType  lastUpdate  \\\n",
       "count  61989.000000           0.0  14057.000000  22057.000000         0.0   \n",
       "mean      43.886625           NaN     19.822082     46.492542         NaN   \n",
       "std       17.584673           NaN      6.340374     10.125852         NaN   \n",
       "min        1.000000           NaN      1.000000      1.000000         NaN   \n",
       "25%       32.000000           NaN     20.000000     37.000000         NaN   \n",
       "50%       44.000000           NaN     21.000000     51.000000         NaN   \n",
       "75%       56.000000           NaN     23.000000     51.000000         NaN   \n",
       "max      104.000000           NaN     39.000000    100.000000         NaN   \n",
       "\n",
       "       ...  avg_last_90_days  number_of_cash_dep_90_days  \\\n",
       "count  ...      6.817600e+04                68176.000000   \n",
       "mean   ...      2.697373e+03                    0.176426   \n",
       "std    ...      2.161992e+05                    3.915997   \n",
       "min    ...     -2.182338e+07                    0.000000   \n",
       "25%    ...      0.000000e+00                    0.000000   \n",
       "50%    ...      0.000000e+00                    0.000000   \n",
       "75%    ...      0.000000e+00                    0.000000   \n",
       "max    ...      1.867700e+07                  605.000000   \n",
       "\n",
       "       avg_cash_deposit_90_days  number_of_deposit_90_days  \\\n",
       "count              6.817600e+04               68176.000000   \n",
       "mean              -4.414157e+02                   0.325628   \n",
       "std                2.007611e+04                  12.251701   \n",
       "min               -3.701874e+06                   0.000000   \n",
       "25%                0.000000e+00                   0.000000   \n",
       "50%                0.000000e+00                   0.000000   \n",
       "75%                0.000000e+00                   0.000000   \n",
       "max                0.000000e+00                2629.000000   \n",
       "\n",
       "       avg_of_dep_90_days  number_of_cash_wd_90_days  avg_of_cash_wd_90_days  \\\n",
       "count        6.817600e+04               68176.000000            6.817600e+04   \n",
       "mean        -2.051175e+03                   0.041877            1.404528e+02   \n",
       "std          8.084940e+04                   0.467647            6.356606e+03   \n",
       "min         -1.383243e+07                   0.000000            0.000000e+00   \n",
       "25%          0.000000e+00                   0.000000            0.000000e+00   \n",
       "50%          0.000000e+00                   0.000000            0.000000e+00   \n",
       "75%          0.000000e+00                   0.000000            0.000000e+00   \n",
       "max          4.558496e+05                  37.000000            1.119818e+06   \n",
       "\n",
       "       number_of_wd_90_days  avg_of_wd_90_days      rbaValue  \n",
       "count          68176.000000       6.817600e+04  68176.000000  \n",
       "mean               0.301543       1.183516e+03     20.629097  \n",
       "std               13.653187       4.453170e+04      9.279658  \n",
       "min                0.000000       0.000000e+00      4.080000  \n",
       "25%                0.000000       0.000000e+00     14.530000  \n",
       "50%                0.000000       0.000000e+00     18.280000  \n",
       "75%                0.000000       0.000000e+00     25.080000  \n",
       "max             2567.000000       5.993670e+06    100.000000  \n",
       "\n",
       "[8 rows x 31 columns]"
      ]
     },
     "execution_count": 46,
     "metadata": {},
     "output_type": "execute_result"
    }
   ],
   "source": [
    "df.describe()"
   ]
  },
  {
   "cell_type": "markdown",
   "metadata": {},
   "source": [
    "## Checking for percentage (%) of missing values"
   ]
  },
  {
   "cell_type": "code",
   "execution_count": 47,
   "metadata": {},
   "outputs": [
    {
     "data": {
      "text/plain": [
       "orgCode                         0.000000\n",
       "branchCode                      0.000000\n",
       "customerId                      0.000000\n",
       "customerType                    0.000000\n",
       "creationDate                    0.000000\n",
       "onboarding                      0.000000\n",
       "residentStatus                  0.000000\n",
       "residentCountry                 0.359364\n",
       "nationalityOriginal             0.925546\n",
       "extraNationality               99.243135\n",
       "dateOfBirth                     9.075041\n",
       "age_in_year                     9.075041\n",
       "birthCountry                  100.000000\n",
       "birthPlace                     29.671732\n",
       "profession                     79.381307\n",
       "companyType                    67.646973\n",
       "giinCode                       99.982398\n",
       "lastUpdate                    100.000000\n",
       "status                          0.000000\n",
       "ledgerCode                      0.000000\n",
       "accountCurrency                 0.164281\n",
       "jointAccount                    0.000000\n",
       "IsBlackListed                   0.000000\n",
       "CUS_CLASS                       0.000000\n",
       "ECO_SEC                         0.000000\n",
       "TYPE_OF_DEP                     0.000000\n",
       "GENDER                         72.848216\n",
       "LEGAL_STA_CODE                 12.281448\n",
       "legal_Stat_desc               100.000000\n",
       "avg_last_10_days                0.000000\n",
       "avg_last_30_days                0.000000\n",
       "avg_last_90_days                0.000000\n",
       "number_of_cash_dep_90_days      0.000000\n",
       "avg_cash_deposit_90_days        0.000000\n",
       "number_of_deposit_90_days       0.000000\n",
       "avg_of_dep_90_days              0.000000\n",
       "number_of_cash_wd_90_days       0.000000\n",
       "avg_of_cash_wd_90_days          0.000000\n",
       "number_of_wd_90_days            0.000000\n",
       "avg_of_wd_90_days               0.000000\n",
       "date_of_assessment              0.000000\n",
       "rbaGradeAbrv                    0.000000\n",
       "Risk_Description                0.000000\n",
       "score_Card                      0.000000\n",
       "rbaValue                        0.000000\n",
       "dtype: float64"
      ]
     },
     "execution_count": 47,
     "metadata": {},
     "output_type": "execute_result"
    }
   ],
   "source": [
    "100*df.isnull().sum()/df.isnull().count()"
   ]
  },
  {
   "cell_type": "markdown",
   "metadata": {},
   "source": [
    "## Making some histograms"
   ]
  },
  {
   "cell_type": "code",
   "execution_count": 48,
   "metadata": {},
   "outputs": [
    {
     "data": {
      "image/png": "[encoded data removed]",
      "text/plain": [
       "<Figure size 864x864 with 36 Axes>"
      ]
     },
     "metadata": {
      "needs_background": "light"
     },
     "output_type": "display_data"
    }
   ],
   "source": [
    "\n",
    "import matplotlib.pylab as plt\n",
    "attribute_columns = list(df.columns)\n",
    "if True:\n",
    "    fontsize = 10\n",
    "    fig = df[attribute_columns].hist(bins = 20, figsize = (12, 12),\n",
    "                                       xlabelsize=fontsize,\n",
    "                                       ylabelsize=fontsize)\n",
    "    for x in fig.ravel():\n",
    "        x.title.set_size(fontsize)\n",
    "else:\n",
    "    nrows = (len(attribute_columns)+1) // 2\n",
    "    plt.figure(figsize=(12,25))\n",
    "    for i in range(len(attribute_columns)):\n",
    "        name = attribute_columns[i]\n",
    "        plt.subplot(nrows,2,i+1)\n",
    "        data[name].hist()\n",
    "        plt.title(name, fontsize=14)\n",
    "    \n",
    "plt.show()"
   ]
  },
  {
   "cell_type": "markdown",
   "metadata": {},
   "source": [
    "## Droping variables with no information at all"
   ]
  },
  {
   "cell_type": "code",
   "execution_count": 49,
   "metadata": {},
   "outputs": [],
   "source": [
    "df.drop(['birthCountry', \n",
    "         'lastUpdate', \n",
    "         'legal_Stat_desc', \n",
    "         'IsBlackListed',\n",
    "         'customerId',\n",
    "         'birthPlace'], axis = 1, inplace = True) "
   ]
  },
  {
   "cell_type": "code",
   "execution_count": 50,
   "metadata": {},
   "outputs": [
    {
     "data": {
      "text/plain": [
       "orgCode                         int64\n",
       "branchCode                      int64\n",
       "customerType                    int64\n",
       "creationDate                   object\n",
       "onboarding                     object\n",
       "residentStatus                  int64\n",
       "residentCountry                object\n",
       "nationalityOriginal            object\n",
       "extraNationality               object\n",
       "dateOfBirth                    object\n",
       "age_in_year                   float64\n",
       "profession                    float64\n",
       "companyType                   float64\n",
       "giinCode                       object\n",
       "status                         object\n",
       "ledgerCode                      int64\n",
       "accountCurrency                object\n",
       "jointAccount                    int64\n",
       "CUS_CLASS                       int64\n",
       "ECO_SEC                         int64\n",
       "TYPE_OF_DEP                     int64\n",
       "GENDER                        float64\n",
       "LEGAL_STA_CODE                float64\n",
       "avg_last_10_days              float64\n",
       "avg_last_30_days              float64\n",
       "avg_last_90_days              float64\n",
       "number_of_cash_dep_90_days    float64\n",
       "avg_cash_deposit_90_days      float64\n",
       "number_of_deposit_90_days     float64\n",
       "avg_of_dep_90_days            float64\n",
       "number_of_cash_wd_90_days     float64\n",
       "avg_of_cash_wd_90_days        float64\n",
       "number_of_wd_90_days          float64\n",
       "avg_of_wd_90_days             float64\n",
       "date_of_assessment             object\n",
       "rbaGradeAbrv                   object\n",
       "Risk_Description               object\n",
       "score_Card                     object\n",
       "rbaValue                      float64\n",
       "dtype: object"
      ]
     },
     "execution_count": 50,
     "metadata": {},
     "output_type": "execute_result"
    }
   ],
   "source": [
    "df.dtypes"
   ]
  },
  {
   "cell_type": "code",
   "execution_count": 51,
   "metadata": {
    "scrolled": true
   },
   "outputs": [
    {
     "data": {
      "text/plain": [
       "creationDate           object\n",
       "onboarding             object\n",
       "residentCountry        object\n",
       "nationalityOriginal    object\n",
       "extraNationality       object\n",
       "dateOfBirth            object\n",
       "giinCode               object\n",
       "status                 object\n",
       "accountCurrency        object\n",
       "date_of_assessment     object\n",
       "rbaGradeAbrv           object\n",
       "Risk_Description       object\n",
       "score_Card             object\n",
       "dtype: object"
      ]
     },
     "execution_count": 51,
     "metadata": {},
     "output_type": "execute_result"
    }
   ],
   "source": [
    "df.select_dtypes(include=['object']).dtypes"
   ]
  },
  {
   "cell_type": "markdown",
   "metadata": {},
   "source": [
    "### Treatment for variables that are NOT numeric\n",
    "*     Label Encoder. Label Encoding in Python can be achieved using Sklearn Library.\n",
    "*     Sklearn provides a very efficient tool for encoding the levels of categorical features into numeric values.\n",
    "*     LabelEncoder encode labels with a value between 0 and n_classes-1 where n is the number of distinct labels.\n",
    "*     If a label repeats it assigns the same value to as assigned earlier."
   ]
  },
  {
   "cell_type": "code",
   "execution_count": 52,
   "metadata": {},
   "outputs": [],
   "source": [
    "from sklearn.preprocessing import LabelEncoder\n",
    "\n",
    "label_encoder = LabelEncoder()\n",
    "df['creationDate']= label_encoder.fit_transform(df['creationDate'])"
   ]
  },
  {
   "cell_type": "code",
   "execution_count": 53,
   "metadata": {},
   "outputs": [],
   "source": [
    "df['onboarding']= label_encoder.fit_transform(df['onboarding'])"
   ]
  },
  {
   "cell_type": "code",
   "execution_count": 54,
   "metadata": {},
   "outputs": [],
   "source": [
    "df['residentCountry']= label_encoder.fit_transform(df['residentCountry'].astype(str))"
   ]
  },
  {
   "cell_type": "code",
   "execution_count": 55,
   "metadata": {},
   "outputs": [],
   "source": [
    "df['nationalityOriginal']= label_encoder.fit_transform(df['nationalityOriginal'].astype(str))"
   ]
  },
  {
   "cell_type": "code",
   "execution_count": 56,
   "metadata": {},
   "outputs": [],
   "source": [
    "df['extraNationality']= label_encoder.fit_transform(df['extraNationality'].astype(str))"
   ]
  },
  {
   "cell_type": "code",
   "execution_count": 57,
   "metadata": {},
   "outputs": [],
   "source": [
    "df['dateOfBirth']= label_encoder.fit_transform(df['dateOfBirth'].astype(str))"
   ]
  },
  {
   "cell_type": "code",
   "execution_count": 70,
   "metadata": {},
   "outputs": [],
   "source": [
    "df['giinCode']= label_encoder.fit_transform(df['giinCode'].astype(str))"
   ]
  },
  {
   "cell_type": "code",
   "execution_count": 71,
   "metadata": {},
   "outputs": [],
   "source": [
    "df['status']= label_encoder.fit_transform(df['status'])"
   ]
  },
  {
   "cell_type": "code",
   "execution_count": 72,
   "metadata": {},
   "outputs": [],
   "source": [
    "df['accountCurrency']= label_encoder.fit_transform(df['accountCurrency'].astype(str))"
   ]
  },
  {
   "cell_type": "code",
   "execution_count": 73,
   "metadata": {},
   "outputs": [],
   "source": [
    "df['date_of_assessment']= label_encoder.fit_transform(df['date_of_assessment'])"
   ]
  },
  {
   "cell_type": "code",
   "execution_count": 74,
   "metadata": {},
   "outputs": [
    {
     "data": {
      "text/plain": [
       "(68176, 44)"
      ]
     },
     "execution_count": 74,
     "metadata": {},
     "output_type": "execute_result"
    }
   ],
   "source": [
    "df.shape"
   ]
  },
  {
   "cell_type": "markdown",
   "metadata": {},
   "source": [
    "### Creating variables NEGATIVE information\n",
    "meaning 1 when original variable is missing and zero otherwise"
   ]
  },
  {
   "cell_type": "code",
   "execution_count": 75,
   "metadata": {},
   "outputs": [],
   "source": [
    "for var in df.columns[:-5]:\n",
    "    if sum(1*df[var].isnull()):\n",
    "        print(var, 'has missings')\n",
    "        df.loc[df[var].isnull(),var] = 0\n",
    "        df[var+'_missing']=1*df[var].isnull()"
   ]
  },
  {
   "cell_type": "markdown",
   "metadata": {},
   "source": [
    "### Now what we can do for those NUMERIC variables make a standardization\n",
    "First we remove NaN"
   ]
  },
  {
   "cell_type": "code",
   "execution_count": 76,
   "metadata": {},
   "outputs": [],
   "source": [
    "df_PCA = df.fillna(0)"
   ]
  },
  {
   "cell_type": "code",
   "execution_count": 77,
   "metadata": {},
   "outputs": [
    {
     "data": {
      "text/plain": [
       "orgCode                       0\n",
       "branchCode                    0\n",
       "customerType                  0\n",
       "creationDate                  0\n",
       "onboarding                    0\n",
       "residentStatus                0\n",
       "residentCountry               0\n",
       "nationalityOriginal           0\n",
       "extraNationality              0\n",
       "dateOfBirth                   0\n",
       "age_in_year                   0\n",
       "profession                    0\n",
       "companyType                   0\n",
       "giinCode                      0\n",
       "status                        0\n",
       "ledgerCode                    0\n",
       "accountCurrency               0\n",
       "jointAccount                  0\n",
       "CUS_CLASS                     0\n",
       "ECO_SEC                       0\n",
       "TYPE_OF_DEP                   0\n",
       "GENDER                        0\n",
       "LEGAL_STA_CODE                0\n",
       "avg_last_10_days              0\n",
       "avg_last_30_days              0\n",
       "avg_last_90_days              0\n",
       "number_of_cash_dep_90_days    0\n",
       "avg_cash_deposit_90_days      0\n",
       "number_of_deposit_90_days     0\n",
       "avg_of_dep_90_days            0\n",
       "number_of_cash_wd_90_days     0\n",
       "avg_of_cash_wd_90_days        0\n",
       "number_of_wd_90_days          0\n",
       "avg_of_wd_90_days             0\n",
       "date_of_assessment            0\n",
       "rbaGradeAbrv                  0\n",
       "Risk_Description              0\n",
       "score_Card                    0\n",
       "rbaValue                      0\n",
       "age_in_year_missing           0\n",
       "profession_missing            0\n",
       "companyType_missing           0\n",
       "GENDER_missing                0\n",
       "LEGAL_STA_CODE_missing        0\n",
       "dtype: int64"
      ]
     },
     "execution_count": 77,
     "metadata": {},
     "output_type": "execute_result"
    }
   ],
   "source": [
    "df_PCA.isnull().sum()"
   ]
  },
  {
   "cell_type": "markdown",
   "metadata": {},
   "source": [
    "### We make a standardization to Normal Distribuition\n"
   ]
  },
  {
   "cell_type": "code",
   "execution_count": 78,
   "metadata": {},
   "outputs": [],
   "source": [
    "from sklearn.preprocessing import StandardScaler\n",
    "import numpy as np\n",
    "\n",
    "num_cols = df_PCA.columns[df_PCA.dtypes.apply(lambda c: np.issubdtype(c, np.number))]\n",
    "scaler = StandardScaler()\n",
    "df_PCA[num_cols] = scaler.fit_transform(df_PCA[num_cols]) \n"
   ]
  },
  {
   "cell_type": "code",
   "execution_count": 79,
   "metadata": {},
   "outputs": [
    {
     "data": {
      "text/plain": [
       "orgCode                       float64\n",
       "branchCode                    float64\n",
       "customerType                  float64\n",
       "creationDate                  float64\n",
       "onboarding                    float64\n",
       "residentStatus                float64\n",
       "residentCountry               float64\n",
       "nationalityOriginal           float64\n",
       "extraNationality              float64\n",
       "dateOfBirth                   float64\n",
       "age_in_year                   float64\n",
       "profession                    float64\n",
       "companyType                   float64\n",
       "giinCode                      float64\n",
       "status                        float64\n",
       "ledgerCode                    float64\n",
       "accountCurrency               float64\n",
       "jointAccount                  float64\n",
       "CUS_CLASS                     float64\n",
       "ECO_SEC                       float64\n",
       "TYPE_OF_DEP                   float64\n",
       "GENDER                        float64\n",
       "LEGAL_STA_CODE                float64\n",
       "avg_last_10_days              float64\n",
       "avg_last_30_days              float64\n",
       "avg_last_90_days              float64\n",
       "number_of_cash_dep_90_days    float64\n",
       "avg_cash_deposit_90_days      float64\n",
       "number_of_deposit_90_days     float64\n",
       "avg_of_dep_90_days            float64\n",
       "number_of_cash_wd_90_days     float64\n",
       "avg_of_cash_wd_90_days        float64\n",
       "number_of_wd_90_days          float64\n",
       "avg_of_wd_90_days             float64\n",
       "date_of_assessment            float64\n",
       "rbaGradeAbrv                   object\n",
       "Risk_Description               object\n",
       "score_Card                     object\n",
       "rbaValue                      float64\n",
       "age_in_year_missing           float64\n",
       "profession_missing            float64\n",
       "companyType_missing           float64\n",
       "GENDER_missing                float64\n",
       "LEGAL_STA_CODE_missing        float64\n",
       "dtype: object"
      ]
     },
     "execution_count": 79,
     "metadata": {},
     "output_type": "execute_result"
    }
   ],
   "source": [
    "df_PCA.dtypes\n"
   ]
  },
  {
   "cell_type": "markdown",
   "metadata": {},
   "source": [
    "### I remove the last 4 variables of my data frame that are not going to be used in the PCA\n"
   ]
  },
  {
   "cell_type": "code",
   "execution_count": 80,
   "metadata": {},
   "outputs": [],
   "source": [
    "df_PCA.drop(['rbaValue', \n",
    "         'score_Card', \n",
    "         'Risk_Description', \n",
    "         'rbaGradeAbrv',\n",
    "         'date_of_assessment'], axis = 1, inplace = True) "
   ]
  },
  {
   "cell_type": "code",
   "execution_count": 81,
   "metadata": {},
   "outputs": [],
   "source": [
    "from sklearn.decomposition import PCA\n",
    "\n",
    "pca = PCA(n_components=2)\n",
    "\n",
    "principalComponents = pca.fit_transform(df_PCA)\n",
    "\n",
    "principalDf = pd.DataFrame(data = principalComponents\n",
    "             , columns = ['principal component 1', 'principal component 2'])\n"
   ]
  },
  {
   "cell_type": "code",
   "execution_count": 82,
   "metadata": {},
   "outputs": [
    {
     "data": {
      "text/html": [
       "<div>\n",
       "<style scoped>\n",
       "    .dataframe tbody tr th:only-of-type {\n",
       "        vertical-align: middle;\n",
       "    }\n",
       "\n",
       "    .dataframe tbody tr th {\n",
       "        vertical-align: top;\n",
       "    }\n",
       "\n",
       "    .dataframe thead th {\n",
       "        text-align: right;\n",
       "    }\n",
       "</style>\n",
       "<table border=\"1\" class=\"dataframe\">\n",
       "  <thead>\n",
       "    <tr style=\"text-align: right;\">\n",
       "      <th></th>\n",
       "      <th>principal component 1</th>\n",
       "      <th>principal component 2</th>\n",
       "    </tr>\n",
       "  </thead>\n",
       "  <tbody>\n",
       "    <tr>\n",
       "      <th>0</th>\n",
       "      <td>-1.660959</td>\n",
       "      <td>-0.434616</td>\n",
       "    </tr>\n",
       "    <tr>\n",
       "      <th>1</th>\n",
       "      <td>-1.712432</td>\n",
       "      <td>-0.290683</td>\n",
       "    </tr>\n",
       "    <tr>\n",
       "      <th>2</th>\n",
       "      <td>-1.026147</td>\n",
       "      <td>-2.350242</td>\n",
       "    </tr>\n",
       "    <tr>\n",
       "      <th>3</th>\n",
       "      <td>-1.726457</td>\n",
       "      <td>-0.291118</td>\n",
       "    </tr>\n",
       "    <tr>\n",
       "      <th>4</th>\n",
       "      <td>-0.660603</td>\n",
       "      <td>-0.090566</td>\n",
       "    </tr>\n",
       "  </tbody>\n",
       "</table>\n",
       "</div>"
      ],
      "text/plain": [
       "   principal component 1  principal component 2\n",
       "0              -1.660959              -0.434616\n",
       "1              -1.712432              -0.290683\n",
       "2              -1.026147              -2.350242\n",
       "3              -1.726457              -0.291118\n",
       "4              -0.660603              -0.090566"
      ]
     },
     "execution_count": 82,
     "metadata": {},
     "output_type": "execute_result"
    }
   ],
   "source": [
    "principalDf.head()"
   ]
  },
  {
   "cell_type": "markdown",
   "metadata": {},
   "source": [
    "### Here our target variable is Risk_Description, so attach it to my base data of PCAs"
   ]
  },
  {
   "cell_type": "code",
   "execution_count": 83,
   "metadata": {},
   "outputs": [
    {
     "data": {
      "text/html": [
       "<div>\n",
       "<style scoped>\n",
       "    .dataframe tbody tr th:only-of-type {\n",
       "        vertical-align: middle;\n",
       "    }\n",
       "\n",
       "    .dataframe tbody tr th {\n",
       "        vertical-align: top;\n",
       "    }\n",
       "\n",
       "    .dataframe thead th {\n",
       "        text-align: right;\n",
       "    }\n",
       "</style>\n",
       "<table border=\"1\" class=\"dataframe\">\n",
       "  <thead>\n",
       "    <tr style=\"text-align: right;\">\n",
       "      <th></th>\n",
       "      <th>principal component 1</th>\n",
       "      <th>principal component 2</th>\n",
       "      <th>Risk_Description</th>\n",
       "    </tr>\n",
       "  </thead>\n",
       "  <tbody>\n",
       "    <tr>\n",
       "      <th>0</th>\n",
       "      <td>-1.660959</td>\n",
       "      <td>-0.434616</td>\n",
       "      <td>Medium</td>\n",
       "    </tr>\n",
       "    <tr>\n",
       "      <th>1</th>\n",
       "      <td>-1.712432</td>\n",
       "      <td>-0.290683</td>\n",
       "      <td>Medium</td>\n",
       "    </tr>\n",
       "    <tr>\n",
       "      <th>2</th>\n",
       "      <td>-1.026147</td>\n",
       "      <td>-2.350242</td>\n",
       "      <td>Medium</td>\n",
       "    </tr>\n",
       "    <tr>\n",
       "      <th>3</th>\n",
       "      <td>-1.726457</td>\n",
       "      <td>-0.291118</td>\n",
       "      <td>Medium</td>\n",
       "    </tr>\n",
       "    <tr>\n",
       "      <th>4</th>\n",
       "      <td>-0.660603</td>\n",
       "      <td>-0.090566</td>\n",
       "      <td>Low</td>\n",
       "    </tr>\n",
       "  </tbody>\n",
       "</table>\n",
       "</div>"
      ],
      "text/plain": [
       "   principal component 1  principal component 2 Risk_Description\n",
       "0              -1.660959              -0.434616           Medium\n",
       "1              -1.712432              -0.290683           Medium\n",
       "2              -1.026147              -2.350242           Medium\n",
       "3              -1.726457              -0.291118           Medium\n",
       "4              -0.660603              -0.090566              Low"
      ]
     },
     "execution_count": 83,
     "metadata": {},
     "output_type": "execute_result"
    }
   ],
   "source": [
    "finalDf = pd.concat([principalDf, df[['Risk_Description']]], axis = 1)\n",
    "finalDf.head()"
   ]
  },
  {
   "cell_type": "code",
   "execution_count": 84,
   "metadata": {},
   "outputs": [
    {
     "data": {
      "text/html": [
       "<div>\n",
       "<style scoped>\n",
       "    .dataframe tbody tr th:only-of-type {\n",
       "        vertical-align: middle;\n",
       "    }\n",
       "\n",
       "    .dataframe tbody tr th {\n",
       "        vertical-align: top;\n",
       "    }\n",
       "\n",
       "    .dataframe thead th {\n",
       "        text-align: right;\n",
       "    }\n",
       "</style>\n",
       "<table border=\"1\" class=\"dataframe\">\n",
       "  <thead>\n",
       "    <tr style=\"text-align: right;\">\n",
       "      <th></th>\n",
       "      <th>orgCode</th>\n",
       "    </tr>\n",
       "    <tr>\n",
       "      <th>Risk_Description</th>\n",
       "      <th></th>\n",
       "    </tr>\n",
       "  </thead>\n",
       "  <tbody>\n",
       "    <tr>\n",
       "      <th>High</th>\n",
       "      <td>8</td>\n",
       "    </tr>\n",
       "    <tr>\n",
       "      <th>Low</th>\n",
       "      <td>38937</td>\n",
       "    </tr>\n",
       "    <tr>\n",
       "      <th>Medium</th>\n",
       "      <td>29231</td>\n",
       "    </tr>\n",
       "  </tbody>\n",
       "</table>\n",
       "</div>"
      ],
      "text/plain": [
       "                  orgCode\n",
       "Risk_Description         \n",
       "High                    8\n",
       "Low                 38937\n",
       "Medium              29231"
      ]
     },
     "execution_count": 84,
     "metadata": {},
     "output_type": "execute_result"
    }
   ],
   "source": [
    "df[['orgCode','Risk_Description']].groupby('Risk_Description').count()"
   ]
  },
  {
   "cell_type": "code",
   "execution_count": 85,
   "metadata": {},
   "outputs": [
    {
     "data": {
      "text/plain": [
       "array([0.11369098, 0.0953611 ])"
      ]
     },
     "execution_count": 85,
     "metadata": {},
     "output_type": "execute_result"
    }
   ],
   "source": [
    "pca.explained_variance_ratio_"
   ]
  },
  {
   "cell_type": "markdown",
   "metadata": {},
   "source": [
    "### FIRST RESULT: \n",
    "the variables in the dataset only explains 20% of the variance of the data,\n",
    "two many variables with the same value and the NaN."
   ]
  },
  {
   "cell_type": "code",
   "execution_count": 86,
   "metadata": {},
   "outputs": [
    {
     "data": {
      "image/png": "[encoded data removed]",
      "text/plain": [
       "<Figure size 576x576 with 1 Axes>"
      ]
     },
     "metadata": {
      "needs_background": "light"
     },
     "output_type": "display_data"
    }
   ],
   "source": [
    "%matplotlib inline\n",
    "from matplotlib import pyplot as plt\n",
    "fig = plt.figure(figsize = (8,8))\n",
    "ax = fig.add_subplot(1,1,1) \n",
    "ax.set_xlabel('Principal Component 1', fontsize = 15)\n",
    "ax.set_ylabel('Principal Component 2', fontsize = 15)\n",
    "ax.set_title('2 component PCA', fontsize = 20)\n",
    "\n",
    "targets = ['High', 'Medium', 'Low']\n",
    "colors = ['r', 'g', 'b']\n",
    "for target, color in zip(targets,colors):\n",
    "    indicesToKeep = finalDf['Risk_Description'] == target\n",
    "    ax.scatter(finalDf.loc[indicesToKeep, 'principal component 1']\n",
    "               , finalDf.loc[indicesToKeep, 'principal component 2']\n",
    "               , c = color\n",
    "               , s = 50)\n",
    "ax.legend(targets)\n",
    "ax.grid()"
   ]
  },
  {
   "cell_type": "markdown",
   "metadata": {},
   "source": [
    "With the previous graph it becomes visible that the dataset has not got useful variables to explain our target variable"
   ]
  },
  {
   "cell_type": "markdown",
   "metadata": {},
   "source": [
    "---"
   ]
  },
  {
   "cell_type": "markdown",
   "metadata": {},
   "source": [
    "### Let's make a regression to see how our model works with the PCAs predicting rbaValue"
   ]
  },
  {
   "cell_type": "code",
   "execution_count": 87,
   "metadata": {},
   "outputs": [],
   "source": [
    "data_regresion = pd.concat([principalDf, df[['rbaValue']]], axis = 1)"
   ]
  },
  {
   "cell_type": "code",
   "execution_count": 88,
   "metadata": {},
   "outputs": [],
   "source": [
    "X=data_regresion.iloc[:,0:2]#seleccionamos nuestra variables input\n",
    "y=data_regresion.iloc[:,-1]#seleccionamos nuestra variable y"
   ]
  },
  {
   "cell_type": "code",
   "execution_count": 89,
   "metadata": {},
   "outputs": [],
   "source": [
    "from sklearn.linear_model import LinearRegression \n",
    "\n",
    "lr = LinearRegression()\n",
    "lr.fit(X, y)\n",
    "preds = lr.predict(X)"
   ]
  },
  {
   "cell_type": "code",
   "execution_count": 90,
   "metadata": {},
   "outputs": [
    {
     "data": {
      "text/plain": [
       "array([20.09490648, 20.07298961, 20.36999339, ..., 19.93594285,\n",
       "       19.93602151, 19.94384402])"
      ]
     },
     "execution_count": 90,
     "metadata": {},
     "output_type": "execute_result"
    }
   ],
   "source": [
    "preds"
   ]
  },
  {
   "cell_type": "code",
   "execution_count": 91,
   "metadata": {},
   "outputs": [
    {
     "name": "stdout",
     "output_type": "stream",
     "text": [
      "-0.045331809795295004 2.3603939693878e-32\n"
     ]
    }
   ],
   "source": [
    "# Hacemos un spearman correlation entre los valores predichos y los observados\n",
    "from scipy.stats import spearmanr \n",
    "corr, p_value = spearmanr(y, preds)\n",
    "print(corr, p_value)"
   ]
  },
  {
   "cell_type": "markdown",
   "metadata": {},
   "source": [
    "---"
   ]
  },
  {
   "cell_type": "markdown",
   "metadata": {},
   "source": [
    "<img src=\"curso.jpeg\" width=300 height=300 align=\"center\">"
   ]
  },
  {
   "cell_type": "markdown",
   "metadata": {},
   "source": [
    "---"
   ]
  }
 ],
 "metadata": {
  "kernelspec": {
   "display_name": "Python 3",
   "language": "python",
   "name": "python3"
  },
  "language_info": {
   "codemirror_mode": {
    "name": "ipython",
    "version": 3
   },
   "file_extension": ".py",
   "mimetype": "text/x-python",
   "name": "python",
   "nbconvert_exporter": "python",
   "pygments_lexer": "ipython3",
   "version": "3.7.3"
  }
 },
 "nbformat": 4,
 "nbformat_minor": 2
}
