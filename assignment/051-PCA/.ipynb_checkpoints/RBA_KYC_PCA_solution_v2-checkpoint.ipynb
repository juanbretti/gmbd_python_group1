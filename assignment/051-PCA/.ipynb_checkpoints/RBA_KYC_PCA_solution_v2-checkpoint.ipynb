{
 "cells": [
  {
   "cell_type": "markdown",
   "metadata": {},
   "source": [
    "# Statistical Programming Python\n",
    "\n",
    "## Dimensionality Reduction - Principal Component Analysis (PCA)\n"
   ]
  },
  {
   "cell_type": "markdown",
   "metadata": {},
   "source": [
    "<img src=\"profile_manoelgadi.png\" width=100 height=100 align=\"right\">\n",
    "\n",
    "Author: Prof. Manoel Gadi\n",
    "\n",
    "Contact: mfalonso@faculty.ie.edu\n",
    "\n",
    "Teaching Web: http://mfalonso.pythonanywhere.com\n",
    "\n",
    "Last revision: 14/October/2019"
   ]
  },
  {
   "cell_type": "markdown",
   "metadata": {},
   "source": [
    "---"
   ]
  },
  {
   "cell_type": "markdown",
   "metadata": {},
   "source": [
    "---"
   ]
  },
  {
   "cell_type": "markdown",
   "metadata": {},
   "source": [
    "PCA is the data reduction technique (columns).\n",
    "* This method seeks to find linear combinations of predictors, known as main components (PC), that capture the greatest possible variance.\n",
    "* The __1o main component of the PC captures the greatest variability among all linear combinations\n",
    "* Then, __the subsequent PCs__ are derived in such a way that these linear combinations capture the most remaining variability and, at the same time, do not correlate with all previous PCs."
   ]
  },
  {
   "cell_type": "markdown",
   "metadata": {},
   "source": [
    "\n",
    "Advantages:\n",
    "* Create components that are not correlated.\n",
    "* The PCA does not consider the response variable when summarizing the variability. Not supervised\n",
    "\n",
    "Warnings:\n",
    "* Sensitive to scales and distributions (biased).\n",
    "* PCA focuses on identifying the data structure based on measurement scales rather than the important relationships within the data.\n"
   ]
  },
  {
   "cell_type": "markdown",
   "metadata": {},
   "source": [
    "## PCA for data visualization\n",
    "\n",
    "Reference: https://towardsdatascience.com/pca-using-python-scikit-learn-e653f8989e60 and https://www.youtube.com/watch?v=kApPBm1YsqU\n",
    "\n",
    "For many machine learning applications, it is useful to be able to visualize your data. Visualizing data in 2 or 3 dimensions is not that challenging. However, even the Iris data set used in this part of the tutorial is 4 dimensions. One can use PCA to reduce that three-dimensional data to 2 or 3 dimensions so that it can plot and, hopefully, better understand the data.\n",
    "\n",
    "### Loading the Iris dataset\n",
    "\n",
    "The Iris data set is one of the data sets that scikit-learn comes with that does not require downloading any files from any external website. The following code will load the iris data set."
   ]
  },
  {
   "cell_type": "markdown",
   "metadata": {},
   "source": [
    "### Importing the database: RBA_KYC_Accounts.xlsx"
   ]
  },
  {
   "cell_type": "code",
   "execution_count": 1,
   "metadata": {},
   "outputs": [],
   "source": [
    "import pandas as pd\n",
    "df = pd.read_excel('RBA_KYC_Accounts_ALL_Ids.xlsx')"
   ]
  },
  {
   "cell_type": "markdown",
   "metadata": {},
   "source": [
    "## Checking some quick statistics"
   ]
  },
  {
   "cell_type": "code",
   "execution_count": 2,
   "metadata": {},
   "outputs": [
    {
     "data": {
      "text/html": [
       "<div>\n",
       "<style scoped>\n",
       "    .dataframe tbody tr th:only-of-type {\n",
       "        vertical-align: middle;\n",
       "    }\n",
       "\n",
       "    .dataframe tbody tr th {\n",
       "        vertical-align: top;\n",
       "    }\n",
       "\n",
       "    .dataframe thead th {\n",
       "        text-align: right;\n",
       "    }\n",
       "</style>\n",
       "<table border=\"1\" class=\"dataframe\">\n",
       "  <thead>\n",
       "    <tr style=\"text-align: right;\">\n",
       "      <th></th>\n",
       "      <th>org_code</th>\n",
       "      <th>branchCode</th>\n",
       "      <th>customerId</th>\n",
       "      <th>customerType</th>\n",
       "      <th>residentStatus</th>\n",
       "      <th>age_in_year</th>\n",
       "      <th>birthCountry</th>\n",
       "      <th>profession</th>\n",
       "      <th>companyType</th>\n",
       "      <th>lastUpdate</th>\n",
       "      <th>...</th>\n",
       "      <th>number_of_cash_dep_90_days</th>\n",
       "      <th>avg_cash_deposit_90_days</th>\n",
       "      <th>number_of_deposit_90_days</th>\n",
       "      <th>avg_of_dep_90_days</th>\n",
       "      <th>number_of_cash_wd_90_days</th>\n",
       "      <th>avg_of_cash_wd_90_days</th>\n",
       "      <th>number_of_wd_90_days</th>\n",
       "      <th>avg_of_wd_90_days</th>\n",
       "      <th>score_card_Desc</th>\n",
       "      <th>rbaValue</th>\n",
       "    </tr>\n",
       "  </thead>\n",
       "  <tbody>\n",
       "    <tr>\n",
       "      <th>count</th>\n",
       "      <td>224868.0</td>\n",
       "      <td>224868.000000</td>\n",
       "      <td>2.248680e+05</td>\n",
       "      <td>224868.000000</td>\n",
       "      <td>224868.000000</td>\n",
       "      <td>220153.000000</td>\n",
       "      <td>0.0</td>\n",
       "      <td>79748.000000</td>\n",
       "      <td>114574.000000</td>\n",
       "      <td>0.0</td>\n",
       "      <td>...</td>\n",
       "      <td>224868.000000</td>\n",
       "      <td>2.248680e+05</td>\n",
       "      <td>224868.000000</td>\n",
       "      <td>2.248680e+05</td>\n",
       "      <td>224868.000000</td>\n",
       "      <td>2.248680e+05</td>\n",
       "      <td>224868.000000</td>\n",
       "      <td>2.248680e+05</td>\n",
       "      <td>0.0</td>\n",
       "      <td>224868.000000</td>\n",
       "    </tr>\n",
       "    <tr>\n",
       "      <th>mean</th>\n",
       "      <td>1.0</td>\n",
       "      <td>448.451323</td>\n",
       "      <td>4.394503e+16</td>\n",
       "      <td>1.114418</td>\n",
       "      <td>1.021221</td>\n",
       "      <td>41.310575</td>\n",
       "      <td>NaN</td>\n",
       "      <td>18.309487</td>\n",
       "      <td>49.857577</td>\n",
       "      <td>NaN</td>\n",
       "      <td>...</td>\n",
       "      <td>0.491422</td>\n",
       "      <td>-1.113435e+03</td>\n",
       "      <td>1.131437</td>\n",
       "      <td>-3.540383e+03</td>\n",
       "      <td>0.254305</td>\n",
       "      <td>4.763851e+02</td>\n",
       "      <td>0.868518</td>\n",
       "      <td>2.450953e+03</td>\n",
       "      <td>NaN</td>\n",
       "      <td>17.624194</td>\n",
       "    </tr>\n",
       "    <tr>\n",
       "      <th>std</th>\n",
       "      <td>0.0</td>\n",
       "      <td>228.193308</td>\n",
       "      <td>2.349321e+16</td>\n",
       "      <td>0.318319</td>\n",
       "      <td>0.144122</td>\n",
       "      <td>16.000536</td>\n",
       "      <td>NaN</td>\n",
       "      <td>6.586481</td>\n",
       "      <td>6.736115</td>\n",
       "      <td>NaN</td>\n",
       "      <td>...</td>\n",
       "      <td>5.335240</td>\n",
       "      <td>3.028084e+04</td>\n",
       "      <td>19.713739</td>\n",
       "      <td>9.151602e+04</td>\n",
       "      <td>1.175586</td>\n",
       "      <td>2.028110e+04</td>\n",
       "      <td>12.373992</td>\n",
       "      <td>5.819818e+04</td>\n",
       "      <td>NaN</td>\n",
       "      <td>8.368345</td>\n",
       "    </tr>\n",
       "    <tr>\n",
       "      <th>min</th>\n",
       "      <td>1.0</td>\n",
       "      <td>201.000000</td>\n",
       "      <td>2.020028e+09</td>\n",
       "      <td>1.000000</td>\n",
       "      <td>1.000000</td>\n",
       "      <td>1.000000</td>\n",
       "      <td>NaN</td>\n",
       "      <td>1.000000</td>\n",
       "      <td>1.000000</td>\n",
       "      <td>NaN</td>\n",
       "      <td>...</td>\n",
       "      <td>0.000000</td>\n",
       "      <td>-5.482044e+06</td>\n",
       "      <td>0.000000</td>\n",
       "      <td>-1.654371e+07</td>\n",
       "      <td>0.000000</td>\n",
       "      <td>0.000000e+00</td>\n",
       "      <td>0.000000</td>\n",
       "      <td>0.000000e+00</td>\n",
       "      <td>NaN</td>\n",
       "      <td>4.080000</td>\n",
       "    </tr>\n",
       "    <tr>\n",
       "      <th>25%</th>\n",
       "      <td>1.0</td>\n",
       "      <td>208.000000</td>\n",
       "      <td>2.070207e+16</td>\n",
       "      <td>1.000000</td>\n",
       "      <td>1.000000</td>\n",
       "      <td>31.000000</td>\n",
       "      <td>NaN</td>\n",
       "      <td>20.000000</td>\n",
       "      <td>51.000000</td>\n",
       "      <td>NaN</td>\n",
       "      <td>...</td>\n",
       "      <td>0.000000</td>\n",
       "      <td>0.000000e+00</td>\n",
       "      <td>0.000000</td>\n",
       "      <td>0.000000e+00</td>\n",
       "      <td>0.000000</td>\n",
       "      <td>0.000000e+00</td>\n",
       "      <td>0.000000</td>\n",
       "      <td>0.000000e+00</td>\n",
       "      <td>NaN</td>\n",
       "      <td>13.330000</td>\n",
       "    </tr>\n",
       "    <tr>\n",
       "      <th>50%</th>\n",
       "      <td>1.0</td>\n",
       "      <td>401.000000</td>\n",
       "      <td>4.011205e+16</td>\n",
       "      <td>1.000000</td>\n",
       "      <td>1.000000</td>\n",
       "      <td>41.000000</td>\n",
       "      <td>NaN</td>\n",
       "      <td>20.000000</td>\n",
       "      <td>51.000000</td>\n",
       "      <td>NaN</td>\n",
       "      <td>...</td>\n",
       "      <td>0.000000</td>\n",
       "      <td>0.000000e+00</td>\n",
       "      <td>0.000000</td>\n",
       "      <td>0.000000e+00</td>\n",
       "      <td>0.000000</td>\n",
       "      <td>0.000000e+00</td>\n",
       "      <td>0.000000</td>\n",
       "      <td>0.000000e+00</td>\n",
       "      <td>NaN</td>\n",
       "      <td>16.530000</td>\n",
       "    </tr>\n",
       "    <tr>\n",
       "      <th>75%</th>\n",
       "      <td>1.0</td>\n",
       "      <td>701.000000</td>\n",
       "      <td>7.012410e+16</td>\n",
       "      <td>1.000000</td>\n",
       "      <td>1.000000</td>\n",
       "      <td>52.000000</td>\n",
       "      <td>NaN</td>\n",
       "      <td>21.000000</td>\n",
       "      <td>51.000000</td>\n",
       "      <td>NaN</td>\n",
       "      <td>...</td>\n",
       "      <td>0.000000</td>\n",
       "      <td>0.000000e+00</td>\n",
       "      <td>0.000000</td>\n",
       "      <td>0.000000e+00</td>\n",
       "      <td>0.000000</td>\n",
       "      <td>0.000000e+00</td>\n",
       "      <td>0.000000</td>\n",
       "      <td>0.000000e+00</td>\n",
       "      <td>NaN</td>\n",
       "      <td>21.330000</td>\n",
       "    </tr>\n",
       "    <tr>\n",
       "      <th>max</th>\n",
       "      <td>1.0</td>\n",
       "      <td>805.000000</td>\n",
       "      <td>8.052929e+16</td>\n",
       "      <td>2.000000</td>\n",
       "      <td>2.000000</td>\n",
       "      <td>119.000000</td>\n",
       "      <td>NaN</td>\n",
       "      <td>39.000000</td>\n",
       "      <td>100.000000</td>\n",
       "      <td>NaN</td>\n",
       "      <td>...</td>\n",
       "      <td>1267.000000</td>\n",
       "      <td>0.000000e+00</td>\n",
       "      <td>3292.000000</td>\n",
       "      <td>5.867291e+05</td>\n",
       "      <td>78.000000</td>\n",
       "      <td>8.394000e+06</td>\n",
       "      <td>2858.000000</td>\n",
       "      <td>9.942530e+06</td>\n",
       "      <td>NaN</td>\n",
       "      <td>100.000000</td>\n",
       "    </tr>\n",
       "  </tbody>\n",
       "</table>\n",
       "<p>8 rows × 32 columns</p>\n",
       "</div>"
      ],
      "text/plain": [
       "       org_code     branchCode    customerId   customerType  residentStatus  \\\n",
       "count  224868.0  224868.000000  2.248680e+05  224868.000000   224868.000000   \n",
       "mean        1.0     448.451323  4.394503e+16       1.114418        1.021221   \n",
       "std         0.0     228.193308  2.349321e+16       0.318319        0.144122   \n",
       "min         1.0     201.000000  2.020028e+09       1.000000        1.000000   \n",
       "25%         1.0     208.000000  2.070207e+16       1.000000        1.000000   \n",
       "50%         1.0     401.000000  4.011205e+16       1.000000        1.000000   \n",
       "75%         1.0     701.000000  7.012410e+16       1.000000        1.000000   \n",
       "max         1.0     805.000000  8.052929e+16       2.000000        2.000000   \n",
       "\n",
       "         age_in_year  birthCountry    profession    companyType  lastUpdate  \\\n",
       "count  220153.000000           0.0  79748.000000  114574.000000         0.0   \n",
       "mean       41.310575           NaN     18.309487      49.857577         NaN   \n",
       "std        16.000536           NaN      6.586481       6.736115         NaN   \n",
       "min         1.000000           NaN      1.000000       1.000000         NaN   \n",
       "25%        31.000000           NaN     20.000000      51.000000         NaN   \n",
       "50%        41.000000           NaN     20.000000      51.000000         NaN   \n",
       "75%        52.000000           NaN     21.000000      51.000000         NaN   \n",
       "max       119.000000           NaN     39.000000     100.000000         NaN   \n",
       "\n",
       "       ...  number_of_cash_dep_90_days  avg_cash_deposit_90_days  \\\n",
       "count  ...               224868.000000              2.248680e+05   \n",
       "mean   ...                    0.491422             -1.113435e+03   \n",
       "std    ...                    5.335240              3.028084e+04   \n",
       "min    ...                    0.000000             -5.482044e+06   \n",
       "25%    ...                    0.000000              0.000000e+00   \n",
       "50%    ...                    0.000000              0.000000e+00   \n",
       "75%    ...                    0.000000              0.000000e+00   \n",
       "max    ...                 1267.000000              0.000000e+00   \n",
       "\n",
       "       number_of_deposit_90_days  avg_of_dep_90_days  \\\n",
       "count              224868.000000        2.248680e+05   \n",
       "mean                    1.131437       -3.540383e+03   \n",
       "std                    19.713739        9.151602e+04   \n",
       "min                     0.000000       -1.654371e+07   \n",
       "25%                     0.000000        0.000000e+00   \n",
       "50%                     0.000000        0.000000e+00   \n",
       "75%                     0.000000        0.000000e+00   \n",
       "max                  3292.000000        5.867291e+05   \n",
       "\n",
       "       number_of_cash_wd_90_days  avg_of_cash_wd_90_days  \\\n",
       "count              224868.000000            2.248680e+05   \n",
       "mean                    0.254305            4.763851e+02   \n",
       "std                     1.175586            2.028110e+04   \n",
       "min                     0.000000            0.000000e+00   \n",
       "25%                     0.000000            0.000000e+00   \n",
       "50%                     0.000000            0.000000e+00   \n",
       "75%                     0.000000            0.000000e+00   \n",
       "max                    78.000000            8.394000e+06   \n",
       "\n",
       "       number_of_wd_90_days  avg_of_wd_90_days  score_card_Desc       rbaValue  \n",
       "count         224868.000000       2.248680e+05              0.0  224868.000000  \n",
       "mean               0.868518       2.450953e+03              NaN      17.624194  \n",
       "std               12.373992       5.819818e+04              NaN       8.368345  \n",
       "min                0.000000       0.000000e+00              NaN       4.080000  \n",
       "25%                0.000000       0.000000e+00              NaN      13.330000  \n",
       "50%                0.000000       0.000000e+00              NaN      16.530000  \n",
       "75%                0.000000       0.000000e+00              NaN      21.330000  \n",
       "max             2858.000000       9.942530e+06              NaN     100.000000  \n",
       "\n",
       "[8 rows x 32 columns]"
      ]
     },
     "execution_count": 2,
     "metadata": {},
     "output_type": "execute_result"
    }
   ],
   "source": [
    "df.describe()"
   ]
  },
  {
   "cell_type": "markdown",
   "metadata": {},
   "source": [
    "## Checking for percentage (%) of missing values"
   ]
  },
  {
   "cell_type": "code",
   "execution_count": 3,
   "metadata": {},
   "outputs": [
    {
     "data": {
      "text/plain": [
       "org_code                        0.000000\n",
       "branchCode                      0.000000\n",
       "customerId                      0.000000\n",
       "fullaccount                     0.000000\n",
       "customerType                    0.000000\n",
       "creationDate                    0.000000\n",
       "onboarding                      0.000000\n",
       "residentStatus                  0.000000\n",
       "residentCountry                 0.265044\n",
       "nationalityOriginal             1.529342\n",
       "extraNationality               99.202643\n",
       "dateOfBirth                     2.096786\n",
       "age_in_year                     2.096786\n",
       "birthCountry                  100.000000\n",
       "birthPlace                      9.713254\n",
       "profession                     64.535639\n",
       "companyType                    49.048331\n",
       "giinCode                       99.994664\n",
       "lastUpdate                    100.000000\n",
       "status                          0.000000\n",
       "ledgerCode                      0.000000\n",
       "accountCurrency                 0.000000\n",
       "jointAccount                    0.000000\n",
       "IsBlackListed                   0.000000\n",
       "CUS_CLASS                       0.000000\n",
       "ECO_SEC                         0.000000\n",
       "TYPE_OF_DEP                     0.000000\n",
       "GENDER                         53.591885\n",
       "LEGAL_STA_CODE                  1.163349\n",
       "legal_Stat_desc               100.000000\n",
       "avg_last_10_days                0.000000\n",
       "avg_last_30_days                0.000000\n",
       "avg_last_90_days                0.000000\n",
       "number_of_cash_dep_90_days      0.000000\n",
       "avg_cash_deposit_90_days        0.000000\n",
       "number_of_deposit_90_days       0.000000\n",
       "avg_of_dep_90_days              0.000000\n",
       "number_of_cash_wd_90_days       0.000000\n",
       "avg_of_cash_wd_90_days          0.000000\n",
       "number_of_wd_90_days            0.000000\n",
       "avg_of_wd_90_days               0.000000\n",
       "date_of_assessment              0.000000\n",
       "rbaGradeAbrv                    0.000000\n",
       "rba_grade_desc                  0.000000\n",
       "score_card                      0.000000\n",
       "score_card_Desc               100.000000\n",
       "rbaValue                        0.000000\n",
       "dtype: float64"
      ]
     },
     "execution_count": 3,
     "metadata": {},
     "output_type": "execute_result"
    }
   ],
   "source": [
    "100*df.isnull().sum()/df.isnull().count()"
   ]
  },
  {
   "cell_type": "markdown",
   "metadata": {},
   "source": [
    "## Making some histograms"
   ]
  },
  {
   "cell_type": "code",
   "execution_count": 4,
   "metadata": {},
   "outputs": [
    {
     "data": {
      "text/plain": [
       "<Figure size 1200x1200 with 36 Axes>"
      ]
     },
     "metadata": {},
     "output_type": "display_data"
    }
   ],
   "source": [
    "\n",
    "import matplotlib.pylab as plt\n",
    "attribute_columns = list(df.columns)\n",
    "if True:\n",
    "    fontsize = 10\n",
    "    fig = df[attribute_columns].hist(bins = 20, figsize = (12, 12),\n",
    "                                       xlabelsize=fontsize,\n",
    "                                       ylabelsize=fontsize)\n",
    "    for x in fig.ravel():\n",
    "        x.title.set_size(fontsize)\n",
    "else:\n",
    "    nrows = (len(attribute_columns)+1) // 2\n",
    "    plt.figure(figsize=(12,25))\n",
    "    for i in range(len(attribute_columns)):\n",
    "        name = attribute_columns[i]\n",
    "        plt.subplot(nrows,2,i+1)\n",
    "        data[name].hist()\n",
    "        plt.title(name, fontsize=14)\n",
    "    \n",
    "plt.show()"
   ]
  },
  {
   "cell_type": "markdown",
   "metadata": {},
   "source": [
    "## Droping variables with no information at all"
   ]
  },
  {
   "cell_type": "code",
   "execution_count": 5,
   "metadata": {},
   "outputs": [],
   "source": [
    "df.drop(['birthCountry', \n",
    "         'lastUpdate', \n",
    "         'legal_Stat_desc', \n",
    "         'IsBlackListed',\n",
    "         'customerId',\n",
    "         'birthPlace'], axis = 1, inplace = True) "
   ]
  },
  {
   "cell_type": "code",
   "execution_count": 6,
   "metadata": {},
   "outputs": [
    {
     "data": {
      "text/plain": [
       "org_code                        int64\n",
       "branchCode                      int64\n",
       "fullaccount                    object\n",
       "customerType                    int64\n",
       "creationDate                   object\n",
       "onboarding                     object\n",
       "residentStatus                  int64\n",
       "residentCountry                object\n",
       "nationalityOriginal            object\n",
       "extraNationality               object\n",
       "dateOfBirth                    object\n",
       "age_in_year                   float64\n",
       "profession                    float64\n",
       "companyType                   float64\n",
       "giinCode                       object\n",
       "status                         object\n",
       "ledgerCode                      int64\n",
       "accountCurrency                object\n",
       "jointAccount                    int64\n",
       "CUS_CLASS                       int64\n",
       "ECO_SEC                         int64\n",
       "TYPE_OF_DEP                     int64\n",
       "GENDER                        float64\n",
       "LEGAL_STA_CODE                float64\n",
       "avg_last_10_days              float64\n",
       "avg_last_30_days              float64\n",
       "avg_last_90_days              float64\n",
       "number_of_cash_dep_90_days      int64\n",
       "avg_cash_deposit_90_days      float64\n",
       "number_of_deposit_90_days       int64\n",
       "avg_of_dep_90_days            float64\n",
       "number_of_cash_wd_90_days       int64\n",
       "avg_of_cash_wd_90_days        float64\n",
       "number_of_wd_90_days            int64\n",
       "avg_of_wd_90_days             float64\n",
       "date_of_assessment             object\n",
       "rbaGradeAbrv                   object\n",
       "rba_grade_desc                 object\n",
       "score_card                     object\n",
       "score_card_Desc               float64\n",
       "rbaValue                      float64\n",
       "dtype: object"
      ]
     },
     "execution_count": 6,
     "metadata": {},
     "output_type": "execute_result"
    }
   ],
   "source": [
    "df.dtypes"
   ]
  },
  {
   "cell_type": "code",
   "execution_count": 7,
   "metadata": {
    "scrolled": true
   },
   "outputs": [
    {
     "data": {
      "text/plain": [
       "fullaccount            object\n",
       "creationDate           object\n",
       "onboarding             object\n",
       "residentCountry        object\n",
       "nationalityOriginal    object\n",
       "extraNationality       object\n",
       "dateOfBirth            object\n",
       "giinCode               object\n",
       "status                 object\n",
       "accountCurrency        object\n",
       "date_of_assessment     object\n",
       "rbaGradeAbrv           object\n",
       "rba_grade_desc         object\n",
       "score_card             object\n",
       "dtype: object"
      ]
     },
     "execution_count": 7,
     "metadata": {},
     "output_type": "execute_result"
    }
   ],
   "source": [
    "df.select_dtypes(include=['object']).dtypes"
   ]
  },
  {
   "cell_type": "markdown",
   "metadata": {},
   "source": [
    "### Treatment for variables that are NOT numeric\n",
    "*     Label Encoder. Label Encoding in Python can be achieved using Sklearn Library.\n",
    "*     Sklearn provides a very efficient tool for encoding the levels of categorical features into numeric values.\n",
    "*     LabelEncoder encode labels with a value between 0 and n_classes-1 where n is the number of distinct labels.\n",
    "*     If a label repeats it assigns the same value to as assigned earlier."
   ]
  },
  {
   "cell_type": "code",
   "execution_count": 8,
   "metadata": {},
   "outputs": [],
   "source": [
    "from sklearn.preprocessing import LabelEncoder\n",
    "\n",
    "label_encoder = LabelEncoder()\n",
    "df['creationDate']= label_encoder.fit_transform(df['creationDate'])"
   ]
  },
  {
   "cell_type": "code",
   "execution_count": 9,
   "metadata": {},
   "outputs": [],
   "source": [
    "df['onboarding']= label_encoder.fit_transform(df['onboarding'])"
   ]
  },
  {
   "cell_type": "code",
   "execution_count": 10,
   "metadata": {},
   "outputs": [],
   "source": [
    "df['residentCountry']= label_encoder.fit_transform(df['residentCountry'].astype(str))"
   ]
  },
  {
   "cell_type": "code",
   "execution_count": 11,
   "metadata": {},
   "outputs": [],
   "source": [
    "df['nationalityOriginal']= label_encoder.fit_transform(df['nationalityOriginal'].astype(str))"
   ]
  },
  {
   "cell_type": "code",
   "execution_count": 12,
   "metadata": {},
   "outputs": [],
   "source": [
    "df['extraNationality']= label_encoder.fit_transform(df['extraNationality'].astype(str))"
   ]
  },
  {
   "cell_type": "code",
   "execution_count": 13,
   "metadata": {},
   "outputs": [],
   "source": [
    "df['dateOfBirth']= label_encoder.fit_transform(df['dateOfBirth'].astype(str))"
   ]
  },
  {
   "cell_type": "code",
   "execution_count": 14,
   "metadata": {},
   "outputs": [],
   "source": [
    "df['giinCode']= label_encoder.fit_transform(df['giinCode'].astype(str))"
   ]
  },
  {
   "cell_type": "code",
   "execution_count": 15,
   "metadata": {},
   "outputs": [],
   "source": [
    "df['status']= label_encoder.fit_transform(df['status'])"
   ]
  },
  {
   "cell_type": "code",
   "execution_count": 16,
   "metadata": {},
   "outputs": [],
   "source": [
    "df['accountCurrency']= label_encoder.fit_transform(df['accountCurrency'].astype(str))"
   ]
  },
  {
   "cell_type": "code",
   "execution_count": 17,
   "metadata": {},
   "outputs": [],
   "source": [
    "df['date_of_assessment']= label_encoder.fit_transform(df['date_of_assessment'])"
   ]
  },
  {
   "cell_type": "code",
   "execution_count": 34,
   "metadata": {},
   "outputs": [
    {
     "data": {
      "text/plain": [
       "(224868, 46)"
      ]
     },
     "execution_count": 34,
     "metadata": {},
     "output_type": "execute_result"
    }
   ],
   "source": [
    "df.shape"
   ]
  },
  {
   "cell_type": "markdown",
   "metadata": {},
   "source": [
    "### Creating variables NEGATIVE information\n",
    "meaning 1 when original variable is missing and zero otherwise"
   ]
  },
  {
   "cell_type": "code",
   "execution_count": 19,
   "metadata": {},
   "outputs": [
    {
     "name": "stdout",
     "output_type": "stream",
     "text": [
      "age_in_year has missings\n",
      "profession has missings\n",
      "companyType has missings\n",
      "GENDER has missings\n",
      "LEGAL_STA_CODE has missings\n"
     ]
    }
   ],
   "source": [
    "for var in df.columns[:-5]:\n",
    "    if sum(1*df[var].isnull()):\n",
    "        print(var, 'has missings')\n",
    "        df.loc[df[var].isnull(),var] = 0\n",
    "        df[var+'_missing']=1*df[var].isnull()"
   ]
  },
  {
   "cell_type": "markdown",
   "metadata": {},
   "source": [
    "### Now what we can do for those NUMERIC variables make a standardization\n",
    "First we remove NaN"
   ]
  },
  {
   "cell_type": "code",
   "execution_count": 50,
   "metadata": {},
   "outputs": [],
   "source": [
    "df_PCA = df.fillna(0)"
   ]
  },
  {
   "cell_type": "code",
   "execution_count": 51,
   "metadata": {},
   "outputs": [
    {
     "data": {
      "text/plain": [
       "org_code                      0\n",
       "branchCode                    0\n",
       "fullaccount                   0\n",
       "customerType                  0\n",
       "creationDate                  0\n",
       "onboarding                    0\n",
       "residentStatus                0\n",
       "residentCountry               0\n",
       "nationalityOriginal           0\n",
       "extraNationality              0\n",
       "dateOfBirth                   0\n",
       "age_in_year                   0\n",
       "profession                    0\n",
       "companyType                   0\n",
       "giinCode                      0\n",
       "status                        0\n",
       "ledgerCode                    0\n",
       "accountCurrency               0\n",
       "jointAccount                  0\n",
       "CUS_CLASS                     0\n",
       "ECO_SEC                       0\n",
       "TYPE_OF_DEP                   0\n",
       "GENDER                        0\n",
       "LEGAL_STA_CODE                0\n",
       "avg_last_10_days              0\n",
       "avg_last_30_days              0\n",
       "avg_last_90_days              0\n",
       "number_of_cash_dep_90_days    0\n",
       "avg_cash_deposit_90_days      0\n",
       "number_of_deposit_90_days     0\n",
       "avg_of_dep_90_days            0\n",
       "number_of_cash_wd_90_days     0\n",
       "avg_of_cash_wd_90_days        0\n",
       "number_of_wd_90_days          0\n",
       "avg_of_wd_90_days             0\n",
       "date_of_assessment            0\n",
       "rbaGradeAbrv                  0\n",
       "rba_grade_desc                0\n",
       "score_card                    0\n",
       "score_card_Desc               0\n",
       "rbaValue                      0\n",
       "age_in_year_missing           0\n",
       "profession_missing            0\n",
       "companyType_missing           0\n",
       "GENDER_missing                0\n",
       "LEGAL_STA_CODE_missing        0\n",
       "dtype: int64"
      ]
     },
     "execution_count": 51,
     "metadata": {},
     "output_type": "execute_result"
    }
   ],
   "source": [
    "df_PCA.isnull().sum()"
   ]
  },
  {
   "cell_type": "markdown",
   "metadata": {},
   "source": [
    "### We make a standardization to Normal Distribuition\n"
   ]
  },
  {
   "cell_type": "code",
   "execution_count": 52,
   "metadata": {},
   "outputs": [],
   "source": [
    "from sklearn.preprocessing import StandardScaler\n",
    "import numpy as np\n",
    "\n",
    "num_cols = df_PCA.columns[df_PCA.dtypes.apply(lambda c: np.issubdtype(c, np.number))]\n",
    "scaler = StandardScaler()\n",
    "df_PCA[num_cols] = scaler.fit_transform(df_PCA[num_cols]) "
   ]
  },
  {
   "cell_type": "code",
   "execution_count": 53,
   "metadata": {},
   "outputs": [
    {
     "data": {
      "text/plain": [
       "org_code                      float64\n",
       "branchCode                    float64\n",
       "fullaccount                    object\n",
       "customerType                  float64\n",
       "creationDate                  float64\n",
       "onboarding                    float64\n",
       "residentStatus                float64\n",
       "residentCountry               float64\n",
       "nationalityOriginal           float64\n",
       "extraNationality              float64\n",
       "dateOfBirth                   float64\n",
       "age_in_year                   float64\n",
       "profession                    float64\n",
       "companyType                   float64\n",
       "giinCode                      float64\n",
       "status                        float64\n",
       "ledgerCode                    float64\n",
       "accountCurrency               float64\n",
       "jointAccount                  float64\n",
       "CUS_CLASS                     float64\n",
       "ECO_SEC                       float64\n",
       "TYPE_OF_DEP                   float64\n",
       "GENDER                        float64\n",
       "LEGAL_STA_CODE                float64\n",
       "avg_last_10_days              float64\n",
       "avg_last_30_days              float64\n",
       "avg_last_90_days              float64\n",
       "number_of_cash_dep_90_days    float64\n",
       "avg_cash_deposit_90_days      float64\n",
       "number_of_deposit_90_days     float64\n",
       "avg_of_dep_90_days            float64\n",
       "number_of_cash_wd_90_days     float64\n",
       "avg_of_cash_wd_90_days        float64\n",
       "number_of_wd_90_days          float64\n",
       "avg_of_wd_90_days             float64\n",
       "date_of_assessment            float64\n",
       "rbaGradeAbrv                   object\n",
       "rba_grade_desc                 object\n",
       "score_card                     object\n",
       "score_card_Desc               float64\n",
       "rbaValue                      float64\n",
       "age_in_year_missing           float64\n",
       "profession_missing            float64\n",
       "companyType_missing           float64\n",
       "GENDER_missing                float64\n",
       "LEGAL_STA_CODE_missing        float64\n",
       "dtype: object"
      ]
     },
     "execution_count": 53,
     "metadata": {},
     "output_type": "execute_result"
    }
   ],
   "source": [
    "df_PCA.dtypes\n"
   ]
  },
  {
   "cell_type": "markdown",
   "metadata": {},
   "source": [
    "### I remove the last 4 variables of my data frame that are not going to be used in the PCA\n"
   ]
  },
  {
   "cell_type": "code",
   "execution_count": 54,
   "metadata": {},
   "outputs": [],
   "source": [
    "df_PCA.drop(['rbaValue',\n",
    "             'rba_grade_desc',\n",
    "             'score_card_Desc',\n",
    "             'score_card',\n",
    "         'rbaGradeAbrv',\n",
    "         'date_of_assessment'], axis = 1, inplace = True) "
   ]
  },
  {
   "cell_type": "code",
   "execution_count": 55,
   "metadata": {},
   "outputs": [
    {
     "data": {
      "text/html": [
       "<div>\n",
       "<style scoped>\n",
       "    .dataframe tbody tr th:only-of-type {\n",
       "        vertical-align: middle;\n",
       "    }\n",
       "\n",
       "    .dataframe tbody tr th {\n",
       "        vertical-align: top;\n",
       "    }\n",
       "\n",
       "    .dataframe thead th {\n",
       "        text-align: right;\n",
       "    }\n",
       "</style>\n",
       "<table border=\"1\" class=\"dataframe\">\n",
       "  <thead>\n",
       "    <tr style=\"text-align: right;\">\n",
       "      <th></th>\n",
       "      <th>org_code</th>\n",
       "      <th>branchCode</th>\n",
       "      <th>fullaccount</th>\n",
       "      <th>customerType</th>\n",
       "      <th>creationDate</th>\n",
       "      <th>onboarding</th>\n",
       "      <th>residentStatus</th>\n",
       "      <th>residentCountry</th>\n",
       "      <th>nationalityOriginal</th>\n",
       "      <th>extraNationality</th>\n",
       "      <th>...</th>\n",
       "      <th>avg_of_dep_90_days</th>\n",
       "      <th>number_of_cash_wd_90_days</th>\n",
       "      <th>avg_of_cash_wd_90_days</th>\n",
       "      <th>number_of_wd_90_days</th>\n",
       "      <th>avg_of_wd_90_days</th>\n",
       "      <th>age_in_year_missing</th>\n",
       "      <th>profession_missing</th>\n",
       "      <th>companyType_missing</th>\n",
       "      <th>GENDER_missing</th>\n",
       "      <th>LEGAL_STA_CODE_missing</th>\n",
       "    </tr>\n",
       "  </thead>\n",
       "  <tbody>\n",
       "    <tr>\n",
       "      <th>0</th>\n",
       "      <td>0.0</td>\n",
       "      <td>-1.084396</td>\n",
       "      <td>020100400550015817000</td>\n",
       "      <td>2.782061</td>\n",
       "      <td>0.481644</td>\n",
       "      <td>-0.151984</td>\n",
       "      <td>-0.147246</td>\n",
       "      <td>-0.076303</td>\n",
       "      <td>-0.130002</td>\n",
       "      <td>0.052109</td>\n",
       "      <td>...</td>\n",
       "      <td>0.038686</td>\n",
       "      <td>-0.216322</td>\n",
       "      <td>-0.023489</td>\n",
       "      <td>-0.070189</td>\n",
       "      <td>-0.042114</td>\n",
       "      <td>0.0</td>\n",
       "      <td>0.0</td>\n",
       "      <td>0.0</td>\n",
       "      <td>0.0</td>\n",
       "      <td>0.0</td>\n",
       "    </tr>\n",
       "    <tr>\n",
       "      <th>1</th>\n",
       "      <td>0.0</td>\n",
       "      <td>-1.080014</td>\n",
       "      <td>020200207860011330000</td>\n",
       "      <td>-0.359446</td>\n",
       "      <td>0.224874</td>\n",
       "      <td>-0.151984</td>\n",
       "      <td>-0.147246</td>\n",
       "      <td>-0.076303</td>\n",
       "      <td>-0.130002</td>\n",
       "      <td>0.052109</td>\n",
       "      <td>...</td>\n",
       "      <td>0.038686</td>\n",
       "      <td>-0.216322</td>\n",
       "      <td>-0.023489</td>\n",
       "      <td>-0.070189</td>\n",
       "      <td>-0.042114</td>\n",
       "      <td>0.0</td>\n",
       "      <td>0.0</td>\n",
       "      <td>0.0</td>\n",
       "      <td>0.0</td>\n",
       "      <td>0.0</td>\n",
       "    </tr>\n",
       "    <tr>\n",
       "      <th>2</th>\n",
       "      <td>0.0</td>\n",
       "      <td>-1.080014</td>\n",
       "      <td>020200207860011389002</td>\n",
       "      <td>-0.359446</td>\n",
       "      <td>0.224874</td>\n",
       "      <td>-0.151984</td>\n",
       "      <td>-0.147246</td>\n",
       "      <td>-0.076303</td>\n",
       "      <td>-0.130002</td>\n",
       "      <td>0.052109</td>\n",
       "      <td>...</td>\n",
       "      <td>0.038686</td>\n",
       "      <td>-0.216322</td>\n",
       "      <td>-0.023489</td>\n",
       "      <td>-0.070189</td>\n",
       "      <td>-0.042114</td>\n",
       "      <td>0.0</td>\n",
       "      <td>0.0</td>\n",
       "      <td>0.0</td>\n",
       "      <td>0.0</td>\n",
       "      <td>0.0</td>\n",
       "    </tr>\n",
       "    <tr>\n",
       "      <th>3</th>\n",
       "      <td>0.0</td>\n",
       "      <td>-1.080014</td>\n",
       "      <td>020200207860010060000</td>\n",
       "      <td>-0.359446</td>\n",
       "      <td>0.224874</td>\n",
       "      <td>-0.151984</td>\n",
       "      <td>-0.147246</td>\n",
       "      <td>-0.076303</td>\n",
       "      <td>-0.130002</td>\n",
       "      <td>0.052109</td>\n",
       "      <td>...</td>\n",
       "      <td>0.032676</td>\n",
       "      <td>0.634319</td>\n",
       "      <td>-0.021024</td>\n",
       "      <td>0.010626</td>\n",
       "      <td>-0.041255</td>\n",
       "      <td>0.0</td>\n",
       "      <td>0.0</td>\n",
       "      <td>0.0</td>\n",
       "      <td>0.0</td>\n",
       "      <td>0.0</td>\n",
       "    </tr>\n",
       "    <tr>\n",
       "      <th>4</th>\n",
       "      <td>0.0</td>\n",
       "      <td>-1.080014</td>\n",
       "      <td>020200207860010010000</td>\n",
       "      <td>-0.359446</td>\n",
       "      <td>0.224874</td>\n",
       "      <td>-0.151984</td>\n",
       "      <td>-0.147246</td>\n",
       "      <td>-0.076303</td>\n",
       "      <td>-0.130002</td>\n",
       "      <td>0.052109</td>\n",
       "      <td>...</td>\n",
       "      <td>0.032785</td>\n",
       "      <td>0.634319</td>\n",
       "      <td>-0.020728</td>\n",
       "      <td>0.010626</td>\n",
       "      <td>-0.041152</td>\n",
       "      <td>0.0</td>\n",
       "      <td>0.0</td>\n",
       "      <td>0.0</td>\n",
       "      <td>0.0</td>\n",
       "      <td>0.0</td>\n",
       "    </tr>\n",
       "  </tbody>\n",
       "</table>\n",
       "<p>5 rows × 40 columns</p>\n",
       "</div>"
      ],
      "text/plain": [
       "   org_code  branchCode            fullaccount  customerType  creationDate  \\\n",
       "0       0.0   -1.084396  020100400550015817000      2.782061      0.481644   \n",
       "1       0.0   -1.080014  020200207860011330000     -0.359446      0.224874   \n",
       "2       0.0   -1.080014  020200207860011389002     -0.359446      0.224874   \n",
       "3       0.0   -1.080014  020200207860010060000     -0.359446      0.224874   \n",
       "4       0.0   -1.080014  020200207860010010000     -0.359446      0.224874   \n",
       "\n",
       "   onboarding  residentStatus  residentCountry  nationalityOriginal  \\\n",
       "0   -0.151984       -0.147246        -0.076303            -0.130002   \n",
       "1   -0.151984       -0.147246        -0.076303            -0.130002   \n",
       "2   -0.151984       -0.147246        -0.076303            -0.130002   \n",
       "3   -0.151984       -0.147246        -0.076303            -0.130002   \n",
       "4   -0.151984       -0.147246        -0.076303            -0.130002   \n",
       "\n",
       "   extraNationality  ...  avg_of_dep_90_days  number_of_cash_wd_90_days  \\\n",
       "0          0.052109  ...            0.038686                  -0.216322   \n",
       "1          0.052109  ...            0.038686                  -0.216322   \n",
       "2          0.052109  ...            0.038686                  -0.216322   \n",
       "3          0.052109  ...            0.032676                   0.634319   \n",
       "4          0.052109  ...            0.032785                   0.634319   \n",
       "\n",
       "   avg_of_cash_wd_90_days  number_of_wd_90_days  avg_of_wd_90_days  \\\n",
       "0               -0.023489             -0.070189          -0.042114   \n",
       "1               -0.023489             -0.070189          -0.042114   \n",
       "2               -0.023489             -0.070189          -0.042114   \n",
       "3               -0.021024              0.010626          -0.041255   \n",
       "4               -0.020728              0.010626          -0.041152   \n",
       "\n",
       "   age_in_year_missing  profession_missing  companyType_missing  \\\n",
       "0                  0.0                 0.0                  0.0   \n",
       "1                  0.0                 0.0                  0.0   \n",
       "2                  0.0                 0.0                  0.0   \n",
       "3                  0.0                 0.0                  0.0   \n",
       "4                  0.0                 0.0                  0.0   \n",
       "\n",
       "   GENDER_missing  LEGAL_STA_CODE_missing  \n",
       "0             0.0                     0.0  \n",
       "1             0.0                     0.0  \n",
       "2             0.0                     0.0  \n",
       "3             0.0                     0.0  \n",
       "4             0.0                     0.0  \n",
       "\n",
       "[5 rows x 40 columns]"
      ]
     },
     "execution_count": 55,
     "metadata": {},
     "output_type": "execute_result"
    }
   ],
   "source": [
    "df_PCA.head()"
   ]
  },
  {
   "cell_type": "code",
   "execution_count": 56,
   "metadata": {},
   "outputs": [],
   "source": [
    "from sklearn.decomposition import PCA\n",
    "\n",
    "pca = PCA(n_components=2)\n",
    "\n",
    "principalComponents = pca.fit_transform(df_PCA)\n",
    "\n",
    "principalDf = pd.DataFrame(data = principalComponents\n",
    "             , columns = ['principal component 1', 'principal component 2'])\n"
   ]
  },
  {
   "cell_type": "code",
   "execution_count": 57,
   "metadata": {},
   "outputs": [
    {
     "data": {
      "text/html": [
       "<div>\n",
       "<style scoped>\n",
       "    .dataframe tbody tr th:only-of-type {\n",
       "        vertical-align: middle;\n",
       "    }\n",
       "\n",
       "    .dataframe tbody tr th {\n",
       "        vertical-align: top;\n",
       "    }\n",
       "\n",
       "    .dataframe thead th {\n",
       "        text-align: right;\n",
       "    }\n",
       "</style>\n",
       "<table border=\"1\" class=\"dataframe\">\n",
       "  <thead>\n",
       "    <tr style=\"text-align: right;\">\n",
       "      <th></th>\n",
       "      <th>principal component 1</th>\n",
       "      <th>principal component 2</th>\n",
       "    </tr>\n",
       "  </thead>\n",
       "  <tbody>\n",
       "    <tr>\n",
       "      <th>0</th>\n",
       "      <td>-2.465859e+19</td>\n",
       "      <td>3.003742</td>\n",
       "    </tr>\n",
       "    <tr>\n",
       "      <th>1</th>\n",
       "      <td>-2.455878e+19</td>\n",
       "      <td>-1.053349</td>\n",
       "    </tr>\n",
       "    <tr>\n",
       "      <th>2</th>\n",
       "      <td>-2.455878e+19</td>\n",
       "      <td>-1.037444</td>\n",
       "    </tr>\n",
       "    <tr>\n",
       "      <th>3</th>\n",
       "      <td>-2.455878e+19</td>\n",
       "      <td>-0.933026</td>\n",
       "    </tr>\n",
       "    <tr>\n",
       "      <th>4</th>\n",
       "      <td>-2.455878e+19</td>\n",
       "      <td>-0.935516</td>\n",
       "    </tr>\n",
       "  </tbody>\n",
       "</table>\n",
       "</div>"
      ],
      "text/plain": [
       "   principal component 1  principal component 2\n",
       "0          -2.465859e+19               3.003742\n",
       "1          -2.455878e+19              -1.053349\n",
       "2          -2.455878e+19              -1.037444\n",
       "3          -2.455878e+19              -0.933026\n",
       "4          -2.455878e+19              -0.935516"
      ]
     },
     "execution_count": 57,
     "metadata": {},
     "output_type": "execute_result"
    }
   ],
   "source": [
    "principalDf.head()"
   ]
  },
  {
   "cell_type": "markdown",
   "metadata": {},
   "source": [
    "### Here our target variable is Risk_Description, so attach it to my base data of PCAs"
   ]
  },
  {
   "cell_type": "code",
   "execution_count": 61,
   "metadata": {},
   "outputs": [
    {
     "data": {
      "text/html": [
       "<div>\n",
       "<style scoped>\n",
       "    .dataframe tbody tr th:only-of-type {\n",
       "        vertical-align: middle;\n",
       "    }\n",
       "\n",
       "    .dataframe tbody tr th {\n",
       "        vertical-align: top;\n",
       "    }\n",
       "\n",
       "    .dataframe thead th {\n",
       "        text-align: right;\n",
       "    }\n",
       "</style>\n",
       "<table border=\"1\" class=\"dataframe\">\n",
       "  <thead>\n",
       "    <tr style=\"text-align: right;\">\n",
       "      <th></th>\n",
       "      <th>principal component 1</th>\n",
       "      <th>principal component 2</th>\n",
       "      <th>rba_grade_desc</th>\n",
       "    </tr>\n",
       "  </thead>\n",
       "  <tbody>\n",
       "    <tr>\n",
       "      <th>0</th>\n",
       "      <td>-2.465859e+19</td>\n",
       "      <td>3.003742</td>\n",
       "      <td>Low</td>\n",
       "    </tr>\n",
       "    <tr>\n",
       "      <th>1</th>\n",
       "      <td>-2.455878e+19</td>\n",
       "      <td>-1.053349</td>\n",
       "      <td>Low</td>\n",
       "    </tr>\n",
       "    <tr>\n",
       "      <th>2</th>\n",
       "      <td>-2.455878e+19</td>\n",
       "      <td>-1.037444</td>\n",
       "      <td>Low</td>\n",
       "    </tr>\n",
       "    <tr>\n",
       "      <th>3</th>\n",
       "      <td>-2.455878e+19</td>\n",
       "      <td>-0.933026</td>\n",
       "      <td>Low</td>\n",
       "    </tr>\n",
       "    <tr>\n",
       "      <th>4</th>\n",
       "      <td>-2.455878e+19</td>\n",
       "      <td>-0.935516</td>\n",
       "      <td>Low</td>\n",
       "    </tr>\n",
       "  </tbody>\n",
       "</table>\n",
       "</div>"
      ],
      "text/plain": [
       "   principal component 1  principal component 2 rba_grade_desc\n",
       "0          -2.465859e+19               3.003742            Low\n",
       "1          -2.455878e+19              -1.053349            Low\n",
       "2          -2.455878e+19              -1.037444            Low\n",
       "3          -2.455878e+19              -0.933026            Low\n",
       "4          -2.455878e+19              -0.935516            Low"
      ]
     },
     "execution_count": 61,
     "metadata": {},
     "output_type": "execute_result"
    }
   ],
   "source": [
    "finalDf = pd.concat([principalDf, df[['rba_grade_desc']]], axis = 1)\n",
    "finalDf.head()"
   ]
  },
  {
   "cell_type": "code",
   "execution_count": 65,
   "metadata": {},
   "outputs": [
    {
     "data": {
      "text/html": [
       "<div>\n",
       "<style scoped>\n",
       "    .dataframe tbody tr th:only-of-type {\n",
       "        vertical-align: middle;\n",
       "    }\n",
       "\n",
       "    .dataframe tbody tr th {\n",
       "        vertical-align: top;\n",
       "    }\n",
       "\n",
       "    .dataframe thead th {\n",
       "        text-align: right;\n",
       "    }\n",
       "</style>\n",
       "<table border=\"1\" class=\"dataframe\">\n",
       "  <thead>\n",
       "    <tr style=\"text-align: right;\">\n",
       "      <th></th>\n",
       "      <th>org_code</th>\n",
       "    </tr>\n",
       "    <tr>\n",
       "      <th>rba_grade_desc</th>\n",
       "      <th></th>\n",
       "    </tr>\n",
       "  </thead>\n",
       "  <tbody>\n",
       "    <tr>\n",
       "      <th>High</th>\n",
       "      <td>89</td>\n",
       "    </tr>\n",
       "    <tr>\n",
       "      <th>Low</th>\n",
       "      <td>159680</td>\n",
       "    </tr>\n",
       "    <tr>\n",
       "      <th>Medium</th>\n",
       "      <td>65099</td>\n",
       "    </tr>\n",
       "  </tbody>\n",
       "</table>\n",
       "</div>"
      ],
      "text/plain": [
       "                org_code\n",
       "rba_grade_desc          \n",
       "High                  89\n",
       "Low               159680\n",
       "Medium             65099"
      ]
     },
     "execution_count": 65,
     "metadata": {},
     "output_type": "execute_result"
    }
   ],
   "source": [
    "df[['org_code','rba_grade_desc']].groupby('rba_grade_desc').count()"
   ]
  },
  {
   "cell_type": "code",
   "execution_count": 66,
   "metadata": {},
   "outputs": [
    {
     "data": {
      "text/plain": [
       "array([1.00000000e+00, 6.65330893e-39])"
      ]
     },
     "execution_count": 66,
     "metadata": {},
     "output_type": "execute_result"
    }
   ],
   "source": [
    "pca.explained_variance_ratio_"
   ]
  },
  {
   "cell_type": "markdown",
   "metadata": {},
   "source": [
    "### FIRST RESULT: \n",
    "the variables in the dataset only explains 20% of the variance of the data,\n",
    "two many variables with the same value and the NaN."
   ]
  },
  {
   "cell_type": "code",
   "execution_count": 68,
   "metadata": {},
   "outputs": [
    {
     "data": {
      "image/png": "[encoded data removed]",
      "text/plain": [
       "<Figure size 576x576 with 1 Axes>"
      ]
     },
     "metadata": {
      "needs_background": "light"
     },
     "output_type": "display_data"
    }
   ],
   "source": [
    "%matplotlib inline\n",
    "from matplotlib import pyplot as plt\n",
    "fig = plt.figure(figsize = (8,8))\n",
    "ax = fig.add_subplot(1,1,1) \n",
    "ax.set_xlabel('Principal Component 1', fontsize = 15)\n",
    "ax.set_ylabel('Principal Component 2', fontsize = 15)\n",
    "ax.set_title('2 component PCA', fontsize = 20)\n",
    "\n",
    "targets = ['High', 'Medium', 'Low']\n",
    "colors = ['r', 'g', 'b']\n",
    "for target, color in zip(targets,colors):\n",
    "    indicesToKeep = finalDf['rba_grade_desc'] == target\n",
    "    ax.scatter(finalDf.loc[indicesToKeep, 'principal component 1']\n",
    "               , finalDf.loc[indicesToKeep, 'principal component 2']\n",
    "               , c = color\n",
    "               , s = 50)\n",
    "ax.legend(targets)\n",
    "ax.grid()"
   ]
  },
  {
   "cell_type": "markdown",
   "metadata": {},
   "source": [
    "With the previous graph it becomes visible that the dataset has not got useful variables to explain our target variable"
   ]
  },
  {
   "cell_type": "markdown",
   "metadata": {},
   "source": [
    "---"
   ]
  },
  {
   "cell_type": "code",
   "execution_count": null,
   "metadata": {},
   "outputs": [],
   "source": [
    "#df.to_excel(\"RBA_KYC_Accounts_ALL_Ids_CLEANED.xlsx\")"
   ]
  },
  {
   "cell_type": "markdown",
   "metadata": {},
   "source": [
    "### Let's develop a Gradient Boosting with against rbaValue"
   ]
  },
  {
   "cell_type": "code",
   "execution_count": 71,
   "metadata": {},
   "outputs": [],
   "source": [
    "import pandas as pd\n",
    "df = pd.read_excel(\"RBA_KYC_Accounts_ALL_Ids_CLEANED.xlsx\")"
   ]
  },
  {
   "cell_type": "code",
   "execution_count": 72,
   "metadata": {},
   "outputs": [],
   "source": [
    "list_inputs = ['branchCode', \n",
    "        'customerType', \n",
    "        'onboarding_labelencoded', #LABEL ENCODED\n",
    "        'residentStatus',\n",
    "        'residentCountry_labelencoded', \n",
    "        'nationalityOriginal_labelencoded', \n",
    "        'extraNationality_labelencoded',\n",
    "        'age_in_year', \n",
    "        'profession', \n",
    "        'companyType', \n",
    "        'ledgerCode',\n",
    "        'accountCurrency_labelencoded', \n",
    "        'jointAccount', \n",
    "        'CUS_CLASS', \n",
    "        'ECO_SEC',\n",
    "        'TYPE_OF_DEP', \n",
    "        'GENDER', \n",
    "        'LEGAL_STA_CODE', \n",
    "        'avg_last_10_days',\n",
    "        'avg_last_30_days', \n",
    "        'avg_last_90_days', \n",
    "        'number_of_cash_dep_90_days',\n",
    "        'avg_cash_deposit_90_days', \n",
    "        'number_of_deposit_90_days',\n",
    "        'avg_of_dep_90_days', \n",
    "        'number_of_cash_wd_90_days',\n",
    "        'avg_of_cash_wd_90_days', \n",
    "        'number_of_wd_90_days', \n",
    "        'avg_of_wd_90_days',\n",
    "        'MOB', \n",
    "        'residentCountry_missing',\n",
    "        'nationalityOriginal_missing', \n",
    "        'extraNationality_missing',\n",
    "        'dateOfBirth_missing', \n",
    "        'age_in_year_missing', \n",
    "        'profession_missing',\n",
    "        'companyType_missing', \n",
    "        'GENDER_missing', \n",
    "        'LEGAL_STA_CODE_missing']\n",
    "\n",
    "X = df[list_inputs]"
   ]
  },
  {
   "cell_type": "markdown",
   "metadata": {},
   "source": [
    "# MODEL 1 - REGRESSION MODEL USING rbaValue"
   ]
  },
  {
   "cell_type": "code",
   "execution_count": 73,
   "metadata": {},
   "outputs": [],
   "source": [
    "output_var = 'rbaValue'\n",
    "y=df[output_var]\n",
    "     "
   ]
  },
  {
   "cell_type": "code",
   "execution_count": 74,
   "metadata": {},
   "outputs": [],
   "source": [
    "from sklearn.model_selection import train_test_split\n",
    "X_train, X_test, y_train, y_test = train_test_split(X, y, test_size=0.33, random_state=42)"
   ]
  },
  {
   "cell_type": "code",
   "execution_count": 75,
   "metadata": {},
   "outputs": [],
   "source": [
    "from sklearn.ensemble import RandomForestRegressor"
   ]
  },
  {
   "cell_type": "code",
   "execution_count": 76,
   "metadata": {},
   "outputs": [
    {
     "data": {
      "text/plain": [
       "RandomForestRegressor(bootstrap=True, criterion='mse', max_depth=4,\n",
       "                      max_features='auto', max_leaf_nodes=None,\n",
       "                      min_impurity_decrease=0.0, min_impurity_split=None,\n",
       "                      min_samples_leaf=1, min_samples_split=2,\n",
       "                      min_weight_fraction_leaf=0.0, n_estimators=50,\n",
       "                      n_jobs=None, oob_score=False, random_state=42, verbose=0,\n",
       "                      warm_start=False)"
      ]
     },
     "execution_count": 76,
     "metadata": {},
     "output_type": "execute_result"
    }
   ],
   "source": [
    "# Fit regression model\n",
    "params = {'n_estimators': 50, 'max_depth': 4, 'min_samples_split': 2,'random_state':42}\n",
    "clf = RandomForestRegressor(**params)\n",
    "clf.fit(X_train, y_train)"
   ]
  },
  {
   "cell_type": "code",
   "execution_count": 77,
   "metadata": {},
   "outputs": [],
   "source": [
    "y_train_preds = clf.predict(X_train)\n",
    "y_test_preds = clf.predict(X_test)"
   ]
  },
  {
   "cell_type": "code",
   "execution_count": 78,
   "metadata": {},
   "outputs": [
    {
     "name": "stdout",
     "output_type": "stream",
     "text": [
      "spearman rank correlation - train= 0.5979583264175341 0.0\n",
      "spearman rank correlation - test= 0.5976245156485965 0.0\n"
     ]
    }
   ],
   "source": [
    "# Let's make a spearman correlation between predicted and observed values\n",
    "from scipy.stats import spearmanr \n",
    "corr, p_value = spearmanr(y_train, y_train_preds)\n",
    "print(\"spearman rank correlation - train=\",corr, p_value)\n",
    "corr, p_value = spearmanr(y_test, y_test_preds)\n",
    "print(\"spearman rank correlation - test=\",corr, p_value)"
   ]
  },
  {
   "cell_type": "markdown",
   "metadata": {},
   "source": [
    "---"
   ]
  },
  {
   "cell_type": "markdown",
   "metadata": {},
   "source": [
    "# MODEL 2 - CLASSIFICATION MODEL USING Risk_Description"
   ]
  },
  {
   "cell_type": "code",
   "execution_count": 79,
   "metadata": {},
   "outputs": [],
   "source": [
    "output_var = 'Risk_Description'"
   ]
  },
  {
   "cell_type": "code",
   "execution_count": 80,
   "metadata": {},
   "outputs": [
    {
     "data": {
      "text/plain": [
       "Low       159680\n",
       "Medium     65099\n",
       "High          89\n",
       "Name: Risk_Description, dtype: int64"
      ]
     },
     "execution_count": 80,
     "metadata": {},
     "output_type": "execute_result"
    }
   ],
   "source": [
    "df[output_var].value_counts()"
   ]
  },
  {
   "cell_type": "code",
   "execution_count": 81,
   "metadata": {},
   "outputs": [
    {
     "data": {
      "text/plain": [
       "0    159680\n",
       "1     65188\n",
       "Name: TARGET, dtype: int64"
      ]
     },
     "execution_count": 81,
     "metadata": {},
     "output_type": "execute_result"
    }
   ],
   "source": [
    "df['TARGET']=1*df[output_var].isin(['High','Medium'])\n",
    "df['TARGET'].value_counts()"
   ]
  },
  {
   "cell_type": "code",
   "execution_count": 82,
   "metadata": {},
   "outputs": [],
   "source": [
    "y=df['TARGET']"
   ]
  },
  {
   "cell_type": "code",
   "execution_count": 83,
   "metadata": {},
   "outputs": [],
   "source": [
    "from sklearn.model_selection import train_test_split\n",
    "X_train, X_test, y_train, y_test = train_test_split(X, y, test_size=0.33, random_state=42)"
   ]
  },
  {
   "cell_type": "code",
   "execution_count": 84,
   "metadata": {},
   "outputs": [],
   "source": [
    "from sklearn.ensemble import RandomForestClassifier"
   ]
  },
  {
   "cell_type": "code",
   "execution_count": 85,
   "metadata": {},
   "outputs": [
    {
     "data": {
      "text/plain": [
       "RandomForestClassifier(bootstrap=True, class_weight=None, criterion='gini',\n",
       "                       max_depth=4, max_features='auto', max_leaf_nodes=None,\n",
       "                       min_impurity_decrease=0.0, min_impurity_split=None,\n",
       "                       min_samples_leaf=1, min_samples_split=2,\n",
       "                       min_weight_fraction_leaf=0.0, n_estimators=50,\n",
       "                       n_jobs=None, oob_score=False, random_state=42, verbose=0,\n",
       "                       warm_start=False)"
      ]
     },
     "execution_count": 85,
     "metadata": {},
     "output_type": "execute_result"
    }
   ],
   "source": [
    "params = {'n_estimators': 50, 'max_depth': 4, 'min_samples_split': 2,'random_state':42}\n",
    "clf = RandomForestClassifier(**params)\n",
    "clf.fit(X_train, y_train)"
   ]
  },
  {
   "cell_type": "code",
   "execution_count": 86,
   "metadata": {},
   "outputs": [],
   "source": [
    "y_train_preds = clf.predict(X_train)\n",
    "y_test_preds = clf.predict(X_test)"
   ]
  },
  {
   "cell_type": "code",
   "execution_count": 87,
   "metadata": {},
   "outputs": [
    {
     "name": "stdout",
     "output_type": "stream",
     "text": [
      "accuracy_score - train= 0.7671527468953478\n",
      "accuracy_score - test= 0.766140660584581\n"
     ]
    }
   ],
   "source": [
    "# Let's make a spearman correlation between predicted and observed values\n",
    "from sklearn.metrics import accuracy_score \n",
    "a_score = accuracy_score(y_train, y_train_preds)\n",
    "print(\"accuracy_score - train=\",a_score)\n",
    "a_score = accuracy_score(y_test, y_test_preds)\n",
    "print(\"accuracy_score - test=\",a_score)"
   ]
  },
  {
   "cell_type": "code",
   "execution_count": null,
   "metadata": {},
   "outputs": [],
   "source": []
  }
 ],
 "metadata": {
  "kernelspec": {
   "display_name": "Python 3",
   "language": "python",
   "name": "python3"
  },
  "language_info": {
   "codemirror_mode": {
    "name": "ipython",
    "version": 3
   },
   "file_extension": ".py",
   "mimetype": "text/x-python",
   "name": "python",
   "nbconvert_exporter": "python",
   "pygments_lexer": "ipython3",
   "version": "3.7.3"
  }
 },
 "nbformat": 4,
 "nbformat_minor": 2
}
