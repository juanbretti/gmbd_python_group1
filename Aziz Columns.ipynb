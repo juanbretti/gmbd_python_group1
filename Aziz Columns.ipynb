{
 "cells": [
  {
   "cell_type": "markdown",
   "metadata": {},
   "source": [
    "### Gender"
   ]
  },
  {
   "cell_type": "code",
   "execution_count": 244,
   "metadata": {},
   "outputs": [
    {
     "data": {
      "text/plain": [
       "NaN    53.591885\n",
       "1.0    34.760837\n",
       "2.0    11.647278\n",
       "Name: GENDER, dtype: float64"
      ]
     },
     "execution_count": 244,
     "metadata": {},
     "output_type": "execute_result"
    }
   ],
   "source": [
    "df['GENDER'].value_counts(dropna = False,normalize=True) * 100"
   ]
  },
  {
   "cell_type": "markdown",
   "metadata": {},
   "source": [
    "More than 50% of the Gender's values are nulls. We remove the entire variable, or replace it with the mode (Male). \n",
    "\n",
    "Another way is to use kNN imputation with another predictive variable (Profession) as it somehow gives indictions for the gender, but it suffers from high percentage of missing values (64%).\n",
    "\n",
    "I would recommend to remove the entire gender feature and to keep consistant with our main function of removing variables that suffer from high ratio of missing values."
   ]
  },
  {
   "cell_type": "markdown",
   "metadata": {},
   "source": [
    "### LEGAL_STA_CODE"
   ]
  },
  {
   "cell_type": "code",
   "execution_count": 248,
   "metadata": {},
   "outputs": [
    {
     "data": {
      "text/plain": [
       "1.0    85.315830\n",
       "2.0     8.372912\n",
       "3.0     4.685415\n",
       "NaN     1.163349\n",
       "4.0     0.462494\n",
       "Name: LEGAL_STA_CODE, dtype: float64"
      ]
     },
     "execution_count": 248,
     "metadata": {},
     "output_type": "execute_result"
    }
   ],
   "source": [
    "df['LEGAL_STA_CODE'].value_counts(dropna = False,normalize=True) * 100"
   ]
  },
  {
   "cell_type": "markdown",
   "metadata": {},
   "source": [
    "Since only 1% of the variable's values is missing, and the dominating value is 1 (85%), it is advisable to replace the missing values with the mode. "
   ]
  },
  {
   "cell_type": "markdown",
   "metadata": {},
   "source": [
    "### legal_Stat_desc"
   ]
  },
  {
   "cell_type": "code",
   "execution_count": 249,
   "metadata": {},
   "outputs": [
    {
     "data": {
      "text/plain": [
       "NaN    100.0\n",
       "Name: legal_Stat_desc, dtype: float64"
      ]
     },
     "execution_count": 249,
     "metadata": {},
     "output_type": "execute_result"
    }
   ],
   "source": [
    "df['legal_Stat_desc'].value_counts(dropna = False,normalize=True) * 100"
   ]
  },
  {
   "cell_type": "markdown",
   "metadata": {},
   "source": [
    "100% of the variable is missing, therefore the entire variable will be removed from the dataset."
   ]
  },
  {
   "cell_type": "markdown",
   "metadata": {},
   "source": [
    "### avg_last_10_days"
   ]
  },
  {
   "cell_type": "code",
   "execution_count": 251,
   "metadata": {},
   "outputs": [
    {
     "data": {
      "text/plain": [
       " 0.00         41.858779\n",
       " 820.00        0.536759\n",
       " 1640.00       0.166765\n",
       "-15.00         0.148976\n",
       " 1230.00       0.104061\n",
       "                ...    \n",
       "-210.79        0.000445\n",
       "-102212.29     0.000445\n",
       " 498.74        0.000445\n",
       " 719.33        0.000445\n",
       " 13691.36      0.000445\n",
       "Name: avg_last_10_days, Length: 106519, dtype: float64"
      ]
     },
     "execution_count": 251,
     "metadata": {},
     "output_type": "execute_result"
    }
   ],
   "source": [
    "df['avg_last_10_days'].value_counts(dropna = False,normalize=True) * 100"
   ]
  },
  {
   "cell_type": "code",
   "execution_count": 260,
   "metadata": {},
   "outputs": [
    {
     "data": {
      "text/plain": [
       "<matplotlib.axes._subplots.AxesSubplot at 0x2c2162b53c8>"
      ]
     },
     "execution_count": 260,
     "metadata": {},
     "output_type": "execute_result"
    },
    {
     "data": {
      "image/png": "[encoded data removed]",
      "text/plain": [
       "<Figure size 576x396 with 1 Axes>"
      ]
     },
     "metadata": {},
     "output_type": "display_data"
    }
   ],
   "source": [
    "import seaborn as sns\n",
    "sns.boxplot(x=df['avg_last_10_days'])"
   ]
  },
  {
   "cell_type": "markdown",
   "metadata": {},
   "source": [
    "No missing values. The variable is a continuous number with both negative and positive values. Zero makes up 41% of total values. \n",
    "\n",
    "We can leave the variable as is."
   ]
  },
  {
   "cell_type": "markdown",
   "metadata": {},
   "source": [
    "### avg_last_30_days"
   ]
  },
  {
   "cell_type": "code",
   "execution_count": 261,
   "metadata": {},
   "outputs": [
    {
     "data": {
      "text/plain": [
       " 0.00        42.574310\n",
       " 206.67       0.538538\n",
       " 413.33       0.166765\n",
       "-5.00         0.153423\n",
       " 310.00       0.103172\n",
       "               ...    \n",
       " 22031.61     0.000445\n",
       " 119.10       0.000445\n",
       "-14.70        0.000445\n",
       " 515.43       0.000445\n",
       "-32726.79     0.000445\n",
       "Name: avg_last_30_days, Length: 94287, dtype: float64"
      ]
     },
     "execution_count": 261,
     "metadata": {},
     "output_type": "execute_result"
    }
   ],
   "source": [
    "df['avg_last_30_days'].value_counts(dropna = False,normalize=True) * 100"
   ]
  },
  {
   "cell_type": "code",
   "execution_count": 262,
   "metadata": {},
   "outputs": [
    {
     "data": {
      "text/plain": [
       "<matplotlib.axes._subplots.AxesSubplot at 0x2c21611eef0>"
      ]
     },
     "execution_count": 262,
     "metadata": {},
     "output_type": "execute_result"
    },
    {
     "data": {
      "image/png": "[encoded data removed]",
      "text/plain": [
       "<Figure size 576x396 with 1 Axes>"
      ]
     },
     "metadata": {},
     "output_type": "display_data"
    }
   ],
   "source": [
    "sns.boxplot(x=df['avg_last_30_days'])"
   ]
  },
  {
   "cell_type": "markdown",
   "metadata": {},
   "source": [
    "No missing values. The variable is a continuous number with both negative and positive values. Zero makes up 42% of total values. \n",
    "\n",
    "We can leave the variable as is."
   ]
  },
  {
   "cell_type": "markdown",
   "metadata": {},
   "source": [
    "### avg_last_90_days"
   ]
  },
  {
   "cell_type": "code",
   "execution_count": 263,
   "metadata": {},
   "outputs": [
    {
     "data": {
      "text/plain": [
       " 0.00      50.708860\n",
       " 0.01       1.038387\n",
       " 0.02       0.798691\n",
       " 2.22       0.651049\n",
       " 0.03       0.418023\n",
       "             ...    \n",
       "-399.69     0.000445\n",
       "-796.62     0.000445\n",
       "-64.76      0.000445\n",
       "-266.60     0.000445\n",
       " 190.47     0.000445\n",
       "Name: avg_last_90_days, Length: 37665, dtype: float64"
      ]
     },
     "execution_count": 263,
     "metadata": {},
     "output_type": "execute_result"
    }
   ],
   "source": [
    "df['avg_last_90_days'].value_counts(dropna = False,normalize=True) * 100"
   ]
  },
  {
   "cell_type": "code",
   "execution_count": 265,
   "metadata": {},
   "outputs": [
    {
     "data": {
      "text/plain": [
       "<matplotlib.axes._subplots.AxesSubplot at 0x2c216315208>"
      ]
     },
     "execution_count": 265,
     "metadata": {},
     "output_type": "execute_result"
    },
    {
     "data": {
      "image/png": "[encoded data removed]",
      "text/plain": [
       "<Figure size 576x396 with 1 Axes>"
      ]
     },
     "metadata": {},
     "output_type": "display_data"
    }
   ],
   "source": [
    "sns.boxplot(x=df['avg_last_90_days'])"
   ]
  },
  {
   "cell_type": "markdown",
   "metadata": {},
   "source": [
    "No missing values. The variable is a continuous number with both negative and positive values. Zero makes up 50% of total values. \n",
    "\n",
    "We can leave the variable as is."
   ]
  },
  {
   "cell_type": "markdown",
   "metadata": {},
   "source": [
    "### number_of_cash_dep_90_days"
   ]
  },
  {
   "cell_type": "code",
   "execution_count": 266,
   "metadata": {},
   "outputs": [
    {
     "data": {
      "text/plain": [
       "0      89.315065\n",
       "1       4.639611\n",
       "2       1.961595\n",
       "3       1.373250\n",
       "4       0.781347\n",
       "         ...    \n",
       "193     0.000445\n",
       "68      0.000445\n",
       "198     0.000445\n",
       "199     0.000445\n",
       "180     0.000445\n",
       "Name: number_of_cash_dep_90_days, Length: 151, dtype: float64"
      ]
     },
     "execution_count": 266,
     "metadata": {},
     "output_type": "execute_result"
    }
   ],
   "source": [
    "df['number_of_cash_dep_90_days'].value_counts(dropna = False,normalize=True) * 100"
   ]
  },
  {
   "cell_type": "code",
   "execution_count": 267,
   "metadata": {},
   "outputs": [
    {
     "data": {
      "text/plain": [
       "<matplotlib.axes._subplots.AxesSubplot at 0x2c2176821d0>"
      ]
     },
     "execution_count": 267,
     "metadata": {},
     "output_type": "execute_result"
    },
    {
     "data": {
      "image/png": "[encoded data removed]",
      "text/plain": [
       "<Figure size 576x396 with 1 Axes>"
      ]
     },
     "metadata": {},
     "output_type": "display_data"
    }
   ],
   "source": [
    "sns.boxplot(x=df['number_of_cash_dep_90_days'])"
   ]
  },
  {
   "cell_type": "markdown",
   "metadata": {},
   "source": [
    "No missing values. The variable is a continuous number with positive values. Zero makes up 89% of total values. \n",
    "\n",
    "There are few notable outliers, some are suspicious such as (1267) total number of deposit within just 90 days?\n",
    "\n",
    "\n",
    "We shall leave the variable as is if we all agree..."
   ]
  },
  {
   "cell_type": "markdown",
   "metadata": {},
   "source": [
    "### avg_cash_deposit_90_days"
   ]
  },
  {
   "cell_type": "code",
   "execution_count": 268,
   "metadata": {},
   "outputs": [
    {
     "data": {
      "text/plain": [
       " 0.000        89.315065\n",
       "-100.000       0.462938\n",
       "-200.000       0.297953\n",
       "-500.000       0.276162\n",
       "-50.000        0.236139\n",
       "                ...    \n",
       "-7.227         0.000445\n",
       "-2641.000      0.000445\n",
       "-86940.000     0.000445\n",
       "-1832.750      0.000445\n",
       "-20266.000     0.000445\n",
       "Name: avg_cash_deposit_90_days, Length: 5780, dtype: float64"
      ]
     },
     "execution_count": 268,
     "metadata": {},
     "output_type": "execute_result"
    }
   ],
   "source": [
    "df['avg_cash_deposit_90_days'].value_counts(dropna = False,normalize=True) * 100"
   ]
  },
  {
   "cell_type": "code",
   "execution_count": 269,
   "metadata": {},
   "outputs": [
    {
     "data": {
      "text/plain": [
       "<matplotlib.axes._subplots.AxesSubplot at 0x2c218034a90>"
      ]
     },
     "execution_count": 269,
     "metadata": {},
     "output_type": "execute_result"
    },
    {
     "data": {
      "image/png": "[encoded data removed]",
      "text/plain": [
       "<Figure size 576x396 with 1 Axes>"
      ]
     },
     "metadata": {},
     "output_type": "display_data"
    }
   ],
   "source": [
    "sns.boxplot(x=df['avg_cash_deposit_90_days'])"
   ]
  },
  {
   "cell_type": "markdown",
   "metadata": {},
   "source": [
    "No missing values. The variable is a continuous number with negative values. Zero makes up 89% of total values. \n",
    "\n",
    "There are few notable outliers, but they look fine.\n",
    "\n",
    "We shall leave the variable as is."
   ]
  },
  {
   "cell_type": "markdown",
   "metadata": {},
   "source": [
    "### number_of_deposit_90_days"
   ]
  },
  {
   "cell_type": "code",
   "execution_count": 272,
   "metadata": {},
   "outputs": [
    {
     "data": {
      "text/plain": [
       "0       86.536991\n",
       "1        4.870413\n",
       "2        2.240870\n",
       "3        1.911344\n",
       "4        1.233613\n",
       "          ...    \n",
       "112      0.000445\n",
       "415      0.000445\n",
       "448      0.000445\n",
       "160      0.000445\n",
       "1151     0.000445\n",
       "Name: number_of_deposit_90_days, Length: 293, dtype: float64"
      ]
     },
     "execution_count": 272,
     "metadata": {},
     "output_type": "execute_result"
    }
   ],
   "source": [
    "df['number_of_deposit_90_days'].value_counts(dropna = False,normalize=True) * 100"
   ]
  },
  {
   "cell_type": "code",
   "execution_count": 273,
   "metadata": {},
   "outputs": [
    {
     "data": {
      "text/plain": [
       "<matplotlib.axes._subplots.AxesSubplot at 0x2c218092358>"
      ]
     },
     "execution_count": 273,
     "metadata": {},
     "output_type": "execute_result"
    },
    {
     "data": {
      "image/png": "[encoded data removed]",
      "text/plain": [
       "<Figure size 576x396 with 1 Axes>"
      ]
     },
     "metadata": {},
     "output_type": "display_data"
    }
   ],
   "source": [
    "sns.boxplot(x=df['number_of_deposit_90_days'])"
   ]
  },
  {
   "cell_type": "markdown",
   "metadata": {},
   "source": [
    "No missing values. The variable is a continuous number with positive values. Zero makes up 86% of total values. \n",
    "\n",
    "We can leave the variable as is."
   ]
  }
 ],
 "metadata": {
  "kernelspec": {
   "display_name": "Python 3",
   "language": "python",
   "name": "python3"
  },
  "language_info": {
   "codemirror_mode": {
    "name": "ipython",
    "version": 3
   },
   "file_extension": ".py",
   "mimetype": "text/x-python",
   "name": "python",
   "nbconvert_exporter": "python",
   "pygments_lexer": "ipython3",
   "version": "3.7.3"
  }
 },
 "nbformat": 4,
 "nbformat_minor": 4
}
