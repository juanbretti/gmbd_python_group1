{
 "cells": [
  {
   "cell_type": "code",
   "execution_count": 2,
   "metadata": {},
   "outputs": [],
   "source": [
    "# General usage\n",
    "import math\n",
    "import numpy as np\n",
    "import pandas as pd\n",
    "\n",
    "# Preprocessing\n",
    "from sklearn.experimental import enable_iterative_imputer\n",
    "from sklearn.impute import IterativeImputer, SimpleImputer\n",
    "from sklearn.preprocessing import StandardScaler, OneHotEncoder\n",
    "\n",
    "# Modeling\n",
    "from sklearn import datasets, linear_model\n",
    "from sklearn.metrics import mean_squared_error, r2_score\n",
    "from sklearn.metrics import accuracy_score, f1_score, recall_score, matthews_corrcoef, confusion_matrix, precision_score\n",
    "from sklearn.model_selection import train_test_split\n",
    "from sklearn.linear_model import LogisticRegression\n",
    "\n",
    "# https://dateutil.readthedocs.io/en/stable/relativedelta.html\n",
    "from datetime import datetime\n",
    "from dateutil.relativedelta import relativedelta, MO\n",
    "\n",
    "# Plotting\n",
    "import matplotlib.pyplot as plt\n",
    "import seaborn as sns\n",
    "from matplotlib.offsetbox import OffsetImage, AnnotationBbox"
   ]
  },
  {
   "cell_type": "code",
   "execution_count": 3,
   "metadata": {},
   "outputs": [],
   "source": [
    "# df = pd.read_excel('raw/RBA_KYC_Accounts_ALL_Ids.xlsx')\n",
    "df_metadata_countries = pd.read_excel('raw/RBA Metadata.xlsx', sheet_name='COUNTRIES', keep_default_na=False)\n",
    "# df = pd.read_excel('raw/RBA_KYC_Accounts_ALL_Ids.xlsx')\n",
    "df_metadata_countries = pd.read_excel('raw/RBA Metadata.xlsx', sheet_name='COUNTRIES', keep_default_na=False)"
   ]
  },
  {
   "cell_type": "code",
   "execution_count": 4,
   "metadata": {},
   "outputs": [],
   "source": [
    "# df.to_pickle('storage\\RBA_KYC_Accounts_ALL_Ids.pkl')\n",
    "df = pd.read_pickle('storage/RBA_KYC_Accounts_ALL_Ids.pkl')"
   ]
  },
  {
   "cell_type": "code",
   "execution_count": 7,
   "metadata": {},
   "outputs": [
    {
     "name": "stdout",
     "output_type": "stream",
     "text": [
      "Esperanza\n",
      "Index(['lastUpdate', 'status', 'ledgerCode', 'accountCurrency', 'jointAccount',\n",
      "       'IsBlackListed', 'CUS_CLASS', 'ECO_SEC', 'TYPE_OF_DEP'],\n",
      "      dtype='object')\n"
     ]
    }
   ],
   "source": [
    "print('Esperanza')\n",
    "print(df.columns[18:27])"
   ]
  },
  {
   "cell_type": "code",
   "execution_count": 41,
   "metadata": {},
   "outputs": [
    {
     "data": {
      "text/html": [
       "<div>\n",
       "<style scoped>\n",
       "    .dataframe tbody tr th:only-of-type {\n",
       "        vertical-align: middle;\n",
       "    }\n",
       "\n",
       "    .dataframe tbody tr th {\n",
       "        vertical-align: top;\n",
       "    }\n",
       "\n",
       "    .dataframe thead th {\n",
       "        text-align: right;\n",
       "    }\n",
       "</style>\n",
       "<table border=\"1\" class=\"dataframe\">\n",
       "  <thead>\n",
       "    <tr style=\"text-align: right;\">\n",
       "      <th></th>\n",
       "      <th>lastUpdate</th>\n",
       "      <th>status</th>\n",
       "      <th>ledgerCode</th>\n",
       "      <th>accountCurrency</th>\n",
       "      <th>jointAccount</th>\n",
       "      <th>IsBlackListed</th>\n",
       "      <th>CUS_CLASS</th>\n",
       "      <th>ECO_SEC</th>\n",
       "      <th>TYPE_OF_DEP</th>\n",
       "    </tr>\n",
       "  </thead>\n",
       "  <tbody>\n",
       "    <tr>\n",
       "      <th>0</th>\n",
       "      <td>NaN</td>\n",
       "      <td>Active</td>\n",
       "      <td>3.714399</td>\n",
       "      <td>JOD</td>\n",
       "      <td>-0.148768</td>\n",
       "      <td>0</td>\n",
       "      <td>0.054534</td>\n",
       "      <td>-1.475463</td>\n",
       "      <td>-0.032857</td>\n",
       "    </tr>\n",
       "    <tr>\n",
       "      <th>1</th>\n",
       "      <td>NaN</td>\n",
       "      <td>Active</td>\n",
       "      <td>0.211318</td>\n",
       "      <td>JOD</td>\n",
       "      <td>-0.148768</td>\n",
       "      <td>0</td>\n",
       "      <td>-0.410042</td>\n",
       "      <td>0.020790</td>\n",
       "      <td>-0.807459</td>\n",
       "    </tr>\n",
       "    <tr>\n",
       "      <th>2</th>\n",
       "      <td>NaN</td>\n",
       "      <td>Active</td>\n",
       "      <td>0.257380</td>\n",
       "      <td>JOD</td>\n",
       "      <td>-0.148768</td>\n",
       "      <td>0</td>\n",
       "      <td>-0.410042</td>\n",
       "      <td>0.020790</td>\n",
       "      <td>-0.807459</td>\n",
       "    </tr>\n",
       "    <tr>\n",
       "      <th>3</th>\n",
       "      <td>NaN</td>\n",
       "      <td>Active</td>\n",
       "      <td>-0.780194</td>\n",
       "      <td>JOD</td>\n",
       "      <td>-0.148768</td>\n",
       "      <td>0</td>\n",
       "      <td>-0.410042</td>\n",
       "      <td>0.020790</td>\n",
       "      <td>-0.807459</td>\n",
       "    </tr>\n",
       "    <tr>\n",
       "      <th>4</th>\n",
       "      <td>NaN</td>\n",
       "      <td>Active</td>\n",
       "      <td>-0.819230</td>\n",
       "      <td>JOD</td>\n",
       "      <td>-0.148768</td>\n",
       "      <td>0</td>\n",
       "      <td>-0.410042</td>\n",
       "      <td>0.020790</td>\n",
       "      <td>-0.807459</td>\n",
       "    </tr>\n",
       "    <tr>\n",
       "      <th>...</th>\n",
       "      <td>...</td>\n",
       "      <td>...</td>\n",
       "      <td>...</td>\n",
       "      <td>...</td>\n",
       "      <td>...</td>\n",
       "      <td>...</td>\n",
       "      <td>...</td>\n",
       "      <td>...</td>\n",
       "      <td>...</td>\n",
       "    </tr>\n",
       "    <tr>\n",
       "      <th>224863</th>\n",
       "      <td>NaN</td>\n",
       "      <td>Active</td>\n",
       "      <td>-0.811423</td>\n",
       "      <td>JOD</td>\n",
       "      <td>-0.148768</td>\n",
       "      <td>0</td>\n",
       "      <td>-0.410042</td>\n",
       "      <td>0.020790</td>\n",
       "      <td>-1.001110</td>\n",
       "    </tr>\n",
       "    <tr>\n",
       "      <th>224864</th>\n",
       "      <td>NaN</td>\n",
       "      <td>Active</td>\n",
       "      <td>3.310768</td>\n",
       "      <td>JOD</td>\n",
       "      <td>-0.148768</td>\n",
       "      <td>0</td>\n",
       "      <td>0.054534</td>\n",
       "      <td>-1.611486</td>\n",
       "      <td>-0.032857</td>\n",
       "    </tr>\n",
       "    <tr>\n",
       "      <th>224865</th>\n",
       "      <td>NaN</td>\n",
       "      <td>Active</td>\n",
       "      <td>1.499502</td>\n",
       "      <td>JOD</td>\n",
       "      <td>-0.148768</td>\n",
       "      <td>0</td>\n",
       "      <td>-0.410042</td>\n",
       "      <td>0.020790</td>\n",
       "      <td>0.999946</td>\n",
       "    </tr>\n",
       "    <tr>\n",
       "      <th>224866</th>\n",
       "      <td>NaN</td>\n",
       "      <td>Active</td>\n",
       "      <td>0.262845</td>\n",
       "      <td>JOD</td>\n",
       "      <td>-0.148768</td>\n",
       "      <td>0</td>\n",
       "      <td>-0.410042</td>\n",
       "      <td>0.020790</td>\n",
       "      <td>-1.001110</td>\n",
       "    </tr>\n",
       "    <tr>\n",
       "      <th>224867</th>\n",
       "      <td>NaN</td>\n",
       "      <td>Active</td>\n",
       "      <td>0.262845</td>\n",
       "      <td>JOD</td>\n",
       "      <td>-0.148768</td>\n",
       "      <td>0</td>\n",
       "      <td>2.609699</td>\n",
       "      <td>0.020790</td>\n",
       "      <td>0.999946</td>\n",
       "    </tr>\n",
       "  </tbody>\n",
       "</table>\n",
       "<p>224868 rows × 9 columns</p>\n",
       "</div>"
      ],
      "text/plain": [
       "        lastUpdate  status  ledgerCode accountCurrency  jointAccount  \\\n",
       "0              NaN  Active    3.714399             JOD     -0.148768   \n",
       "1              NaN  Active    0.211318             JOD     -0.148768   \n",
       "2              NaN  Active    0.257380             JOD     -0.148768   \n",
       "3              NaN  Active   -0.780194             JOD     -0.148768   \n",
       "4              NaN  Active   -0.819230             JOD     -0.148768   \n",
       "...            ...     ...         ...             ...           ...   \n",
       "224863         NaN  Active   -0.811423             JOD     -0.148768   \n",
       "224864         NaN  Active    3.310768             JOD     -0.148768   \n",
       "224865         NaN  Active    1.499502             JOD     -0.148768   \n",
       "224866         NaN  Active    0.262845             JOD     -0.148768   \n",
       "224867         NaN  Active    0.262845             JOD     -0.148768   \n",
       "\n",
       "        IsBlackListed  CUS_CLASS   ECO_SEC  TYPE_OF_DEP  \n",
       "0                   0   0.054534 -1.475463    -0.032857  \n",
       "1                   0  -0.410042  0.020790    -0.807459  \n",
       "2                   0  -0.410042  0.020790    -0.807459  \n",
       "3                   0  -0.410042  0.020790    -0.807459  \n",
       "4                   0  -0.410042  0.020790    -0.807459  \n",
       "...               ...        ...       ...          ...  \n",
       "224863              0  -0.410042  0.020790    -1.001110  \n",
       "224864              0   0.054534 -1.611486    -0.032857  \n",
       "224865              0  -0.410042  0.020790     0.999946  \n",
       "224866              0  -0.410042  0.020790    -1.001110  \n",
       "224867              0   2.609699  0.020790     0.999946  \n",
       "\n",
       "[224868 rows x 9 columns]"
      ]
     },
     "execution_count": 41,
     "metadata": {},
     "output_type": "execute_result"
    }
   ],
   "source": [
    "df.iloc[:, 18:27]"
   ]
  },
  {
   "cell_type": "code",
   "execution_count": 42,
   "metadata": {},
   "outputs": [],
   "source": [
    "X = df.iloc[:, 18:27]"
   ]
  },
  {
   "cell_type": "code",
   "execution_count": 44,
   "metadata": {},
   "outputs": [
    {
     "data": {
      "text/plain": [
       "<bound method NDFrame.describe of         lastUpdate  status  ledgerCode accountCurrency  jointAccount  \\\n",
       "0              NaN  Active    3.714399             JOD     -0.148768   \n",
       "1              NaN  Active    0.211318             JOD     -0.148768   \n",
       "2              NaN  Active    0.257380             JOD     -0.148768   \n",
       "3              NaN  Active   -0.780194             JOD     -0.148768   \n",
       "4              NaN  Active   -0.819230             JOD     -0.148768   \n",
       "...            ...     ...         ...             ...           ...   \n",
       "224863         NaN  Active   -0.811423             JOD     -0.148768   \n",
       "224864         NaN  Active    3.310768             JOD     -0.148768   \n",
       "224865         NaN  Active    1.499502             JOD     -0.148768   \n",
       "224866         NaN  Active    0.262845             JOD     -0.148768   \n",
       "224867         NaN  Active    0.262845             JOD     -0.148768   \n",
       "\n",
       "        IsBlackListed  CUS_CLASS   ECO_SEC  TYPE_OF_DEP  \n",
       "0                   0   0.054534 -1.475463    -0.032857  \n",
       "1                   0  -0.410042  0.020790    -0.807459  \n",
       "2                   0  -0.410042  0.020790    -0.807459  \n",
       "3                   0  -0.410042  0.020790    -0.807459  \n",
       "4                   0  -0.410042  0.020790    -0.807459  \n",
       "...               ...        ...       ...          ...  \n",
       "224863              0  -0.410042  0.020790    -1.001110  \n",
       "224864              0   0.054534 -1.611486    -0.032857  \n",
       "224865              0  -0.410042  0.020790     0.999946  \n",
       "224866              0  -0.410042  0.020790    -1.001110  \n",
       "224867              0   2.609699  0.020790     0.999946  \n",
       "\n",
       "[224868 rows x 9 columns]>"
      ]
     },
     "execution_count": 44,
     "metadata": {},
     "output_type": "execute_result"
    }
   ],
   "source": [
    "X.describe"
   ]
  },
  {
   "cell_type": "code",
   "execution_count": 28,
   "metadata": {},
   "outputs": [
    {
     "data": {
      "text/plain": [
       "lastUpdate         100.0\n",
       "status               0.0\n",
       "ledgerCode           0.0\n",
       "accountCurrency      0.0\n",
       "jointAccount         0.0\n",
       "IsBlackListed        0.0\n",
       "CUS_CLASS            0.0\n",
       "ECO_SEC              0.0\n",
       "TYPE_OF_DEP          0.0\n",
       "dtype: float64"
      ]
     },
     "execution_count": 28,
     "metadata": {},
     "output_type": "execute_result"
    }
   ],
   "source": [
    "100*X.isnull().sum()/X.isnull().count()"
   ]
  },
  {
   "cell_type": "code",
   "execution_count": 45,
   "metadata": {},
   "outputs": [
    {
     "data": {
      "text/html": [
       "<div>\n",
       "<style scoped>\n",
       "    .dataframe tbody tr th:only-of-type {\n",
       "        vertical-align: middle;\n",
       "    }\n",
       "\n",
       "    .dataframe tbody tr th {\n",
       "        vertical-align: top;\n",
       "    }\n",
       "\n",
       "    .dataframe thead th {\n",
       "        text-align: right;\n",
       "    }\n",
       "</style>\n",
       "<table border=\"1\" class=\"dataframe\">\n",
       "  <thead>\n",
       "    <tr style=\"text-align: right;\">\n",
       "      <th></th>\n",
       "      <th>count</th>\n",
       "      <th>mean</th>\n",
       "      <th>std</th>\n",
       "      <th>min</th>\n",
       "      <th>25%</th>\n",
       "      <th>50%</th>\n",
       "      <th>75%</th>\n",
       "      <th>max</th>\n",
       "    </tr>\n",
       "  </thead>\n",
       "  <tbody>\n",
       "    <tr>\n",
       "      <th>lastUpdate</th>\n",
       "      <td>0.0</td>\n",
       "      <td>NaN</td>\n",
       "      <td>NaN</td>\n",
       "      <td>NaN</td>\n",
       "      <td>NaN</td>\n",
       "      <td>NaN</td>\n",
       "      <td>NaN</td>\n",
       "      <td>NaN</td>\n",
       "    </tr>\n",
       "    <tr>\n",
       "      <th>ledgerCode</th>\n",
       "      <td>224868.0</td>\n",
       "      <td>5.498509e-15</td>\n",
       "      <td>1.000002</td>\n",
       "      <td>-0.819230</td>\n",
       "      <td>-0.811423</td>\n",
       "      <td>0.189458</td>\n",
       "      <td>0.262845</td>\n",
       "      <td>5.965209</td>\n",
       "    </tr>\n",
       "    <tr>\n",
       "      <th>jointAccount</th>\n",
       "      <td>224868.0</td>\n",
       "      <td>2.906594e-15</td>\n",
       "      <td>1.000002</td>\n",
       "      <td>-0.148768</td>\n",
       "      <td>-0.148768</td>\n",
       "      <td>-0.148768</td>\n",
       "      <td>-0.148768</td>\n",
       "      <td>6.721876</td>\n",
       "    </tr>\n",
       "    <tr>\n",
       "      <th>IsBlackListed</th>\n",
       "      <td>224868.0</td>\n",
       "      <td>0.000000e+00</td>\n",
       "      <td>0.000000</td>\n",
       "      <td>0.000000</td>\n",
       "      <td>0.000000</td>\n",
       "      <td>0.000000</td>\n",
       "      <td>0.000000</td>\n",
       "      <td>0.000000</td>\n",
       "    </tr>\n",
       "    <tr>\n",
       "      <th>CUS_CLASS</th>\n",
       "      <td>224868.0</td>\n",
       "      <td>-1.354749e-13</td>\n",
       "      <td>1.000002</td>\n",
       "      <td>-0.874617</td>\n",
       "      <td>-0.410042</td>\n",
       "      <td>-0.410042</td>\n",
       "      <td>-0.410042</td>\n",
       "      <td>10.972059</td>\n",
       "    </tr>\n",
       "    <tr>\n",
       "      <th>ECO_SEC</th>\n",
       "      <td>224868.0</td>\n",
       "      <td>-1.140336e-14</td>\n",
       "      <td>1.000002</td>\n",
       "      <td>-3.039728</td>\n",
       "      <td>0.020790</td>\n",
       "      <td>0.020790</td>\n",
       "      <td>0.020790</td>\n",
       "      <td>10.290529</td>\n",
       "    </tr>\n",
       "    <tr>\n",
       "      <th>TYPE_OF_DEP</th>\n",
       "      <td>224868.0</td>\n",
       "      <td>8.162134e-14</td>\n",
       "      <td>1.000002</td>\n",
       "      <td>-2.292114</td>\n",
       "      <td>-1.001110</td>\n",
       "      <td>-0.032857</td>\n",
       "      <td>0.999946</td>\n",
       "      <td>4.162906</td>\n",
       "    </tr>\n",
       "  </tbody>\n",
       "</table>\n",
       "</div>"
      ],
      "text/plain": [
       "                  count          mean       std       min       25%       50%  \\\n",
       "lastUpdate          0.0           NaN       NaN       NaN       NaN       NaN   \n",
       "ledgerCode     224868.0  5.498509e-15  1.000002 -0.819230 -0.811423  0.189458   \n",
       "jointAccount   224868.0  2.906594e-15  1.000002 -0.148768 -0.148768 -0.148768   \n",
       "IsBlackListed  224868.0  0.000000e+00  0.000000  0.000000  0.000000  0.000000   \n",
       "CUS_CLASS      224868.0 -1.354749e-13  1.000002 -0.874617 -0.410042 -0.410042   \n",
       "ECO_SEC        224868.0 -1.140336e-14  1.000002 -3.039728  0.020790  0.020790   \n",
       "TYPE_OF_DEP    224868.0  8.162134e-14  1.000002 -2.292114 -1.001110 -0.032857   \n",
       "\n",
       "                    75%        max  \n",
       "lastUpdate          NaN        NaN  \n",
       "ledgerCode     0.262845   5.965209  \n",
       "jointAccount  -0.148768   6.721876  \n",
       "IsBlackListed  0.000000   0.000000  \n",
       "CUS_CLASS     -0.410042  10.972059  \n",
       "ECO_SEC        0.020790  10.290529  \n",
       "TYPE_OF_DEP    0.999946   4.162906  "
      ]
     },
     "execution_count": 45,
     "metadata": {},
     "output_type": "execute_result"
    }
   ],
   "source": [
    "num_columns = X.select_dtypes(include=['int64', 'float64']).columns\n",
    "X[num_columns].describe().T"
   ]
  },
  {
   "cell_type": "code",
   "execution_count": 29,
   "metadata": {},
   "outputs": [
    {
     "data": {
      "image/png": "[encoded data removed]",
      "text/plain": [
       "<Figure size 1440x2160 with 36 Axes>"
      ]
     },
     "metadata": {
      "needs_background": "light"
     },
     "output_type": "display_data"
    }
   ],
   "source": [
    "X.select_dtypes(include=['int64', 'float64']).hist(bins=15, figsize=(20, 30), layout=(6, 6));"
   ]
  },
  {
   "cell_type": "code",
   "execution_count": 47,
   "metadata": {},
   "outputs": [],
   "source": [
    "#Last update can be deleted as it contains only nulls. IsBlacklisted can be deleted as it only contains zero values."
   ]
  },
  {
   "cell_type": "code",
   "execution_count": 48,
   "metadata": {},
   "outputs": [],
   "source": [
    "X.dropna(axis='columns', how='all', inplace=True)"
   ]
  },
  {
   "cell_type": "code",
   "execution_count": 49,
   "metadata": {},
   "outputs": [
    {
     "data": {
      "text/plain": [
       "Index(['status', 'IsBlackListed'], dtype='object')"
      ]
     },
     "execution_count": 49,
     "metadata": {},
     "output_type": "execute_result"
    }
   ],
   "source": [
    "X.columns[X.nunique()==1]"
   ]
  },
  {
   "cell_type": "code",
   "execution_count": 50,
   "metadata": {},
   "outputs": [],
   "source": [
    "X.drop([ 'status', 'IsBlackListed'], axis=1, inplace=True)"
   ]
  },
  {
   "cell_type": "code",
   "execution_count": 51,
   "metadata": {},
   "outputs": [
    {
     "data": {
      "image/png": "[encoded data removed]",
      "text/plain": [
       "<Figure size 1440x2160 with 36 Axes>"
      ]
     },
     "metadata": {
      "needs_background": "light"
     },
     "output_type": "display_data"
    }
   ],
   "source": [
    "X.select_dtypes(include=['int64', 'float64']).hist(bins=15, figsize=(20, 30), layout=(6, 6));"
   ]
  },
  {
   "cell_type": "code",
   "execution_count": 59,
   "metadata": {},
   "outputs": [
    {
     "data": {
      "text/html": [
       "<div>\n",
       "<style scoped>\n",
       "    .dataframe tbody tr th:only-of-type {\n",
       "        vertical-align: middle;\n",
       "    }\n",
       "\n",
       "    .dataframe tbody tr th {\n",
       "        vertical-align: top;\n",
       "    }\n",
       "\n",
       "    .dataframe thead th {\n",
       "        text-align: right;\n",
       "    }\n",
       "</style>\n",
       "<table border=\"1\" class=\"dataframe\">\n",
       "  <thead>\n",
       "    <tr style=\"text-align: right;\">\n",
       "      <th></th>\n",
       "      <th>ledgerCode</th>\n",
       "      <th>accountCurrency</th>\n",
       "      <th>jointAccount</th>\n",
       "      <th>CUS_CLASS</th>\n",
       "      <th>ECO_SEC</th>\n",
       "      <th>TYPE_OF_DEP</th>\n",
       "    </tr>\n",
       "  </thead>\n",
       "  <tbody>\n",
       "    <tr>\n",
       "      <th>0</th>\n",
       "      <td>-0.81923</td>\n",
       "      <td>JOD</td>\n",
       "      <td>-0.148768</td>\n",
       "      <td>-0.410042</td>\n",
       "      <td>0.02079</td>\n",
       "      <td>-1.00111</td>\n",
       "    </tr>\n",
       "  </tbody>\n",
       "</table>\n",
       "</div>"
      ],
      "text/plain": [
       "   ledgerCode accountCurrency  jointAccount  CUS_CLASS  ECO_SEC  TYPE_OF_DEP\n",
       "0    -0.81923             JOD     -0.148768  -0.410042  0.02079     -1.00111"
      ]
     },
     "execution_count": 59,
     "metadata": {},
     "output_type": "execute_result"
    }
   ],
   "source": [
    "X.mode()"
   ]
  },
  {
   "cell_type": "code",
   "execution_count": 56,
   "metadata": {},
   "outputs": [
    {
     "data": {
      "text/plain": [
       "<matplotlib.axes._subplots.AxesSubplot at 0x1eae1ac2e88>"
      ]
     },
     "execution_count": 56,
     "metadata": {},
     "output_type": "execute_result"
    },
    {
     "data": {
      "image/png": "[encoded data removed]",
      "text/plain": [
       "<Figure size 2160x720 with 2 Axes>"
      ]
     },
     "metadata": {
      "needs_background": "light"
     },
     "output_type": "display_data"
    }
   ],
   "source": [
    "corr = X.corr()\n",
    "\n",
    "kot = corr[corr>=.9]\n",
    "plt.figure(figsize=(30,10))\n",
    "sns.heatmap(kot, cmap=\"Greens\")"
   ]
  },
  {
   "cell_type": "code",
   "execution_count": 57,
   "metadata": {},
   "outputs": [],
   "source": [
    "num_columns = X.select_dtypes(include=['int64', 'float64']).columns\n",
    "num_feats = X.loc[:, num_columns]\n",
    "\n",
    "for var in num_columns:\n",
    "    if sum(1*num_feats[var].isnull()):\n",
    "        print(var, 'has missings')\n",
    "        mean_ = cat_feats[var].mean().iloc[0]\n",
    "        num_feats.loc[num_feats[var].isnull(), var] = mean_\n",
    "        num_feats[var+'_missing'] = 1*num_feats[var].isnull()"
   ]
  },
  {
   "cell_type": "code",
   "execution_count": 71,
   "metadata": {},
   "outputs": [
    {
     "data": {
      "text/plain": [
       "<matplotlib.axes._subplots.AxesSubplot at 0x1eadff965c8>"
      ]
     },
     "execution_count": 71,
     "metadata": {},
     "output_type": "execute_result"
    },
    {
     "data": {
      "image/png": "[encoded data removed]",
      "text/plain": [
       "<Figure size 432x288 with 1 Axes>"
      ]
     },
     "metadata": {
      "needs_background": "light"
     },
     "output_type": "display_data"
    }
   ],
   "source": [
    "import seaborn as sns\n",
    "sns.boxplot(y=df['ledgerCode'])"
   ]
  },
  {
   "cell_type": "code",
   "execution_count": 72,
   "metadata": {},
   "outputs": [
    {
     "data": {
      "text/plain": [
       "<matplotlib.axes._subplots.AxesSubplot at 0x1eae0175748>"
      ]
     },
     "execution_count": 72,
     "metadata": {},
     "output_type": "execute_result"
    },
    {
     "data": {
      "image/png": "[encoded data removed]",
      "text/plain": [
       "<Figure size 432x288 with 1 Axes>"
      ]
     },
     "metadata": {
      "needs_background": "light"
     },
     "output_type": "display_data"
    }
   ],
   "source": [
    "import seaborn as sns\n",
    "sns.boxplot(y=df['jointAccount'])"
   ]
  },
  {
   "cell_type": "code",
   "execution_count": 73,
   "metadata": {},
   "outputs": [
    {
     "data": {
      "text/plain": [
       "<matplotlib.axes._subplots.AxesSubplot at 0x1eae01f7848>"
      ]
     },
     "execution_count": 73,
     "metadata": {},
     "output_type": "execute_result"
    },
    {
     "data": {
      "image/png": "[encoded data removed]",
      "text/plain": [
       "<Figure size 432x288 with 1 Axes>"
      ]
     },
     "metadata": {
      "needs_background": "light"
     },
     "output_type": "display_data"
    }
   ],
   "source": [
    "import seaborn as sns\n",
    "sns.boxplot(y=df['CUS_CLASS'])"
   ]
  },
  {
   "cell_type": "code",
   "execution_count": 74,
   "metadata": {},
   "outputs": [
    {
     "data": {
      "text/plain": [
       "<matplotlib.axes._subplots.AxesSubplot at 0x1eae1d33508>"
      ]
     },
     "execution_count": 74,
     "metadata": {},
     "output_type": "execute_result"
    },
    {
     "data": {
      "image/png": "[encoded data removed]",
      "text/plain": [
       "<Figure size 432x288 with 1 Axes>"
      ]
     },
     "metadata": {
      "needs_background": "light"
     },
     "output_type": "display_data"
    }
   ],
   "source": [
    "import seaborn as sns\n",
    "sns.boxplot(y=df['ECO_SEC'])"
   ]
  },
  {
   "cell_type": "code",
   "execution_count": 75,
   "metadata": {},
   "outputs": [
    {
     "data": {
      "text/plain": [
       "<matplotlib.axes._subplots.AxesSubplot at 0x1eae02b8ac8>"
      ]
     },
     "execution_count": 75,
     "metadata": {},
     "output_type": "execute_result"
    },
    {
     "data": {
      "image/png": "[encoded data removed]",
      "text/plain": [
       "<Figure size 432x288 with 1 Axes>"
      ]
     },
     "metadata": {
      "needs_background": "light"
     },
     "output_type": "display_data"
    }
   ],
   "source": [
    "import seaborn as sns\n",
    "sns.boxplot(y=df['TYPE_OF_DEP'])"
   ]
  }
 ],
 "metadata": {
  "kernelspec": {
   "display_name": "Python 3",
   "language": "python",
   "name": "python3"
  },
  "language_info": {
   "codemirror_mode": {
    "name": "ipython",
    "version": 3
   },
   "file_extension": ".py",
   "mimetype": "text/x-python",
   "name": "python",
   "nbconvert_exporter": "python",
   "pygments_lexer": "ipython3",
   "version": "3.7.6"
  }
 },
 "nbformat": 4,
 "nbformat_minor": 4
}
