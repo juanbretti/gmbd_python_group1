{
 "cells": [
  {
   "cell_type": "code",
   "execution_count": 1,
   "metadata": {},
   "outputs": [],
   "source": [
    "# General usage\n",
    "import math\n",
    "import numpy as np\n",
    "import pandas as pd\n",
    "\n",
    "# Preprocessing\n",
    "from sklearn.experimental import enable_iterative_imputer\n",
    "from sklearn.impute import IterativeImputer, SimpleImputer\n",
    "from sklearn.preprocessing import StandardScaler, OneHotEncoder\n",
    "\n",
    "# Modeling\n",
    "from sklearn import datasets, linear_model\n",
    "from sklearn.metrics import mean_squared_error, r2_score\n",
    "from sklearn.metrics import accuracy_score, f1_score, recall_score, matthews_corrcoef, confusion_matrix, precision_score\n",
    "from sklearn.model_selection import train_test_split\n",
    "from sklearn.linear_model import LogisticRegression\n",
    "\n",
    "# https://dateutil.readthedocs.io/en/stable/relativedelta.html\n",
    "from datetime import datetime\n",
    "from dateutil.relativedelta import relativedelta, MO\n",
    "\n",
    "# Plotting\n",
    "import matplotlib.pyplot as plt\n",
    "import seaborn as sns\n",
    "from matplotlib.offsetbox import OffsetImage, AnnotationBbox"
   ]
  },
  {
   "cell_type": "code",
   "execution_count": 3,
   "metadata": {},
   "outputs": [],
   "source": [
    "# df = pd.read_excel('raw/RBA_KYC_Accounts_ALL_Ids.xlsx')\n",
    "df_metadata_countries = pd.read_excel('raw/RBA Metadata.xlsx', sheet_name='COUNTRIES', keep_default_na=False)\n",
    "# df = pd.read_excel('raw/RBA_KYC_Accounts_ALL_Ids.xlsx')\n",
    "df_metadata_countries = pd.read_excel('raw/RBA Metadata.xlsx', sheet_name='COUNTRIES', keep_default_na=False)"
   ]
  },
  {
   "cell_type": "code",
   "execution_count": 2,
   "metadata": {},
   "outputs": [],
   "source": [
    "df = pd.read_pickle('storage/RBA_KYC_Accounts_ALL_Ids.pkl')"
   ]
  },
  {
   "cell_type": "code",
   "execution_count": 7,
   "metadata": {},
   "outputs": [
    {
     "name": "stdout",
     "output_type": "stream",
     "text": [
      "Alex\n",
      "Index(['org_code', 'branchCode', 'customerId', 'fullaccount', 'customerType',\n",
      "       'creationDate', 'onboarding', 'residentStatus', 'residentCountry',\n",
      "       'nationalityOriginal', 'extraNationality'],\n",
      "      dtype='object')\n"
     ]
    }
   ],
   "source": [
    "print('Alex')\n",
    "print(df.columns[0:11])"
   ]
  },
  {
   "cell_type": "code",
   "execution_count": 30,
   "metadata": {},
   "outputs": [],
   "source": [
    "X = df.iloc[:, 0:11]"
   ]
  },
  {
   "cell_type": "code",
   "execution_count": 17,
   "metadata": {},
   "outputs": [
    {
     "data": {
      "text/plain": [
       "Index(['org_code', 'branchCode', 'customerId', 'fullaccount', 'customerType',\n",
       "       'creationDate', 'onboarding', 'residentStatus', 'residentCountry',\n",
       "       'nationalityOriginal', 'extraNationality'],\n",
       "      dtype='object')"
      ]
     },
     "execution_count": 17,
     "metadata": {},
     "output_type": "execute_result"
    }
   ],
   "source": [
    "X.columns"
   ]
  },
  {
   "cell_type": "code",
   "execution_count": 19,
   "metadata": {},
   "outputs": [
    {
     "data": {
      "text/plain": [
       "<bound method NDFrame.describe of         org_code  branchCode         customerId            fullaccount  \\\n",
       "0              1         201  20100400550000072  020100400550015817000   \n",
       "1              1         202  20200207860000638  020200207860011330000   \n",
       "2              1         202  20200207860000638  020200207860011389002   \n",
       "3              1         202  20200207860000638  020200207860010060000   \n",
       "4              1         202  20200207860000638  020200207860010010000   \n",
       "...          ...         ...                ...                    ...   \n",
       "224863         1         404  40400811920003507  040400811920010020000   \n",
       "224864         1         202  20200577640010547  020200577640015300042   \n",
       "224865         1         502  50220271300005255  050220271300012980002   \n",
       "224866         1         704  70424500690004664  070424500690011396000   \n",
       "224867         1         209  20900444790003021  020900444790011396000   \n",
       "\n",
       "        customerType creationDate onboarding  residentStatus residentCountry  \\\n",
       "0                  2   2015-04-05          N               1              JO   \n",
       "1                  1   2013-09-17          N               1              JO   \n",
       "2                  1   2013-09-17          N               1              JO   \n",
       "3                  1   2013-09-17          N               1              JO   \n",
       "4                  1   2013-09-17          N               1              JO   \n",
       "...              ...          ...        ...             ...             ...   \n",
       "224863             1   2017-10-22          N               1              JO   \n",
       "224864             2   2004-07-27          N               1              JO   \n",
       "224865             1   2000-08-23          N               1              JO   \n",
       "224866             1   2008-01-16          N               1              JO   \n",
       "224867             1   2015-10-14          N               1              JO   \n",
       "\n",
       "       nationalityOriginal extraNationality  \n",
       "0                       JO              NaN  \n",
       "1                       JO              NaN  \n",
       "2                       JO              NaN  \n",
       "3                       JO              NaN  \n",
       "4                       JO              NaN  \n",
       "...                    ...              ...  \n",
       "224863                  JO              NaN  \n",
       "224864                  JO              NaN  \n",
       "224865                  JO              NaN  \n",
       "224866                  JO              NaN  \n",
       "224867                  JO              NaN  \n",
       "\n",
       "[224868 rows x 11 columns]>"
      ]
     },
     "execution_count": 19,
     "metadata": {},
     "output_type": "execute_result"
    }
   ],
   "source": [
    "X.describe"
   ]
  },
  {
   "cell_type": "code",
   "execution_count": 20,
   "metadata": {},
   "outputs": [
    {
     "data": {
      "text/plain": [
       "org_code                0.000000\n",
       "branchCode              0.000000\n",
       "customerId              0.000000\n",
       "fullaccount             0.000000\n",
       "customerType            0.000000\n",
       "creationDate            0.000000\n",
       "onboarding              0.000000\n",
       "residentStatus          0.000000\n",
       "residentCountry         0.265044\n",
       "nationalityOriginal     1.529342\n",
       "extraNationality       99.202643\n",
       "dtype: float64"
      ]
     },
     "execution_count": 20,
     "metadata": {},
     "output_type": "execute_result"
    }
   ],
   "source": [
    "100*X.isnull().sum()/X.isnull().count()"
   ]
  },
  {
   "cell_type": "code",
   "execution_count": 26,
   "metadata": {},
   "outputs": [
    {
     "data": {
      "text/plain": [
       "org_code                    1\n",
       "branchCode                 30\n",
       "customerId              75339\n",
       "fullaccount            220434\n",
       "customerType                2\n",
       "creationDate             7041\n",
       "onboarding                  2\n",
       "residentStatus              2\n",
       "residentCountry            62\n",
       "nationalityOriginal        67\n",
       "extraNationality           35\n",
       "dtype: int64"
      ]
     },
     "execution_count": 26,
     "metadata": {},
     "output_type": "execute_result"
    }
   ],
   "source": [
    "X.nunique()"
   ]
  },
  {
   "cell_type": "markdown",
   "metadata": {},
   "source": [
    "### Columns org_code should be removed no added value"
   ]
  },
  {
   "cell_type": "code",
   "execution_count": 31,
   "metadata": {},
   "outputs": [],
   "source": [
    "X.drop(['org_code'], axis=1, inplace = True)"
   ]
  },
  {
   "cell_type": "code",
   "execution_count": 32,
   "metadata": {},
   "outputs": [
    {
     "data": {
      "text/plain": [
       "branchCode                 30\n",
       "customerId              75339\n",
       "fullaccount            220434\n",
       "customerType                2\n",
       "creationDate             7041\n",
       "onboarding                  2\n",
       "residentStatus              2\n",
       "residentCountry            62\n",
       "nationalityOriginal        67\n",
       "extraNationality           35\n",
       "dtype: int64"
      ]
     },
     "execution_count": 32,
     "metadata": {},
     "output_type": "execute_result"
    }
   ],
   "source": [
    "X.nunique()"
   ]
  },
  {
   "cell_type": "markdown",
   "metadata": {},
   "source": [
    "### We must keep extraNationality  even if it is 99% NA it is providing additional information. We need to remove the missing values in residentCountry and nationalityOriginal"
   ]
  },
  {
   "cell_type": "code",
   "execution_count": 34,
   "metadata": {},
   "outputs": [],
   "source": [
    "# just for the analysis i remove extraNationality\n",
    "X.drop(['extraNationality'], axis=1, inplace = True)"
   ]
  },
  {
   "cell_type": "code",
   "execution_count": 35,
   "metadata": {},
   "outputs": [
    {
     "data": {
      "text/html": [
       "<div>\n",
       "<style scoped>\n",
       "    .dataframe tbody tr th:only-of-type {\n",
       "        vertical-align: middle;\n",
       "    }\n",
       "\n",
       "    .dataframe tbody tr th {\n",
       "        vertical-align: top;\n",
       "    }\n",
       "\n",
       "    .dataframe thead th {\n",
       "        text-align: right;\n",
       "    }\n",
       "</style>\n",
       "<table border=\"1\" class=\"dataframe\">\n",
       "  <thead>\n",
       "    <tr style=\"text-align: right;\">\n",
       "      <th></th>\n",
       "      <th>branchCode</th>\n",
       "      <th>customerId</th>\n",
       "      <th>fullaccount</th>\n",
       "      <th>customerType</th>\n",
       "      <th>creationDate</th>\n",
       "      <th>onboarding</th>\n",
       "      <th>residentStatus</th>\n",
       "      <th>residentCountry</th>\n",
       "      <th>nationalityOriginal</th>\n",
       "    </tr>\n",
       "  </thead>\n",
       "  <tbody>\n",
       "    <tr>\n",
       "      <th>0</th>\n",
       "      <td>201</td>\n",
       "      <td>20100400550000072</td>\n",
       "      <td>020100400550015817000</td>\n",
       "      <td>2</td>\n",
       "      <td>2015-04-05</td>\n",
       "      <td>N</td>\n",
       "      <td>1</td>\n",
       "      <td>JO</td>\n",
       "      <td>JO</td>\n",
       "    </tr>\n",
       "    <tr>\n",
       "      <th>1</th>\n",
       "      <td>202</td>\n",
       "      <td>20200207860000638</td>\n",
       "      <td>020200207860011330000</td>\n",
       "      <td>1</td>\n",
       "      <td>2013-09-17</td>\n",
       "      <td>N</td>\n",
       "      <td>1</td>\n",
       "      <td>JO</td>\n",
       "      <td>JO</td>\n",
       "    </tr>\n",
       "    <tr>\n",
       "      <th>2</th>\n",
       "      <td>202</td>\n",
       "      <td>20200207860000638</td>\n",
       "      <td>020200207860011389002</td>\n",
       "      <td>1</td>\n",
       "      <td>2013-09-17</td>\n",
       "      <td>N</td>\n",
       "      <td>1</td>\n",
       "      <td>JO</td>\n",
       "      <td>JO</td>\n",
       "    </tr>\n",
       "    <tr>\n",
       "      <th>3</th>\n",
       "      <td>202</td>\n",
       "      <td>20200207860000638</td>\n",
       "      <td>020200207860010060000</td>\n",
       "      <td>1</td>\n",
       "      <td>2013-09-17</td>\n",
       "      <td>N</td>\n",
       "      <td>1</td>\n",
       "      <td>JO</td>\n",
       "      <td>JO</td>\n",
       "    </tr>\n",
       "    <tr>\n",
       "      <th>4</th>\n",
       "      <td>202</td>\n",
       "      <td>20200207860000638</td>\n",
       "      <td>020200207860010010000</td>\n",
       "      <td>1</td>\n",
       "      <td>2013-09-17</td>\n",
       "      <td>N</td>\n",
       "      <td>1</td>\n",
       "      <td>JO</td>\n",
       "      <td>JO</td>\n",
       "    </tr>\n",
       "    <tr>\n",
       "      <th>...</th>\n",
       "      <td>...</td>\n",
       "      <td>...</td>\n",
       "      <td>...</td>\n",
       "      <td>...</td>\n",
       "      <td>...</td>\n",
       "      <td>...</td>\n",
       "      <td>...</td>\n",
       "      <td>...</td>\n",
       "      <td>...</td>\n",
       "    </tr>\n",
       "    <tr>\n",
       "      <th>224863</th>\n",
       "      <td>404</td>\n",
       "      <td>40400811920003507</td>\n",
       "      <td>040400811920010020000</td>\n",
       "      <td>1</td>\n",
       "      <td>2017-10-22</td>\n",
       "      <td>N</td>\n",
       "      <td>1</td>\n",
       "      <td>JO</td>\n",
       "      <td>JO</td>\n",
       "    </tr>\n",
       "    <tr>\n",
       "      <th>224864</th>\n",
       "      <td>202</td>\n",
       "      <td>20200577640010547</td>\n",
       "      <td>020200577640015300042</td>\n",
       "      <td>2</td>\n",
       "      <td>2004-07-27</td>\n",
       "      <td>N</td>\n",
       "      <td>1</td>\n",
       "      <td>JO</td>\n",
       "      <td>JO</td>\n",
       "    </tr>\n",
       "    <tr>\n",
       "      <th>224865</th>\n",
       "      <td>502</td>\n",
       "      <td>50220271300005255</td>\n",
       "      <td>050220271300012980002</td>\n",
       "      <td>1</td>\n",
       "      <td>2000-08-23</td>\n",
       "      <td>N</td>\n",
       "      <td>1</td>\n",
       "      <td>JO</td>\n",
       "      <td>JO</td>\n",
       "    </tr>\n",
       "    <tr>\n",
       "      <th>224866</th>\n",
       "      <td>704</td>\n",
       "      <td>70424500690004664</td>\n",
       "      <td>070424500690011396000</td>\n",
       "      <td>1</td>\n",
       "      <td>2008-01-16</td>\n",
       "      <td>N</td>\n",
       "      <td>1</td>\n",
       "      <td>JO</td>\n",
       "      <td>JO</td>\n",
       "    </tr>\n",
       "    <tr>\n",
       "      <th>224867</th>\n",
       "      <td>209</td>\n",
       "      <td>20900444790003021</td>\n",
       "      <td>020900444790011396000</td>\n",
       "      <td>1</td>\n",
       "      <td>2015-10-14</td>\n",
       "      <td>N</td>\n",
       "      <td>1</td>\n",
       "      <td>JO</td>\n",
       "      <td>JO</td>\n",
       "    </tr>\n",
       "  </tbody>\n",
       "</table>\n",
       "<p>221361 rows × 9 columns</p>\n",
       "</div>"
      ],
      "text/plain": [
       "        branchCode         customerId            fullaccount  customerType  \\\n",
       "0              201  20100400550000072  020100400550015817000             2   \n",
       "1              202  20200207860000638  020200207860011330000             1   \n",
       "2              202  20200207860000638  020200207860011389002             1   \n",
       "3              202  20200207860000638  020200207860010060000             1   \n",
       "4              202  20200207860000638  020200207860010010000             1   \n",
       "...            ...                ...                    ...           ...   \n",
       "224863         404  40400811920003507  040400811920010020000             1   \n",
       "224864         202  20200577640010547  020200577640015300042             2   \n",
       "224865         502  50220271300005255  050220271300012980002             1   \n",
       "224866         704  70424500690004664  070424500690011396000             1   \n",
       "224867         209  20900444790003021  020900444790011396000             1   \n",
       "\n",
       "       creationDate onboarding  residentStatus residentCountry  \\\n",
       "0        2015-04-05          N               1              JO   \n",
       "1        2013-09-17          N               1              JO   \n",
       "2        2013-09-17          N               1              JO   \n",
       "3        2013-09-17          N               1              JO   \n",
       "4        2013-09-17          N               1              JO   \n",
       "...             ...        ...             ...             ...   \n",
       "224863   2017-10-22          N               1              JO   \n",
       "224864   2004-07-27          N               1              JO   \n",
       "224865   2000-08-23          N               1              JO   \n",
       "224866   2008-01-16          N               1              JO   \n",
       "224867   2015-10-14          N               1              JO   \n",
       "\n",
       "       nationalityOriginal  \n",
       "0                       JO  \n",
       "1                       JO  \n",
       "2                       JO  \n",
       "3                       JO  \n",
       "4                       JO  \n",
       "...                    ...  \n",
       "224863                  JO  \n",
       "224864                  JO  \n",
       "224865                  JO  \n",
       "224866                  JO  \n",
       "224867                  JO  \n",
       "\n",
       "[221361 rows x 9 columns]"
      ]
     },
     "execution_count": 35,
     "metadata": {},
     "output_type": "execute_result"
    }
   ],
   "source": [
    "X.dropna()"
   ]
  },
  {
   "cell_type": "code",
   "execution_count": 36,
   "metadata": {},
   "outputs": [
    {
     "data": {
      "image/png": "[encoded data removed]",
      "text/plain": [
       "<Figure size 1440x2160 with 36 Axes>"
      ]
     },
     "metadata": {
      "needs_background": "light"
     },
     "output_type": "display_data"
    }
   ],
   "source": [
    "X.select_dtypes(include=['int64', 'float64']).hist(bins=15, figsize=(20, 30), layout=(6, 6));"
   ]
  },
  {
   "cell_type": "code",
   "execution_count": 38,
   "metadata": {},
   "outputs": [
    {
     "data": {
      "text/html": [
       "<div>\n",
       "<style scoped>\n",
       "    .dataframe tbody tr th:only-of-type {\n",
       "        vertical-align: middle;\n",
       "    }\n",
       "\n",
       "    .dataframe tbody tr th {\n",
       "        vertical-align: top;\n",
       "    }\n",
       "\n",
       "    .dataframe thead th {\n",
       "        text-align: right;\n",
       "    }\n",
       "</style>\n",
       "<table border=\"1\" class=\"dataframe\">\n",
       "  <thead>\n",
       "    <tr style=\"text-align: right;\">\n",
       "      <th></th>\n",
       "      <th>branchCode</th>\n",
       "      <th>customerId</th>\n",
       "      <th>fullaccount</th>\n",
       "      <th>customerType</th>\n",
       "      <th>creationDate</th>\n",
       "      <th>onboarding</th>\n",
       "      <th>residentStatus</th>\n",
       "      <th>residentCountry</th>\n",
       "      <th>nationalityOriginal</th>\n",
       "    </tr>\n",
       "  </thead>\n",
       "  <tbody>\n",
       "    <tr>\n",
       "      <th>0</th>\n",
       "      <td>202</td>\n",
       "      <td>30205511090005696</td>\n",
       "      <td>020902507770010010000</td>\n",
       "      <td>1</td>\n",
       "      <td>2013-11-20</td>\n",
       "      <td>N</td>\n",
       "      <td>1</td>\n",
       "      <td>JO</td>\n",
       "      <td>JO</td>\n",
       "    </tr>\n",
       "  </tbody>\n",
       "</table>\n",
       "</div>"
      ],
      "text/plain": [
       "   branchCode         customerId            fullaccount  customerType  \\\n",
       "0         202  30205511090005696  020902507770010010000             1   \n",
       "\n",
       "  creationDate onboarding  residentStatus residentCountry nationalityOriginal  \n",
       "0   2013-11-20          N               1              JO                  JO  "
      ]
     },
     "execution_count": 38,
     "metadata": {},
     "output_type": "execute_result"
    }
   ],
   "source": [
    "X.mode()"
   ]
  },
  {
   "cell_type": "code",
   "execution_count": 39,
   "metadata": {},
   "outputs": [
    {
     "data": {
      "text/plain": [
       "<AxesSubplot:>"
      ]
     },
     "execution_count": 39,
     "metadata": {},
     "output_type": "execute_result"
    },
    {
     "data": {
      "image/png": "[encoded data removed]",
      "text/plain": [
       "<Figure size 2160x720 with 2 Axes>"
      ]
     },
     "metadata": {
      "needs_background": "light"
     },
     "output_type": "display_data"
    }
   ],
   "source": [
    "corr = X.corr()\n",
    "\n",
    "kot = corr[corr>=.9]\n",
    "plt.figure(figsize=(30,10))\n",
    "sns.heatmap(kot, cmap=\"Greens\")"
   ]
  },
  {
   "cell_type": "markdown",
   "metadata": {},
   "source": [
    "### The columns are highly correlated"
   ]
  },
  {
   "cell_type": "code",
   "execution_count": 40,
   "metadata": {},
   "outputs": [],
   "source": [
    "num_columns = X.select_dtypes(include=['int64', 'float64']).columns\n",
    "num_feats = X.loc[:, num_columns]\n",
    "\n",
    "for var in num_columns:\n",
    "    if sum(1*num_feats[var].isnull()):\n",
    "        print(var, 'has missings')\n",
    "        mean_ = cat_feats[var].mean().iloc[0]\n",
    "        num_feats.loc[num_feats[var].isnull(), var] = mean_\n",
    "        num_feats[var+'_missing'] = 1*num_feats[var].isnull()"
   ]
  },
  {
   "cell_type": "code",
   "execution_count": 41,
   "metadata": {},
   "outputs": [
    {
     "data": {
      "text/plain": [
       "<AxesSubplot:ylabel='branchCode'>"
      ]
     },
     "execution_count": 41,
     "metadata": {},
     "output_type": "execute_result"
    },
    {
     "data": {
      "image/png": "[encoded data removed]",
      "text/plain": [
       "<Figure size 432x288 with 1 Axes>"
      ]
     },
     "metadata": {
      "needs_background": "light"
     },
     "output_type": "display_data"
    }
   ],
   "source": [
    "import seaborn as sns\n",
    "sns.boxplot(y=df['branchCode'])"
   ]
  },
  {
   "cell_type": "code",
   "execution_count": 42,
   "metadata": {},
   "outputs": [
    {
     "data": {
      "text/plain": [
       "<AxesSubplot:ylabel='customerId'>"
      ]
     },
     "execution_count": 42,
     "metadata": {},
     "output_type": "execute_result"
    },
    {
     "data": {
      "image/png": "[encoded data removed]",
      "text/plain": [
       "<Figure size 432x288 with 1 Axes>"
      ]
     },
     "metadata": {
      "needs_background": "light"
     },
     "output_type": "display_data"
    }
   ],
   "source": [
    "sns.boxplot(y=df['customerId'])"
   ]
  }
 ],
 "metadata": {
  "kernelspec": {
   "display_name": "Python 3",
   "language": "python",
   "name": "python3"
  },
  "language_info": {
   "codemirror_mode": {
    "name": "ipython",
    "version": 3
   },
   "file_extension": ".py",
   "mimetype": "text/x-python",
   "name": "python",
   "nbconvert_exporter": "python",
   "pygments_lexer": "ipython3",
   "version": "3.7.6"
  }
 },
 "nbformat": 4,
 "nbformat_minor": 4
}
