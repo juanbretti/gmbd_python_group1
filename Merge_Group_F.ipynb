{
 "cells": [
  {
   "cell_type": "markdown",
   "metadata": {},
   "source": [
    "# Introduction\n",
    "\n",
    "A quick explanation of Pandas, Matplotlib and Sklearn, specially including their histories. (less than a minute)\n",
    "https://medium.com/personal-project/numpy-pandas-and-scikit-learn-explained-e7336baecedc\n",
    "\n",
    "## Pandas\n",
    "https://en.wikipedia.org/wiki/Pandas_(software)#History\n",
    "Developer Wes McKinney started working on pandas in 2008 while at AQR Capital Management out of the need for a high performance, flexible tool to perform quantitative analysis on financial data. Before leaving AQR he was able to convince management to allow him to open source the library.\n",
    "Another AQR employee, Chang She, joined the effort in 2012 as the second major contributor to the library.\n",
    "In 2015, pandas signed on as a fiscally sponsored project of NumFOCUS, a 501(c)(3) nonprofit charity in the United States.[10]\n",
    "\n",
    "Intro: https://www.youtube.com/watch?v=XDAnFZqJDvI\n",
    "\n",
    "## Matplotlib\n",
    "https://en.wikipedia.org/wiki/Matplotlib\n",
    "Matplotlib was originally written by John D. Hunter, since then it has an active development community,[4] and is distributed under a BSD-style license. Michael Droettboom was nominated as matplotlib's lead developer shortly before John Hunter's death in August 2012,[5] and further joined by Thomas Caswell.[6][7]\n",
    "\n",
    "\n",
    "## Sklearn\n",
    "https://en.wikipedia.org/wiki/Scikit-learn\n",
    "The scikit-learn project started as scikits.learn, a Google Summer of Code project by David Cournapeau. Its name stems from the notion that it is a \"SciKit\" (SciPy Toolkit), a separately-developed and distributed third-party extension to SciPy.[4] The original codebase was later rewritten by other developers. In 2010 Fabian Pedregosa, Gael Varoquaux, Alexandre Gramfort and Vincent Michel, all from the French Institute for Research in Computer Science and Automation in Rocquencourt, France, took leadership of the project and made the first public release on February the 1st 2010.[5] Of the various scikits, scikit-learn as well as scikit-image were described as \"well-maintained and popular\" in November 2012.[6] Scikit-learn is one of the most popular machine learning libraries on GitHub.[7].\n",
    "\n",
    "Intro: https://www.youtube.com/watch?v=rvVkVsG49uU"
   ]
  },
  {
   "cell_type": "markdown",
   "metadata": {
    "pycharm": {
     "name": "#%% md\n"
    }
   },
   "source": [
    "## Loading libraries"
   ]
  },
  {
   "cell_type": "code",
   "execution_count": 87,
   "metadata": {},
   "outputs": [],
   "source": [
    "# General usage\n",
    "import math\n",
    "import numpy as np\n",
    "import pandas as pd\n",
    "\n",
    "# Reporting\n",
    "from pandas_profiling import ProfileReport\n",
    "\n",
    "# Preprocessing\n",
    "from sklearn.experimental import enable_iterative_imputer\n",
    "from sklearn.impute import IterativeImputer, SimpleImputer\n",
    "from sklearn.preprocessing import StandardScaler, OneHotEncoder\n",
    "\n",
    "# Modeling\n",
    "from sklearn import datasets, linear_model\n",
    "from sklearn.metrics import mean_squared_error, r2_score\n",
    "from sklearn.metrics import accuracy_score, f1_score, recall_score, matthews_corrcoef, confusion_matrix, precision_score\n",
    "from sklearn.model_selection import train_test_split\n",
    "from sklearn.linear_model import LogisticRegression\n",
    "\n",
    "# https://dateutil.readthedocs.io/en/stable/relativedelta.html\n",
    "from datetime import datetime\n",
    "from dateutil.relativedelta import relativedelta, MO\n",
    "\n",
    "# Plotting\n",
    "import matplotlib.pyplot as plt\n",
    "import seaborn as sns\n",
    "from matplotlib.offsetbox import OffsetImage, AnnotationBbox"
   ]
  },
  {
   "cell_type": "markdown",
   "metadata": {},
   "source": [
    "## Importing the database: RBA_KYC_Accounts_ALL_Ids.xlsx\n",
    "Read source data from the Excel files"
   ]
  },
  {
   "cell_type": "code",
   "execution_count": 2,
   "metadata": {},
   "outputs": [],
   "source": [
    "# df = pd.read_excel('raw/RBA_KYC_Accounts_ALL_Ids.xlsx')\n",
    "df_metadata_countries = pd.read_excel('raw/RBA Metadata.xlsx', sheet_name='COUNTRIES', keep_default_na=False)"
   ]
  },
  {
   "cell_type": "markdown",
   "metadata": {
    "pycharm": {
     "name": "#%% md\n"
    }
   },
   "source": [
    "For speed, we store the Excel file in a Pickle.\n",
    "https://stackoverflow.com/a/17098736/3780957"
   ]
  },
  {
   "cell_type": "code",
   "execution_count": 3,
   "metadata": {},
   "outputs": [],
   "source": [
    "# df.to_pickle('storage\\RBA_KYC_Accounts_ALL_Ids.pkl')\n",
    "df = pd.read_pickle('storage/RBA_KYC_Accounts_ALL_Ids.pkl')"
   ]
  },
  {
   "cell_type": "markdown",
   "metadata": {
    "pycharm": {
     "name": "#%% md\n"
    }
   },
   "source": [
    "Merge data frames to have the complete country name.\n",
    "https://pandas.pydata.org/pandas-docs/stable/reference/api/pandas.merge.html#pandas.merge"
   ]
  },
  {
   "cell_type": "code",
   "execution_count": 4,
   "metadata": {
    "collapsed": false,
    "jupyter": {
     "outputs_hidden": false
    },
    "pycharm": {
     "name": "#%%\n"
    }
   },
   "outputs": [],
   "source": [
    "df_metadata_countries['CountryName'] = df_metadata_countries['DescriptionENG']\n",
    "for x in ['residentCountry', 'nationalityOriginal', 'extraNationality']:\n",
    "    country_x = 'CountryName_{}'.format(x)\n",
    "    df_metadata_countries[country_x] = df_metadata_countries['DescriptionENG']\n",
    "    df = df.merge(df_metadata_countries[['value', country_x]], left_on=x, right_on='value', how='left')\n",
    "    df.drop('value', axis=1, inplace=True)"
   ]
  },
  {
   "cell_type": "markdown",
   "metadata": {
    "pycharm": {
     "name": "#%% md\n"
    }
   },
   "source": [
    "Rename column"
   ]
  },
  {
   "cell_type": "code",
   "execution_count": 5,
   "metadata": {},
   "outputs": [],
   "source": [
    "df['Risk_Description'] = df['rba_grade_desc']\n",
    "df.drop(['rba_grade_desc'], axis = 1, inplace = True) "
   ]
  },
  {
   "cell_type": "markdown",
   "metadata": {},
   "source": [
    "Datetime conversion"
   ]
  },
  {
   "cell_type": "code",
   "execution_count": 6,
   "metadata": {
    "collapsed": false,
    "jupyter": {
     "outputs_hidden": false
    },
    "pycharm": {
     "name": "#%%\n"
    }
   },
   "outputs": [],
   "source": [
    "df['creationDate'] = df['creationDate'].astype('datetime64[ns]')\n",
    "df['dateOfBirth'] = df['dateOfBirth'].astype('datetime64[ns]')\n",
    "df['date_of_assessment'] = df['date_of_assessment'].astype('datetime64[ns]')"
   ]
  },
  {
   "cell_type": "markdown",
   "metadata": {},
   "source": [
    "Creating the variable `creationDate_indays`"
   ]
  },
  {
   "cell_type": "code",
   "execution_count": 7,
   "metadata": {},
   "outputs": [
    {
     "data": {
      "text/plain": [
       "0   1295 days\n",
       "1   1860 days\n",
       "2   1860 days\n",
       "3   1860 days\n",
       "4   1860 days\n",
       "Name: creationDate_indays, dtype: timedelta64[ns]"
      ]
     },
     "execution_count": 7,
     "metadata": {},
     "output_type": "execute_result"
    }
   ],
   "source": [
    "df['creationDate_indays'] = df['creationDate'].max()-df['creationDate']\n",
    "df['creationDate_indays'].head()"
   ]
  },
  {
   "cell_type": "markdown",
   "metadata": {},
   "source": [
    "Creating the variable `dateOfBirth`"
   ]
  },
  {
   "cell_type": "code",
   "execution_count": 8,
   "metadata": {},
   "outputs": [],
   "source": [
    "def f(end):\n",
    "    global max_date\n",
    "    try:\n",
    "        r = relativedelta(max_date, end) \n",
    "        return(r.years)\n",
    "    except:\n",
    "        return(0)\n",
    "\n",
    "max_date = df['dateOfBirth'].max()\n",
    "df['age'] = df['dateOfBirth'].apply(f)"
   ]
  },
  {
   "cell_type": "markdown",
   "metadata": {},
   "source": [
    "# Quick statistics"
   ]
  },
  {
   "cell_type": "markdown",
   "metadata": {
    "pycharm": {
     "name": "#%% md\n"
    }
   },
   "source": [
    "Using default *pandas.DataFrame.describe()*"
   ]
  },
  {
   "cell_type": "code",
   "execution_count": 9,
   "metadata": {
    "collapsed": false,
    "jupyter": {
     "outputs_hidden": false
    },
    "pycharm": {
     "name": "#%%\n"
    }
   },
   "outputs": [
    {
     "data": {
      "text/html": [
       "<div>\n",
       "<style scoped>\n",
       "    .dataframe tbody tr th:only-of-type {\n",
       "        vertical-align: middle;\n",
       "    }\n",
       "\n",
       "    .dataframe tbody tr th {\n",
       "        vertical-align: top;\n",
       "    }\n",
       "\n",
       "    .dataframe thead th {\n",
       "        text-align: right;\n",
       "    }\n",
       "</style>\n",
       "<table border=\"1\" class=\"dataframe\">\n",
       "  <thead>\n",
       "    <tr style=\"text-align: right;\">\n",
       "      <th></th>\n",
       "      <th>org_code</th>\n",
       "      <th>branchCode</th>\n",
       "      <th>customerId</th>\n",
       "      <th>customerType</th>\n",
       "      <th>residentStatus</th>\n",
       "      <th>age_in_year</th>\n",
       "      <th>birthCountry</th>\n",
       "      <th>profession</th>\n",
       "      <th>companyType</th>\n",
       "      <th>lastUpdate</th>\n",
       "      <th>...</th>\n",
       "      <th>number_of_deposit_90_days</th>\n",
       "      <th>avg_of_dep_90_days</th>\n",
       "      <th>number_of_cash_wd_90_days</th>\n",
       "      <th>avg_of_cash_wd_90_days</th>\n",
       "      <th>number_of_wd_90_days</th>\n",
       "      <th>avg_of_wd_90_days</th>\n",
       "      <th>score_card_Desc</th>\n",
       "      <th>rbaValue</th>\n",
       "      <th>creationDate_indays</th>\n",
       "      <th>age</th>\n",
       "    </tr>\n",
       "  </thead>\n",
       "  <tbody>\n",
       "    <tr>\n",
       "      <th>count</th>\n",
       "      <td>224868.0</td>\n",
       "      <td>224868.000000</td>\n",
       "      <td>2.248680e+05</td>\n",
       "      <td>224868.000000</td>\n",
       "      <td>224868.000000</td>\n",
       "      <td>220153.000000</td>\n",
       "      <td>0.0</td>\n",
       "      <td>79748.000000</td>\n",
       "      <td>114574.000000</td>\n",
       "      <td>0.0</td>\n",
       "      <td>...</td>\n",
       "      <td>224868.000000</td>\n",
       "      <td>2.248680e+05</td>\n",
       "      <td>224868.000000</td>\n",
       "      <td>2.248680e+05</td>\n",
       "      <td>224868.000000</td>\n",
       "      <td>2.248680e+05</td>\n",
       "      <td>0.0</td>\n",
       "      <td>224868.000000</td>\n",
       "      <td>224868</td>\n",
       "      <td>224868.000000</td>\n",
       "    </tr>\n",
       "    <tr>\n",
       "      <th>mean</th>\n",
       "      <td>1.0</td>\n",
       "      <td>448.451323</td>\n",
       "      <td>4.394503e+16</td>\n",
       "      <td>1.114418</td>\n",
       "      <td>1.021221</td>\n",
       "      <td>41.310575</td>\n",
       "      <td>NaN</td>\n",
       "      <td>18.309487</td>\n",
       "      <td>49.857577</td>\n",
       "      <td>NaN</td>\n",
       "      <td>...</td>\n",
       "      <td>1.131437</td>\n",
       "      <td>-3.540383e+03</td>\n",
       "      <td>0.254305</td>\n",
       "      <td>4.763851e+02</td>\n",
       "      <td>0.868518</td>\n",
       "      <td>2.450953e+03</td>\n",
       "      <td>NaN</td>\n",
       "      <td>17.624194</td>\n",
       "      <td>2419 days 01:19:10.178785</td>\n",
       "      <td>39.279640</td>\n",
       "    </tr>\n",
       "    <tr>\n",
       "      <th>std</th>\n",
       "      <td>0.0</td>\n",
       "      <td>228.193308</td>\n",
       "      <td>2.349321e+16</td>\n",
       "      <td>0.318319</td>\n",
       "      <td>0.144122</td>\n",
       "      <td>16.000536</td>\n",
       "      <td>NaN</td>\n",
       "      <td>6.586481</td>\n",
       "      <td>6.736115</td>\n",
       "      <td>NaN</td>\n",
       "      <td>...</td>\n",
       "      <td>19.713739</td>\n",
       "      <td>9.151602e+04</td>\n",
       "      <td>1.175586</td>\n",
       "      <td>2.028110e+04</td>\n",
       "      <td>12.373992</td>\n",
       "      <td>5.819818e+04</td>\n",
       "      <td>NaN</td>\n",
       "      <td>8.368345</td>\n",
       "      <td>2410 days 07:14:32.396639</td>\n",
       "      <td>16.859899</td>\n",
       "    </tr>\n",
       "    <tr>\n",
       "      <th>min</th>\n",
       "      <td>1.0</td>\n",
       "      <td>201.000000</td>\n",
       "      <td>2.020028e+09</td>\n",
       "      <td>1.000000</td>\n",
       "      <td>1.000000</td>\n",
       "      <td>1.000000</td>\n",
       "      <td>NaN</td>\n",
       "      <td>1.000000</td>\n",
       "      <td>1.000000</td>\n",
       "      <td>NaN</td>\n",
       "      <td>...</td>\n",
       "      <td>0.000000</td>\n",
       "      <td>-1.654371e+07</td>\n",
       "      <td>0.000000</td>\n",
       "      <td>0.000000e+00</td>\n",
       "      <td>0.000000</td>\n",
       "      <td>0.000000e+00</td>\n",
       "      <td>NaN</td>\n",
       "      <td>4.080000</td>\n",
       "      <td>0 days 00:00:00</td>\n",
       "      <td>0.000000</td>\n",
       "    </tr>\n",
       "    <tr>\n",
       "      <th>25%</th>\n",
       "      <td>1.0</td>\n",
       "      <td>208.000000</td>\n",
       "      <td>2.070207e+16</td>\n",
       "      <td>1.000000</td>\n",
       "      <td>1.000000</td>\n",
       "      <td>31.000000</td>\n",
       "      <td>NaN</td>\n",
       "      <td>20.000000</td>\n",
       "      <td>51.000000</td>\n",
       "      <td>NaN</td>\n",
       "      <td>...</td>\n",
       "      <td>0.000000</td>\n",
       "      <td>0.000000e+00</td>\n",
       "      <td>0.000000</td>\n",
       "      <td>0.000000e+00</td>\n",
       "      <td>0.000000</td>\n",
       "      <td>0.000000e+00</td>\n",
       "      <td>NaN</td>\n",
       "      <td>13.330000</td>\n",
       "      <td>731 days 00:00:00</td>\n",
       "      <td>29.000000</td>\n",
       "    </tr>\n",
       "    <tr>\n",
       "      <th>50%</th>\n",
       "      <td>1.0</td>\n",
       "      <td>401.000000</td>\n",
       "      <td>4.011205e+16</td>\n",
       "      <td>1.000000</td>\n",
       "      <td>1.000000</td>\n",
       "      <td>41.000000</td>\n",
       "      <td>NaN</td>\n",
       "      <td>20.000000</td>\n",
       "      <td>51.000000</td>\n",
       "      <td>NaN</td>\n",
       "      <td>...</td>\n",
       "      <td>0.000000</td>\n",
       "      <td>0.000000e+00</td>\n",
       "      <td>0.000000</td>\n",
       "      <td>0.000000e+00</td>\n",
       "      <td>0.000000</td>\n",
       "      <td>0.000000e+00</td>\n",
       "      <td>NaN</td>\n",
       "      <td>16.530000</td>\n",
       "      <td>1739 days 00:00:00</td>\n",
       "      <td>39.000000</td>\n",
       "    </tr>\n",
       "    <tr>\n",
       "      <th>75%</th>\n",
       "      <td>1.0</td>\n",
       "      <td>701.000000</td>\n",
       "      <td>7.012410e+16</td>\n",
       "      <td>1.000000</td>\n",
       "      <td>1.000000</td>\n",
       "      <td>52.000000</td>\n",
       "      <td>NaN</td>\n",
       "      <td>21.000000</td>\n",
       "      <td>51.000000</td>\n",
       "      <td>NaN</td>\n",
       "      <td>...</td>\n",
       "      <td>0.000000</td>\n",
       "      <td>0.000000e+00</td>\n",
       "      <td>0.000000</td>\n",
       "      <td>0.000000e+00</td>\n",
       "      <td>0.000000</td>\n",
       "      <td>0.000000e+00</td>\n",
       "      <td>NaN</td>\n",
       "      <td>21.330000</td>\n",
       "      <td>3065 days 00:00:00</td>\n",
       "      <td>50.000000</td>\n",
       "    </tr>\n",
       "    <tr>\n",
       "      <th>max</th>\n",
       "      <td>1.0</td>\n",
       "      <td>805.000000</td>\n",
       "      <td>8.052929e+16</td>\n",
       "      <td>2.000000</td>\n",
       "      <td>2.000000</td>\n",
       "      <td>119.000000</td>\n",
       "      <td>NaN</td>\n",
       "      <td>39.000000</td>\n",
       "      <td>100.000000</td>\n",
       "      <td>NaN</td>\n",
       "      <td>...</td>\n",
       "      <td>3292.000000</td>\n",
       "      <td>5.867291e+05</td>\n",
       "      <td>78.000000</td>\n",
       "      <td>8.394000e+06</td>\n",
       "      <td>2858.000000</td>\n",
       "      <td>9.942530e+06</td>\n",
       "      <td>NaN</td>\n",
       "      <td>100.000000</td>\n",
       "      <td>14644 days 00:00:00</td>\n",
       "      <td>118.000000</td>\n",
       "    </tr>\n",
       "  </tbody>\n",
       "</table>\n",
       "<p>8 rows × 34 columns</p>\n",
       "</div>"
      ],
      "text/plain": [
       "       org_code     branchCode    customerId   customerType  residentStatus  \\\n",
       "count  224868.0  224868.000000  2.248680e+05  224868.000000   224868.000000   \n",
       "mean        1.0     448.451323  4.394503e+16       1.114418        1.021221   \n",
       "std         0.0     228.193308  2.349321e+16       0.318319        0.144122   \n",
       "min         1.0     201.000000  2.020028e+09       1.000000        1.000000   \n",
       "25%         1.0     208.000000  2.070207e+16       1.000000        1.000000   \n",
       "50%         1.0     401.000000  4.011205e+16       1.000000        1.000000   \n",
       "75%         1.0     701.000000  7.012410e+16       1.000000        1.000000   \n",
       "max         1.0     805.000000  8.052929e+16       2.000000        2.000000   \n",
       "\n",
       "         age_in_year  birthCountry    profession    companyType  lastUpdate  \\\n",
       "count  220153.000000           0.0  79748.000000  114574.000000         0.0   \n",
       "mean       41.310575           NaN     18.309487      49.857577         NaN   \n",
       "std        16.000536           NaN      6.586481       6.736115         NaN   \n",
       "min         1.000000           NaN      1.000000       1.000000         NaN   \n",
       "25%        31.000000           NaN     20.000000      51.000000         NaN   \n",
       "50%        41.000000           NaN     20.000000      51.000000         NaN   \n",
       "75%        52.000000           NaN     21.000000      51.000000         NaN   \n",
       "max       119.000000           NaN     39.000000     100.000000         NaN   \n",
       "\n",
       "       ...  number_of_deposit_90_days  avg_of_dep_90_days  \\\n",
       "count  ...              224868.000000        2.248680e+05   \n",
       "mean   ...                   1.131437       -3.540383e+03   \n",
       "std    ...                  19.713739        9.151602e+04   \n",
       "min    ...                   0.000000       -1.654371e+07   \n",
       "25%    ...                   0.000000        0.000000e+00   \n",
       "50%    ...                   0.000000        0.000000e+00   \n",
       "75%    ...                   0.000000        0.000000e+00   \n",
       "max    ...                3292.000000        5.867291e+05   \n",
       "\n",
       "       number_of_cash_wd_90_days  avg_of_cash_wd_90_days  \\\n",
       "count              224868.000000            2.248680e+05   \n",
       "mean                    0.254305            4.763851e+02   \n",
       "std                     1.175586            2.028110e+04   \n",
       "min                     0.000000            0.000000e+00   \n",
       "25%                     0.000000            0.000000e+00   \n",
       "50%                     0.000000            0.000000e+00   \n",
       "75%                     0.000000            0.000000e+00   \n",
       "max                    78.000000            8.394000e+06   \n",
       "\n",
       "       number_of_wd_90_days  avg_of_wd_90_days  score_card_Desc  \\\n",
       "count         224868.000000       2.248680e+05              0.0   \n",
       "mean               0.868518       2.450953e+03              NaN   \n",
       "std               12.373992       5.819818e+04              NaN   \n",
       "min                0.000000       0.000000e+00              NaN   \n",
       "25%                0.000000       0.000000e+00              NaN   \n",
       "50%                0.000000       0.000000e+00              NaN   \n",
       "75%                0.000000       0.000000e+00              NaN   \n",
       "max             2858.000000       9.942530e+06              NaN   \n",
       "\n",
       "            rbaValue        creationDate_indays            age  \n",
       "count  224868.000000                     224868  224868.000000  \n",
       "mean       17.624194  2419 days 01:19:10.178785      39.279640  \n",
       "std         8.368345  2410 days 07:14:32.396639      16.859899  \n",
       "min         4.080000            0 days 00:00:00       0.000000  \n",
       "25%        13.330000          731 days 00:00:00      29.000000  \n",
       "50%        16.530000         1739 days 00:00:00      39.000000  \n",
       "75%        21.330000         3065 days 00:00:00      50.000000  \n",
       "max       100.000000        14644 days 00:00:00     118.000000  \n",
       "\n",
       "[8 rows x 34 columns]"
      ]
     },
     "execution_count": 9,
     "metadata": {},
     "output_type": "execute_result"
    }
   ],
   "source": [
    "df.describe()"
   ]
  },
  {
   "cell_type": "markdown",
   "metadata": {},
   "source": [
    "Description per type"
   ]
  },
  {
   "cell_type": "code",
   "execution_count": 10,
   "metadata": {
    "collapsed": false,
    "jupyter": {
     "outputs_hidden": false
    },
    "pycharm": {
     "name": "#%%\n"
    }
   },
   "outputs": [
    {
     "data": {
      "text/html": [
       "<div>\n",
       "<style scoped>\n",
       "    .dataframe tbody tr th:only-of-type {\n",
       "        vertical-align: middle;\n",
       "    }\n",
       "\n",
       "    .dataframe tbody tr th {\n",
       "        vertical-align: top;\n",
       "    }\n",
       "\n",
       "    .dataframe thead th {\n",
       "        text-align: right;\n",
       "    }\n",
       "</style>\n",
       "<table border=\"1\" class=\"dataframe\">\n",
       "  <thead>\n",
       "    <tr style=\"text-align: right;\">\n",
       "      <th></th>\n",
       "      <th>count</th>\n",
       "      <th>unique</th>\n",
       "      <th>top</th>\n",
       "      <th>freq</th>\n",
       "    </tr>\n",
       "  </thead>\n",
       "  <tbody>\n",
       "    <tr>\n",
       "      <th>fullaccount</th>\n",
       "      <td>224868</td>\n",
       "      <td>220434</td>\n",
       "      <td>020902507770010010000</td>\n",
       "      <td>26</td>\n",
       "    </tr>\n",
       "    <tr>\n",
       "      <th>onboarding</th>\n",
       "      <td>224868</td>\n",
       "      <td>2</td>\n",
       "      <td>N</td>\n",
       "      <td>219791</td>\n",
       "    </tr>\n",
       "    <tr>\n",
       "      <th>residentCountry</th>\n",
       "      <td>224272</td>\n",
       "      <td>62</td>\n",
       "      <td>JO</td>\n",
       "      <td>219253</td>\n",
       "    </tr>\n",
       "    <tr>\n",
       "      <th>nationalityOriginal</th>\n",
       "      <td>221429</td>\n",
       "      <td>67</td>\n",
       "      <td>JO</td>\n",
       "      <td>213141</td>\n",
       "    </tr>\n",
       "    <tr>\n",
       "      <th>extraNationality</th>\n",
       "      <td>1793</td>\n",
       "      <td>35</td>\n",
       "      <td>US</td>\n",
       "      <td>1028</td>\n",
       "    </tr>\n",
       "    <tr>\n",
       "      <th>birthPlace</th>\n",
       "      <td>203026</td>\n",
       "      <td>1000</td>\n",
       "      <td>????</td>\n",
       "      <td>76312</td>\n",
       "    </tr>\n",
       "    <tr>\n",
       "      <th>giinCode</th>\n",
       "      <td>12</td>\n",
       "      <td>1</td>\n",
       "      <td>ZLVK2E.99999.SL.400</td>\n",
       "      <td>12</td>\n",
       "    </tr>\n",
       "    <tr>\n",
       "      <th>status</th>\n",
       "      <td>224868</td>\n",
       "      <td>1</td>\n",
       "      <td>Active</td>\n",
       "      <td>224868</td>\n",
       "    </tr>\n",
       "    <tr>\n",
       "      <th>accountCurrency</th>\n",
       "      <td>224868</td>\n",
       "      <td>20</td>\n",
       "      <td>JOD</td>\n",
       "      <td>214657</td>\n",
       "    </tr>\n",
       "    <tr>\n",
       "      <th>rbaGradeAbrv</th>\n",
       "      <td>224868</td>\n",
       "      <td>3</td>\n",
       "      <td>L</td>\n",
       "      <td>159680</td>\n",
       "    </tr>\n",
       "    <tr>\n",
       "      <th>score_card</th>\n",
       "      <td>224868</td>\n",
       "      <td>4</td>\n",
       "      <td>I-Existing</td>\n",
       "      <td>178495</td>\n",
       "    </tr>\n",
       "    <tr>\n",
       "      <th>CountryName_residentCountry</th>\n",
       "      <td>224270</td>\n",
       "      <td>60</td>\n",
       "      <td>Jordan</td>\n",
       "      <td>219253</td>\n",
       "    </tr>\n",
       "    <tr>\n",
       "      <th>CountryName_nationalityOriginal</th>\n",
       "      <td>221424</td>\n",
       "      <td>65</td>\n",
       "      <td>Jordan</td>\n",
       "      <td>213141</td>\n",
       "    </tr>\n",
       "    <tr>\n",
       "      <th>CountryName_extraNationality</th>\n",
       "      <td>1358</td>\n",
       "      <td>34</td>\n",
       "      <td>United States</td>\n",
       "      <td>1028</td>\n",
       "    </tr>\n",
       "    <tr>\n",
       "      <th>Risk_Description</th>\n",
       "      <td>224868</td>\n",
       "      <td>3</td>\n",
       "      <td>Low</td>\n",
       "      <td>159680</td>\n",
       "    </tr>\n",
       "  </tbody>\n",
       "</table>\n",
       "</div>"
      ],
      "text/plain": [
       "                                  count  unique                    top    freq\n",
       "fullaccount                      224868  220434  020902507770010010000      26\n",
       "onboarding                       224868       2                      N  219791\n",
       "residentCountry                  224272      62                     JO  219253\n",
       "nationalityOriginal              221429      67                     JO  213141\n",
       "extraNationality                   1793      35                     US    1028\n",
       "birthPlace                       203026    1000                   ????   76312\n",
       "giinCode                             12       1    ZLVK2E.99999.SL.400      12\n",
       "status                           224868       1                 Active  224868\n",
       "accountCurrency                  224868      20                    JOD  214657\n",
       "rbaGradeAbrv                     224868       3                      L  159680\n",
       "score_card                       224868       4             I-Existing  178495\n",
       "CountryName_residentCountry      224270      60                 Jordan  219253\n",
       "CountryName_nationalityOriginal  221424      65                 Jordan  213141\n",
       "CountryName_extraNationality       1358      34          United States    1028\n",
       "Risk_Description                 224868       3                    Low  159680"
      ]
     },
     "execution_count": 10,
     "metadata": {},
     "output_type": "execute_result"
    }
   ],
   "source": [
    "df.describe(include='object').T"
   ]
  },
  {
   "cell_type": "code",
   "execution_count": 11,
   "metadata": {
    "collapsed": false,
    "jupyter": {
     "outputs_hidden": false
    },
    "pycharm": {
     "name": "#%%\n"
    }
   },
   "outputs": [
    {
     "data": {
      "text/html": [
       "<div>\n",
       "<style scoped>\n",
       "    .dataframe tbody tr th:only-of-type {\n",
       "        vertical-align: middle;\n",
       "    }\n",
       "\n",
       "    .dataframe tbody tr th {\n",
       "        vertical-align: top;\n",
       "    }\n",
       "\n",
       "    .dataframe thead th {\n",
       "        text-align: right;\n",
       "    }\n",
       "</style>\n",
       "<table border=\"1\" class=\"dataframe\">\n",
       "  <thead>\n",
       "    <tr style=\"text-align: right;\">\n",
       "      <th></th>\n",
       "      <th>count</th>\n",
       "      <th>mean</th>\n",
       "      <th>std</th>\n",
       "      <th>min</th>\n",
       "      <th>25%</th>\n",
       "      <th>50%</th>\n",
       "      <th>75%</th>\n",
       "      <th>max</th>\n",
       "    </tr>\n",
       "  </thead>\n",
       "  <tbody>\n",
       "    <tr>\n",
       "      <th>org_code</th>\n",
       "      <td>224868</td>\n",
       "      <td>1</td>\n",
       "      <td>0</td>\n",
       "      <td>1</td>\n",
       "      <td>1</td>\n",
       "      <td>1</td>\n",
       "      <td>1</td>\n",
       "      <td>1</td>\n",
       "    </tr>\n",
       "    <tr>\n",
       "      <th>branchCode</th>\n",
       "      <td>224868</td>\n",
       "      <td>448.451</td>\n",
       "      <td>228.193</td>\n",
       "      <td>201</td>\n",
       "      <td>208</td>\n",
       "      <td>401</td>\n",
       "      <td>701</td>\n",
       "      <td>805</td>\n",
       "    </tr>\n",
       "    <tr>\n",
       "      <th>customerId</th>\n",
       "      <td>224868</td>\n",
       "      <td>4.3945e+16</td>\n",
       "      <td>2.34932e+16</td>\n",
       "      <td>2.02003e+09</td>\n",
       "      <td>2.07021e+16</td>\n",
       "      <td>4.0112e+16</td>\n",
       "      <td>7.01241e+16</td>\n",
       "      <td>8.05293e+16</td>\n",
       "    </tr>\n",
       "    <tr>\n",
       "      <th>customerType</th>\n",
       "      <td>224868</td>\n",
       "      <td>1.11442</td>\n",
       "      <td>0.318319</td>\n",
       "      <td>1</td>\n",
       "      <td>1</td>\n",
       "      <td>1</td>\n",
       "      <td>1</td>\n",
       "      <td>2</td>\n",
       "    </tr>\n",
       "    <tr>\n",
       "      <th>residentStatus</th>\n",
       "      <td>224868</td>\n",
       "      <td>1.02122</td>\n",
       "      <td>0.144122</td>\n",
       "      <td>1</td>\n",
       "      <td>1</td>\n",
       "      <td>1</td>\n",
       "      <td>1</td>\n",
       "      <td>2</td>\n",
       "    </tr>\n",
       "    <tr>\n",
       "      <th>age_in_year</th>\n",
       "      <td>220153</td>\n",
       "      <td>41.3106</td>\n",
       "      <td>16.0005</td>\n",
       "      <td>1</td>\n",
       "      <td>31</td>\n",
       "      <td>41</td>\n",
       "      <td>52</td>\n",
       "      <td>119</td>\n",
       "    </tr>\n",
       "    <tr>\n",
       "      <th>birthCountry</th>\n",
       "      <td>0</td>\n",
       "      <td>NaN</td>\n",
       "      <td>NaN</td>\n",
       "      <td>NaN</td>\n",
       "      <td>NaN</td>\n",
       "      <td>NaN</td>\n",
       "      <td>NaN</td>\n",
       "      <td>NaN</td>\n",
       "    </tr>\n",
       "    <tr>\n",
       "      <th>profession</th>\n",
       "      <td>79748</td>\n",
       "      <td>18.3095</td>\n",
       "      <td>6.58648</td>\n",
       "      <td>1</td>\n",
       "      <td>20</td>\n",
       "      <td>20</td>\n",
       "      <td>21</td>\n",
       "      <td>39</td>\n",
       "    </tr>\n",
       "    <tr>\n",
       "      <th>companyType</th>\n",
       "      <td>114574</td>\n",
       "      <td>49.8576</td>\n",
       "      <td>6.73611</td>\n",
       "      <td>1</td>\n",
       "      <td>51</td>\n",
       "      <td>51</td>\n",
       "      <td>51</td>\n",
       "      <td>100</td>\n",
       "    </tr>\n",
       "    <tr>\n",
       "      <th>lastUpdate</th>\n",
       "      <td>0</td>\n",
       "      <td>NaN</td>\n",
       "      <td>NaN</td>\n",
       "      <td>NaN</td>\n",
       "      <td>NaN</td>\n",
       "      <td>NaN</td>\n",
       "      <td>NaN</td>\n",
       "      <td>NaN</td>\n",
       "    </tr>\n",
       "    <tr>\n",
       "      <th>ledgerCode</th>\n",
       "      <td>224868</td>\n",
       "      <td>1059.33</td>\n",
       "      <td>1280.88</td>\n",
       "      <td>10</td>\n",
       "      <td>20</td>\n",
       "      <td>1302</td>\n",
       "      <td>1396</td>\n",
       "      <td>8700</td>\n",
       "    </tr>\n",
       "    <tr>\n",
       "      <th>jointAccount</th>\n",
       "      <td>224868</td>\n",
       "      <td>0.0216527</td>\n",
       "      <td>0.145547</td>\n",
       "      <td>0</td>\n",
       "      <td>0</td>\n",
       "      <td>0</td>\n",
       "      <td>0</td>\n",
       "      <td>1</td>\n",
       "    </tr>\n",
       "    <tr>\n",
       "      <th>IsBlackListed</th>\n",
       "      <td>224868</td>\n",
       "      <td>0</td>\n",
       "      <td>0</td>\n",
       "      <td>0</td>\n",
       "      <td>0</td>\n",
       "      <td>0</td>\n",
       "      <td>0</td>\n",
       "      <td>0</td>\n",
       "    </tr>\n",
       "    <tr>\n",
       "      <th>CUS_CLASS</th>\n",
       "      <td>224868</td>\n",
       "      <td>3.76523</td>\n",
       "      <td>4.30501</td>\n",
       "      <td>0</td>\n",
       "      <td>2</td>\n",
       "      <td>2</td>\n",
       "      <td>2</td>\n",
       "      <td>51</td>\n",
       "    </tr>\n",
       "    <tr>\n",
       "      <th>ECO_SEC</th>\n",
       "      <td>224868</td>\n",
       "      <td>89.3886</td>\n",
       "      <td>29.4068</td>\n",
       "      <td>0</td>\n",
       "      <td>90</td>\n",
       "      <td>90</td>\n",
       "      <td>90</td>\n",
       "      <td>392</td>\n",
       "    </tr>\n",
       "    <tr>\n",
       "      <th>TYPE_OF_DEP</th>\n",
       "      <td>224868</td>\n",
       "      <td>35.509</td>\n",
       "      <td>15.4919</td>\n",
       "      <td>0</td>\n",
       "      <td>20</td>\n",
       "      <td>35</td>\n",
       "      <td>51</td>\n",
       "      <td>100</td>\n",
       "    </tr>\n",
       "    <tr>\n",
       "      <th>GENDER</th>\n",
       "      <td>104357</td>\n",
       "      <td>1.25098</td>\n",
       "      <td>0.433576</td>\n",
       "      <td>1</td>\n",
       "      <td>1</td>\n",
       "      <td>1</td>\n",
       "      <td>2</td>\n",
       "      <td>2</td>\n",
       "    </tr>\n",
       "    <tr>\n",
       "      <th>LEGAL_STA_CODE</th>\n",
       "      <td>222252</td>\n",
       "      <td>1.19356</td>\n",
       "      <td>0.528191</td>\n",
       "      <td>1</td>\n",
       "      <td>1</td>\n",
       "      <td>1</td>\n",
       "      <td>1</td>\n",
       "      <td>4</td>\n",
       "    </tr>\n",
       "    <tr>\n",
       "      <th>legal_Stat_desc</th>\n",
       "      <td>0</td>\n",
       "      <td>NaN</td>\n",
       "      <td>NaN</td>\n",
       "      <td>NaN</td>\n",
       "      <td>NaN</td>\n",
       "      <td>NaN</td>\n",
       "      <td>NaN</td>\n",
       "      <td>NaN</td>\n",
       "    </tr>\n",
       "    <tr>\n",
       "      <th>avg_last_10_days</th>\n",
       "      <td>224868</td>\n",
       "      <td>7832.26</td>\n",
       "      <td>1.32512e+06</td>\n",
       "      <td>-1.79101e+08</td>\n",
       "      <td>0</td>\n",
       "      <td>0</td>\n",
       "      <td>691.453</td>\n",
       "      <td>1.53151e+08</td>\n",
       "    </tr>\n",
       "    <tr>\n",
       "      <th>avg_last_30_days</th>\n",
       "      <td>224868</td>\n",
       "      <td>1988.95</td>\n",
       "      <td>334432</td>\n",
       "      <td>-4.51343e+07</td>\n",
       "      <td>0</td>\n",
       "      <td>0</td>\n",
       "      <td>182.615</td>\n",
       "      <td>3.85991e+07</td>\n",
       "    </tr>\n",
       "    <tr>\n",
       "      <th>avg_last_90_days</th>\n",
       "      <td>224868</td>\n",
       "      <td>18.8714</td>\n",
       "      <td>3685.04</td>\n",
       "      <td>-485687</td>\n",
       "      <td>0</td>\n",
       "      <td>0</td>\n",
       "      <td>1.1</td>\n",
       "      <td>415044</td>\n",
       "    </tr>\n",
       "    <tr>\n",
       "      <th>number_of_cash_dep_90_days</th>\n",
       "      <td>224868</td>\n",
       "      <td>0.491422</td>\n",
       "      <td>5.33524</td>\n",
       "      <td>0</td>\n",
       "      <td>0</td>\n",
       "      <td>0</td>\n",
       "      <td>0</td>\n",
       "      <td>1267</td>\n",
       "    </tr>\n",
       "    <tr>\n",
       "      <th>avg_cash_deposit_90_days</th>\n",
       "      <td>224868</td>\n",
       "      <td>-1113.43</td>\n",
       "      <td>30280.8</td>\n",
       "      <td>-5.48204e+06</td>\n",
       "      <td>0</td>\n",
       "      <td>0</td>\n",
       "      <td>0</td>\n",
       "      <td>0</td>\n",
       "    </tr>\n",
       "    <tr>\n",
       "      <th>number_of_deposit_90_days</th>\n",
       "      <td>224868</td>\n",
       "      <td>1.13144</td>\n",
       "      <td>19.7137</td>\n",
       "      <td>0</td>\n",
       "      <td>0</td>\n",
       "      <td>0</td>\n",
       "      <td>0</td>\n",
       "      <td>3292</td>\n",
       "    </tr>\n",
       "    <tr>\n",
       "      <th>avg_of_dep_90_days</th>\n",
       "      <td>224868</td>\n",
       "      <td>-3540.38</td>\n",
       "      <td>91516</td>\n",
       "      <td>-1.65437e+07</td>\n",
       "      <td>0</td>\n",
       "      <td>0</td>\n",
       "      <td>0</td>\n",
       "      <td>586729</td>\n",
       "    </tr>\n",
       "    <tr>\n",
       "      <th>number_of_cash_wd_90_days</th>\n",
       "      <td>224868</td>\n",
       "      <td>0.254305</td>\n",
       "      <td>1.17559</td>\n",
       "      <td>0</td>\n",
       "      <td>0</td>\n",
       "      <td>0</td>\n",
       "      <td>0</td>\n",
       "      <td>78</td>\n",
       "    </tr>\n",
       "    <tr>\n",
       "      <th>avg_of_cash_wd_90_days</th>\n",
       "      <td>224868</td>\n",
       "      <td>476.385</td>\n",
       "      <td>20281.1</td>\n",
       "      <td>0</td>\n",
       "      <td>0</td>\n",
       "      <td>0</td>\n",
       "      <td>0</td>\n",
       "      <td>8.394e+06</td>\n",
       "    </tr>\n",
       "    <tr>\n",
       "      <th>number_of_wd_90_days</th>\n",
       "      <td>224868</td>\n",
       "      <td>0.868518</td>\n",
       "      <td>12.374</td>\n",
       "      <td>0</td>\n",
       "      <td>0</td>\n",
       "      <td>0</td>\n",
       "      <td>0</td>\n",
       "      <td>2858</td>\n",
       "    </tr>\n",
       "    <tr>\n",
       "      <th>avg_of_wd_90_days</th>\n",
       "      <td>224868</td>\n",
       "      <td>2450.95</td>\n",
       "      <td>58198.2</td>\n",
       "      <td>0</td>\n",
       "      <td>0</td>\n",
       "      <td>0</td>\n",
       "      <td>0</td>\n",
       "      <td>9.94253e+06</td>\n",
       "    </tr>\n",
       "    <tr>\n",
       "      <th>score_card_Desc</th>\n",
       "      <td>0</td>\n",
       "      <td>NaN</td>\n",
       "      <td>NaN</td>\n",
       "      <td>NaN</td>\n",
       "      <td>NaN</td>\n",
       "      <td>NaN</td>\n",
       "      <td>NaN</td>\n",
       "      <td>NaN</td>\n",
       "    </tr>\n",
       "    <tr>\n",
       "      <th>rbaValue</th>\n",
       "      <td>224868</td>\n",
       "      <td>17.6242</td>\n",
       "      <td>8.36835</td>\n",
       "      <td>4.08</td>\n",
       "      <td>13.33</td>\n",
       "      <td>16.53</td>\n",
       "      <td>21.33</td>\n",
       "      <td>100</td>\n",
       "    </tr>\n",
       "    <tr>\n",
       "      <th>creationDate_indays</th>\n",
       "      <td>224868</td>\n",
       "      <td>2419 days 01:19:10.178785</td>\n",
       "      <td>2410 days 07:14:32.396639</td>\n",
       "      <td>0 days 00:00:00</td>\n",
       "      <td>731 days 00:00:00</td>\n",
       "      <td>1739 days 00:00:00</td>\n",
       "      <td>3065 days 00:00:00</td>\n",
       "      <td>14644 days 00:00:00</td>\n",
       "    </tr>\n",
       "    <tr>\n",
       "      <th>age</th>\n",
       "      <td>224868</td>\n",
       "      <td>39.2796</td>\n",
       "      <td>16.8599</td>\n",
       "      <td>0</td>\n",
       "      <td>29</td>\n",
       "      <td>39</td>\n",
       "      <td>50</td>\n",
       "      <td>118</td>\n",
       "    </tr>\n",
       "  </tbody>\n",
       "</table>\n",
       "</div>"
      ],
      "text/plain": [
       "                             count                       mean  \\\n",
       "org_code                    224868                          1   \n",
       "branchCode                  224868                    448.451   \n",
       "customerId                  224868                 4.3945e+16   \n",
       "customerType                224868                    1.11442   \n",
       "residentStatus              224868                    1.02122   \n",
       "age_in_year                 220153                    41.3106   \n",
       "birthCountry                     0                        NaN   \n",
       "profession                   79748                    18.3095   \n",
       "companyType                 114574                    49.8576   \n",
       "lastUpdate                       0                        NaN   \n",
       "ledgerCode                  224868                    1059.33   \n",
       "jointAccount                224868                  0.0216527   \n",
       "IsBlackListed               224868                          0   \n",
       "CUS_CLASS                   224868                    3.76523   \n",
       "ECO_SEC                     224868                    89.3886   \n",
       "TYPE_OF_DEP                 224868                     35.509   \n",
       "GENDER                      104357                    1.25098   \n",
       "LEGAL_STA_CODE              222252                    1.19356   \n",
       "legal_Stat_desc                  0                        NaN   \n",
       "avg_last_10_days            224868                    7832.26   \n",
       "avg_last_30_days            224868                    1988.95   \n",
       "avg_last_90_days            224868                    18.8714   \n",
       "number_of_cash_dep_90_days  224868                   0.491422   \n",
       "avg_cash_deposit_90_days    224868                   -1113.43   \n",
       "number_of_deposit_90_days   224868                    1.13144   \n",
       "avg_of_dep_90_days          224868                   -3540.38   \n",
       "number_of_cash_wd_90_days   224868                   0.254305   \n",
       "avg_of_cash_wd_90_days      224868                    476.385   \n",
       "number_of_wd_90_days        224868                   0.868518   \n",
       "avg_of_wd_90_days           224868                    2450.95   \n",
       "score_card_Desc                  0                        NaN   \n",
       "rbaValue                    224868                    17.6242   \n",
       "creationDate_indays         224868  2419 days 01:19:10.178785   \n",
       "age                         224868                    39.2796   \n",
       "\n",
       "                                                  std              min  \\\n",
       "org_code                                            0                1   \n",
       "branchCode                                    228.193              201   \n",
       "customerId                                2.34932e+16      2.02003e+09   \n",
       "customerType                                 0.318319                1   \n",
       "residentStatus                               0.144122                1   \n",
       "age_in_year                                   16.0005                1   \n",
       "birthCountry                                      NaN              NaN   \n",
       "profession                                    6.58648                1   \n",
       "companyType                                   6.73611                1   \n",
       "lastUpdate                                        NaN              NaN   \n",
       "ledgerCode                                    1280.88               10   \n",
       "jointAccount                                 0.145547                0   \n",
       "IsBlackListed                                       0                0   \n",
       "CUS_CLASS                                     4.30501                0   \n",
       "ECO_SEC                                       29.4068                0   \n",
       "TYPE_OF_DEP                                   15.4919                0   \n",
       "GENDER                                       0.433576                1   \n",
       "LEGAL_STA_CODE                               0.528191                1   \n",
       "legal_Stat_desc                                   NaN              NaN   \n",
       "avg_last_10_days                          1.32512e+06     -1.79101e+08   \n",
       "avg_last_30_days                               334432     -4.51343e+07   \n",
       "avg_last_90_days                              3685.04          -485687   \n",
       "number_of_cash_dep_90_days                    5.33524                0   \n",
       "avg_cash_deposit_90_days                      30280.8     -5.48204e+06   \n",
       "number_of_deposit_90_days                     19.7137                0   \n",
       "avg_of_dep_90_days                              91516     -1.65437e+07   \n",
       "number_of_cash_wd_90_days                     1.17559                0   \n",
       "avg_of_cash_wd_90_days                        20281.1                0   \n",
       "number_of_wd_90_days                           12.374                0   \n",
       "avg_of_wd_90_days                             58198.2                0   \n",
       "score_card_Desc                                   NaN              NaN   \n",
       "rbaValue                                      8.36835             4.08   \n",
       "creationDate_indays         2410 days 07:14:32.396639  0 days 00:00:00   \n",
       "age                                           16.8599                0   \n",
       "\n",
       "                                          25%                 50%  \\\n",
       "org_code                                    1                   1   \n",
       "branchCode                                208                 401   \n",
       "customerId                        2.07021e+16          4.0112e+16   \n",
       "customerType                                1                   1   \n",
       "residentStatus                              1                   1   \n",
       "age_in_year                                31                  41   \n",
       "birthCountry                              NaN                 NaN   \n",
       "profession                                 20                  20   \n",
       "companyType                                51                  51   \n",
       "lastUpdate                                NaN                 NaN   \n",
       "ledgerCode                                 20                1302   \n",
       "jointAccount                                0                   0   \n",
       "IsBlackListed                               0                   0   \n",
       "CUS_CLASS                                   2                   2   \n",
       "ECO_SEC                                    90                  90   \n",
       "TYPE_OF_DEP                                20                  35   \n",
       "GENDER                                      1                   1   \n",
       "LEGAL_STA_CODE                              1                   1   \n",
       "legal_Stat_desc                           NaN                 NaN   \n",
       "avg_last_10_days                            0                   0   \n",
       "avg_last_30_days                            0                   0   \n",
       "avg_last_90_days                            0                   0   \n",
       "number_of_cash_dep_90_days                  0                   0   \n",
       "avg_cash_deposit_90_days                    0                   0   \n",
       "number_of_deposit_90_days                   0                   0   \n",
       "avg_of_dep_90_days                          0                   0   \n",
       "number_of_cash_wd_90_days                   0                   0   \n",
       "avg_of_cash_wd_90_days                      0                   0   \n",
       "number_of_wd_90_days                        0                   0   \n",
       "avg_of_wd_90_days                           0                   0   \n",
       "score_card_Desc                           NaN                 NaN   \n",
       "rbaValue                                13.33               16.53   \n",
       "creationDate_indays         731 days 00:00:00  1739 days 00:00:00   \n",
       "age                                        29                  39   \n",
       "\n",
       "                                           75%                  max  \n",
       "org_code                                     1                    1  \n",
       "branchCode                                 701                  805  \n",
       "customerId                         7.01241e+16          8.05293e+16  \n",
       "customerType                                 1                    2  \n",
       "residentStatus                               1                    2  \n",
       "age_in_year                                 52                  119  \n",
       "birthCountry                               NaN                  NaN  \n",
       "profession                                  21                   39  \n",
       "companyType                                 51                  100  \n",
       "lastUpdate                                 NaN                  NaN  \n",
       "ledgerCode                                1396                 8700  \n",
       "jointAccount                                 0                    1  \n",
       "IsBlackListed                                0                    0  \n",
       "CUS_CLASS                                    2                   51  \n",
       "ECO_SEC                                     90                  392  \n",
       "TYPE_OF_DEP                                 51                  100  \n",
       "GENDER                                       2                    2  \n",
       "LEGAL_STA_CODE                               1                    4  \n",
       "legal_Stat_desc                            NaN                  NaN  \n",
       "avg_last_10_days                       691.453          1.53151e+08  \n",
       "avg_last_30_days                       182.615          3.85991e+07  \n",
       "avg_last_90_days                           1.1               415044  \n",
       "number_of_cash_dep_90_days                   0                 1267  \n",
       "avg_cash_deposit_90_days                     0                    0  \n",
       "number_of_deposit_90_days                    0                 3292  \n",
       "avg_of_dep_90_days                           0               586729  \n",
       "number_of_cash_wd_90_days                    0                   78  \n",
       "avg_of_cash_wd_90_days                       0            8.394e+06  \n",
       "number_of_wd_90_days                         0                 2858  \n",
       "avg_of_wd_90_days                            0          9.94253e+06  \n",
       "score_card_Desc                            NaN                  NaN  \n",
       "rbaValue                                 21.33                  100  \n",
       "creationDate_indays         3065 days 00:00:00  14644 days 00:00:00  \n",
       "age                                         50                  118  "
      ]
     },
     "execution_count": 11,
     "metadata": {},
     "output_type": "execute_result"
    }
   ],
   "source": [
    "df.describe(include=np.number).T"
   ]
  },
  {
   "cell_type": "code",
   "execution_count": 12,
   "metadata": {
    "collapsed": false,
    "jupyter": {
     "outputs_hidden": false
    },
    "pycharm": {
     "name": "#%%\n"
    }
   },
   "outputs": [
    {
     "data": {
      "text/html": [
       "<div>\n",
       "<style scoped>\n",
       "    .dataframe tbody tr th:only-of-type {\n",
       "        vertical-align: middle;\n",
       "    }\n",
       "\n",
       "    .dataframe tbody tr th {\n",
       "        vertical-align: top;\n",
       "    }\n",
       "\n",
       "    .dataframe thead th {\n",
       "        text-align: right;\n",
       "    }\n",
       "</style>\n",
       "<table border=\"1\" class=\"dataframe\">\n",
       "  <thead>\n",
       "    <tr style=\"text-align: right;\">\n",
       "      <th></th>\n",
       "      <th>count</th>\n",
       "      <th>unique</th>\n",
       "      <th>top</th>\n",
       "      <th>freq</th>\n",
       "      <th>first</th>\n",
       "      <th>last</th>\n",
       "    </tr>\n",
       "  </thead>\n",
       "  <tbody>\n",
       "    <tr>\n",
       "      <th>creationDate</th>\n",
       "      <td>224868</td>\n",
       "      <td>7041</td>\n",
       "      <td>2013-11-20</td>\n",
       "      <td>1079</td>\n",
       "      <td>1978-09-17</td>\n",
       "      <td>2018-10-21</td>\n",
       "    </tr>\n",
       "    <tr>\n",
       "      <th>dateOfBirth</th>\n",
       "      <td>220153</td>\n",
       "      <td>21457</td>\n",
       "      <td>1992-07-22</td>\n",
       "      <td>1035</td>\n",
       "      <td>1900-06-01</td>\n",
       "      <td>2018-10-15</td>\n",
       "    </tr>\n",
       "    <tr>\n",
       "      <th>date_of_assessment</th>\n",
       "      <td>224868</td>\n",
       "      <td>1</td>\n",
       "      <td>2019-01-24</td>\n",
       "      <td>224868</td>\n",
       "      <td>2019-01-24</td>\n",
       "      <td>2019-01-24</td>\n",
       "    </tr>\n",
       "  </tbody>\n",
       "</table>\n",
       "</div>"
      ],
      "text/plain": [
       "                     count unique        top    freq      first       last\n",
       "creationDate        224868   7041 2013-11-20    1079 1978-09-17 2018-10-21\n",
       "dateOfBirth         220153  21457 1992-07-22    1035 1900-06-01 2018-10-15\n",
       "date_of_assessment  224868      1 2019-01-24  224868 2019-01-24 2019-01-24"
      ]
     },
     "execution_count": 12,
     "metadata": {},
     "output_type": "execute_result"
    }
   ],
   "source": [
    "df.describe(include=np.datetime64).T"
   ]
  },
  {
   "cell_type": "markdown",
   "metadata": {
    "pycharm": {
     "name": "#%% md\n"
    }
   },
   "source": [
    "Term frequency per column"
   ]
  },
  {
   "cell_type": "code",
   "execution_count": 13,
   "metadata": {
    "collapsed": false,
    "jupyter": {
     "outputs_hidden": false
    },
    "pycharm": {
     "name": "#%%\n"
    },
    "tags": []
   },
   "outputs": [
    {
     "name": "stdout",
     "output_type": "stream",
     "text": [
      "VARIABLE = fullaccount\n",
      "020902507770010010000    26\n",
      "020301298000012969000    23\n",
      "020301298000011306000    23\n",
      "020301298000011930001    23\n",
      "020301298000011316000    23\n",
      "                         ..\n",
      "030205006330010010000     1\n",
      "020601787170010010000     1\n",
      "050200703770010010000     1\n",
      "035600835620012951000     1\n",
      "080126026620012820000     1\n",
      "Name: fullaccount, Length: 220434, dtype: int64\n",
      "\n",
      "\n",
      "\n",
      "VARIABLE = onboarding\n",
      "N    219791\n",
      "Y      5077\n",
      "Name: onboarding, dtype: int64\n",
      "\n",
      "\n",
      "\n",
      "VARIABLE = residentCountry\n",
      "JO    219253\n",
      "OM       985\n",
      "IQ       981\n",
      "SA       657\n",
      "US       358\n",
      "       ...  \n",
      "CH         2\n",
      "AF         1\n",
      "SO         1\n",
      "NG         1\n",
      "LR         1\n",
      "Name: residentCountry, Length: 62, dtype: int64\n",
      "\n",
      "\n",
      "\n",
      "VARIABLE = nationalityOriginal\n",
      "JO    213141\n",
      "IQ      3206\n",
      "EG      1349\n",
      "SY      1215\n",
      "LY       433\n",
      "       ...  \n",
      "TH         1\n",
      "LR         1\n",
      "SO         1\n",
      "KP         1\n",
      "IO         1\n",
      "Name: nationalityOriginal, Length: 67, dtype: int64\n",
      "\n",
      "\n",
      "\n",
      "VARIABLE = extraNationality\n",
      "US    1028\n",
      "XK     435\n",
      "CA      45\n",
      "GB      42\n",
      "JO      34\n",
      "CO      20\n",
      "AU      17\n",
      "BA      15\n",
      "FR      15\n",
      "EG      14\n",
      "IQ      14\n",
      "SE      12\n",
      "IT      12\n",
      "UA      11\n",
      "RO      10\n",
      "ES       8\n",
      "TR       6\n",
      "CH       5\n",
      "PL       5\n",
      "GR       5\n",
      "SA       4\n",
      "BR       4\n",
      "NL       4\n",
      "BG       4\n",
      "BH       3\n",
      "SY       3\n",
      "NO       3\n",
      "CL       3\n",
      "CY       3\n",
      "LY       3\n",
      "RU       2\n",
      "BE       1\n",
      "LB       1\n",
      "VE       1\n",
      "IO       1\n",
      "Name: extraNationality, dtype: int64\n",
      "\n",
      "\n",
      "\n",
      "VARIABLE = birthPlace\n",
      "????        76312\n",
      "?????       38740\n",
      "??????      29904\n",
      "???????     19465\n",
      "????????     7690\n",
      "            ...  \n",
      ".               1\n",
      "ALBASRAH        1\n",
      "STO NINO        1\n",
      "MARADANA        1\n",
      "GODUMULA        1\n",
      "Name: birthPlace, Length: 1000, dtype: int64\n",
      "\n",
      "\n",
      "\n",
      "VARIABLE = giinCode\n",
      "ZLVK2E.99999.SL.400    12\n",
      "Name: giinCode, dtype: int64\n",
      "\n",
      "\n",
      "\n",
      "VARIABLE = status\n",
      "Active    224868\n",
      "Name: status, dtype: int64\n",
      "\n",
      "\n",
      "\n",
      "VARIABLE = accountCurrency\n",
      "JOD    214657\n",
      "USD      8478\n",
      "EUR      1079\n",
      "GBP       254\n",
      "AED        93\n",
      "CAD        81\n",
      "SAR        60\n",
      "JPY        41\n",
      "CHF        40\n",
      "AUD        37\n",
      "XAG        15\n",
      "XAU        11\n",
      "SEK         9\n",
      "QAR         4\n",
      "NZD         3\n",
      "DKK         2\n",
      "ESP         1\n",
      "LBP         1\n",
      "BHD         1\n",
      "KWD         1\n",
      "Name: accountCurrency, dtype: int64\n",
      "\n",
      "\n",
      "\n",
      "VARIABLE = rbaGradeAbrv\n",
      "L    159680\n",
      "M     65099\n",
      "H        89\n",
      "Name: rbaGradeAbrv, dtype: int64\n",
      "\n",
      "\n",
      "\n",
      "VARIABLE = score_card\n",
      "I-Existing    178495\n",
      "E-Existing     25114\n",
      "I-New          20649\n",
      "E-NEW            610\n",
      "Name: score_card, dtype: int64\n",
      "\n",
      "\n",
      "\n",
      "VARIABLE = CountryName_residentCountry\n",
      "Jordan                                  219253\n",
      "Oman                                       985\n",
      "Iraq                                       981\n",
      "Saudi Arabia                               657\n",
      "United States                              358\n",
      "United Arab Emirates                       313\n",
      "Syrian Arab Republic                       264\n",
      "Libyan Arab Jamahiriya                     207\n",
      "Qatar                                      173\n",
      "Kuwait                                     150\n",
      "Canada                                     127\n",
      "United Kingdom                             112\n",
      "Egypt                                      105\n",
      "Sweden                                      78\n",
      "Netherlands                                 34\n",
      "Philippines                                 33\n",
      "Italy                                       30\n",
      "Turkey                                      30\n",
      "Lebanon                                     29\n",
      "Sri Lanka                                   28\n",
      "Romania                                     26\n",
      "Bahrain                                     25\n",
      "Australia                                   25\n",
      "Indonesia                                   19\n",
      "Israel                                      17\n",
      "Cyprus                                      16\n",
      "New Zeeland                                 15\n",
      "Bangladesh                                  15\n",
      "Greece                                      13\n",
      "Ireland                                     12\n",
      "British Indian Ocean Territory              11\n",
      "Japan                                       11\n",
      "United States Minor Outlying Islands        10\n",
      "Belgium                                     10\n",
      "Finland                                      8\n",
      "Tunisia                                      8\n",
      "Malaysia                                     8\n",
      "Spain                                        7\n",
      "Norway                                       6\n",
      "Denmark                                      5\n",
      "China                                        5\n",
      "Uruguay                                      5\n",
      "France                                       4\n",
      "Ukrainian Ssr                                4\n",
      "Chile                                        4\n",
      "Singapore                                    4\n",
      "Pakistan                                     3\n",
      "Austria                                      3\n",
      "South Africa                                 3\n",
      "Algeria                                      3\n",
      "Brazil                                       3\n",
      "Venezuela                                    3\n",
      "Palestine                                    2\n",
      "Thailand                                     2\n",
      "Bulgaria                                     2\n",
      "American Samoe                               2\n",
      "Nigeria                                      1\n",
      "Afghanistan                                  1\n",
      "Somalia                                      1\n",
      "Liberia                                      1\n",
      "Name: CountryName_residentCountry, dtype: int64\n",
      "\n",
      "\n",
      "\n",
      "VARIABLE = CountryName_nationalityOriginal\n",
      "Jordan                            213141\n",
      "Iraq                                3206\n",
      "Egypt                               1349\n",
      "Syrian Arab Republic                1215\n",
      "Libyan Arab Jamahiriya               433\n",
      "                                   ...  \n",
      "British Indian Ocean Territory         1\n",
      "Somalia                                1\n",
      "Singapore                              1\n",
      "Bulgaria                               1\n",
      "Liberia                                1\n",
      "Name: CountryName_nationalityOriginal, Length: 65, dtype: int64\n",
      "\n",
      "\n",
      "\n",
      "VARIABLE = CountryName_extraNationality\n",
      "United States                     1028\n",
      "Canada                              45\n",
      "United Kingdom                      42\n",
      "Jordan                              34\n",
      "Colombia                            20\n",
      "Australia                           17\n",
      "Bosnia                              15\n",
      "France                              15\n",
      "Egypt                               14\n",
      "Iraq                                14\n",
      "Italy                               12\n",
      "Sweden                              12\n",
      "Ukrainian Ssr                       11\n",
      "Romania                             10\n",
      "Spain                                8\n",
      "Turkey                               6\n",
      "China                                5\n",
      "Poland                               5\n",
      "Greece                               5\n",
      "Bulgaria                             4\n",
      "Saudi Arabia                         4\n",
      "Netherlands                          4\n",
      "Brazil                               4\n",
      "Libyan Arab Jamahiriya               3\n",
      "Syrian Arab Republic                 3\n",
      "Cyprus                               3\n",
      "Chile                                3\n",
      "Bahrain                              3\n",
      "Norway                               3\n",
      "Russia                               2\n",
      "British Indian Ocean Territory       1\n",
      "Lebanon                              1\n",
      "Belgium                              1\n",
      "Venezuela                            1\n",
      "Name: CountryName_extraNationality, dtype: int64\n",
      "\n",
      "\n",
      "\n",
      "VARIABLE = Risk_Description\n",
      "Low       159680\n",
      "Medium     65099\n",
      "High          89\n",
      "Name: Risk_Description, dtype: int64\n",
      "\n",
      "\n",
      "\n"
     ]
    }
   ],
   "source": [
    "cat_columns = df.select_dtypes(include=['object'])\n",
    "for col in cat_columns:\n",
    "    print(\"VARIABLE =\", col)\n",
    "    print(df[col].value_counts())\n",
    "    print('\\n'*2)"
   ]
  },
  {
   "cell_type": "code",
   "execution_count": 14,
   "metadata": {
    "collapsed": false,
    "jupyter": {
     "outputs_hidden": false
    },
    "pycharm": {
     "name": "#%%\n"
    }
   },
   "outputs": [
    {
     "data": {
      "text/html": [
       "<div>\n",
       "<style scoped>\n",
       "    .dataframe tbody tr th:only-of-type {\n",
       "        vertical-align: middle;\n",
       "    }\n",
       "\n",
       "    .dataframe tbody tr th {\n",
       "        vertical-align: top;\n",
       "    }\n",
       "\n",
       "    .dataframe thead th {\n",
       "        text-align: right;\n",
       "    }\n",
       "</style>\n",
       "<table border=\"1\" class=\"dataframe\">\n",
       "  <thead>\n",
       "    <tr style=\"text-align: right;\">\n",
       "      <th></th>\n",
       "      <th>count</th>\n",
       "      <th>mean</th>\n",
       "      <th>std</th>\n",
       "      <th>min</th>\n",
       "      <th>25%</th>\n",
       "      <th>50%</th>\n",
       "      <th>75%</th>\n",
       "      <th>max</th>\n",
       "    </tr>\n",
       "  </thead>\n",
       "  <tbody>\n",
       "    <tr>\n",
       "      <th>org_code</th>\n",
       "      <td>224868.0</td>\n",
       "      <td>1.000000e+00</td>\n",
       "      <td>0.000000e+00</td>\n",
       "      <td>1.000000e+00</td>\n",
       "      <td>1.000000e+00</td>\n",
       "      <td>1.000000e+00</td>\n",
       "      <td>1.000000e+00</td>\n",
       "      <td>1.000000e+00</td>\n",
       "    </tr>\n",
       "    <tr>\n",
       "      <th>branchCode</th>\n",
       "      <td>224868.0</td>\n",
       "      <td>4.484513e+02</td>\n",
       "      <td>2.281933e+02</td>\n",
       "      <td>2.010000e+02</td>\n",
       "      <td>2.080000e+02</td>\n",
       "      <td>4.010000e+02</td>\n",
       "      <td>7.010000e+02</td>\n",
       "      <td>8.050000e+02</td>\n",
       "    </tr>\n",
       "    <tr>\n",
       "      <th>customerId</th>\n",
       "      <td>224868.0</td>\n",
       "      <td>4.394503e+16</td>\n",
       "      <td>2.349321e+16</td>\n",
       "      <td>2.020028e+09</td>\n",
       "      <td>2.070207e+16</td>\n",
       "      <td>4.011205e+16</td>\n",
       "      <td>7.012410e+16</td>\n",
       "      <td>8.052929e+16</td>\n",
       "    </tr>\n",
       "    <tr>\n",
       "      <th>customerType</th>\n",
       "      <td>224868.0</td>\n",
       "      <td>1.114418e+00</td>\n",
       "      <td>3.183193e-01</td>\n",
       "      <td>1.000000e+00</td>\n",
       "      <td>1.000000e+00</td>\n",
       "      <td>1.000000e+00</td>\n",
       "      <td>1.000000e+00</td>\n",
       "      <td>2.000000e+00</td>\n",
       "    </tr>\n",
       "    <tr>\n",
       "      <th>residentStatus</th>\n",
       "      <td>224868.0</td>\n",
       "      <td>1.021221e+00</td>\n",
       "      <td>1.441218e-01</td>\n",
       "      <td>1.000000e+00</td>\n",
       "      <td>1.000000e+00</td>\n",
       "      <td>1.000000e+00</td>\n",
       "      <td>1.000000e+00</td>\n",
       "      <td>2.000000e+00</td>\n",
       "    </tr>\n",
       "    <tr>\n",
       "      <th>age_in_year</th>\n",
       "      <td>220153.0</td>\n",
       "      <td>4.131057e+01</td>\n",
       "      <td>1.600054e+01</td>\n",
       "      <td>1.000000e+00</td>\n",
       "      <td>3.100000e+01</td>\n",
       "      <td>4.100000e+01</td>\n",
       "      <td>5.200000e+01</td>\n",
       "      <td>1.190000e+02</td>\n",
       "    </tr>\n",
       "    <tr>\n",
       "      <th>birthCountry</th>\n",
       "      <td>0.0</td>\n",
       "      <td>NaN</td>\n",
       "      <td>NaN</td>\n",
       "      <td>NaN</td>\n",
       "      <td>NaN</td>\n",
       "      <td>NaN</td>\n",
       "      <td>NaN</td>\n",
       "      <td>NaN</td>\n",
       "    </tr>\n",
       "    <tr>\n",
       "      <th>profession</th>\n",
       "      <td>79748.0</td>\n",
       "      <td>1.830949e+01</td>\n",
       "      <td>6.586481e+00</td>\n",
       "      <td>1.000000e+00</td>\n",
       "      <td>2.000000e+01</td>\n",
       "      <td>2.000000e+01</td>\n",
       "      <td>2.100000e+01</td>\n",
       "      <td>3.900000e+01</td>\n",
       "    </tr>\n",
       "    <tr>\n",
       "      <th>companyType</th>\n",
       "      <td>114574.0</td>\n",
       "      <td>4.985758e+01</td>\n",
       "      <td>6.736115e+00</td>\n",
       "      <td>1.000000e+00</td>\n",
       "      <td>5.100000e+01</td>\n",
       "      <td>5.100000e+01</td>\n",
       "      <td>5.100000e+01</td>\n",
       "      <td>1.000000e+02</td>\n",
       "    </tr>\n",
       "    <tr>\n",
       "      <th>lastUpdate</th>\n",
       "      <td>0.0</td>\n",
       "      <td>NaN</td>\n",
       "      <td>NaN</td>\n",
       "      <td>NaN</td>\n",
       "      <td>NaN</td>\n",
       "      <td>NaN</td>\n",
       "      <td>NaN</td>\n",
       "      <td>NaN</td>\n",
       "    </tr>\n",
       "    <tr>\n",
       "      <th>ledgerCode</th>\n",
       "      <td>224868.0</td>\n",
       "      <td>1.059329e+03</td>\n",
       "      <td>1.280875e+03</td>\n",
       "      <td>1.000000e+01</td>\n",
       "      <td>2.000000e+01</td>\n",
       "      <td>1.302000e+03</td>\n",
       "      <td>1.396000e+03</td>\n",
       "      <td>8.700000e+03</td>\n",
       "    </tr>\n",
       "    <tr>\n",
       "      <th>jointAccount</th>\n",
       "      <td>224868.0</td>\n",
       "      <td>2.165270e-02</td>\n",
       "      <td>1.455471e-01</td>\n",
       "      <td>0.000000e+00</td>\n",
       "      <td>0.000000e+00</td>\n",
       "      <td>0.000000e+00</td>\n",
       "      <td>0.000000e+00</td>\n",
       "      <td>1.000000e+00</td>\n",
       "    </tr>\n",
       "    <tr>\n",
       "      <th>IsBlackListed</th>\n",
       "      <td>224868.0</td>\n",
       "      <td>0.000000e+00</td>\n",
       "      <td>0.000000e+00</td>\n",
       "      <td>0.000000e+00</td>\n",
       "      <td>0.000000e+00</td>\n",
       "      <td>0.000000e+00</td>\n",
       "      <td>0.000000e+00</td>\n",
       "      <td>0.000000e+00</td>\n",
       "    </tr>\n",
       "    <tr>\n",
       "      <th>CUS_CLASS</th>\n",
       "      <td>224868.0</td>\n",
       "      <td>3.765231e+00</td>\n",
       "      <td>4.305015e+00</td>\n",
       "      <td>0.000000e+00</td>\n",
       "      <td>2.000000e+00</td>\n",
       "      <td>2.000000e+00</td>\n",
       "      <td>2.000000e+00</td>\n",
       "      <td>5.100000e+01</td>\n",
       "    </tr>\n",
       "    <tr>\n",
       "      <th>ECO_SEC</th>\n",
       "      <td>224868.0</td>\n",
       "      <td>8.938863e+01</td>\n",
       "      <td>2.940685e+01</td>\n",
       "      <td>0.000000e+00</td>\n",
       "      <td>9.000000e+01</td>\n",
       "      <td>9.000000e+01</td>\n",
       "      <td>9.000000e+01</td>\n",
       "      <td>3.920000e+02</td>\n",
       "    </tr>\n",
       "    <tr>\n",
       "      <th>TYPE_OF_DEP</th>\n",
       "      <td>224868.0</td>\n",
       "      <td>3.550901e+01</td>\n",
       "      <td>1.549185e+01</td>\n",
       "      <td>0.000000e+00</td>\n",
       "      <td>2.000000e+01</td>\n",
       "      <td>3.500000e+01</td>\n",
       "      <td>5.100000e+01</td>\n",
       "      <td>1.000000e+02</td>\n",
       "    </tr>\n",
       "    <tr>\n",
       "      <th>GENDER</th>\n",
       "      <td>104357.0</td>\n",
       "      <td>1.250975e+00</td>\n",
       "      <td>4.335762e-01</td>\n",
       "      <td>1.000000e+00</td>\n",
       "      <td>1.000000e+00</td>\n",
       "      <td>1.000000e+00</td>\n",
       "      <td>2.000000e+00</td>\n",
       "      <td>2.000000e+00</td>\n",
       "    </tr>\n",
       "    <tr>\n",
       "      <th>LEGAL_STA_CODE</th>\n",
       "      <td>222252.0</td>\n",
       "      <td>1.193564e+00</td>\n",
       "      <td>5.281911e-01</td>\n",
       "      <td>1.000000e+00</td>\n",
       "      <td>1.000000e+00</td>\n",
       "      <td>1.000000e+00</td>\n",
       "      <td>1.000000e+00</td>\n",
       "      <td>4.000000e+00</td>\n",
       "    </tr>\n",
       "    <tr>\n",
       "      <th>legal_Stat_desc</th>\n",
       "      <td>0.0</td>\n",
       "      <td>NaN</td>\n",
       "      <td>NaN</td>\n",
       "      <td>NaN</td>\n",
       "      <td>NaN</td>\n",
       "      <td>NaN</td>\n",
       "      <td>NaN</td>\n",
       "      <td>NaN</td>\n",
       "    </tr>\n",
       "    <tr>\n",
       "      <th>avg_last_10_days</th>\n",
       "      <td>224868.0</td>\n",
       "      <td>7.832261e+03</td>\n",
       "      <td>1.325116e+06</td>\n",
       "      <td>-1.791005e+08</td>\n",
       "      <td>0.000000e+00</td>\n",
       "      <td>0.000000e+00</td>\n",
       "      <td>6.914525e+02</td>\n",
       "      <td>1.531514e+08</td>\n",
       "    </tr>\n",
       "    <tr>\n",
       "      <th>avg_last_30_days</th>\n",
       "      <td>224868.0</td>\n",
       "      <td>1.988950e+03</td>\n",
       "      <td>3.344322e+05</td>\n",
       "      <td>-4.513426e+07</td>\n",
       "      <td>0.000000e+00</td>\n",
       "      <td>0.000000e+00</td>\n",
       "      <td>1.826150e+02</td>\n",
       "      <td>3.859913e+07</td>\n",
       "    </tr>\n",
       "    <tr>\n",
       "      <th>avg_last_90_days</th>\n",
       "      <td>224868.0</td>\n",
       "      <td>1.887138e+01</td>\n",
       "      <td>3.685041e+03</td>\n",
       "      <td>-4.856867e+05</td>\n",
       "      <td>0.000000e+00</td>\n",
       "      <td>0.000000e+00</td>\n",
       "      <td>1.100000e+00</td>\n",
       "      <td>4.150444e+05</td>\n",
       "    </tr>\n",
       "    <tr>\n",
       "      <th>number_of_cash_dep_90_days</th>\n",
       "      <td>224868.0</td>\n",
       "      <td>4.914216e-01</td>\n",
       "      <td>5.335240e+00</td>\n",
       "      <td>0.000000e+00</td>\n",
       "      <td>0.000000e+00</td>\n",
       "      <td>0.000000e+00</td>\n",
       "      <td>0.000000e+00</td>\n",
       "      <td>1.267000e+03</td>\n",
       "    </tr>\n",
       "    <tr>\n",
       "      <th>avg_cash_deposit_90_days</th>\n",
       "      <td>224868.0</td>\n",
       "      <td>-1.113435e+03</td>\n",
       "      <td>3.028084e+04</td>\n",
       "      <td>-5.482044e+06</td>\n",
       "      <td>0.000000e+00</td>\n",
       "      <td>0.000000e+00</td>\n",
       "      <td>0.000000e+00</td>\n",
       "      <td>0.000000e+00</td>\n",
       "    </tr>\n",
       "    <tr>\n",
       "      <th>number_of_deposit_90_days</th>\n",
       "      <td>224868.0</td>\n",
       "      <td>1.131437e+00</td>\n",
       "      <td>1.971374e+01</td>\n",
       "      <td>0.000000e+00</td>\n",
       "      <td>0.000000e+00</td>\n",
       "      <td>0.000000e+00</td>\n",
       "      <td>0.000000e+00</td>\n",
       "      <td>3.292000e+03</td>\n",
       "    </tr>\n",
       "    <tr>\n",
       "      <th>avg_of_dep_90_days</th>\n",
       "      <td>224868.0</td>\n",
       "      <td>-3.540383e+03</td>\n",
       "      <td>9.151602e+04</td>\n",
       "      <td>-1.654371e+07</td>\n",
       "      <td>0.000000e+00</td>\n",
       "      <td>0.000000e+00</td>\n",
       "      <td>0.000000e+00</td>\n",
       "      <td>5.867291e+05</td>\n",
       "    </tr>\n",
       "    <tr>\n",
       "      <th>number_of_cash_wd_90_days</th>\n",
       "      <td>224868.0</td>\n",
       "      <td>2.543047e-01</td>\n",
       "      <td>1.175586e+00</td>\n",
       "      <td>0.000000e+00</td>\n",
       "      <td>0.000000e+00</td>\n",
       "      <td>0.000000e+00</td>\n",
       "      <td>0.000000e+00</td>\n",
       "      <td>7.800000e+01</td>\n",
       "    </tr>\n",
       "    <tr>\n",
       "      <th>avg_of_cash_wd_90_days</th>\n",
       "      <td>224868.0</td>\n",
       "      <td>4.763851e+02</td>\n",
       "      <td>2.028110e+04</td>\n",
       "      <td>0.000000e+00</td>\n",
       "      <td>0.000000e+00</td>\n",
       "      <td>0.000000e+00</td>\n",
       "      <td>0.000000e+00</td>\n",
       "      <td>8.394000e+06</td>\n",
       "    </tr>\n",
       "    <tr>\n",
       "      <th>number_of_wd_90_days</th>\n",
       "      <td>224868.0</td>\n",
       "      <td>8.685184e-01</td>\n",
       "      <td>1.237399e+01</td>\n",
       "      <td>0.000000e+00</td>\n",
       "      <td>0.000000e+00</td>\n",
       "      <td>0.000000e+00</td>\n",
       "      <td>0.000000e+00</td>\n",
       "      <td>2.858000e+03</td>\n",
       "    </tr>\n",
       "    <tr>\n",
       "      <th>avg_of_wd_90_days</th>\n",
       "      <td>224868.0</td>\n",
       "      <td>2.450953e+03</td>\n",
       "      <td>5.819818e+04</td>\n",
       "      <td>0.000000e+00</td>\n",
       "      <td>0.000000e+00</td>\n",
       "      <td>0.000000e+00</td>\n",
       "      <td>0.000000e+00</td>\n",
       "      <td>9.942530e+06</td>\n",
       "    </tr>\n",
       "    <tr>\n",
       "      <th>score_card_Desc</th>\n",
       "      <td>0.0</td>\n",
       "      <td>NaN</td>\n",
       "      <td>NaN</td>\n",
       "      <td>NaN</td>\n",
       "      <td>NaN</td>\n",
       "      <td>NaN</td>\n",
       "      <td>NaN</td>\n",
       "      <td>NaN</td>\n",
       "    </tr>\n",
       "    <tr>\n",
       "      <th>rbaValue</th>\n",
       "      <td>224868.0</td>\n",
       "      <td>1.762419e+01</td>\n",
       "      <td>8.368345e+00</td>\n",
       "      <td>4.080000e+00</td>\n",
       "      <td>1.333000e+01</td>\n",
       "      <td>1.653000e+01</td>\n",
       "      <td>2.133000e+01</td>\n",
       "      <td>1.000000e+02</td>\n",
       "    </tr>\n",
       "    <tr>\n",
       "      <th>age</th>\n",
       "      <td>224868.0</td>\n",
       "      <td>3.927964e+01</td>\n",
       "      <td>1.685990e+01</td>\n",
       "      <td>0.000000e+00</td>\n",
       "      <td>2.900000e+01</td>\n",
       "      <td>3.900000e+01</td>\n",
       "      <td>5.000000e+01</td>\n",
       "      <td>1.180000e+02</td>\n",
       "    </tr>\n",
       "  </tbody>\n",
       "</table>\n",
       "</div>"
      ],
      "text/plain": [
       "                               count          mean           std  \\\n",
       "org_code                    224868.0  1.000000e+00  0.000000e+00   \n",
       "branchCode                  224868.0  4.484513e+02  2.281933e+02   \n",
       "customerId                  224868.0  4.394503e+16  2.349321e+16   \n",
       "customerType                224868.0  1.114418e+00  3.183193e-01   \n",
       "residentStatus              224868.0  1.021221e+00  1.441218e-01   \n",
       "age_in_year                 220153.0  4.131057e+01  1.600054e+01   \n",
       "birthCountry                     0.0           NaN           NaN   \n",
       "profession                   79748.0  1.830949e+01  6.586481e+00   \n",
       "companyType                 114574.0  4.985758e+01  6.736115e+00   \n",
       "lastUpdate                       0.0           NaN           NaN   \n",
       "ledgerCode                  224868.0  1.059329e+03  1.280875e+03   \n",
       "jointAccount                224868.0  2.165270e-02  1.455471e-01   \n",
       "IsBlackListed               224868.0  0.000000e+00  0.000000e+00   \n",
       "CUS_CLASS                   224868.0  3.765231e+00  4.305015e+00   \n",
       "ECO_SEC                     224868.0  8.938863e+01  2.940685e+01   \n",
       "TYPE_OF_DEP                 224868.0  3.550901e+01  1.549185e+01   \n",
       "GENDER                      104357.0  1.250975e+00  4.335762e-01   \n",
       "LEGAL_STA_CODE              222252.0  1.193564e+00  5.281911e-01   \n",
       "legal_Stat_desc                  0.0           NaN           NaN   \n",
       "avg_last_10_days            224868.0  7.832261e+03  1.325116e+06   \n",
       "avg_last_30_days            224868.0  1.988950e+03  3.344322e+05   \n",
       "avg_last_90_days            224868.0  1.887138e+01  3.685041e+03   \n",
       "number_of_cash_dep_90_days  224868.0  4.914216e-01  5.335240e+00   \n",
       "avg_cash_deposit_90_days    224868.0 -1.113435e+03  3.028084e+04   \n",
       "number_of_deposit_90_days   224868.0  1.131437e+00  1.971374e+01   \n",
       "avg_of_dep_90_days          224868.0 -3.540383e+03  9.151602e+04   \n",
       "number_of_cash_wd_90_days   224868.0  2.543047e-01  1.175586e+00   \n",
       "avg_of_cash_wd_90_days      224868.0  4.763851e+02  2.028110e+04   \n",
       "number_of_wd_90_days        224868.0  8.685184e-01  1.237399e+01   \n",
       "avg_of_wd_90_days           224868.0  2.450953e+03  5.819818e+04   \n",
       "score_card_Desc                  0.0           NaN           NaN   \n",
       "rbaValue                    224868.0  1.762419e+01  8.368345e+00   \n",
       "age                         224868.0  3.927964e+01  1.685990e+01   \n",
       "\n",
       "                                     min           25%           50%  \\\n",
       "org_code                    1.000000e+00  1.000000e+00  1.000000e+00   \n",
       "branchCode                  2.010000e+02  2.080000e+02  4.010000e+02   \n",
       "customerId                  2.020028e+09  2.070207e+16  4.011205e+16   \n",
       "customerType                1.000000e+00  1.000000e+00  1.000000e+00   \n",
       "residentStatus              1.000000e+00  1.000000e+00  1.000000e+00   \n",
       "age_in_year                 1.000000e+00  3.100000e+01  4.100000e+01   \n",
       "birthCountry                         NaN           NaN           NaN   \n",
       "profession                  1.000000e+00  2.000000e+01  2.000000e+01   \n",
       "companyType                 1.000000e+00  5.100000e+01  5.100000e+01   \n",
       "lastUpdate                           NaN           NaN           NaN   \n",
       "ledgerCode                  1.000000e+01  2.000000e+01  1.302000e+03   \n",
       "jointAccount                0.000000e+00  0.000000e+00  0.000000e+00   \n",
       "IsBlackListed               0.000000e+00  0.000000e+00  0.000000e+00   \n",
       "CUS_CLASS                   0.000000e+00  2.000000e+00  2.000000e+00   \n",
       "ECO_SEC                     0.000000e+00  9.000000e+01  9.000000e+01   \n",
       "TYPE_OF_DEP                 0.000000e+00  2.000000e+01  3.500000e+01   \n",
       "GENDER                      1.000000e+00  1.000000e+00  1.000000e+00   \n",
       "LEGAL_STA_CODE              1.000000e+00  1.000000e+00  1.000000e+00   \n",
       "legal_Stat_desc                      NaN           NaN           NaN   \n",
       "avg_last_10_days           -1.791005e+08  0.000000e+00  0.000000e+00   \n",
       "avg_last_30_days           -4.513426e+07  0.000000e+00  0.000000e+00   \n",
       "avg_last_90_days           -4.856867e+05  0.000000e+00  0.000000e+00   \n",
       "number_of_cash_dep_90_days  0.000000e+00  0.000000e+00  0.000000e+00   \n",
       "avg_cash_deposit_90_days   -5.482044e+06  0.000000e+00  0.000000e+00   \n",
       "number_of_deposit_90_days   0.000000e+00  0.000000e+00  0.000000e+00   \n",
       "avg_of_dep_90_days         -1.654371e+07  0.000000e+00  0.000000e+00   \n",
       "number_of_cash_wd_90_days   0.000000e+00  0.000000e+00  0.000000e+00   \n",
       "avg_of_cash_wd_90_days      0.000000e+00  0.000000e+00  0.000000e+00   \n",
       "number_of_wd_90_days        0.000000e+00  0.000000e+00  0.000000e+00   \n",
       "avg_of_wd_90_days           0.000000e+00  0.000000e+00  0.000000e+00   \n",
       "score_card_Desc                      NaN           NaN           NaN   \n",
       "rbaValue                    4.080000e+00  1.333000e+01  1.653000e+01   \n",
       "age                         0.000000e+00  2.900000e+01  3.900000e+01   \n",
       "\n",
       "                                     75%           max  \n",
       "org_code                    1.000000e+00  1.000000e+00  \n",
       "branchCode                  7.010000e+02  8.050000e+02  \n",
       "customerId                  7.012410e+16  8.052929e+16  \n",
       "customerType                1.000000e+00  2.000000e+00  \n",
       "residentStatus              1.000000e+00  2.000000e+00  \n",
       "age_in_year                 5.200000e+01  1.190000e+02  \n",
       "birthCountry                         NaN           NaN  \n",
       "profession                  2.100000e+01  3.900000e+01  \n",
       "companyType                 5.100000e+01  1.000000e+02  \n",
       "lastUpdate                           NaN           NaN  \n",
       "ledgerCode                  1.396000e+03  8.700000e+03  \n",
       "jointAccount                0.000000e+00  1.000000e+00  \n",
       "IsBlackListed               0.000000e+00  0.000000e+00  \n",
       "CUS_CLASS                   2.000000e+00  5.100000e+01  \n",
       "ECO_SEC                     9.000000e+01  3.920000e+02  \n",
       "TYPE_OF_DEP                 5.100000e+01  1.000000e+02  \n",
       "GENDER                      2.000000e+00  2.000000e+00  \n",
       "LEGAL_STA_CODE              1.000000e+00  4.000000e+00  \n",
       "legal_Stat_desc                      NaN           NaN  \n",
       "avg_last_10_days            6.914525e+02  1.531514e+08  \n",
       "avg_last_30_days            1.826150e+02  3.859913e+07  \n",
       "avg_last_90_days            1.100000e+00  4.150444e+05  \n",
       "number_of_cash_dep_90_days  0.000000e+00  1.267000e+03  \n",
       "avg_cash_deposit_90_days    0.000000e+00  0.000000e+00  \n",
       "number_of_deposit_90_days   0.000000e+00  3.292000e+03  \n",
       "avg_of_dep_90_days          0.000000e+00  5.867291e+05  \n",
       "number_of_cash_wd_90_days   0.000000e+00  7.800000e+01  \n",
       "avg_of_cash_wd_90_days      0.000000e+00  8.394000e+06  \n",
       "number_of_wd_90_days        0.000000e+00  2.858000e+03  \n",
       "avg_of_wd_90_days           0.000000e+00  9.942530e+06  \n",
       "score_card_Desc                      NaN           NaN  \n",
       "rbaValue                    2.133000e+01  1.000000e+02  \n",
       "age                         5.000000e+01  1.180000e+02  "
      ]
     },
     "execution_count": 14,
     "metadata": {},
     "output_type": "execute_result"
    }
   ],
   "source": [
    "num_columns = df.select_dtypes(include=['int64', 'float64']).columns\n",
    "df[num_columns].describe().T\n",
    "\n",
    "# for col in num_columns:\n",
    "#     print(\"VARIABLE = \", col)\n",
    "#     print(df[col].describe())\n",
    "#     print('\\n'*2)"
   ]
  },
  {
   "cell_type": "markdown",
   "metadata": {},
   "source": [
    "Create a complete profile report of the dataset"
   ]
  },
  {
   "cell_type": "code",
   "execution_count": 15,
   "metadata": {
    "collapsed": false,
    "jupyter": {
     "outputs_hidden": false
    },
    "pycharm": {
     "name": "#%%\n"
    },
    "tags": []
   },
   "outputs": [],
   "source": [
    "# profile = ProfileReport(df, title=\"RBA_KYC_Accounts >> Before\", minimal=True)\n",
    "# profile.to_file(\"storage/df_report_before.html\")"
   ]
  },
  {
   "cell_type": "markdown",
   "metadata": {},
   "source": [
    "## Missing values"
   ]
  },
  {
   "cell_type": "markdown",
   "metadata": {
    "pycharm": {
     "name": "#%% md\n"
    }
   },
   "source": [
    "Checking for percentage (%) of missing values"
   ]
  },
  {
   "cell_type": "code",
   "execution_count": 16,
   "metadata": {},
   "outputs": [
    {
     "data": {
      "text/plain": [
       "org_code                             0.000000\n",
       "branchCode                           0.000000\n",
       "customerId                           0.000000\n",
       "fullaccount                          0.000000\n",
       "customerType                         0.000000\n",
       "creationDate                         0.000000\n",
       "onboarding                           0.000000\n",
       "residentStatus                       0.000000\n",
       "residentCountry                      0.265044\n",
       "nationalityOriginal                  1.529342\n",
       "extraNationality                    99.202643\n",
       "dateOfBirth                          2.096786\n",
       "age_in_year                          2.096786\n",
       "birthCountry                       100.000000\n",
       "birthPlace                           9.713254\n",
       "profession                          64.535639\n",
       "companyType                         49.048331\n",
       "giinCode                            99.994664\n",
       "lastUpdate                         100.000000\n",
       "status                               0.000000\n",
       "ledgerCode                           0.000000\n",
       "accountCurrency                      0.000000\n",
       "jointAccount                         0.000000\n",
       "IsBlackListed                        0.000000\n",
       "CUS_CLASS                            0.000000\n",
       "ECO_SEC                              0.000000\n",
       "TYPE_OF_DEP                          0.000000\n",
       "GENDER                              53.591885\n",
       "LEGAL_STA_CODE                       1.163349\n",
       "legal_Stat_desc                    100.000000\n",
       "avg_last_10_days                     0.000000\n",
       "avg_last_30_days                     0.000000\n",
       "avg_last_90_days                     0.000000\n",
       "number_of_cash_dep_90_days           0.000000\n",
       "avg_cash_deposit_90_days             0.000000\n",
       "number_of_deposit_90_days            0.000000\n",
       "avg_of_dep_90_days                   0.000000\n",
       "number_of_cash_wd_90_days            0.000000\n",
       "avg_of_cash_wd_90_days               0.000000\n",
       "number_of_wd_90_days                 0.000000\n",
       "avg_of_wd_90_days                    0.000000\n",
       "date_of_assessment                   0.000000\n",
       "rbaGradeAbrv                         0.000000\n",
       "score_card                           0.000000\n",
       "score_card_Desc                    100.000000\n",
       "rbaValue                             0.000000\n",
       "CountryName_residentCountry          0.265934\n",
       "CountryName_nationalityOriginal      1.531565\n",
       "CountryName_extraNationality        99.396090\n",
       "Risk_Description                     0.000000\n",
       "creationDate_indays                  0.000000\n",
       "age                                  0.000000\n",
       "dtype: float64"
      ]
     },
     "execution_count": 16,
     "metadata": {},
     "output_type": "execute_result"
    }
   ],
   "source": [
    "100*df.isnull().sum()/df.isnull().count()"
   ]
  },
  {
   "cell_type": "markdown",
   "metadata": {},
   "source": [
    "Variables histograms"
   ]
  },
  {
   "cell_type": "code",
   "execution_count": 49,
   "metadata": {
    "collapsed": false,
    "jupyter": {
     "outputs_hidden": false
    },
    "pycharm": {
     "name": "#%%\n"
    },
    "tags": []
   },
   "outputs": [
    {
     "data": {
      "text/plain": [
       "<matplotlib.axes._subplots.AxesSubplot at 0x1551a45fcd0>"
      ]
     },
     "execution_count": 49,
     "metadata": {},
     "output_type": "execute_result"
    },
    {
     "data": {
      "image/png": "[encoded data removed]",
      "text/plain": [
       "<Figure size 432x288 with 1 Axes>"
      ]
     },
     "metadata": {
      "needs_background": "light"
     },
     "output_type": "display_data"
    }
   ],
   "source": [
    "# https://towardsdatascience.com/using-pandas-method-chaining-to-improve-code-readability-d8517c5626ac\n",
    "# df2 = df.select_dtypes(include=['object']).isnull()\n",
    "df2 = df.isnull()\n",
    "sns.heatmap(df2, yticklabels=False, cbar=False, cmap='viridis')"
   ]
  },
  {
   "cell_type": "code",
   "execution_count": 19,
   "metadata": {},
   "outputs": [
    {
     "data": {
      "image/png": "[encoded data removed]",
      "text/plain": [
       "<Figure size 1440x2160 with 36 Axes>"
      ]
     },
     "metadata": {
      "needs_background": "light"
     },
     "output_type": "display_data"
    }
   ],
   "source": [
    "# Addison plot\n",
    "df.select_dtypes(include=['int64', 'float64']).hist(bins=15, figsize=(20, 30), layout=(6, 6));"
   ]
  },
  {
   "cell_type": "code",
   "execution_count": 59,
   "metadata": {},
   "outputs": [
    {
     "data": {
      "image/png": "[encoded data removed]",
      "text/plain": [
       "<Figure size 1440x2160 with 18 Axes>"
      ]
     },
     "metadata": {
      "needs_background": "light"
     },
     "output_type": "display_data"
    }
   ],
   "source": [
    "# Addison plot\n",
    "fig, axes = plt.subplots(figsize=(20, 30), nrows=nrows, ncols=ncols)\n",
    "categorical_feats = df.select_dtypes(include=['object']).columns\n",
    "nrows = 6\n",
    "ncols = 3\n",
    "\n",
    "i = 0\n",
    "flag = False\n",
    "for r in range(nrows):\n",
    "    for c in range(ncols):\n",
    "        df[categorical_feats[i]].value_counts().plot(ax=axes[r][c], kind='bar', title=categorical_feats[i])\n",
    "        i += 1\n",
    "        if(i>=len(categorical_feats)):\n",
    "            flag = True\n",
    "            break\n",
    "    if flag:\n",
    "        break"
   ]
  },
  {
   "cell_type": "markdown",
   "metadata": {},
   "source": [
    "# Additional plots"
   ]
  },
  {
   "cell_type": "markdown",
   "metadata": {},
   "source": [
    "Top values\n",
    "* https://stackoverflow.com/questions/58272872/pandas-top-n-values-in-each-group\n",
    "* https://stackoverflow.com/questions/48909110/python-pandas-mean-and-sum-groupby-on-different-columns-at-the-same-time\n",
    "\n",
    "Using flags\n",
    "* https://github.com/google/region-flags\n",
    "* https://github.com/hjnilsson/country-flags\n",
    "* https://pypi.org/project/emoji-country-flag/\n",
    "* https://stackoverflow.com/questions/44246650/automating-bar-charts-plotting-to-show-country-flags-as-ticklabels\n",
    "* https://stackoverflow.com/questions/19835746/how-to-group-remaining-results-beyond-top-n-into-others-with-pandas\n",
    "* https://matplotlib.org/3.1.1/tutorials/introductory/images.html"
   ]
  },
  {
   "cell_type": "code",
   "execution_count": 22,
   "metadata": {
    "collapsed": false,
    "jupyter": {
     "outputs_hidden": false
    },
    "pycharm": {
     "name": "#%%\n"
    }
   },
   "outputs": [],
   "source": [
    "def get_flag(name, width_size=20):\n",
    "    \"\"\"\n",
    "    Downloads the country flags from GitHub of in case of failure, from a local drive.\n",
    "    It resize all the images to a width defined by \"width_size\")\n",
    "    :param name: ISO2 country name\n",
    "    :type name: str\n",
    "    :param width_size: Width in pixels\n",
    "    :type width_size: int\n",
    "    :return: Flag image\n",
    "    :rtype: matplotlib.offsetbox object\n",
    "    \"\"\"\n",
    "    try:\n",
    "        path = \"https://raw.githubusercontent.com/google/region-flags/gh-pages/png/{}.png\".format(name)\n",
    "        im = plt.imread(path)\n",
    "        zoom_ = width_size/im.shape[1]\n",
    "        img = OffsetImage(im, zoom=zoom_)\n",
    "        # print('{}: {} then {}'.format(name, im.shape, img))\n",
    "    except:  # In case the images cannot be downloaded from GitHub, gets from local drive\n",
    "        path = \"storage/region-flags-gh-pages-png/40x40/{}.png\".format(name)\n",
    "        im = plt.imread(path)\n",
    "        zoom_ = width_size/im.shape[1]\n",
    "        img = OffsetImage(im, zoom=zoom_)\n",
    "        # print('From local drive: {} size {}'.format(name, im.shape))\n",
    "    return img\n",
    "\n",
    "def offset_image(coord, name, ax):\n",
    "    \"\"\"\n",
    "    Place the image inside the plot passed at 'ax'.\n",
    "    :param coord: Position on x (horizontal axis)\n",
    "    :type coord: int\n",
    "    :param name: Name of the country (ISO 2)\n",
    "    :type name: str\n",
    "    :param ax: subplot\n",
    "    :type ax: object\n",
    "    :return: Plot\n",
    "    :rtype: obj\n",
    "    \"\"\"\n",
    "    im = get_flag(name)\n",
    "    im.image.axes = ax\n",
    "    ab = AnnotationBbox(im, (coord, 0), xybox=(0., -16.), frameon=False, xycoords='data', boxcoords=\"offset points\", pad=0)\n",
    "    ax.add_artist(ab)\n",
    "\n",
    "def plot_bar_countries(df, countries, valuesA, nlargest=10):\n",
    "    \"\"\"\n",
    "    Plots the mean of 'valuesA' per 'countries'\n",
    "    :param df: DataFrame with the source of data\n",
    "    :type df: pandas.DataFrame\n",
    "    :param countries: Name of the column to be use to extract the countries\n",
    "    :type countries: str\n",
    "    :param valuesA: Name of the column to be use to extract the numeric value to average\n",
    "    :type valuesA: str\n",
    "    :param nlargest: Number of elements to show as columns\n",
    "    :type nlargest: int\n",
    "    :return: plot\n",
    "    :rtype: obj\n",
    "    \"\"\"\n",
    "    bottom_countries = df.groupby(countries).mean().sort_values(by=valuesA, ascending=False)[nlargest:].index.values\n",
    "    df2 = df.replace(bottom_countries, 'Others').groupby(countries).mean().sort_values(by=valuesA, ascending=False)\n",
    "\n",
    "    fig, ax = plt.subplots()\n",
    "\n",
    "    ax.bar(range(len(df2.index.values)), df2[valuesA], width=0.5, align=\"center\")\n",
    "    ax.set_xticks(range(len(df2.index.values)))\n",
    "    ax.set_xticklabels(df2.index.values)\n",
    "    ax.tick_params(axis='x', which='major', pad=26)\n",
    "\n",
    "    for i, c in enumerate(df2.index.values):\n",
    "        offset_image(i, c, ax)\n",
    "\n",
    "    plt.show()"
   ]
  },
  {
   "cell_type": "code",
   "execution_count": 23,
   "metadata": {
    "collapsed": false,
    "jupyter": {
     "outputs_hidden": false
    },
    "pycharm": {
     "name": "#%%\n"
    }
   },
   "outputs": [
    {
     "data": {
      "image/png": "[encoded data removed]",
      "text/plain": [
       "<Figure size 432x288 with 1 Axes>"
      ]
     },
     "metadata": {
      "needs_background": "light"
     },
     "output_type": "display_data"
    }
   ],
   "source": [
    "plot_bar_countries(df, 'residentCountry', 'avg_last_90_days', 6)"
   ]
  },
  {
   "cell_type": "markdown",
   "metadata": {},
   "source": [
    "# Feature engineering"
   ]
  },
  {
   "cell_type": "markdown",
   "metadata": {},
   "source": [
    "Correct the missing variants in the `birthPlace`"
   ]
  },
  {
   "cell_type": "code",
   "execution_count": 24,
   "metadata": {
    "collapsed": false,
    "jupyter": {
     "outputs_hidden": false
    },
    "pycharm": {
     "name": "#%%\n"
    }
   },
   "outputs": [],
   "source": [
    "out = []\n",
    "for val in df['birthPlace']:\n",
    "    try:\n",
    "        if val.find('?')>=0 or val.strip()=='0':\n",
    "            out.append('-')\n",
    "        else:\n",
    "            out.append(val.strip().upper())\n",
    "    except:\n",
    "        out.append(val)\n",
    "\n",
    "# pd.Series(out).value_counts()\n",
    "df['birthPlace'] = out"
   ]
  },
  {
   "cell_type": "markdown",
   "metadata": {},
   "source": [
    "Transformations for `onboarding` from categorical to numerical variable"
   ]
  },
  {
   "cell_type": "code",
   "execution_count": 25,
   "metadata": {},
   "outputs": [],
   "source": [
    "# Addison\n",
    "\n",
    "df[\"onboarding\"].replace(to_replace=\"N\", value=0, inplace=True)\n",
    "df[\"onboarding\"].replace(to_replace=\"Y\", value=1, inplace=True)"
   ]
  },
  {
   "cell_type": "markdown",
   "metadata": {
    "pycharm": {
     "name": "#%% md\n"
    }
   },
   "source": [
    "## Remove, filtering"
   ]
  },
  {
   "cell_type": "markdown",
   "metadata": {},
   "source": [
    "Remove fully NA columns"
   ]
  },
  {
   "cell_type": "markdown",
   "metadata": {},
   "source": [
    "Creating variables for negative information\n",
    "Meaning 1 when original variable is missing and 0 otherwise"
   ]
  },
  {
   "cell_type": "code",
   "execution_count": null,
   "metadata": {},
   "outputs": [],
   "source": [
    "for var in df.columns[:-5]:\n",
    "    if sum(1*df[var].isnull()):\n",
    "        print(var, 'has missings')\n",
    "        df.loc[df[var].isnull(),var] = 0\n",
    "        df[var+'_missing']=1*df[var].isnull()"
   ]
  },
  {
   "cell_type": "code",
   "execution_count": 26,
   "metadata": {
    "collapsed": false,
    "jupyter": {
     "outputs_hidden": false
    },
    "pycharm": {
     "name": "#%%\n"
    }
   },
   "outputs": [],
   "source": [
    "# Drop columns where all the values are missing or null\n",
    "# https://pandas.pydata.org/pandas-docs/stable/reference/api/pandas.DataFrame.dropna.html\n",
    "df.dropna(axis='columns', how='all', inplace=True)"
   ]
  },
  {
   "cell_type": "markdown",
   "metadata": {
    "pycharm": {
     "name": "#%% md\n"
    }
   },
   "source": [
    "Remove constant value columns"
   ]
  },
  {
   "cell_type": "code",
   "execution_count": 27,
   "metadata": {
    "collapsed": false,
    "jupyter": {
     "outputs_hidden": false
    },
    "pycharm": {
     "name": "#%%\n"
    }
   },
   "outputs": [
    {
     "data": {
      "text/plain": [
       "Index(['org_code', 'giinCode', 'status', 'IsBlackListed',\n",
       "       'date_of_assessment'],\n",
       "      dtype='object')"
      ]
     },
     "execution_count": 27,
     "metadata": {},
     "output_type": "execute_result"
    }
   ],
   "source": [
    "# Addison proposal\n",
    "df.columns[df.nunique()==1]"
   ]
  },
  {
   "cell_type": "code",
   "execution_count": 28,
   "metadata": {
    "collapsed": false,
    "jupyter": {
     "outputs_hidden": false
    },
    "pycharm": {
     "name": "#%%\n"
    }
   },
   "outputs": [],
   "source": [
    "df.drop(['org_code', 'giinCode', 'status', 'IsBlackListed', 'date_of_assessment'], axis=1, inplace=True)"
   ]
  },
  {
   "cell_type": "markdown",
   "metadata": {},
   "source": [
    "Remove high cardinality columns"
   ]
  },
  {
   "cell_type": "code",
   "execution_count": 29,
   "metadata": {
    "collapsed": false,
    "jupyter": {
     "outputs_hidden": false
    },
    "pycharm": {
     "name": "#%%\n"
    }
   },
   "outputs": [
    {
     "data": {
      "text/plain": [
       "fullaccount                        98.0\n",
       "avg_last_10_days                   47.4\n",
       "avg_last_30_days                   41.9\n",
       "customerId                         33.5\n",
       "avg_last_90_days                   16.7\n",
       "dateOfBirth                         9.5\n",
       "avg_of_dep_90_days                  5.0\n",
       "avg_of_wd_90_days                   3.9\n",
       "creationDate                        3.1\n",
       "creationDate_indays                 3.1\n",
       "avg_cash_deposit_90_days            2.6\n",
       "avg_of_cash_wd_90_days              2.4\n",
       "rbaValue                            0.3\n",
       "birthPlace                          0.2\n",
       "number_of_deposit_90_days           0.1\n",
       "ECO_SEC                             0.1\n",
       "ledgerCode                          0.1\n",
       "number_of_cash_dep_90_days          0.1\n",
       "number_of_wd_90_days                0.1\n",
       "profession                          0.0\n",
       "residentCountry                     0.0\n",
       "nationalityOriginal                 0.0\n",
       "extraNationality                    0.0\n",
       "residentStatus                      0.0\n",
       "onboarding                          0.0\n",
       "age_in_year                         0.0\n",
       "customerType                        0.0\n",
       "age                                 0.0\n",
       "GENDER                              0.0\n",
       "companyType                         0.0\n",
       "accountCurrency                     0.0\n",
       "jointAccount                        0.0\n",
       "CUS_CLASS                           0.0\n",
       "TYPE_OF_DEP                         0.0\n",
       "LEGAL_STA_CODE                      0.0\n",
       "number_of_cash_wd_90_days           0.0\n",
       "rbaGradeAbrv                        0.0\n",
       "score_card                          0.0\n",
       "CountryName_residentCountry         0.0\n",
       "CountryName_nationalityOriginal     0.0\n",
       "CountryName_extraNationality        0.0\n",
       "Risk_Description                    0.0\n",
       "branchCode                          0.0\n",
       "dtype: float64"
      ]
     },
     "execution_count": 29,
     "metadata": {},
     "output_type": "execute_result"
    }
   ],
   "source": [
    "cardinality_list = df.apply(pd.Series.nunique)/df.shape[0]*100\n",
    "cardinality_list.round(1).sort_values(ascending=False)"
   ]
  },
  {
   "cell_type": "code",
   "execution_count": 30,
   "metadata": {
    "collapsed": false,
    "jupyter": {
     "outputs_hidden": false
    },
    "pycharm": {
     "name": "#%%\n"
    }
   },
   "outputs": [],
   "source": [
    "df.drop(['fullaccount'], axis=1, inplace=True)"
   ]
  },
  {
   "cell_type": "markdown",
   "metadata": {},
   "source": [
    "Remove columns with high ratio of missing values\n",
    "https://stackoverflow.com/a/50798593/3780957"
   ]
  },
  {
   "cell_type": "code",
   "execution_count": 31,
   "metadata": {
    "collapsed": false,
    "jupyter": {
     "outputs_hidden": false
    },
    "pycharm": {
     "name": "#%%\n"
    }
   },
   "outputs": [],
   "source": [
    "na_threshold = len(df) * .80\n",
    "df = df.dropna(thresh=na_threshold, axis=1)"
   ]
  },
  {
   "cell_type": "markdown",
   "metadata": {
    "pycharm": {
     "name": "#%% md\n"
    }
   },
   "source": [
    "Remove duplicate rows\n",
    "* https://pandas.pydata.org/pandas-docs/stable/reference/api/pandas.DataFrame.drop_duplicates.html\n",
    "* https://pandas.pydata.org/pandas-docs/stable/reference/api/pandas.DataFrame.duplicated.html"
   ]
  },
  {
   "cell_type": "code",
   "execution_count": 32,
   "metadata": {
    "collapsed": false,
    "jupyter": {
     "outputs_hidden": false
    },
    "pycharm": {
     "name": "#%%\n"
    },
    "tags": []
   },
   "outputs": [
    {
     "name": "stdout",
     "output_type": "stream",
     "text": [
      "Number of duplicates 13375 rows to be removed\n"
     ]
    }
   ],
   "source": [
    "print(f'Number of duplicates {df.duplicated().sum()} rows to be removed')\n",
    "df.drop_duplicates(inplace=True)"
   ]
  },
  {
   "cell_type": "markdown",
   "metadata": {
    "pycharm": {
     "name": "#%% md\n"
    }
   },
   "source": [
    "Remove unique column"
   ]
  },
  {
   "cell_type": "code",
   "execution_count": 33,
   "metadata": {
    "collapsed": false,
    "jupyter": {
     "outputs_hidden": false
    },
    "pycharm": {
     "name": "#%%\n"
    }
   },
   "outputs": [],
   "source": [
    "# df.drop(['df_index'], axis=1, inplace=True)"
   ]
  },
  {
   "cell_type": "code",
   "execution_count": 34,
   "metadata": {
    "collapsed": false,
    "jupyter": {
     "outputs_hidden": false
    },
    "pycharm": {
     "name": "#%%\n"
    }
   },
   "outputs": [
    {
     "data": {
      "application/vnd.jupyter.widget-view+json": {
       "model_id": "ba86161b4cd143b7a5a64320233d97ee",
       "version_major": 2,
       "version_minor": 0
      },
      "text/plain": [
       "HBox(children=(FloatProgress(value=0.0, description='Summarize dataset', max=47.0, style=ProgressStyle(descrip…"
      ]
     },
     "metadata": {},
     "output_type": "display_data"
    },
    {
     "name": "stdout",
     "output_type": "stream",
     "text": [
      "\n"
     ]
    },
    {
     "data": {
      "application/vnd.jupyter.widget-view+json": {
       "model_id": "6d24e787a015413b91a7d759dfd79777",
       "version_major": 2,
       "version_minor": 0
      },
      "text/plain": [
       "HBox(children=(FloatProgress(value=0.0, description='Generate report structure', max=1.0, style=ProgressStyle(…"
      ]
     },
     "metadata": {},
     "output_type": "display_data"
    },
    {
     "name": "stdout",
     "output_type": "stream",
     "text": [
      "\n"
     ]
    },
    {
     "data": {
      "application/vnd.jupyter.widget-view+json": {
       "model_id": "9a0a2ef7b4fa4a53b3a10d2435ea52d6",
       "version_major": 2,
       "version_minor": 0
      },
      "text/plain": [
       "HBox(children=(FloatProgress(value=0.0, description='Render HTML', max=1.0, style=ProgressStyle(description_wi…"
      ]
     },
     "metadata": {},
     "output_type": "display_data"
    },
    {
     "name": "stdout",
     "output_type": "stream",
     "text": [
      "\n"
     ]
    },
    {
     "data": {
      "application/vnd.jupyter.widget-view+json": {
       "model_id": "3574c26fa2cb4bceb224d957d28c9690",
       "version_major": 2,
       "version_minor": 0
      },
      "text/plain": [
       "HBox(children=(FloatProgress(value=0.0, description='Export report to file', max=1.0, style=ProgressStyle(desc…"
      ]
     },
     "metadata": {},
     "output_type": "display_data"
    },
    {
     "name": "stdout",
     "output_type": "stream",
     "text": [
      "\n"
     ]
    }
   ],
   "source": [
    "# profile = ProfileReport(df, title=\"RBA_KYC_Accounts >> After\", minimal=True)\n",
    "# profile.to_file(\"storage/df_report_after.html\")"
   ]
  },
  {
   "cell_type": "markdown",
   "metadata": {
    "pycharm": {
     "name": "#%% md\n"
    }
   },
   "source": [
    "## Imputation\n",
    "\n",
    "There are [several ways of imputing missing values](https://scikit-learn.org/stable/modules/impute.html#multivariate-feature-imputation). I'd like to use a multivariate approach, which is much better than univariate methods (imputing by the mean, etc.). To do so, I will use the methods available in `scikit-learn` library ([here](https://scikit-learn.org/stable/modules/impute.html#multivariate-feature-imputation))."
   ]
  },
  {
   "cell_type": "markdown",
   "metadata": {},
   "source": [
    "https://scikit-learn.org/stable/modules/generated/sklearn.impute.IterativeImputer.html\n",
    "\n",
    "A more sophisticated approach is to use the IterativeImputer class, which models each feature with missing values as a function of other features, and uses that estimate for imputation. It does so in an iterated round-robin fashion: at each step, a feature column is designated as output y and the other feature columns are treated as inputs X. A regressor is fit on (X, y) for known y. Then, the regressor is used to predict the missing values of y. This is done for each feature in an iterative fashion, and then is repeated for max_iter imputation rounds. The results of the final imputation round are returned."
   ]
  },
  {
   "cell_type": "code",
   "execution_count": 35,
   "metadata": {},
   "outputs": [],
   "source": [
    "num_imputer = IterativeImputer(max_iter=10, random_state=0)\n",
    "num_columns = df.select_dtypes(include=['int64', 'float64']).columns\n",
    "num_feats = num_imputer.fit_transform(df[num_columns])\n",
    "num_feats = pd.DataFrame(data=num_feats, columns=num_columns)"
   ]
  },
  {
   "cell_type": "markdown",
   "metadata": {},
   "source": [
    "To perform imputation on categorical variables, I decided to use a method provided by the library `sklearn_pandas` that implements a `CategoricalImputer`."
   ]
  },
  {
   "cell_type": "markdown",
   "metadata": {},
   "source": [
    "https://github.com/scikit-learn-contrib/sklearn-pandas\n",
    "\n",
    "Since the scikit-learn Imputer transformer currently only works with numbers, sklearn-pandas provides an equivalent helper transformer that works with strings, substituting null values with the most frequent value in that column. Alternatively, you can specify a fixed value to use.\n",
    "\n",
    "Alternatives  \n",
    "* https://stackoverflow.com/questions/42846345/sklearn-categorical-imputer\n",
    "* https://github.com/scikit-learn-contrib/sklearn-pandas\n",
    "* https://scikit-learn.org/stable/modules/impute.html"
   ]
  },
  {
   "cell_type": "code",
   "execution_count": 36,
   "metadata": {
    "collapsed": false,
    "jupyter": {
     "outputs_hidden": false
    },
    "pycharm": {
     "name": "#%%\n"
    }
   },
   "outputs": [],
   "source": [
    "# Commented to speed up debuging\n",
    "\n",
    "cat_imputer = SimpleImputer(strategy=\"most_frequent\")\n",
    "cat_columns = df.select_dtypes(include=['object', 'datetime64']).columns\n",
    "cat_feats = cat_imputer.fit_transform(df[cat_columns])\n",
    "cat_feats = pd.DataFrame(data=cat_feats, columns=cat_columns)\n"
   ]
  },
  {
   "cell_type": "code",
   "execution_count": 37,
   "metadata": {},
   "outputs": [],
   "source": [
    "# Addison, not enabled... To consider?\n",
    "\n",
    "## Mode fills for missing values\n",
    "# cols_to_mode = [\"profession\", \"GENDER\", \"companyType\", \"nationalityOriginal\", \"LEGAL_STA_CODE\", \"residentCountry\"]\n",
    "# df[cols_to_mode]=df[cols_to_mode].fillna(df.mode().iloc[0])"
   ]
  },
  {
   "cell_type": "markdown",
   "metadata": {},
   "source": [
    "Feature engineering for the dates"
   ]
  },
  {
   "cell_type": "code",
   "execution_count": 38,
   "metadata": {},
   "outputs": [],
   "source": [
    "df_time = pd.DataFrame()\n",
    "for col in df.select_dtypes(include=['datetime64']):\n",
    "    df_time['{}_year'.format(col)] = df[col].dt.year\n",
    "    df_time['{}_month'.format(col)] = df[col].dt.month\n",
    "    df_time['{}_day'.format(col)] = df[col].dt.day\n",
    "    df_time['{}_dayofyear'.format(col)] = df[col].dt.dayofyear"
   ]
  },
  {
   "cell_type": "markdown",
   "metadata": {},
   "source": [
    "Finally, the result of imputing both: numerical and categorical, is now merged together in a single Dataset (or you can also use a dataframe, if you prefer)."
   ]
  },
  {
   "cell_type": "code",
   "execution_count": 39,
   "metadata": {},
   "outputs": [],
   "source": [
    "# https://pandas.pydata.org/pandas-docs/stable/user_guide/merging.html\n",
    "# date_columns = df.select_dtypes(include=['datetime64']).columns\n",
    "df = pd.concat([cat_feats, num_feats, df_time], axis=1, sort=False)"
   ]
  },
  {
   "cell_type": "markdown",
   "metadata": {},
   "source": [
    "## Scale\n",
    "\n",
    "Scale all the numeric values, at this point."
   ]
  },
  {
   "cell_type": "code",
   "execution_count": 40,
   "metadata": {},
   "outputs": [],
   "source": [
    "# https://stackoverflow.com/a/36475297/3780957\n",
    "\n",
    "num_columns = df.select_dtypes(include=['int64', 'float64']).columns\n",
    "\n",
    "scaler = StandardScaler()\n",
    "df[num_columns] = scaler.fit_transform(df[num_columns])"
   ]
  },
  {
   "cell_type": "markdown",
   "metadata": {},
   "source": [
    "Now, my dataset is ready to be analyzed. Lots of categorical and numerical variables."
   ]
  },
  {
   "cell_type": "code",
   "execution_count": 41,
   "metadata": {},
   "outputs": [],
   "source": [
    "# Drop rows with NA\n",
    "\n",
    "df.dropna(axis='rows', how='any', inplace=True)"
   ]
  },
  {
   "cell_type": "markdown",
   "metadata": {},
   "source": [
    "# Regression model\n",
    "\n",
    "Develop one Regression model using `rbaValue` as target variable. Remember to assess the model performance using an appropriate measure for regression."
   ]
  },
  {
   "cell_type": "code",
   "execution_count": 66,
   "metadata": {},
   "outputs": [],
   "source": [
    "y = df['rbaValue']\n",
    "X = df.drop('rbaValue', axis=1)"
   ]
  },
  {
   "cell_type": "code",
   "execution_count": 67,
   "metadata": {},
   "outputs": [],
   "source": [
    "X = OneHotEncoder(drop='first').fit_transform(X)"
   ]
  },
  {
   "cell_type": "code",
   "execution_count": 68,
   "metadata": {
    "tags": []
   },
   "outputs": [
    {
     "name": "stdout",
     "output_type": "stream",
     "text": [
      "Intercept: 3.245725192054962\n",
      "Coefficients: [-2.20917287e-02 -9.02236649e-03  0.00000000e+00 ... -7.07241847e-05\n",
      " -6.78035430e-05 -2.78832794e-07]\n",
      "Mean squared error (MSE): 0.07\n",
      "Variance score (R2): 0.93\n"
     ]
    }
   ],
   "source": [
    "# https://github.com/renero/class_notebooks/blob/master/Linear%20regression.ipynb\n",
    "\n",
    "X_train, X_test, y_train, y_test = train_test_split(X, y, test_size=0.2, random_state=42)\n",
    "\n",
    "lm = linear_model.LinearRegression()\n",
    "lm.fit(X_train, y_train)\n",
    "y_pred = lm.predict(X_test)\n",
    "\n",
    "print('Intercept:', lm.intercept_)\n",
    "print('Coefficients:', lm.coef_)\n",
    "print('Mean squared error (MSE): {:.2f}'.format(mean_squared_error(y_test, y_pred)))\n",
    "print('Variance score (R2): {:.2f}'.format(r2_score(y_test, y_pred)))"
   ]
  },
  {
   "cell_type": "code",
   "execution_count": 69,
   "metadata": {},
   "outputs": [
    {
     "data": {
      "image/png": "[encoded data removed]",
      "text/plain": [
       "<Figure size 720x576 with 1 Axes>"
      ]
     },
     "metadata": {
      "needs_background": "light"
     },
     "output_type": "display_data"
    }
   ],
   "source": [
    "#Addison\n",
    "\n",
    "result = pd.DataFrame({'Actual': y_test, 'Predicted': y_pred})\n",
    "\n",
    "result1 = result[:10]\n",
    "result1.plot(kind='bar',figsize=(10,8))\n",
    "plt.grid(which='major', linestyle='-', linewidth='0.5', color='grey')\n",
    "plt.grid(which='minor', linestyle=':', linewidth='0.5', color='black')\n",
    "plt.show()"
   ]
  },
  {
   "cell_type": "markdown",
   "metadata": {
    "pycharm": {
     "name": "#%% md\n"
    }
   },
   "source": [
    "# Classification model\n",
    "\n",
    "Develop one binary Classification model using `Risk_Description` setting Risk_Description = Low as 0 and else 1 (Medium or High). Remember to assess your model performance using a appropriate measure for classification."
   ]
  },
  {
   "cell_type": "code",
   "execution_count": 70,
   "metadata": {},
   "outputs": [],
   "source": [
    "# Merge the categories 'Medium' and 'High'\n",
    "y = df['Risk_Description']\n",
    "y = [0 if x=='Low' else 1 for x in y]\n",
    "# pd.Series(y).value_counts()\n",
    "\n",
    "X = df.drop('Risk_Description', axis=1)"
   ]
  },
  {
   "cell_type": "code",
   "execution_count": 71,
   "metadata": {},
   "outputs": [],
   "source": [
    "X = OneHotEncoder(drop='first').fit_transform(X)"
   ]
  },
  {
   "cell_type": "code",
   "execution_count": 73,
   "metadata": {
    "pycharm": {
     "name": "#%%\n"
    },
    "tags": []
   },
   "outputs": [],
   "source": [
    "X_train, X_test, y_train, y_test = train_test_split(X, y, test_size=0.2, random_state=42)\n",
    "\n",
    "lr = LogisticRegression().fit(X_train, y_train)\n",
    "y_pred = lr.predict(X_test)"
   ]
  },
  {
   "cell_type": "code",
   "execution_count": 74,
   "metadata": {
    "pycharm": {
     "name": "#%%\n"
    },
    "tags": []
   },
   "outputs": [
    {
     "name": "stdout",
     "output_type": "stream",
     "text": [
      "Accuracy: 1.0\n",
      "F1: 1.0\n",
      "Recall: 1.0\n",
      "MCC: 1.0\n"
     ]
    }
   ],
   "source": [
    "# Metrics\n",
    "\n",
    "accuracy = accuracy_score(y_test, y_pred)\n",
    "F1 = f1_score(y_test, y_pred)\n",
    "recall = recall_score(y_test, y_pred)\n",
    "MCC = matthews_corrcoef(y_test, y_pred)\n",
    "\n",
    "print('Accuracy:', accuracy)\n",
    "print('F1:', F1)\n",
    "print('Recall:', recall)\n",
    "print('MCC:', MCC)"
   ]
  },
  {
   "cell_type": "code",
   "execution_count": 79,
   "metadata": {},
   "outputs": [
    {
     "name": "stdout",
     "output_type": "stream",
     "text": [
      "Confusion matrix:\n",
      "[[28501     0]\n",
      " [    0 10500]]\n",
      "\n",
      "Normalized confusion matrix:\n",
      "[1. 0.]\n",
      "[0. 1.]\n"
     ]
    }
   ],
   "source": [
    "# Calculating the confusion matrix \n",
    "# Saving confusion matrix and slice into four pieces\n",
    "confusion = confusion_matrix(y_test, y_pred)\n",
    "\n",
    "#[row, column]\n",
    "TP = confusion[1, 1]\n",
    "TN = confusion[0, 0]\n",
    "FP = confusion[0, 1]\n",
    "FN = confusion[1, 0]\n",
    "\n",
    "print(f\"Confusion matrix:\\n{confusion}\")\n",
    "\n",
    "# Normalizing by the true label counts to get rates\n",
    "print(f\"\\nNormalized confusion matrix:\")\n",
    "for row in confusion:\n",
    "    print(row / row.sum())"
   ]
  },
  {
   "cell_type": "code",
   "execution_count": 81,
   "metadata": {},
   "outputs": [
    {
     "name": "stdout",
     "output_type": "stream",
     "text": [
      "1.0\n",
      "1.0\n"
     ]
    }
   ],
   "source": [
    "## Classification Accuracy\n",
    "print((TP + TN) / float(TP + TN + FP + FN))\n",
    "print(accuracy_score(y_test, y_pred))"
   ]
  },
  {
   "cell_type": "code",
   "execution_count": 82,
   "metadata": {},
   "outputs": [
    {
     "name": "stdout",
     "output_type": "stream",
     "text": [
      "0.0\n",
      "0.0\n"
     ]
    }
   ],
   "source": [
    "## Classification Error\n",
    "classification_error = (FP + FN) / float(TP + TN + FP + FN)\n",
    "\n",
    "print(classification_error)\n",
    "print(1 - accuracy_score(y_test, y_pred))"
   ]
  },
  {
   "cell_type": "code",
   "execution_count": 83,
   "metadata": {},
   "outputs": [
    {
     "name": "stdout",
     "output_type": "stream",
     "text": [
      "1.0\n",
      "1.0\n"
     ]
    }
   ],
   "source": [
    "## Sensitivity\n",
    "sensitivity = TP / float(FN + TP)\n",
    "\n",
    "print(sensitivity)\n",
    "print(recall_score(y_test, y_pred))"
   ]
  },
  {
   "cell_type": "code",
   "execution_count": 84,
   "metadata": {},
   "outputs": [
    {
     "name": "stdout",
     "output_type": "stream",
     "text": [
      "1.0\n"
     ]
    }
   ],
   "source": [
    "## Specificity\n",
    "specificity = TN / (TN + FP)\n",
    "\n",
    "print(specificity)"
   ]
  },
  {
   "cell_type": "code",
   "execution_count": 85,
   "metadata": {},
   "outputs": [
    {
     "name": "stdout",
     "output_type": "stream",
     "text": [
      "0.0\n",
      "0.0\n"
     ]
    }
   ],
   "source": [
    "## False Positive Rate\n",
    "false_positive_rate = FP / float(TN + FP)\n",
    "\n",
    "print(false_positive_rate)\n",
    "print(1 - specificity)"
   ]
  },
  {
   "cell_type": "code",
   "execution_count": 88,
   "metadata": {},
   "outputs": [
    {
     "name": "stdout",
     "output_type": "stream",
     "text": [
      "1.0\n",
      "1.0\n"
     ]
    }
   ],
   "source": [
    "## Precision\n",
    "precision = TP / float(TP + FP)\n",
    "\n",
    "print(precision)\n",
    "print(precision_score(y_test, y_pred))"
   ]
  },
  {
   "cell_type": "markdown",
   "metadata": {},
   "source": [
    "<p>The confusion matrix is a more accurate metric for model performance. We can decide whether our model is ideal or not based on which sections of the confusion matrix we want to maximize. For example, in health related predictions false positives should be minimum.</p>"
   ]
  }
 ],
 "metadata": {
  "kernelspec": {
   "display_name": "PyCharm (STATISTICAL PROGRAMMING - PYTHON (MBD-EN-BL2020J-1_32R203_380389))",
   "language": "python",
   "name": "pycharm-392c1d3b"
  },
  "language_info": {
   "codemirror_mode": {
    "name": "ipython",
    "version": 3
   },
   "file_extension": ".py",
   "mimetype": "text/x-python",
   "name": "python",
   "nbconvert_exporter": "python",
   "pygments_lexer": "ipython3",
   "version": "3.8.3"
  }
 },
 "nbformat": 4,
 "nbformat_minor": 4
}
