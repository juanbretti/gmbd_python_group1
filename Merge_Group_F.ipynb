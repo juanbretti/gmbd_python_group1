{
 "cells": [
  {
   "cell_type": "markdown",
   "metadata": {},
   "source": [
    "# Introduction\n",
    "\n",
    "A quick explanation of Pandas, Matplotlib and Sklearn, specially including their histories. (less than a minute)\n",
    "https://medium.com/personal-project/numpy-pandas-and-scikit-learn-explained-e7336baecedc\n",
    "\n",
    "## Pandas\n",
    "https://en.wikipedia.org/wiki/Pandas_(software)#History\n",
    "Developer Wes McKinney started working on pandas in 2008 while at AQR Capital Management out of the need for a high performance, flexible tool to perform quantitative analysis on financial data. Before leaving AQR he was able to convince management to allow him to open source the library.\n",
    "Another AQR employee, Chang She, joined the effort in 2012 as the second major contributor to the library.\n",
    "In 2015, pandas signed on as a fiscally sponsored project of NumFOCUS, a 501(c)(3) nonprofit charity in the United States.[10]\n",
    "\n",
    "Intro: https://www.youtube.com/watch?v=XDAnFZqJDvI\n",
    "\n",
    "## Matplotlib\n",
    "https://en.wikipedia.org/wiki/Matplotlib\n",
    "Matplotlib was originally written by John D. Hunter, since then it has an active development community,[4] and is distributed under a BSD-style license. Michael Droettboom was nominated as matplotlib's lead developer shortly before John Hunter's death in August 2012,[5] and further joined by Thomas Caswell.[6][7]\n",
    "\n",
    "\n",
    "## Sklearn\n",
    "https://en.wikipedia.org/wiki/Scikit-learn\n",
    "The scikit-learn project started as scikits.learn, a Google Summer of Code project by David Cournapeau. Its name stems from the notion that it is a \"SciKit\" (SciPy Toolkit), a separately-developed and distributed third-party extension to SciPy.[4] The original codebase was later rewritten by other developers. In 2010 Fabian Pedregosa, Gael Varoquaux, Alexandre Gramfort and Vincent Michel, all from the French Institute for Research in Computer Science and Automation in Rocquencourt, France, took leadership of the project and made the first public release on February the 1st 2010.[5] Of the various scikits, scikit-learn as well as scikit-image were described as \"well-maintained and popular\" in November 2012.[6] Scikit-learn is one of the most popular machine learning libraries on GitHub.[7].\n",
    "\n",
    "Intro: https://www.youtube.com/watch?v=rvVkVsG49uU"
   ]
  },
  {
   "cell_type": "markdown",
   "metadata": {
    "pycharm": {
     "name": "#%% md\n"
    }
   },
   "source": [
    "## Loading libraries"
   ]
  },
  {
   "cell_type": "code",
   "execution_count": 1,
   "metadata": {},
   "outputs": [],
   "source": [
    "# General usage\n",
    "import math\n",
    "import numpy as np\n",
    "import pandas as pd\n",
    "\n",
    "# Reporting\n",
    "from pandas_profiling import ProfileReport\n",
    "\n",
    "# Preprocessing\n",
    "from sklearn.experimental import enable_iterative_imputer\n",
    "from sklearn.impute import IterativeImputer, SimpleImputer\n",
    "from sklearn.preprocessing import StandardScaler, OneHotEncoder\n",
    "\n",
    "# Modeling\n",
    "from sklearn import datasets, linear_model\n",
    "from sklearn.metrics import mean_squared_error, r2_score, accuracy_score, f1_score, recall_score, matthews_corrcoef, confusion_matrix, precision_score, mean_absolute_error\n",
    "from sklearn.model_selection import train_test_split\n",
    "from sklearn.linear_model import LogisticRegression\n",
    "\n",
    "# https://dateutil.readthedocs.io/en/stable/relativedelta.html\n",
    "from datetime import datetime\n",
    "from dateutil.relativedelta import relativedelta, MO\n",
    "\n",
    "# Plotting\n",
    "import matplotlib.pyplot as plt\n",
    "import seaborn as sns\n",
    "from matplotlib.offsetbox import OffsetImage, AnnotationBbox"
   ]
  },
  {
   "cell_type": "markdown",
   "metadata": {},
   "source": [
    "## Importing the database: RBA_KYC_Accounts_ALL_Ids.xlsx\n",
    "Read source data from the Excel files"
   ]
  },
  {
   "cell_type": "code",
   "execution_count": 2,
   "metadata": {},
   "outputs": [],
   "source": [
    "# df = pd.read_excel('raw/RBA_KYC_Accounts_ALL_Ids.xlsx')\n",
    "df_metadata_profession = pd.read_excel('raw/RBA Metadata.xlsx', sheet_name='Profession', keep_default_na=False)\n",
    "df_metadata_ledgers = pd.read_excel('raw/RBA Metadata.xlsx', sheet_name='Ledgers', keep_default_na=False)\n",
    "df_metadata_cus_class = pd.read_excel('raw/RBA Metadata.xlsx', sheet_name='Cus_Class', keep_default_na=False)\n",
    "df_metadata_eco_sec = pd.read_excel('raw/RBA Metadata.xlsx', sheet_name='ECO_SEC', keep_default_na=False)\n",
    "df_metadata_legal_sta_code = pd.read_excel('raw/RBA Metadata.xlsx', sheet_name='Legal_STA_Code', keep_default_na=False)\n",
    "df_metadata_countries = pd.read_excel('raw/RBA Metadata.xlsx', sheet_name='COUNTRIES', keep_default_na=False)\n",
    "df_metadata_currencies = pd.read_excel('raw/RBA Metadata.xlsx', sheet_name='Currencies', keep_default_na=False)"
   ]
  },
  {
   "cell_type": "markdown",
   "metadata": {
    "pycharm": {
     "name": "#%% md\n"
    }
   },
   "source": [
    "For speed, we store the Excel file in a Pickle.\n",
    "https://stackoverflow.com/a/17098736/3780957"
   ]
  },
  {
   "cell_type": "code",
   "execution_count": 3,
   "metadata": {},
   "outputs": [],
   "source": [
    "# df.to_pickle('storage\\RBA_KYC_Accounts_ALL_Ids.pkl')\n",
    "df = pd.read_pickle('storage/RBA_KYC_Accounts_ALL_Ids.pkl')"
   ]
  },
  {
   "cell_type": "code",
   "execution_count": 4,
   "metadata": {
    "tags": []
   },
   "outputs": [
    {
     "name": "stdout",
     "output_type": "stream",
     "text": [
      "\n",
      "\n",
      "\n",
      "Alek\n",
      "Index(['org_code', 'branchCode', 'customerId', 'fullaccount', 'customerType',\n",
      "       'creationDate', 'onboarding', 'residentStatus', 'residentCountry'],\n",
      "      dtype='object')\n",
      "\n",
      "\n",
      "\n",
      "Addison\n",
      "Index(['nationalityOriginal', 'extraNationality', 'dateOfBirth', 'age_in_year',\n",
      "       'birthCountry', 'birthPlace', 'profession', 'companyType', 'giinCode'],\n",
      "      dtype='object')\n",
      "\n",
      "\n",
      "\n",
      "Esperanza\n",
      "Index(['lastUpdate', 'status', 'ledgerCode', 'accountCurrency', 'jointAccount',\n",
      "       'IsBlackListed', 'CUS_CLASS', 'ECO_SEC', 'TYPE_OF_DEP'],\n",
      "      dtype='object')\n",
      "\n",
      "\n",
      "\n",
      "Aziz\n",
      "Index(['GENDER', 'LEGAL_STA_CODE', 'legal_Stat_desc', 'avg_last_10_days',\n",
      "       'avg_last_30_days', 'avg_last_90_days', 'number_of_cash_dep_90_days',\n",
      "       'avg_cash_deposit_90_days', 'number_of_deposit_90_days'],\n",
      "      dtype='object')\n",
      "\n",
      "\n",
      "\n",
      "Bretti\n",
      "Index(['avg_of_dep_90_days', 'number_of_cash_wd_90_days',\n",
      "       'avg_of_cash_wd_90_days', 'number_of_wd_90_days', 'avg_of_wd_90_days',\n",
      "       'date_of_assessment', 'rbaGradeAbrv', 'rba_grade_desc', 'score_card',\n",
      "       'score_card_Desc', 'rbaValue'],\n",
      "      dtype='object')\n"
     ]
    }
   ],
   "source": [
    "# Columns allocation\n",
    "\n",
    "print('\\n'*2)\n",
    "print('Alek')\n",
    "print(df.columns[0:9])\n",
    "print('\\n'*2)\n",
    "print('Addison')\n",
    "print(df.columns[9:18])\n",
    "print('\\n'*2)\n",
    "print('Esperanza')\n",
    "print(df.columns[18:27])\n",
    "print('\\n'*2)\n",
    "print('Aziz')\n",
    "print(df.columns[27:36])\n",
    "print('\\n'*2)\n",
    "print('Bretti')\n",
    "print(df.columns[36:])"
   ]
  },
  {
   "cell_type": "markdown",
   "metadata": {
    "pycharm": {
     "name": "#%% md\n"
    }
   },
   "source": [
    "Merge data frames to have the complete country name.\n",
    "https://pandas.pydata.org/pandas-docs/stable/reference/api/pandas.merge.html#pandas.merge"
   ]
  },
  {
   "cell_type": "code",
   "execution_count": 5,
   "metadata": {},
   "outputs": [],
   "source": [
    "def merge_metatada(metadata, name_left, df):\n",
    "    metadata.columns = metadata.columns.str.lower()\n",
    "    name_col = f'{name_left}_DescriptionENG'\n",
    "    metadata[name_col] =metadata['descriptioneng']\n",
    "    df = df.merge(metadata[['value', name_col]], left_on=name_left, right_on='value', how='left')\n",
    "    df.drop('value', axis=1, inplace=True)\n",
    "    return df\n",
    "\n",
    "df = merge_metatada(df_metadata_profession, 'profession', df)\n",
    "df = merge_metatada(df_metadata_ledgers, 'ledgerCode', df)\n",
    "df = merge_metatada(df_metadata_cus_class, 'CUS_CLASS', df)\n",
    "df = merge_metatada(df_metadata_eco_sec, 'ECO_SEC', df)\n",
    "df = merge_metatada(df_metadata_legal_sta_code, 'LEGAL_STA_CODE', df)\n",
    "df = merge_metatada(df_metadata_currencies, 'accountCurrency', df)"
   ]
  },
  {
   "cell_type": "code",
   "execution_count": 6,
   "metadata": {
    "collapsed": false,
    "jupyter": {
     "outputs_hidden": false
    },
    "pycharm": {
     "name": "#%%\n"
    }
   },
   "outputs": [],
   "source": [
    "for x in ['residentCountry', 'nationalityOriginal', 'extraNationality']:\n",
    "    country_x = f'{x}_CountryName'\n",
    "    df_metadata_countries[country_x] = df_metadata_countries['DescriptionENG']\n",
    "    df = df.merge(df_metadata_countries[['value', country_x]], left_on=x, right_on='value', how='left')\n",
    "    df.drop('value', axis=1, inplace=True)"
   ]
  },
  {
   "cell_type": "markdown",
   "metadata": {
    "pycharm": {
     "name": "#%% md\n"
    }
   },
   "source": [
    "Rename column"
   ]
  },
  {
   "cell_type": "code",
   "execution_count": 7,
   "metadata": {},
   "outputs": [],
   "source": [
    "df['Risk_Description'] = df['rba_grade_desc']\n",
    "df.drop(['rba_grade_desc'], axis = 1, inplace = True) "
   ]
  },
  {
   "cell_type": "markdown",
   "metadata": {},
   "source": [
    "Casting variables to `datetime64[ns]` and `object` (*string*)"
   ]
  },
  {
   "cell_type": "code",
   "execution_count": 8,
   "metadata": {},
   "outputs": [],
   "source": [
    "as_dates = ['creationDate', 'dateOfBirth', 'date_of_assessment']\n",
    "for as_date in as_dates:\n",
    "    df[as_date] = df[as_date].astype('datetime64[ns]')\n",
    "\n",
    "as_objects = ['profession', 'ledgerCode', 'CUS_CLASS', 'ECO_SEC', 'LEGAL_STA_CODE', 'accountCurrency','org_code', 'branchCode', 'customerId', 'customerType', 'residentStatus', 'birthCountry', 'companyType', 'ledgerCode', 'jointAccount', 'IsBlackListed', 'CUS_CLASS', 'ECO_SEC', 'TYPE_OF_DEP', 'GENDER', 'LEGAL_STA_CODE', 'legal_Stat_desc', 'score_card_Desc', 'rbaValue']\n",
    "for as_object in as_objects:\n",
    "    df[as_objects] = df[as_objects].astype('object')    "
   ]
  },
  {
   "cell_type": "markdown",
   "metadata": {},
   "source": [
    "Creating the variable `creationDate_indays`"
   ]
  },
  {
   "cell_type": "code",
   "execution_count": 9,
   "metadata": {},
   "outputs": [
    {
     "data": {
      "text/plain": [
       "0   1295 days\n",
       "1   1860 days\n",
       "2   1860 days\n",
       "3   1860 days\n",
       "4   1860 days\n",
       "Name: creationDate_indays, dtype: timedelta64[ns]"
      ]
     },
     "execution_count": 9,
     "metadata": {},
     "output_type": "execute_result"
    }
   ],
   "source": [
    "df['creationDate_indays'] = df['creationDate'].max()-df['creationDate']\n",
    "df['creationDate_indays'].head()"
   ]
  },
  {
   "cell_type": "markdown",
   "metadata": {},
   "source": [
    "Creating the variable `dateOfBirth`"
   ]
  },
  {
   "cell_type": "code",
   "execution_count": 10,
   "metadata": {},
   "outputs": [],
   "source": [
    "def f(end):\n",
    "    global max_date\n",
    "    try:\n",
    "        r = relativedelta(max_date, end) \n",
    "        return(r.years)\n",
    "    except:\n",
    "        return(0)\n",
    "\n",
    "max_date = df['dateOfBirth'].max()\n",
    "df['age'] = df['dateOfBirth'].apply(f)"
   ]
  },
  {
   "cell_type": "markdown",
   "metadata": {},
   "source": [
    "# Quick statistics"
   ]
  },
  {
   "cell_type": "markdown",
   "metadata": {
    "pycharm": {
     "name": "#%% md\n"
    }
   },
   "source": [
    "Using default *pandas.DataFrame.describe()*"
   ]
  },
  {
   "cell_type": "code",
   "execution_count": 11,
   "metadata": {
    "collapsed": false,
    "jupyter": {
     "outputs_hidden": false
    },
    "pycharm": {
     "name": "#%%\n"
    }
   },
   "outputs": [
    {
     "data": {
      "text/html": [
       "<div>\n",
       "<style scoped>\n",
       "    .dataframe tbody tr th:only-of-type {\n",
       "        vertical-align: middle;\n",
       "    }\n",
       "\n",
       "    .dataframe tbody tr th {\n",
       "        vertical-align: top;\n",
       "    }\n",
       "\n",
       "    .dataframe thead th {\n",
       "        text-align: right;\n",
       "    }\n",
       "</style>\n",
       "<table border=\"1\" class=\"dataframe\">\n",
       "  <thead>\n",
       "    <tr style=\"text-align: right;\">\n",
       "      <th></th>\n",
       "      <th>age_in_year</th>\n",
       "      <th>lastUpdate</th>\n",
       "      <th>avg_last_10_days</th>\n",
       "      <th>avg_last_30_days</th>\n",
       "      <th>avg_last_90_days</th>\n",
       "      <th>number_of_cash_dep_90_days</th>\n",
       "      <th>avg_cash_deposit_90_days</th>\n",
       "      <th>number_of_deposit_90_days</th>\n",
       "      <th>avg_of_dep_90_days</th>\n",
       "      <th>number_of_cash_wd_90_days</th>\n",
       "      <th>avg_of_cash_wd_90_days</th>\n",
       "      <th>number_of_wd_90_days</th>\n",
       "      <th>avg_of_wd_90_days</th>\n",
       "      <th>creationDate_indays</th>\n",
       "      <th>age</th>\n",
       "    </tr>\n",
       "  </thead>\n",
       "  <tbody>\n",
       "    <tr>\n",
       "      <th>count</th>\n",
       "      <td>220288.000000</td>\n",
       "      <td>0.0</td>\n",
       "      <td>2.250130e+05</td>\n",
       "      <td>2.250130e+05</td>\n",
       "      <td>225013.000000</td>\n",
       "      <td>225013.000000</td>\n",
       "      <td>2.250130e+05</td>\n",
       "      <td>225013.000000</td>\n",
       "      <td>2.250130e+05</td>\n",
       "      <td>225013.000000</td>\n",
       "      <td>2.250130e+05</td>\n",
       "      <td>225013.000000</td>\n",
       "      <td>2.250130e+05</td>\n",
       "      <td>225013</td>\n",
       "      <td>225013.000000</td>\n",
       "    </tr>\n",
       "    <tr>\n",
       "      <th>mean</th>\n",
       "      <td>41.288468</td>\n",
       "      <td>NaN</td>\n",
       "      <td>7.737324e+03</td>\n",
       "      <td>1.967705e+03</td>\n",
       "      <td>18.556005</td>\n",
       "      <td>0.491594</td>\n",
       "      <td>-1.114348e+03</td>\n",
       "      <td>1.132215</td>\n",
       "      <td>-3.551144e+03</td>\n",
       "      <td>0.254168</td>\n",
       "      <td>4.761892e+02</td>\n",
       "      <td>0.869016</td>\n",
       "      <td>2.451792e+03</td>\n",
       "      <td>2418 days 05:45:12.147312</td>\n",
       "      <td>39.256314</td>\n",
       "    </tr>\n",
       "    <tr>\n",
       "      <th>std</th>\n",
       "      <td>16.020561</td>\n",
       "      <td>NaN</td>\n",
       "      <td>1.325553e+06</td>\n",
       "      <td>3.345583e+05</td>\n",
       "      <td>3687.237332</td>\n",
       "      <td>5.336162</td>\n",
       "      <td>3.027533e+04</td>\n",
       "      <td>19.711656</td>\n",
       "      <td>9.157115e+04</td>\n",
       "      <td>1.175268</td>\n",
       "      <td>2.027460e+04</td>\n",
       "      <td>12.373052</td>\n",
       "      <td>5.818315e+04</td>\n",
       "      <td>2409 days 18:39:48.583098</td>\n",
       "      <td>16.879533</td>\n",
       "    </tr>\n",
       "    <tr>\n",
       "      <th>min</th>\n",
       "      <td>1.000000</td>\n",
       "      <td>NaN</td>\n",
       "      <td>-1.791005e+08</td>\n",
       "      <td>-4.513426e+07</td>\n",
       "      <td>-485686.730000</td>\n",
       "      <td>0.000000</td>\n",
       "      <td>-5.482044e+06</td>\n",
       "      <td>0.000000</td>\n",
       "      <td>-1.654371e+07</td>\n",
       "      <td>0.000000</td>\n",
       "      <td>0.000000e+00</td>\n",
       "      <td>0.000000</td>\n",
       "      <td>0.000000e+00</td>\n",
       "      <td>0 days 00:00:00</td>\n",
       "      <td>0.000000</td>\n",
       "    </tr>\n",
       "    <tr>\n",
       "      <th>25%</th>\n",
       "      <td>31.000000</td>\n",
       "      <td>NaN</td>\n",
       "      <td>0.000000e+00</td>\n",
       "      <td>0.000000e+00</td>\n",
       "      <td>0.000000</td>\n",
       "      <td>0.000000</td>\n",
       "      <td>0.000000e+00</td>\n",
       "      <td>0.000000</td>\n",
       "      <td>0.000000e+00</td>\n",
       "      <td>0.000000</td>\n",
       "      <td>0.000000e+00</td>\n",
       "      <td>0.000000</td>\n",
       "      <td>0.000000e+00</td>\n",
       "      <td>731 days 00:00:00</td>\n",
       "      <td>29.000000</td>\n",
       "    </tr>\n",
       "    <tr>\n",
       "      <th>50%</th>\n",
       "      <td>41.000000</td>\n",
       "      <td>NaN</td>\n",
       "      <td>0.000000e+00</td>\n",
       "      <td>0.000000e+00</td>\n",
       "      <td>0.000000</td>\n",
       "      <td>0.000000</td>\n",
       "      <td>0.000000e+00</td>\n",
       "      <td>0.000000</td>\n",
       "      <td>0.000000e+00</td>\n",
       "      <td>0.000000</td>\n",
       "      <td>0.000000e+00</td>\n",
       "      <td>0.000000</td>\n",
       "      <td>0.000000e+00</td>\n",
       "      <td>1739 days 00:00:00</td>\n",
       "      <td>39.000000</td>\n",
       "    </tr>\n",
       "    <tr>\n",
       "      <th>75%</th>\n",
       "      <td>52.000000</td>\n",
       "      <td>NaN</td>\n",
       "      <td>6.906500e+02</td>\n",
       "      <td>1.821700e+02</td>\n",
       "      <td>1.090000</td>\n",
       "      <td>0.000000</td>\n",
       "      <td>0.000000e+00</td>\n",
       "      <td>0.000000</td>\n",
       "      <td>0.000000e+00</td>\n",
       "      <td>0.000000</td>\n",
       "      <td>0.000000e+00</td>\n",
       "      <td>0.000000</td>\n",
       "      <td>0.000000e+00</td>\n",
       "      <td>3065 days 00:00:00</td>\n",
       "      <td>50.000000</td>\n",
       "    </tr>\n",
       "    <tr>\n",
       "      <th>max</th>\n",
       "      <td>119.000000</td>\n",
       "      <td>NaN</td>\n",
       "      <td>1.531514e+08</td>\n",
       "      <td>3.859913e+07</td>\n",
       "      <td>415044.440000</td>\n",
       "      <td>1267.000000</td>\n",
       "      <td>0.000000e+00</td>\n",
       "      <td>3292.000000</td>\n",
       "      <td>5.867291e+05</td>\n",
       "      <td>78.000000</td>\n",
       "      <td>8.394000e+06</td>\n",
       "      <td>2858.000000</td>\n",
       "      <td>9.942530e+06</td>\n",
       "      <td>14644 days 00:00:00</td>\n",
       "      <td>118.000000</td>\n",
       "    </tr>\n",
       "  </tbody>\n",
       "</table>\n",
       "</div>"
      ],
      "text/plain": [
       "         age_in_year  lastUpdate  avg_last_10_days  avg_last_30_days  \\\n",
       "count  220288.000000         0.0      2.250130e+05      2.250130e+05   \n",
       "mean       41.288468         NaN      7.737324e+03      1.967705e+03   \n",
       "std        16.020561         NaN      1.325553e+06      3.345583e+05   \n",
       "min         1.000000         NaN     -1.791005e+08     -4.513426e+07   \n",
       "25%        31.000000         NaN      0.000000e+00      0.000000e+00   \n",
       "50%        41.000000         NaN      0.000000e+00      0.000000e+00   \n",
       "75%        52.000000         NaN      6.906500e+02      1.821700e+02   \n",
       "max       119.000000         NaN      1.531514e+08      3.859913e+07   \n",
       "\n",
       "       avg_last_90_days  number_of_cash_dep_90_days  avg_cash_deposit_90_days  \\\n",
       "count     225013.000000               225013.000000              2.250130e+05   \n",
       "mean          18.556005                    0.491594             -1.114348e+03   \n",
       "std         3687.237332                    5.336162              3.027533e+04   \n",
       "min      -485686.730000                    0.000000             -5.482044e+06   \n",
       "25%            0.000000                    0.000000              0.000000e+00   \n",
       "50%            0.000000                    0.000000              0.000000e+00   \n",
       "75%            1.090000                    0.000000              0.000000e+00   \n",
       "max       415044.440000                 1267.000000              0.000000e+00   \n",
       "\n",
       "       number_of_deposit_90_days  avg_of_dep_90_days  \\\n",
       "count              225013.000000        2.250130e+05   \n",
       "mean                    1.132215       -3.551144e+03   \n",
       "std                    19.711656        9.157115e+04   \n",
       "min                     0.000000       -1.654371e+07   \n",
       "25%                     0.000000        0.000000e+00   \n",
       "50%                     0.000000        0.000000e+00   \n",
       "75%                     0.000000        0.000000e+00   \n",
       "max                  3292.000000        5.867291e+05   \n",
       "\n",
       "       number_of_cash_wd_90_days  avg_of_cash_wd_90_days  \\\n",
       "count              225013.000000            2.250130e+05   \n",
       "mean                    0.254168            4.761892e+02   \n",
       "std                     1.175268            2.027460e+04   \n",
       "min                     0.000000            0.000000e+00   \n",
       "25%                     0.000000            0.000000e+00   \n",
       "50%                     0.000000            0.000000e+00   \n",
       "75%                     0.000000            0.000000e+00   \n",
       "max                    78.000000            8.394000e+06   \n",
       "\n",
       "       number_of_wd_90_days  avg_of_wd_90_days        creationDate_indays  \\\n",
       "count         225013.000000       2.250130e+05                     225013   \n",
       "mean               0.869016       2.451792e+03  2418 days 05:45:12.147312   \n",
       "std               12.373052       5.818315e+04  2409 days 18:39:48.583098   \n",
       "min                0.000000       0.000000e+00            0 days 00:00:00   \n",
       "25%                0.000000       0.000000e+00          731 days 00:00:00   \n",
       "50%                0.000000       0.000000e+00         1739 days 00:00:00   \n",
       "75%                0.000000       0.000000e+00         3065 days 00:00:00   \n",
       "max             2858.000000       9.942530e+06        14644 days 00:00:00   \n",
       "\n",
       "                 age  \n",
       "count  225013.000000  \n",
       "mean       39.256314  \n",
       "std        16.879533  \n",
       "min         0.000000  \n",
       "25%        29.000000  \n",
       "50%        39.000000  \n",
       "75%        50.000000  \n",
       "max       118.000000  "
      ]
     },
     "execution_count": 11,
     "metadata": {},
     "output_type": "execute_result"
    }
   ],
   "source": [
    "df.describe()"
   ]
  },
  {
   "cell_type": "markdown",
   "metadata": {},
   "source": [
    "Description per type"
   ]
  },
  {
   "cell_type": "code",
   "execution_count": 12,
   "metadata": {
    "collapsed": false,
    "jupyter": {
     "outputs_hidden": false
    },
    "pycharm": {
     "name": "#%%\n"
    }
   },
   "outputs": [
    {
     "data": {
      "text/html": [
       "<div>\n",
       "<style scoped>\n",
       "    .dataframe tbody tr th:only-of-type {\n",
       "        vertical-align: middle;\n",
       "    }\n",
       "\n",
       "    .dataframe tbody tr th {\n",
       "        vertical-align: top;\n",
       "    }\n",
       "\n",
       "    .dataframe thead th {\n",
       "        text-align: right;\n",
       "    }\n",
       "</style>\n",
       "<table border=\"1\" class=\"dataframe\">\n",
       "  <thead>\n",
       "    <tr style=\"text-align: right;\">\n",
       "      <th></th>\n",
       "      <th>count</th>\n",
       "      <th>unique</th>\n",
       "      <th>top</th>\n",
       "      <th>freq</th>\n",
       "    </tr>\n",
       "  </thead>\n",
       "  <tbody>\n",
       "    <tr>\n",
       "      <th>org_code</th>\n",
       "      <td>225013</td>\n",
       "      <td>1</td>\n",
       "      <td>1</td>\n",
       "      <td>225013</td>\n",
       "    </tr>\n",
       "    <tr>\n",
       "      <th>branchCode</th>\n",
       "      <td>225013</td>\n",
       "      <td>30</td>\n",
       "      <td>202</td>\n",
       "      <td>19811</td>\n",
       "    </tr>\n",
       "    <tr>\n",
       "      <th>customerId</th>\n",
       "      <td>225013</td>\n",
       "      <td>75339</td>\n",
       "      <td>30205511090005696</td>\n",
       "      <td>943</td>\n",
       "    </tr>\n",
       "    <tr>\n",
       "      <th>fullaccount</th>\n",
       "      <td>225013</td>\n",
       "      <td>220434</td>\n",
       "      <td>020902507770010010000</td>\n",
       "      <td>26</td>\n",
       "    </tr>\n",
       "    <tr>\n",
       "      <th>customerType</th>\n",
       "      <td>225013</td>\n",
       "      <td>2</td>\n",
       "      <td>1</td>\n",
       "      <td>199139</td>\n",
       "    </tr>\n",
       "    <tr>\n",
       "      <th>onboarding</th>\n",
       "      <td>225013</td>\n",
       "      <td>2</td>\n",
       "      <td>N</td>\n",
       "      <td>219936</td>\n",
       "    </tr>\n",
       "    <tr>\n",
       "      <th>residentStatus</th>\n",
       "      <td>225013</td>\n",
       "      <td>2</td>\n",
       "      <td>1</td>\n",
       "      <td>220241</td>\n",
       "    </tr>\n",
       "    <tr>\n",
       "      <th>residentCountry</th>\n",
       "      <td>224417</td>\n",
       "      <td>62</td>\n",
       "      <td>JO</td>\n",
       "      <td>219398</td>\n",
       "    </tr>\n",
       "    <tr>\n",
       "      <th>nationalityOriginal</th>\n",
       "      <td>221574</td>\n",
       "      <td>67</td>\n",
       "      <td>JO</td>\n",
       "      <td>213286</td>\n",
       "    </tr>\n",
       "    <tr>\n",
       "      <th>extraNationality</th>\n",
       "      <td>1793</td>\n",
       "      <td>35</td>\n",
       "      <td>US</td>\n",
       "      <td>1028</td>\n",
       "    </tr>\n",
       "    <tr>\n",
       "      <th>birthCountry</th>\n",
       "      <td>0</td>\n",
       "      <td>0</td>\n",
       "      <td>NaN</td>\n",
       "      <td>NaN</td>\n",
       "    </tr>\n",
       "    <tr>\n",
       "      <th>birthPlace</th>\n",
       "      <td>203026</td>\n",
       "      <td>1000</td>\n",
       "      <td>????</td>\n",
       "      <td>76312</td>\n",
       "    </tr>\n",
       "    <tr>\n",
       "      <th>profession</th>\n",
       "      <td>79748</td>\n",
       "      <td>32</td>\n",
       "      <td>20</td>\n",
       "      <td>30334</td>\n",
       "    </tr>\n",
       "    <tr>\n",
       "      <th>companyType</th>\n",
       "      <td>114719</td>\n",
       "      <td>33</td>\n",
       "      <td>51</td>\n",
       "      <td>89314</td>\n",
       "    </tr>\n",
       "    <tr>\n",
       "      <th>giinCode</th>\n",
       "      <td>12</td>\n",
       "      <td>1</td>\n",
       "      <td>ZLVK2E.99999.SL.400</td>\n",
       "      <td>12</td>\n",
       "    </tr>\n",
       "    <tr>\n",
       "      <th>status</th>\n",
       "      <td>225013</td>\n",
       "      <td>1</td>\n",
       "      <td>Active</td>\n",
       "      <td>225013</td>\n",
       "    </tr>\n",
       "    <tr>\n",
       "      <th>ledgerCode</th>\n",
       "      <td>225013</td>\n",
       "      <td>227</td>\n",
       "      <td>10</td>\n",
       "      <td>49483</td>\n",
       "    </tr>\n",
       "    <tr>\n",
       "      <th>accountCurrency</th>\n",
       "      <td>225013</td>\n",
       "      <td>20</td>\n",
       "      <td>JOD</td>\n",
       "      <td>214789</td>\n",
       "    </tr>\n",
       "    <tr>\n",
       "      <th>jointAccount</th>\n",
       "      <td>225013</td>\n",
       "      <td>2</td>\n",
       "      <td>0</td>\n",
       "      <td>220144</td>\n",
       "    </tr>\n",
       "    <tr>\n",
       "      <th>IsBlackListed</th>\n",
       "      <td>225013</td>\n",
       "      <td>1</td>\n",
       "      <td>0</td>\n",
       "      <td>225013</td>\n",
       "    </tr>\n",
       "    <tr>\n",
       "      <th>CUS_CLASS</th>\n",
       "      <td>225013</td>\n",
       "      <td>10</td>\n",
       "      <td>2</td>\n",
       "      <td>158856</td>\n",
       "    </tr>\n",
       "    <tr>\n",
       "      <th>ECO_SEC</th>\n",
       "      <td>225013</td>\n",
       "      <td>206</td>\n",
       "      <td>90</td>\n",
       "      <td>199270</td>\n",
       "    </tr>\n",
       "    <tr>\n",
       "      <th>TYPE_OF_DEP</th>\n",
       "      <td>225013</td>\n",
       "      <td>51</td>\n",
       "      <td>20</td>\n",
       "      <td>98819</td>\n",
       "    </tr>\n",
       "    <tr>\n",
       "      <th>GENDER</th>\n",
       "      <td>104357</td>\n",
       "      <td>2</td>\n",
       "      <td>1</td>\n",
       "      <td>78166</td>\n",
       "    </tr>\n",
       "    <tr>\n",
       "      <th>LEGAL_STA_CODE</th>\n",
       "      <td>222397</td>\n",
       "      <td>4</td>\n",
       "      <td>1</td>\n",
       "      <td>191848</td>\n",
       "    </tr>\n",
       "    <tr>\n",
       "      <th>legal_Stat_desc</th>\n",
       "      <td>0</td>\n",
       "      <td>0</td>\n",
       "      <td>NaN</td>\n",
       "      <td>NaN</td>\n",
       "    </tr>\n",
       "    <tr>\n",
       "      <th>rbaGradeAbrv</th>\n",
       "      <td>225013</td>\n",
       "      <td>3</td>\n",
       "      <td>L</td>\n",
       "      <td>159688</td>\n",
       "    </tr>\n",
       "    <tr>\n",
       "      <th>score_card</th>\n",
       "      <td>225013</td>\n",
       "      <td>4</td>\n",
       "      <td>I-Existing</td>\n",
       "      <td>178495</td>\n",
       "    </tr>\n",
       "    <tr>\n",
       "      <th>score_card_Desc</th>\n",
       "      <td>0</td>\n",
       "      <td>0</td>\n",
       "      <td>NaN</td>\n",
       "      <td>NaN</td>\n",
       "    </tr>\n",
       "    <tr>\n",
       "      <th>rbaValue</th>\n",
       "      <td>225013</td>\n",
       "      <td>692</td>\n",
       "      <td>16.53</td>\n",
       "      <td>29341</td>\n",
       "    </tr>\n",
       "    <tr>\n",
       "      <th>profession_DescriptionENG</th>\n",
       "      <td>79748</td>\n",
       "      <td>32</td>\n",
       "      <td>Officer</td>\n",
       "      <td>30334</td>\n",
       "    </tr>\n",
       "    <tr>\n",
       "      <th>ledgerCode_DescriptionENG</th>\n",
       "      <td>208203</td>\n",
       "      <td>128</td>\n",
       "      <td>my neighbour</td>\n",
       "      <td>49483</td>\n",
       "    </tr>\n",
       "    <tr>\n",
       "      <th>CUS_CLASS_DescriptionENG</th>\n",
       "      <td>225013</td>\n",
       "      <td>9</td>\n",
       "      <td>Civil Status Identity</td>\n",
       "      <td>158856</td>\n",
       "    </tr>\n",
       "    <tr>\n",
       "      <th>ECO_SEC_DescriptionENG</th>\n",
       "      <td>225013</td>\n",
       "      <td>204</td>\n",
       "      <td>Individuals</td>\n",
       "      <td>199270</td>\n",
       "    </tr>\n",
       "    <tr>\n",
       "      <th>LEGAL_STA_CODE_DescriptionENG</th>\n",
       "      <td>222397</td>\n",
       "      <td>4</td>\n",
       "      <td>Governmental institutions within the budget</td>\n",
       "      <td>191848</td>\n",
       "    </tr>\n",
       "    <tr>\n",
       "      <th>accountCurrency_DescriptionENG</th>\n",
       "      <td>225013</td>\n",
       "      <td>20</td>\n",
       "      <td>Jordanian Dinar</td>\n",
       "      <td>214789</td>\n",
       "    </tr>\n",
       "    <tr>\n",
       "      <th>residentCountry_CountryName</th>\n",
       "      <td>224415</td>\n",
       "      <td>60</td>\n",
       "      <td>Jordan</td>\n",
       "      <td>219398</td>\n",
       "    </tr>\n",
       "    <tr>\n",
       "      <th>nationalityOriginal_CountryName</th>\n",
       "      <td>221569</td>\n",
       "      <td>65</td>\n",
       "      <td>Jordan</td>\n",
       "      <td>213286</td>\n",
       "    </tr>\n",
       "    <tr>\n",
       "      <th>extraNationality_CountryName</th>\n",
       "      <td>1358</td>\n",
       "      <td>34</td>\n",
       "      <td>United States</td>\n",
       "      <td>1028</td>\n",
       "    </tr>\n",
       "    <tr>\n",
       "      <th>Risk_Description</th>\n",
       "      <td>225013</td>\n",
       "      <td>3</td>\n",
       "      <td>Low</td>\n",
       "      <td>159688</td>\n",
       "    </tr>\n",
       "  </tbody>\n",
       "</table>\n",
       "</div>"
      ],
      "text/plain": [
       "                                  count  unique  \\\n",
       "org_code                         225013       1   \n",
       "branchCode                       225013      30   \n",
       "customerId                       225013   75339   \n",
       "fullaccount                      225013  220434   \n",
       "customerType                     225013       2   \n",
       "onboarding                       225013       2   \n",
       "residentStatus                   225013       2   \n",
       "residentCountry                  224417      62   \n",
       "nationalityOriginal              221574      67   \n",
       "extraNationality                   1793      35   \n",
       "birthCountry                          0       0   \n",
       "birthPlace                       203026    1000   \n",
       "profession                        79748      32   \n",
       "companyType                      114719      33   \n",
       "giinCode                             12       1   \n",
       "status                           225013       1   \n",
       "ledgerCode                       225013     227   \n",
       "accountCurrency                  225013      20   \n",
       "jointAccount                     225013       2   \n",
       "IsBlackListed                    225013       1   \n",
       "CUS_CLASS                        225013      10   \n",
       "ECO_SEC                          225013     206   \n",
       "TYPE_OF_DEP                      225013      51   \n",
       "GENDER                           104357       2   \n",
       "LEGAL_STA_CODE                   222397       4   \n",
       "legal_Stat_desc                       0       0   \n",
       "rbaGradeAbrv                     225013       3   \n",
       "score_card                       225013       4   \n",
       "score_card_Desc                       0       0   \n",
       "rbaValue                         225013     692   \n",
       "profession_DescriptionENG         79748      32   \n",
       "ledgerCode_DescriptionENG        208203     128   \n",
       "CUS_CLASS_DescriptionENG         225013       9   \n",
       "ECO_SEC_DescriptionENG           225013     204   \n",
       "LEGAL_STA_CODE_DescriptionENG    222397       4   \n",
       "accountCurrency_DescriptionENG   225013      20   \n",
       "residentCountry_CountryName      224415      60   \n",
       "nationalityOriginal_CountryName  221569      65   \n",
       "extraNationality_CountryName       1358      34   \n",
       "Risk_Description                 225013       3   \n",
       "\n",
       "                                                                         top  \\\n",
       "org_code                                                                   1   \n",
       "branchCode                                                               202   \n",
       "customerId                                                 30205511090005696   \n",
       "fullaccount                                            020902507770010010000   \n",
       "customerType                                                               1   \n",
       "onboarding                                                                 N   \n",
       "residentStatus                                                             1   \n",
       "residentCountry                                                           JO   \n",
       "nationalityOriginal                                                       JO   \n",
       "extraNationality                                                          US   \n",
       "birthCountry                                                             NaN   \n",
       "birthPlace                                                              ????   \n",
       "profession                                                                20   \n",
       "companyType                                                               51   \n",
       "giinCode                                                 ZLVK2E.99999.SL.400   \n",
       "status                                                                Active   \n",
       "ledgerCode                                                                10   \n",
       "accountCurrency                                                          JOD   \n",
       "jointAccount                                                               0   \n",
       "IsBlackListed                                                              0   \n",
       "CUS_CLASS                                                                  2   \n",
       "ECO_SEC                                                                   90   \n",
       "TYPE_OF_DEP                                                               20   \n",
       "GENDER                                                                     1   \n",
       "LEGAL_STA_CODE                                                             1   \n",
       "legal_Stat_desc                                                          NaN   \n",
       "rbaGradeAbrv                                                               L   \n",
       "score_card                                                        I-Existing   \n",
       "score_card_Desc                                                          NaN   \n",
       "rbaValue                                                               16.53   \n",
       "profession_DescriptionENG                                            Officer   \n",
       "ledgerCode_DescriptionENG                                       my neighbour   \n",
       "CUS_CLASS_DescriptionENG                               Civil Status Identity   \n",
       "ECO_SEC_DescriptionENG                                           Individuals   \n",
       "LEGAL_STA_CODE_DescriptionENG    Governmental institutions within the budget   \n",
       "accountCurrency_DescriptionENG                               Jordanian Dinar   \n",
       "residentCountry_CountryName                                           Jordan   \n",
       "nationalityOriginal_CountryName                                       Jordan   \n",
       "extraNationality_CountryName                                   United States   \n",
       "Risk_Description                                                         Low   \n",
       "\n",
       "                                   freq  \n",
       "org_code                         225013  \n",
       "branchCode                        19811  \n",
       "customerId                          943  \n",
       "fullaccount                          26  \n",
       "customerType                     199139  \n",
       "onboarding                       219936  \n",
       "residentStatus                   220241  \n",
       "residentCountry                  219398  \n",
       "nationalityOriginal              213286  \n",
       "extraNationality                   1028  \n",
       "birthCountry                        NaN  \n",
       "birthPlace                        76312  \n",
       "profession                        30334  \n",
       "companyType                       89314  \n",
       "giinCode                             12  \n",
       "status                           225013  \n",
       "ledgerCode                        49483  \n",
       "accountCurrency                  214789  \n",
       "jointAccount                     220144  \n",
       "IsBlackListed                    225013  \n",
       "CUS_CLASS                        158856  \n",
       "ECO_SEC                          199270  \n",
       "TYPE_OF_DEP                       98819  \n",
       "GENDER                            78166  \n",
       "LEGAL_STA_CODE                   191848  \n",
       "legal_Stat_desc                     NaN  \n",
       "rbaGradeAbrv                     159688  \n",
       "score_card                       178495  \n",
       "score_card_Desc                     NaN  \n",
       "rbaValue                          29341  \n",
       "profession_DescriptionENG         30334  \n",
       "ledgerCode_DescriptionENG         49483  \n",
       "CUS_CLASS_DescriptionENG         158856  \n",
       "ECO_SEC_DescriptionENG           199270  \n",
       "LEGAL_STA_CODE_DescriptionENG    191848  \n",
       "accountCurrency_DescriptionENG   214789  \n",
       "residentCountry_CountryName      219398  \n",
       "nationalityOriginal_CountryName  213286  \n",
       "extraNationality_CountryName       1028  \n",
       "Risk_Description                 159688  "
      ]
     },
     "execution_count": 12,
     "metadata": {},
     "output_type": "execute_result"
    }
   ],
   "source": [
    "df.describe(include='object').T"
   ]
  },
  {
   "cell_type": "code",
   "execution_count": 13,
   "metadata": {
    "collapsed": false,
    "jupyter": {
     "outputs_hidden": false
    },
    "pycharm": {
     "name": "#%%\n"
    }
   },
   "outputs": [
    {
     "data": {
      "text/html": [
       "<div>\n",
       "<style scoped>\n",
       "    .dataframe tbody tr th:only-of-type {\n",
       "        vertical-align: middle;\n",
       "    }\n",
       "\n",
       "    .dataframe tbody tr th {\n",
       "        vertical-align: top;\n",
       "    }\n",
       "\n",
       "    .dataframe thead th {\n",
       "        text-align: right;\n",
       "    }\n",
       "</style>\n",
       "<table border=\"1\" class=\"dataframe\">\n",
       "  <thead>\n",
       "    <tr style=\"text-align: right;\">\n",
       "      <th></th>\n",
       "      <th>count</th>\n",
       "      <th>mean</th>\n",
       "      <th>std</th>\n",
       "      <th>min</th>\n",
       "      <th>25%</th>\n",
       "      <th>50%</th>\n",
       "      <th>75%</th>\n",
       "      <th>max</th>\n",
       "    </tr>\n",
       "  </thead>\n",
       "  <tbody>\n",
       "    <tr>\n",
       "      <th>age_in_year</th>\n",
       "      <td>220288</td>\n",
       "      <td>41.2885</td>\n",
       "      <td>16.0206</td>\n",
       "      <td>1</td>\n",
       "      <td>31</td>\n",
       "      <td>41</td>\n",
       "      <td>52</td>\n",
       "      <td>119</td>\n",
       "    </tr>\n",
       "    <tr>\n",
       "      <th>lastUpdate</th>\n",
       "      <td>0</td>\n",
       "      <td>NaN</td>\n",
       "      <td>NaN</td>\n",
       "      <td>NaN</td>\n",
       "      <td>NaN</td>\n",
       "      <td>NaN</td>\n",
       "      <td>NaN</td>\n",
       "      <td>NaN</td>\n",
       "    </tr>\n",
       "    <tr>\n",
       "      <th>avg_last_10_days</th>\n",
       "      <td>225013</td>\n",
       "      <td>7737.32</td>\n",
       "      <td>1.32555e+06</td>\n",
       "      <td>-1.79101e+08</td>\n",
       "      <td>0</td>\n",
       "      <td>0</td>\n",
       "      <td>690.65</td>\n",
       "      <td>1.53151e+08</td>\n",
       "    </tr>\n",
       "    <tr>\n",
       "      <th>avg_last_30_days</th>\n",
       "      <td>225013</td>\n",
       "      <td>1967.7</td>\n",
       "      <td>334558</td>\n",
       "      <td>-4.51343e+07</td>\n",
       "      <td>0</td>\n",
       "      <td>0</td>\n",
       "      <td>182.17</td>\n",
       "      <td>3.85991e+07</td>\n",
       "    </tr>\n",
       "    <tr>\n",
       "      <th>avg_last_90_days</th>\n",
       "      <td>225013</td>\n",
       "      <td>18.556</td>\n",
       "      <td>3687.24</td>\n",
       "      <td>-485687</td>\n",
       "      <td>0</td>\n",
       "      <td>0</td>\n",
       "      <td>1.09</td>\n",
       "      <td>415044</td>\n",
       "    </tr>\n",
       "    <tr>\n",
       "      <th>number_of_cash_dep_90_days</th>\n",
       "      <td>225013</td>\n",
       "      <td>0.491594</td>\n",
       "      <td>5.33616</td>\n",
       "      <td>0</td>\n",
       "      <td>0</td>\n",
       "      <td>0</td>\n",
       "      <td>0</td>\n",
       "      <td>1267</td>\n",
       "    </tr>\n",
       "    <tr>\n",
       "      <th>avg_cash_deposit_90_days</th>\n",
       "      <td>225013</td>\n",
       "      <td>-1114.35</td>\n",
       "      <td>30275.3</td>\n",
       "      <td>-5.48204e+06</td>\n",
       "      <td>0</td>\n",
       "      <td>0</td>\n",
       "      <td>0</td>\n",
       "      <td>0</td>\n",
       "    </tr>\n",
       "    <tr>\n",
       "      <th>number_of_deposit_90_days</th>\n",
       "      <td>225013</td>\n",
       "      <td>1.13221</td>\n",
       "      <td>19.7117</td>\n",
       "      <td>0</td>\n",
       "      <td>0</td>\n",
       "      <td>0</td>\n",
       "      <td>0</td>\n",
       "      <td>3292</td>\n",
       "    </tr>\n",
       "    <tr>\n",
       "      <th>avg_of_dep_90_days</th>\n",
       "      <td>225013</td>\n",
       "      <td>-3551.14</td>\n",
       "      <td>91571.2</td>\n",
       "      <td>-1.65437e+07</td>\n",
       "      <td>0</td>\n",
       "      <td>0</td>\n",
       "      <td>0</td>\n",
       "      <td>586729</td>\n",
       "    </tr>\n",
       "    <tr>\n",
       "      <th>number_of_cash_wd_90_days</th>\n",
       "      <td>225013</td>\n",
       "      <td>0.254168</td>\n",
       "      <td>1.17527</td>\n",
       "      <td>0</td>\n",
       "      <td>0</td>\n",
       "      <td>0</td>\n",
       "      <td>0</td>\n",
       "      <td>78</td>\n",
       "    </tr>\n",
       "    <tr>\n",
       "      <th>avg_of_cash_wd_90_days</th>\n",
       "      <td>225013</td>\n",
       "      <td>476.189</td>\n",
       "      <td>20274.6</td>\n",
       "      <td>0</td>\n",
       "      <td>0</td>\n",
       "      <td>0</td>\n",
       "      <td>0</td>\n",
       "      <td>8.394e+06</td>\n",
       "    </tr>\n",
       "    <tr>\n",
       "      <th>number_of_wd_90_days</th>\n",
       "      <td>225013</td>\n",
       "      <td>0.869016</td>\n",
       "      <td>12.3731</td>\n",
       "      <td>0</td>\n",
       "      <td>0</td>\n",
       "      <td>0</td>\n",
       "      <td>0</td>\n",
       "      <td>2858</td>\n",
       "    </tr>\n",
       "    <tr>\n",
       "      <th>avg_of_wd_90_days</th>\n",
       "      <td>225013</td>\n",
       "      <td>2451.79</td>\n",
       "      <td>58183.2</td>\n",
       "      <td>0</td>\n",
       "      <td>0</td>\n",
       "      <td>0</td>\n",
       "      <td>0</td>\n",
       "      <td>9.94253e+06</td>\n",
       "    </tr>\n",
       "    <tr>\n",
       "      <th>creationDate_indays</th>\n",
       "      <td>225013</td>\n",
       "      <td>2418 days 05:45:12.147312</td>\n",
       "      <td>2409 days 18:39:48.583098</td>\n",
       "      <td>0 days 00:00:00</td>\n",
       "      <td>731 days 00:00:00</td>\n",
       "      <td>1739 days 00:00:00</td>\n",
       "      <td>3065 days 00:00:00</td>\n",
       "      <td>14644 days 00:00:00</td>\n",
       "    </tr>\n",
       "    <tr>\n",
       "      <th>age</th>\n",
       "      <td>225013</td>\n",
       "      <td>39.2563</td>\n",
       "      <td>16.8795</td>\n",
       "      <td>0</td>\n",
       "      <td>29</td>\n",
       "      <td>39</td>\n",
       "      <td>50</td>\n",
       "      <td>118</td>\n",
       "    </tr>\n",
       "  </tbody>\n",
       "</table>\n",
       "</div>"
      ],
      "text/plain": [
       "                             count                       mean  \\\n",
       "age_in_year                 220288                    41.2885   \n",
       "lastUpdate                       0                        NaN   \n",
       "avg_last_10_days            225013                    7737.32   \n",
       "avg_last_30_days            225013                     1967.7   \n",
       "avg_last_90_days            225013                     18.556   \n",
       "number_of_cash_dep_90_days  225013                   0.491594   \n",
       "avg_cash_deposit_90_days    225013                   -1114.35   \n",
       "number_of_deposit_90_days   225013                    1.13221   \n",
       "avg_of_dep_90_days          225013                   -3551.14   \n",
       "number_of_cash_wd_90_days   225013                   0.254168   \n",
       "avg_of_cash_wd_90_days      225013                    476.189   \n",
       "number_of_wd_90_days        225013                   0.869016   \n",
       "avg_of_wd_90_days           225013                    2451.79   \n",
       "creationDate_indays         225013  2418 days 05:45:12.147312   \n",
       "age                         225013                    39.2563   \n",
       "\n",
       "                                                  std              min  \\\n",
       "age_in_year                                   16.0206                1   \n",
       "lastUpdate                                        NaN              NaN   \n",
       "avg_last_10_days                          1.32555e+06     -1.79101e+08   \n",
       "avg_last_30_days                               334558     -4.51343e+07   \n",
       "avg_last_90_days                              3687.24          -485687   \n",
       "number_of_cash_dep_90_days                    5.33616                0   \n",
       "avg_cash_deposit_90_days                      30275.3     -5.48204e+06   \n",
       "number_of_deposit_90_days                     19.7117                0   \n",
       "avg_of_dep_90_days                            91571.2     -1.65437e+07   \n",
       "number_of_cash_wd_90_days                     1.17527                0   \n",
       "avg_of_cash_wd_90_days                        20274.6                0   \n",
       "number_of_wd_90_days                          12.3731                0   \n",
       "avg_of_wd_90_days                             58183.2                0   \n",
       "creationDate_indays         2409 days 18:39:48.583098  0 days 00:00:00   \n",
       "age                                           16.8795                0   \n",
       "\n",
       "                                          25%                 50%  \\\n",
       "age_in_year                                31                  41   \n",
       "lastUpdate                                NaN                 NaN   \n",
       "avg_last_10_days                            0                   0   \n",
       "avg_last_30_days                            0                   0   \n",
       "avg_last_90_days                            0                   0   \n",
       "number_of_cash_dep_90_days                  0                   0   \n",
       "avg_cash_deposit_90_days                    0                   0   \n",
       "number_of_deposit_90_days                   0                   0   \n",
       "avg_of_dep_90_days                          0                   0   \n",
       "number_of_cash_wd_90_days                   0                   0   \n",
       "avg_of_cash_wd_90_days                      0                   0   \n",
       "number_of_wd_90_days                        0                   0   \n",
       "avg_of_wd_90_days                           0                   0   \n",
       "creationDate_indays         731 days 00:00:00  1739 days 00:00:00   \n",
       "age                                        29                  39   \n",
       "\n",
       "                                           75%                  max  \n",
       "age_in_year                                 52                  119  \n",
       "lastUpdate                                 NaN                  NaN  \n",
       "avg_last_10_days                        690.65          1.53151e+08  \n",
       "avg_last_30_days                        182.17          3.85991e+07  \n",
       "avg_last_90_days                          1.09               415044  \n",
       "number_of_cash_dep_90_days                   0                 1267  \n",
       "avg_cash_deposit_90_days                     0                    0  \n",
       "number_of_deposit_90_days                    0                 3292  \n",
       "avg_of_dep_90_days                           0               586729  \n",
       "number_of_cash_wd_90_days                    0                   78  \n",
       "avg_of_cash_wd_90_days                       0            8.394e+06  \n",
       "number_of_wd_90_days                         0                 2858  \n",
       "avg_of_wd_90_days                            0          9.94253e+06  \n",
       "creationDate_indays         3065 days 00:00:00  14644 days 00:00:00  \n",
       "age                                         50                  118  "
      ]
     },
     "execution_count": 13,
     "metadata": {},
     "output_type": "execute_result"
    }
   ],
   "source": [
    "df.describe(include=np.number).T"
   ]
  },
  {
   "cell_type": "code",
   "execution_count": 14,
   "metadata": {
    "collapsed": false,
    "jupyter": {
     "outputs_hidden": false
    },
    "pycharm": {
     "name": "#%%\n"
    }
   },
   "outputs": [
    {
     "data": {
      "text/html": [
       "<div>\n",
       "<style scoped>\n",
       "    .dataframe tbody tr th:only-of-type {\n",
       "        vertical-align: middle;\n",
       "    }\n",
       "\n",
       "    .dataframe tbody tr th {\n",
       "        vertical-align: top;\n",
       "    }\n",
       "\n",
       "    .dataframe thead th {\n",
       "        text-align: right;\n",
       "    }\n",
       "</style>\n",
       "<table border=\"1\" class=\"dataframe\">\n",
       "  <thead>\n",
       "    <tr style=\"text-align: right;\">\n",
       "      <th></th>\n",
       "      <th>count</th>\n",
       "      <th>unique</th>\n",
       "      <th>top</th>\n",
       "      <th>freq</th>\n",
       "      <th>first</th>\n",
       "      <th>last</th>\n",
       "    </tr>\n",
       "  </thead>\n",
       "  <tbody>\n",
       "    <tr>\n",
       "      <th>creationDate</th>\n",
       "      <td>225013</td>\n",
       "      <td>7041</td>\n",
       "      <td>2013-11-20</td>\n",
       "      <td>1079</td>\n",
       "      <td>1978-09-17</td>\n",
       "      <td>2018-10-21</td>\n",
       "    </tr>\n",
       "    <tr>\n",
       "      <th>dateOfBirth</th>\n",
       "      <td>220288</td>\n",
       "      <td>21457</td>\n",
       "      <td>1992-07-22</td>\n",
       "      <td>1035</td>\n",
       "      <td>1900-06-01</td>\n",
       "      <td>2018-10-15</td>\n",
       "    </tr>\n",
       "    <tr>\n",
       "      <th>date_of_assessment</th>\n",
       "      <td>225013</td>\n",
       "      <td>1</td>\n",
       "      <td>2019-01-24</td>\n",
       "      <td>225013</td>\n",
       "      <td>2019-01-24</td>\n",
       "      <td>2019-01-24</td>\n",
       "    </tr>\n",
       "  </tbody>\n",
       "</table>\n",
       "</div>"
      ],
      "text/plain": [
       "                     count unique        top    freq      first       last\n",
       "creationDate        225013   7041 2013-11-20    1079 1978-09-17 2018-10-21\n",
       "dateOfBirth         220288  21457 1992-07-22    1035 1900-06-01 2018-10-15\n",
       "date_of_assessment  225013      1 2019-01-24  225013 2019-01-24 2019-01-24"
      ]
     },
     "execution_count": 14,
     "metadata": {},
     "output_type": "execute_result"
    }
   ],
   "source": [
    "df.describe(include=np.datetime64).T"
   ]
  },
  {
   "cell_type": "markdown",
   "metadata": {
    "pycharm": {
     "name": "#%% md\n"
    }
   },
   "source": [
    "Term frequency per column"
   ]
  },
  {
   "cell_type": "code",
   "execution_count": 15,
   "metadata": {
    "collapsed": false,
    "jupyter": {
     "outputs_hidden": false
    },
    "pycharm": {
     "name": "#%%\n"
    },
    "tags": []
   },
   "outputs": [
    {
     "name": "stdout",
     "output_type": "stream",
     "text": [
      "VARIABLE = org_code\n",
      "1    225013\n",
      "Name: org_code, dtype: int64\n",
      "\n",
      "\n",
      "\n",
      "VARIABLE = branchCode\n",
      "202    19811\n",
      "208    15974\n",
      "704    12882\n",
      "701    11332\n",
      "805    10428\n",
      "801     9262\n",
      "502     8870\n",
      "206     8598\n",
      "207     8458\n",
      "403     7673\n",
      "501     7556\n",
      "354     7483\n",
      "209     7453\n",
      "402     7339\n",
      "702     7001\n",
      "205     6674\n",
      "401     6653\n",
      "601     6046\n",
      "351     5958\n",
      "802     5782\n",
      "302     5716\n",
      "803     5494\n",
      "356     5378\n",
      "203     5097\n",
      "204     5083\n",
      "804     4525\n",
      "357     4355\n",
      "603     4245\n",
      "404     3691\n",
      "201      196\n",
      "Name: branchCode, dtype: int64\n",
      "\n",
      "\n",
      "\n",
      "VARIABLE = customerId\n",
      "30205511090005696    943\n",
      "35108255290001427    723\n",
      "20702061400001087    700\n",
      "20600229290003418    513\n",
      "2060022929           513\n",
      "                    ... \n",
      "50100883400009812      1\n",
      "80226319540000685      1\n",
      "40300964530010243      1\n",
      "70100835120014104      1\n",
      "70424507790000129      1\n",
      "Name: customerId, Length: 75339, dtype: int64\n",
      "\n",
      "\n",
      "\n",
      "VARIABLE = fullaccount\n",
      "020902507770010010000    26\n",
      "020301298000011306000    23\n",
      "020301298000011930001    23\n",
      "020301298000012957000    23\n",
      "020301298000012969000    23\n",
      "                         ..\n",
      "020800917240020060000     1\n",
      "080300467950010060000     1\n",
      "020600815020010010000     1\n",
      "020600376860020010000     1\n",
      "080100210610011318001     1\n",
      "Name: fullaccount, Length: 220434, dtype: int64\n",
      "\n",
      "\n",
      "\n",
      "VARIABLE = customerType\n",
      "1    199139\n",
      "2     25874\n",
      "Name: customerType, dtype: int64\n",
      "\n",
      "\n",
      "\n",
      "VARIABLE = onboarding\n",
      "N    219936\n",
      "Y      5077\n",
      "Name: onboarding, dtype: int64\n",
      "\n",
      "\n",
      "\n",
      "VARIABLE = residentStatus\n",
      "1    220241\n",
      "2      4772\n",
      "Name: residentStatus, dtype: int64\n",
      "\n",
      "\n",
      "\n",
      "VARIABLE = residentCountry\n",
      "JO    219398\n",
      "OM       985\n",
      "IQ       981\n",
      "SA       657\n",
      "US       358\n",
      "       ...  \n",
      "AS         2\n",
      "NG         1\n",
      "AF         1\n",
      "SO         1\n",
      "LR         1\n",
      "Name: residentCountry, Length: 62, dtype: int64\n",
      "\n",
      "\n",
      "\n",
      "VARIABLE = nationalityOriginal\n",
      "JO    213286\n",
      "IQ      3206\n",
      "EG      1349\n",
      "SY      1215\n",
      "LY       433\n",
      "       ...  \n",
      "SO         1\n",
      "IO         1\n",
      "BG         1\n",
      "TH         1\n",
      "LR         1\n",
      "Name: nationalityOriginal, Length: 67, dtype: int64\n",
      "\n",
      "\n",
      "\n",
      "VARIABLE = extraNationality\n",
      "US    1028\n",
      "XK     435\n",
      "CA      45\n",
      "GB      42\n",
      "JO      34\n",
      "CO      20\n",
      "AU      17\n",
      "BA      15\n",
      "FR      15\n",
      "EG      14\n",
      "IQ      14\n",
      "SE      12\n",
      "IT      12\n",
      "UA      11\n",
      "RO      10\n",
      "ES       8\n",
      "TR       6\n",
      "CH       5\n",
      "GR       5\n",
      "PL       5\n",
      "NL       4\n",
      "BG       4\n",
      "SA       4\n",
      "BR       4\n",
      "SY       3\n",
      "CY       3\n",
      "LY       3\n",
      "NO       3\n",
      "BH       3\n",
      "CL       3\n",
      "RU       2\n",
      "IO       1\n",
      "LB       1\n",
      "VE       1\n",
      "BE       1\n",
      "Name: extraNationality, dtype: int64\n",
      "\n",
      "\n",
      "\n",
      "VARIABLE = birthCountry\n",
      "Series([], Name: birthCountry, dtype: int64)\n",
      "\n",
      "\n",
      "\n",
      "VARIABLE = birthPlace\n",
      "????                  76312\n",
      "?????                 38740\n",
      "??????                29904\n",
      "???????               19465\n",
      "????????               7690\n",
      "                      ...  \n",
      "NDEBBA                    1\n",
      "??????/??? ???????        1\n",
      "KISHOREGANJ               1\n",
      "BMI98393                  1\n",
      "osaka                     1\n",
      "Name: birthPlace, Length: 1000, dtype: int64\n",
      "\n",
      "\n",
      "\n",
      "VARIABLE = profession\n",
      "20.0    30334\n",
      "21.0    13155\n",
      "25.0     6987\n",
      "23.0     4571\n",
      "10.0     4100\n",
      "3.0      3468\n",
      "17.0     2919\n",
      "2.0      2078\n",
      "26.0     1708\n",
      "15.0     1620\n",
      "1.0      1278\n",
      "27.0     1071\n",
      "8.0      1028\n",
      "29.0      967\n",
      "22.0      940\n",
      "4.0       674\n",
      "5.0       658\n",
      "9.0       464\n",
      "11.0      427\n",
      "24.0      308\n",
      "12.0      273\n",
      "6.0       142\n",
      "7.0       126\n",
      "16.0      125\n",
      "28.0      125\n",
      "18.0       84\n",
      "13.0       50\n",
      "14.0       32\n",
      "33.0       17\n",
      "19.0       14\n",
      "31.0        3\n",
      "39.0        2\n",
      "Name: profession, dtype: int64\n",
      "\n",
      "\n",
      "\n",
      "VARIABLE = companyType\n",
      "51.0     89314\n",
      "54.0     10176\n",
      "52.0      6158\n",
      "37.0      3830\n",
      "35.0      1151\n",
      "53.0      1013\n",
      "1.0        955\n",
      "36.0       819\n",
      "15.0       419\n",
      "14.0       251\n",
      "64.0        81\n",
      "4.0         67\n",
      "17.0        63\n",
      "2.0         51\n",
      "5.0         47\n",
      "58.0        45\n",
      "50.0        33\n",
      "13.0        31\n",
      "6.0         26\n",
      "56.0        26\n",
      "57.0        25\n",
      "100.0       22\n",
      "16.0        20\n",
      "10.0        16\n",
      "11.0        15\n",
      "7.0         12\n",
      "49.0        11\n",
      "3.0         10\n",
      "55.0        10\n",
      "60.0         9\n",
      "12.0         7\n",
      "46.0         4\n",
      "61.0         2\n",
      "Name: companyType, dtype: int64\n",
      "\n",
      "\n",
      "\n",
      "VARIABLE = giinCode\n",
      "ZLVK2E.99999.SL.400    12\n",
      "Name: giinCode, dtype: int64\n",
      "\n",
      "\n",
      "\n",
      "VARIABLE = status\n",
      "Active    225013\n",
      "Name: status, dtype: int64\n",
      "\n",
      "\n",
      "\n",
      "VARIABLE = ledgerCode\n",
      "10      49483\n",
      "60      45284\n",
      "1355    16839\n",
      "1389     9480\n",
      "20       9219\n",
      "        ...  \n",
      "2906        1\n",
      "1398        1\n",
      "2974        1\n",
      "2971        1\n",
      "8700        1\n",
      "Name: ledgerCode, Length: 227, dtype: int64\n",
      "\n",
      "\n",
      "\n",
      "VARIABLE = accountCurrency\n",
      "JOD    214789\n",
      "USD      8489\n",
      "EUR      1081\n",
      "GBP       254\n",
      "AED        93\n",
      "CAD        81\n",
      "SAR        60\n",
      "JPY        41\n",
      "CHF        40\n",
      "AUD        37\n",
      "XAG        15\n",
      "XAU        11\n",
      "SEK         9\n",
      "QAR         4\n",
      "NZD         3\n",
      "DKK         2\n",
      "LBP         1\n",
      "BHD         1\n",
      "ESP         1\n",
      "KWD         1\n",
      "Name: accountCurrency, dtype: int64\n",
      "\n",
      "\n",
      "\n",
      "VARIABLE = jointAccount\n",
      "0    220144\n",
      "1      4869\n",
      "Name: jointAccount, dtype: int64\n",
      "\n",
      "\n",
      "\n",
      "VARIABLE = IsBlackListed\n",
      "0    225013\n",
      "Name: IsBlackListed, dtype: int64\n",
      "\n",
      "\n",
      "\n",
      "VARIABLE = CUS_CLASS\n",
      "2     158856\n",
      "15     28020\n",
      "4      20671\n",
      "1      10740\n",
      "3       4605\n",
      "0       1858\n",
      "6        228\n",
      "5         22\n",
      "51        10\n",
      "7          3\n",
      "Name: CUS_CLASS, dtype: int64\n",
      "\n",
      "\n",
      "\n",
      "VARIABLE = ECO_SEC\n",
      "90     199270\n",
      "99       1718\n",
      "51       1583\n",
      "42       1527\n",
      "40       1492\n",
      "        ...  \n",
      "308         1\n",
      "305         1\n",
      "287         1\n",
      "224         1\n",
      "67          1\n",
      "Name: ECO_SEC, Length: 206, dtype: int64\n",
      "\n",
      "\n",
      "\n",
      "VARIABLE = TYPE_OF_DEP\n",
      "20     98819\n",
      "51     89314\n",
      "54     10176\n",
      "52      6158\n",
      "28      5578\n",
      "23      3910\n",
      "37      3830\n",
      "35      1151\n",
      "53      1013\n",
      "1        955\n",
      "36       819\n",
      "22       510\n",
      "15       419\n",
      "32       321\n",
      "14       251\n",
      "29       189\n",
      "24       189\n",
      "25       177\n",
      "26       168\n",
      "0        161\n",
      "27       109\n",
      "64        81\n",
      "4         67\n",
      "17        63\n",
      "2         51\n",
      "31        47\n",
      "5         47\n",
      "58        45\n",
      "21        42\n",
      "50        33\n",
      "13        31\n",
      "56        26\n",
      "6         26\n",
      "30        25\n",
      "57        25\n",
      "100       22\n",
      "16        20\n",
      "99        17\n",
      "63        16\n",
      "10        16\n",
      "11        15\n",
      "7         12\n",
      "49        11\n",
      "55        10\n",
      "3         10\n",
      "40        10\n",
      "60         9\n",
      "12         7\n",
      "90         6\n",
      "46         4\n",
      "61         2\n",
      "Name: TYPE_OF_DEP, dtype: int64\n",
      "\n",
      "\n",
      "\n",
      "VARIABLE = GENDER\n",
      "1.0    78166\n",
      "2.0    26191\n",
      "Name: GENDER, dtype: int64\n",
      "\n",
      "\n",
      "\n",
      "VARIABLE = LEGAL_STA_CODE\n",
      "1.0    191848\n",
      "2.0     18848\n",
      "3.0     10661\n",
      "4.0      1040\n",
      "Name: LEGAL_STA_CODE, dtype: int64\n",
      "\n",
      "\n",
      "\n",
      "VARIABLE = legal_Stat_desc\n",
      "Series([], Name: legal_Stat_desc, dtype: int64)\n",
      "\n",
      "\n",
      "\n",
      "VARIABLE = rbaGradeAbrv\n",
      "L    159688\n",
      "M     65236\n",
      "H        89\n",
      "Name: rbaGradeAbrv, dtype: int64\n",
      "\n",
      "\n",
      "\n",
      "VARIABLE = score_card\n",
      "I-Existing    178495\n",
      "E-Existing     25259\n",
      "I-New          20649\n",
      "E-NEW            610\n",
      "Name: score_card, dtype: int64\n",
      "\n",
      "\n",
      "\n",
      "VARIABLE = score_card_Desc\n",
      "Series([], Name: score_card_Desc, dtype: int64)\n",
      "\n",
      "\n",
      "\n",
      "VARIABLE = rbaValue\n",
      "16.53     29341\n",
      "14.53     25608\n",
      "5.33      10844\n",
      "7.33       9787\n",
      "15.28      7648\n",
      "          ...  \n",
      "46.64         1\n",
      "100.00        1\n",
      "37.04         1\n",
      "31.44         1\n",
      "47.89         1\n",
      "Name: rbaValue, Length: 692, dtype: int64\n",
      "\n",
      "\n",
      "\n",
      "VARIABLE = profession_DescriptionENG\n",
      "Officer                                    30334\n",
      "retired و                                  13155\n",
      "Business owner                              6987\n",
      "House wife                                  4571\n",
      "dealer                                      4100\n",
      "Teacher                                     3468\n",
      "Director                                    2919\n",
      "Engineer                                    2078\n",
      "Driver                                      1708\n",
      "Director general                            1620\n",
      "A doctor                                    1278\n",
      "Banker                                      1071\n",
      "Attorney                                    1028\n",
      "Accountant                                   967\n",
      "Student                                      940\n",
      "Farmer                                       674\n",
      "contractor                                   658\n",
      "Nurse                                        464\n",
      "Literal                                      427\n",
      "Head of the Department                       308\n",
      "chairman                                     273\n",
      "Carpenter                                    142\n",
      "Smith                                        126\n",
      "Chef                                         125\n",
      "Deputy General Manager                       125\n",
      "Barber                                        84\n",
      "Vice Chairman of the Board of Directors       50\n",
      "Member of the Board of Directors              32\n",
      "Deputy                                        17\n",
      "welding                                       14\n",
      "Judge                                          3\n",
      "Notable politician                             2\n",
      "Name: profession_DescriptionENG, dtype: int64\n",
      "\n",
      "\n",
      "\n",
      "VARIABLE = ledgerCode_DescriptionENG\n",
      "my neighbour                                             49483\n",
      "Classic savings                                          45284\n",
      "personal loan                                            26319\n",
      "Outstanding installments / personal loan                 12772\n",
      "Save me golden                                            9219\n",
      "                                                         ...  \n",
      "Installments due to declining small and medium loans         1\n",
      "Converted export credits to inform customers                 1\n",
      "Guaranteed prepaid withdrawals / collection policies         1\n",
      "Diminishing loan / government or government guarantee        1\n",
      "Interest-free financing loan                                 1\n",
      "Name: ledgerCode_DescriptionENG, Length: 128, dtype: int64\n",
      "\n",
      "\n",
      "\n",
      "VARIABLE = CUS_CLASS_DescriptionENG\n",
      "Civil Status Identity    158856\n",
      "Others                    28020\n",
      "Commercial Record         20671\n",
      "passport                  10743\n",
      "Family notebook            4605\n",
      "There is no                1858\n",
      "Establishment license       228\n",
      "Careers license              22\n",
      "Member Of The Board          10\n",
      "Name: CUS_CLASS_DescriptionENG, dtype: int64\n",
      "\n",
      "\n",
      "\n",
      "VARIABLE = ECO_SEC_DescriptionENG\n",
      "Individuals                                          199270\n",
      "Other purposes                                         1718\n",
      "Contracting and construction companies                 1583\n",
      "Trade cars and spare parts                             1527\n",
      "Food trade                                             1492\n",
      "                                                      ...  \n",
      "Mines and stone quarries                                  1\n",
      "Legal advice                                              1\n",
      "Selling electrical tools and household appliances         1\n",
      "Manufacture and tanning of ready-made clothes             1\n",
      "Metal industry                                            1\n",
      "Name: ECO_SEC_DescriptionENG, Length: 204, dtype: int64\n",
      "\n",
      "\n",
      "\n",
      "VARIABLE = LEGAL_STA_CODE_DescriptionENG\n",
      "Governmental institutions within the budget     191848\n",
      "Governmental institutions outside the budget     18848\n",
      "Social Security Corporation                      10661\n",
      "Municipalities and village councils               1040\n",
      "Name: LEGAL_STA_CODE_DescriptionENG, dtype: int64\n",
      "\n",
      "\n",
      "\n",
      "VARIABLE = accountCurrency_DescriptionENG\n",
      "Jordanian Dinar      214789\n",
      "Us Dollar              8489\n",
      "Euro                   1081\n",
      "Pound Sterling          254\n",
      "Uae Dirham               93\n",
      "Canadian Dollar          81\n",
      "Saudi Riyal              60\n",
      "Yen                      41\n",
      "Swiss Franc              40\n",
      "Australian Dollar        37\n",
      "Silver                   15\n",
      "Gold                     11\n",
      "Sweden Krone              9\n",
      "Qatari Rial               4\n",
      "Newzelend Dollar          3\n",
      "Danish Krone              2\n",
      "Spanish Peseta            1\n",
      "Bahrain Dinar             1\n",
      "Lebanese Lira             1\n",
      "Kuwaiti Dinar             1\n",
      "Name: accountCurrency_DescriptionENG, dtype: int64\n",
      "\n",
      "\n",
      "\n",
      "VARIABLE = residentCountry_CountryName\n",
      "Jordan                                  219398\n",
      "Oman                                       985\n",
      "Iraq                                       981\n",
      "Saudi Arabia                               657\n",
      "United States                              358\n",
      "United Arab Emirates                       313\n",
      "Syrian Arab Republic                       264\n",
      "Libyan Arab Jamahiriya                     207\n",
      "Qatar                                      173\n",
      "Kuwait                                     150\n",
      "Canada                                     127\n",
      "United Kingdom                             112\n",
      "Egypt                                      105\n",
      "Sweden                                      78\n",
      "Netherlands                                 34\n",
      "Philippines                                 33\n",
      "Turkey                                      30\n",
      "Italy                                       30\n",
      "Lebanon                                     29\n",
      "Sri Lanka                                   28\n",
      "Romania                                     26\n",
      "Australia                                   25\n",
      "Bahrain                                     25\n",
      "Indonesia                                   19\n",
      "Israel                                      17\n",
      "Cyprus                                      16\n",
      "New Zeeland                                 15\n",
      "Bangladesh                                  15\n",
      "Greece                                      13\n",
      "Ireland                                     12\n",
      "British Indian Ocean Territory              11\n",
      "Japan                                       11\n",
      "United States Minor Outlying Islands        10\n",
      "Belgium                                     10\n",
      "Malaysia                                     8\n",
      "Finland                                      8\n",
      "Tunisia                                      8\n",
      "Spain                                        7\n",
      "Norway                                       6\n",
      "Denmark                                      5\n",
      "China                                        5\n",
      "Uruguay                                      5\n",
      "Chile                                        4\n",
      "Ukrainian Ssr                                4\n",
      "Singapore                                    4\n",
      "France                                       4\n",
      "Venezuela                                    3\n",
      "South Africa                                 3\n",
      "Brazil                                       3\n",
      "Algeria                                      3\n",
      "Austria                                      3\n",
      "Pakistan                                     3\n",
      "American Samoe                               2\n",
      "Thailand                                     2\n",
      "Bulgaria                                     2\n",
      "Palestine                                    2\n",
      "Somalia                                      1\n",
      "Liberia                                      1\n",
      "Nigeria                                      1\n",
      "Afghanistan                                  1\n",
      "Name: residentCountry_CountryName, dtype: int64\n",
      "\n",
      "\n",
      "\n",
      "VARIABLE = nationalityOriginal_CountryName\n",
      "Jordan                                213286\n",
      "Iraq                                    3206\n",
      "Egypt                                   1349\n",
      "Syrian Arab Republic                    1215\n",
      "Libyan Arab Jamahiriya                   433\n",
      "                                       ...  \n",
      "Thailand                                   1\n",
      "Singapore                                  1\n",
      "Korea,Democratic People'S Republic         1\n",
      "Liberia                                    1\n",
      "British Indian Ocean Territory             1\n",
      "Name: nationalityOriginal_CountryName, Length: 65, dtype: int64\n",
      "\n",
      "\n",
      "\n",
      "VARIABLE = extraNationality_CountryName\n",
      "United States                     1028\n",
      "Canada                              45\n",
      "United Kingdom                      42\n",
      "Jordan                              34\n",
      "Colombia                            20\n",
      "Australia                           17\n",
      "France                              15\n",
      "Bosnia                              15\n",
      "Iraq                                14\n",
      "Egypt                               14\n",
      "Sweden                              12\n",
      "Italy                               12\n",
      "Ukrainian Ssr                       11\n",
      "Romania                             10\n",
      "Spain                                8\n",
      "Turkey                               6\n",
      "Greece                               5\n",
      "China                                5\n",
      "Poland                               5\n",
      "Brazil                               4\n",
      "Saudi Arabia                         4\n",
      "Netherlands                          4\n",
      "Bulgaria                             4\n",
      "Chile                                3\n",
      "Norway                               3\n",
      "Libyan Arab Jamahiriya               3\n",
      "Bahrain                              3\n",
      "Cyprus                               3\n",
      "Syrian Arab Republic                 3\n",
      "Russia                               2\n",
      "Venezuela                            1\n",
      "Lebanon                              1\n",
      "British Indian Ocean Territory       1\n",
      "Belgium                              1\n",
      "Name: extraNationality_CountryName, dtype: int64\n",
      "\n",
      "\n",
      "\n",
      "VARIABLE = Risk_Description\n",
      "Low       159688\n",
      "Medium     65236\n",
      "High          89\n",
      "Name: Risk_Description, dtype: int64\n",
      "\n",
      "\n",
      "\n"
     ]
    }
   ],
   "source": [
    "cat_columns = df.select_dtypes(include=['object'])\n",
    "for col in cat_columns:\n",
    "    print(\"VARIABLE =\", col)\n",
    "    print(df[col].value_counts())\n",
    "    print('\\n'*2)"
   ]
  },
  {
   "cell_type": "code",
   "execution_count": 16,
   "metadata": {
    "collapsed": false,
    "jupyter": {
     "outputs_hidden": false
    },
    "pycharm": {
     "name": "#%%\n"
    }
   },
   "outputs": [
    {
     "data": {
      "text/html": [
       "<div>\n",
       "<style scoped>\n",
       "    .dataframe tbody tr th:only-of-type {\n",
       "        vertical-align: middle;\n",
       "    }\n",
       "\n",
       "    .dataframe tbody tr th {\n",
       "        vertical-align: top;\n",
       "    }\n",
       "\n",
       "    .dataframe thead th {\n",
       "        text-align: right;\n",
       "    }\n",
       "</style>\n",
       "<table border=\"1\" class=\"dataframe\">\n",
       "  <thead>\n",
       "    <tr style=\"text-align: right;\">\n",
       "      <th></th>\n",
       "      <th>count</th>\n",
       "      <th>mean</th>\n",
       "      <th>std</th>\n",
       "      <th>min</th>\n",
       "      <th>25%</th>\n",
       "      <th>50%</th>\n",
       "      <th>75%</th>\n",
       "      <th>max</th>\n",
       "    </tr>\n",
       "  </thead>\n",
       "  <tbody>\n",
       "    <tr>\n",
       "      <th>age_in_year</th>\n",
       "      <td>220288.0</td>\n",
       "      <td>41.288468</td>\n",
       "      <td>1.602056e+01</td>\n",
       "      <td>1.000000e+00</td>\n",
       "      <td>31.0</td>\n",
       "      <td>41.0</td>\n",
       "      <td>52.00</td>\n",
       "      <td>1.190000e+02</td>\n",
       "    </tr>\n",
       "    <tr>\n",
       "      <th>lastUpdate</th>\n",
       "      <td>0.0</td>\n",
       "      <td>NaN</td>\n",
       "      <td>NaN</td>\n",
       "      <td>NaN</td>\n",
       "      <td>NaN</td>\n",
       "      <td>NaN</td>\n",
       "      <td>NaN</td>\n",
       "      <td>NaN</td>\n",
       "    </tr>\n",
       "    <tr>\n",
       "      <th>avg_last_10_days</th>\n",
       "      <td>225013.0</td>\n",
       "      <td>7737.323798</td>\n",
       "      <td>1.325553e+06</td>\n",
       "      <td>-1.791005e+08</td>\n",
       "      <td>0.0</td>\n",
       "      <td>0.0</td>\n",
       "      <td>690.65</td>\n",
       "      <td>1.531514e+08</td>\n",
       "    </tr>\n",
       "    <tr>\n",
       "      <th>avg_last_30_days</th>\n",
       "      <td>225013.0</td>\n",
       "      <td>1967.704614</td>\n",
       "      <td>3.345583e+05</td>\n",
       "      <td>-4.513426e+07</td>\n",
       "      <td>0.0</td>\n",
       "      <td>0.0</td>\n",
       "      <td>182.17</td>\n",
       "      <td>3.859913e+07</td>\n",
       "    </tr>\n",
       "    <tr>\n",
       "      <th>avg_last_90_days</th>\n",
       "      <td>225013.0</td>\n",
       "      <td>18.556005</td>\n",
       "      <td>3.687237e+03</td>\n",
       "      <td>-4.856867e+05</td>\n",
       "      <td>0.0</td>\n",
       "      <td>0.0</td>\n",
       "      <td>1.09</td>\n",
       "      <td>4.150444e+05</td>\n",
       "    </tr>\n",
       "    <tr>\n",
       "      <th>number_of_cash_dep_90_days</th>\n",
       "      <td>225013.0</td>\n",
       "      <td>0.491594</td>\n",
       "      <td>5.336162e+00</td>\n",
       "      <td>0.000000e+00</td>\n",
       "      <td>0.0</td>\n",
       "      <td>0.0</td>\n",
       "      <td>0.00</td>\n",
       "      <td>1.267000e+03</td>\n",
       "    </tr>\n",
       "    <tr>\n",
       "      <th>avg_cash_deposit_90_days</th>\n",
       "      <td>225013.0</td>\n",
       "      <td>-1114.347668</td>\n",
       "      <td>3.027533e+04</td>\n",
       "      <td>-5.482044e+06</td>\n",
       "      <td>0.0</td>\n",
       "      <td>0.0</td>\n",
       "      <td>0.00</td>\n",
       "      <td>0.000000e+00</td>\n",
       "    </tr>\n",
       "    <tr>\n",
       "      <th>number_of_deposit_90_days</th>\n",
       "      <td>225013.0</td>\n",
       "      <td>1.132215</td>\n",
       "      <td>1.971166e+01</td>\n",
       "      <td>0.000000e+00</td>\n",
       "      <td>0.0</td>\n",
       "      <td>0.0</td>\n",
       "      <td>0.00</td>\n",
       "      <td>3.292000e+03</td>\n",
       "    </tr>\n",
       "    <tr>\n",
       "      <th>avg_of_dep_90_days</th>\n",
       "      <td>225013.0</td>\n",
       "      <td>-3551.143719</td>\n",
       "      <td>9.157115e+04</td>\n",
       "      <td>-1.654371e+07</td>\n",
       "      <td>0.0</td>\n",
       "      <td>0.0</td>\n",
       "      <td>0.00</td>\n",
       "      <td>5.867291e+05</td>\n",
       "    </tr>\n",
       "    <tr>\n",
       "      <th>number_of_cash_wd_90_days</th>\n",
       "      <td>225013.0</td>\n",
       "      <td>0.254168</td>\n",
       "      <td>1.175268e+00</td>\n",
       "      <td>0.000000e+00</td>\n",
       "      <td>0.0</td>\n",
       "      <td>0.0</td>\n",
       "      <td>0.00</td>\n",
       "      <td>7.800000e+01</td>\n",
       "    </tr>\n",
       "    <tr>\n",
       "      <th>avg_of_cash_wd_90_days</th>\n",
       "      <td>225013.0</td>\n",
       "      <td>476.189232</td>\n",
       "      <td>2.027460e+04</td>\n",
       "      <td>0.000000e+00</td>\n",
       "      <td>0.0</td>\n",
       "      <td>0.0</td>\n",
       "      <td>0.00</td>\n",
       "      <td>8.394000e+06</td>\n",
       "    </tr>\n",
       "    <tr>\n",
       "      <th>number_of_wd_90_days</th>\n",
       "      <td>225013.0</td>\n",
       "      <td>0.869016</td>\n",
       "      <td>1.237305e+01</td>\n",
       "      <td>0.000000e+00</td>\n",
       "      <td>0.0</td>\n",
       "      <td>0.0</td>\n",
       "      <td>0.00</td>\n",
       "      <td>2.858000e+03</td>\n",
       "    </tr>\n",
       "    <tr>\n",
       "      <th>avg_of_wd_90_days</th>\n",
       "      <td>225013.0</td>\n",
       "      <td>2451.791741</td>\n",
       "      <td>5.818315e+04</td>\n",
       "      <td>0.000000e+00</td>\n",
       "      <td>0.0</td>\n",
       "      <td>0.0</td>\n",
       "      <td>0.00</td>\n",
       "      <td>9.942530e+06</td>\n",
       "    </tr>\n",
       "    <tr>\n",
       "      <th>age</th>\n",
       "      <td>225013.0</td>\n",
       "      <td>39.256314</td>\n",
       "      <td>1.687953e+01</td>\n",
       "      <td>0.000000e+00</td>\n",
       "      <td>29.0</td>\n",
       "      <td>39.0</td>\n",
       "      <td>50.00</td>\n",
       "      <td>1.180000e+02</td>\n",
       "    </tr>\n",
       "  </tbody>\n",
       "</table>\n",
       "</div>"
      ],
      "text/plain": [
       "                               count         mean           std           min  \\\n",
       "age_in_year                 220288.0    41.288468  1.602056e+01  1.000000e+00   \n",
       "lastUpdate                       0.0          NaN           NaN           NaN   \n",
       "avg_last_10_days            225013.0  7737.323798  1.325553e+06 -1.791005e+08   \n",
       "avg_last_30_days            225013.0  1967.704614  3.345583e+05 -4.513426e+07   \n",
       "avg_last_90_days            225013.0    18.556005  3.687237e+03 -4.856867e+05   \n",
       "number_of_cash_dep_90_days  225013.0     0.491594  5.336162e+00  0.000000e+00   \n",
       "avg_cash_deposit_90_days    225013.0 -1114.347668  3.027533e+04 -5.482044e+06   \n",
       "number_of_deposit_90_days   225013.0     1.132215  1.971166e+01  0.000000e+00   \n",
       "avg_of_dep_90_days          225013.0 -3551.143719  9.157115e+04 -1.654371e+07   \n",
       "number_of_cash_wd_90_days   225013.0     0.254168  1.175268e+00  0.000000e+00   \n",
       "avg_of_cash_wd_90_days      225013.0   476.189232  2.027460e+04  0.000000e+00   \n",
       "number_of_wd_90_days        225013.0     0.869016  1.237305e+01  0.000000e+00   \n",
       "avg_of_wd_90_days           225013.0  2451.791741  5.818315e+04  0.000000e+00   \n",
       "age                         225013.0    39.256314  1.687953e+01  0.000000e+00   \n",
       "\n",
       "                             25%   50%     75%           max  \n",
       "age_in_year                 31.0  41.0   52.00  1.190000e+02  \n",
       "lastUpdate                   NaN   NaN     NaN           NaN  \n",
       "avg_last_10_days             0.0   0.0  690.65  1.531514e+08  \n",
       "avg_last_30_days             0.0   0.0  182.17  3.859913e+07  \n",
       "avg_last_90_days             0.0   0.0    1.09  4.150444e+05  \n",
       "number_of_cash_dep_90_days   0.0   0.0    0.00  1.267000e+03  \n",
       "avg_cash_deposit_90_days     0.0   0.0    0.00  0.000000e+00  \n",
       "number_of_deposit_90_days    0.0   0.0    0.00  3.292000e+03  \n",
       "avg_of_dep_90_days           0.0   0.0    0.00  5.867291e+05  \n",
       "number_of_cash_wd_90_days    0.0   0.0    0.00  7.800000e+01  \n",
       "avg_of_cash_wd_90_days       0.0   0.0    0.00  8.394000e+06  \n",
       "number_of_wd_90_days         0.0   0.0    0.00  2.858000e+03  \n",
       "avg_of_wd_90_days            0.0   0.0    0.00  9.942530e+06  \n",
       "age                         29.0  39.0   50.00  1.180000e+02  "
      ]
     },
     "execution_count": 16,
     "metadata": {},
     "output_type": "execute_result"
    }
   ],
   "source": [
    "num_columns = df.select_dtypes(include=['int64', 'float64']).columns\n",
    "df[num_columns].describe().T\n",
    "\n",
    "# for col in num_columns:\n",
    "#     print(\"VARIABLE = \", col)\n",
    "#     print(df[col].describe())\n",
    "#     print('\\n'*2)"
   ]
  },
  {
   "cell_type": "markdown",
   "metadata": {},
   "source": [
    "Create a complete profile report of the dataset"
   ]
  },
  {
   "cell_type": "code",
   "execution_count": 17,
   "metadata": {
    "collapsed": false,
    "jupyter": {
     "outputs_hidden": false
    },
    "pycharm": {
     "name": "#%%\n"
    },
    "tags": []
   },
   "outputs": [],
   "source": [
    "# profile = ProfileReport(df, title=\"RBA_KYC_Accounts >> Before\", minimal=True)\n",
    "# profile.to_file(\"storage/df_report_before.html\")"
   ]
  },
  {
   "cell_type": "markdown",
   "metadata": {},
   "source": [
    "## Missing values"
   ]
  },
  {
   "cell_type": "markdown",
   "metadata": {
    "pycharm": {
     "name": "#%% md\n"
    }
   },
   "source": [
    "Checking for percentage (%) of missing values"
   ]
  },
  {
   "cell_type": "code",
   "execution_count": 18,
   "metadata": {},
   "outputs": [
    {
     "data": {
      "text/plain": [
       "org_code                             0.000000\n",
       "branchCode                           0.000000\n",
       "customerId                           0.000000\n",
       "fullaccount                          0.000000\n",
       "customerType                         0.000000\n",
       "creationDate                         0.000000\n",
       "onboarding                           0.000000\n",
       "residentStatus                       0.000000\n",
       "residentCountry                      0.264874\n",
       "nationalityOriginal                  1.528356\n",
       "extraNationality                    99.203157\n",
       "dateOfBirth                          2.099879\n",
       "age_in_year                          2.099879\n",
       "birthCountry                       100.000000\n",
       "birthPlace                           9.771435\n",
       "profession                          64.558492\n",
       "companyType                         49.016723\n",
       "giinCode                            99.994667\n",
       "lastUpdate                         100.000000\n",
       "status                               0.000000\n",
       "ledgerCode                           0.000000\n",
       "accountCurrency                      0.000000\n",
       "jointAccount                         0.000000\n",
       "IsBlackListed                        0.000000\n",
       "CUS_CLASS                            0.000000\n",
       "ECO_SEC                              0.000000\n",
       "TYPE_OF_DEP                          0.000000\n",
       "GENDER                              53.621791\n",
       "LEGAL_STA_CODE                       1.162599\n",
       "legal_Stat_desc                    100.000000\n",
       "avg_last_10_days                     0.000000\n",
       "avg_last_30_days                     0.000000\n",
       "avg_last_90_days                     0.000000\n",
       "number_of_cash_dep_90_days           0.000000\n",
       "avg_cash_deposit_90_days             0.000000\n",
       "number_of_deposit_90_days            0.000000\n",
       "avg_of_dep_90_days                   0.000000\n",
       "number_of_cash_wd_90_days            0.000000\n",
       "avg_of_cash_wd_90_days               0.000000\n",
       "number_of_wd_90_days                 0.000000\n",
       "avg_of_wd_90_days                    0.000000\n",
       "date_of_assessment                   0.000000\n",
       "rbaGradeAbrv                         0.000000\n",
       "score_card                           0.000000\n",
       "score_card_Desc                    100.000000\n",
       "rbaValue                             0.000000\n",
       "profession_DescriptionENG           64.558492\n",
       "ledgerCode_DescriptionENG            7.470679\n",
       "CUS_CLASS_DescriptionENG             0.000000\n",
       "ECO_SEC_DescriptionENG               0.000000\n",
       "LEGAL_STA_CODE_DescriptionENG        1.162599\n",
       "accountCurrency_DescriptionENG       0.000000\n",
       "residentCountry_CountryName          0.265762\n",
       "nationalityOriginal_CountryName      1.530578\n",
       "extraNationality_CountryName        99.396479\n",
       "Risk_Description                     0.000000\n",
       "creationDate_indays                  0.000000\n",
       "age                                  0.000000\n",
       "dtype: float64"
      ]
     },
     "execution_count": 18,
     "metadata": {},
     "output_type": "execute_result"
    }
   ],
   "source": [
    "100*df.isnull().sum()/df.isnull().count()"
   ]
  },
  {
   "cell_type": "markdown",
   "metadata": {},
   "source": [
    "Variables histograms"
   ]
  },
  {
   "cell_type": "code",
   "execution_count": 19,
   "metadata": {
    "collapsed": false,
    "jupyter": {
     "outputs_hidden": false
    },
    "pycharm": {
     "name": "#%%\n"
    },
    "tags": []
   },
   "outputs": [
    {
     "data": {
      "text/plain": [
       "<matplotlib.axes._subplots.AxesSubplot at 0x28bd4be5640>"
      ]
     },
     "execution_count": 19,
     "metadata": {},
     "output_type": "execute_result"
    },
    {
     "data": {
      "image/png": "[encoded data removed]",
      "text/plain": [
       "<Figure size 432x288 with 1 Axes>"
      ]
     },
     "metadata": {
      "needs_background": "light"
     },
     "output_type": "display_data"
    }
   ],
   "source": [
    "# https://towardsdatascience.com/using-pandas-method-chaining-to-improve-code-readability-d8517c5626ac\n",
    "# df2 = df.select_dtypes(include=['object']).isnull()\n",
    "df2 = df.isnull()\n",
    "sns.heatmap(df2, yticklabels=False, cbar=False, cmap='viridis')"
   ]
  },
  {
   "cell_type": "code",
   "execution_count": 20,
   "metadata": {},
   "outputs": [
    {
     "data": {
      "image/png": "[encoded data removed]",
      "text/plain": [
       "<Figure size 1440x2160 with 36 Axes>"
      ]
     },
     "metadata": {
      "needs_background": "light"
     },
     "output_type": "display_data"
    }
   ],
   "source": [
    "# Addison plot\n",
    "df.select_dtypes(include=['int64', 'float64']).hist(bins=15, figsize=(20, 30), layout=(6, 6));"
   ]
  },
  {
   "cell_type": "code",
   "execution_count": 21,
   "metadata": {},
   "outputs": [],
   "source": [
    "# https://www.delftstack.com/howto/matplotlib/how-to-hide-axis-text-ticks-and-or-tick-labels-in-matplotlib/#xaxis.set_visiblefalse%2fyaxis.set_visiblefalse-to-hide-axis-including-axis-label\n",
    "\n",
    "def boxplot_manual(data):\n",
    "    num_cols = 3\n",
    "    num_rows = math.ceil(len(data.columns)/num_cols)\n",
    "    fig, axs = plt.subplots(num_rows, num_cols)\n",
    "    fig.set_size_inches(20, 20)\n",
    "\n",
    "    for subplot, column in enumerate(data.columns, 0):\n",
    "        x, y = int(subplot / num_cols), subplot % num_cols\n",
    "        axs[x, y].boxplot(data[column], vert=False)\n",
    "        axs[x, y].set_title(f\"Column '{column}'\")\n",
    "        axs[x, y].axes.yaxis.set_visible(False)\n",
    "\n",
    "    plt.tight_layout()\n",
    "    plt.show()"
   ]
  },
  {
   "cell_type": "code",
   "execution_count": 22,
   "metadata": {},
   "outputs": [
    {
     "name": "stderr",
     "output_type": "stream",
     "text": [
      "C:\\ProgramData\\Anaconda3\\lib\\site-packages\\matplotlib\\cbook\\__init__.py:1239: RuntimeWarning: invalid value encountered in less_equal\n",
      "  wiskhi = x[x <= hival]\n",
      "C:\\ProgramData\\Anaconda3\\lib\\site-packages\\matplotlib\\cbook\\__init__.py:1246: RuntimeWarning: invalid value encountered in greater_equal\n",
      "  wisklo = x[x >= loval]\n",
      "C:\\ProgramData\\Anaconda3\\lib\\site-packages\\matplotlib\\cbook\\__init__.py:1254: RuntimeWarning: invalid value encountered in less\n",
      "  x[x < stats['whislo']],\n",
      "C:\\ProgramData\\Anaconda3\\lib\\site-packages\\matplotlib\\cbook\\__init__.py:1255: RuntimeWarning: invalid value encountered in greater\n",
      "  x[x > stats['whishi']],\n",
      "C:\\ProgramData\\Anaconda3\\lib\\site-packages\\matplotlib\\cbook\\__init__.py:1239: RuntimeWarning: invalid value encountered in less_equal\n",
      "  wiskhi = x[x <= hival]\n",
      "C:\\ProgramData\\Anaconda3\\lib\\site-packages\\matplotlib\\cbook\\__init__.py:1246: RuntimeWarning: invalid value encountered in greater_equal\n",
      "  wisklo = x[x >= loval]\n",
      "C:\\ProgramData\\Anaconda3\\lib\\site-packages\\matplotlib\\cbook\\__init__.py:1254: RuntimeWarning: invalid value encountered in less\n",
      "  x[x < stats['whislo']],\n",
      "C:\\ProgramData\\Anaconda3\\lib\\site-packages\\matplotlib\\cbook\\__init__.py:1255: RuntimeWarning: invalid value encountered in greater\n",
      "  x[x > stats['whishi']],\n"
     ]
    },
    {
     "data": {
      "image/png": "[encoded data removed]",
      "text/plain": [
       "<Figure size 1440x1440 with 15 Axes>"
      ]
     },
     "metadata": {
      "needs_background": "light"
     },
     "output_type": "display_data"
    }
   ],
   "source": [
    "boxplot_manual(df.select_dtypes(include=['int64', 'float64']))"
   ]
  },
  {
   "cell_type": "markdown",
   "metadata": {},
   "source": [
    "# Additional plots"
   ]
  },
  {
   "cell_type": "markdown",
   "metadata": {},
   "source": [
    "Top values\n",
    "* https://stackoverflow.com/questions/58272872/pandas-top-n-values-in-each-group\n",
    "* https://stackoverflow.com/questions/48909110/python-pandas-mean-and-sum-groupby-on-different-columns-at-the-same-time\n",
    "\n",
    "Using flags\n",
    "* https://github.com/google/region-flags\n",
    "* https://github.com/hjnilsson/country-flags\n",
    "* https://pypi.org/project/emoji-country-flag/\n",
    "* https://stackoverflow.com/questions/44246650/automating-bar-charts-plotting-to-show-country-flags-as-ticklabels\n",
    "* https://stackoverflow.com/questions/19835746/how-to-group-remaining-results-beyond-top-n-into-others-with-pandas\n",
    "* https://matplotlib.org/3.1.1/tutorials/introductory/images.html"
   ]
  },
  {
   "cell_type": "code",
   "execution_count": 23,
   "metadata": {
    "collapsed": false,
    "jupyter": {
     "outputs_hidden": false
    },
    "pycharm": {
     "name": "#%%\n"
    }
   },
   "outputs": [],
   "source": [
    "def get_flag(name, width_size=20):\n",
    "    \"\"\"\n",
    "    Downloads the country flags from GitHub of in case of failure, from a local drive.\n",
    "    It resize all the images to a width defined by \"width_size\")\n",
    "    :param name: ISO2 country name\n",
    "    :type name: str\n",
    "    :param width_size: Width in pixels\n",
    "    :type width_size: int\n",
    "    :return: Flag image\n",
    "    :rtype: matplotlib.offsetbox object\n",
    "    \"\"\"\n",
    "    try:\n",
    "        path = \"https://raw.githubusercontent.com/google/region-flags/gh-pages/png/{}.png\".format(name)\n",
    "        im = plt.imread(path)\n",
    "        zoom_ = width_size/im.shape[1]\n",
    "        img = OffsetImage(im, zoom=zoom_)\n",
    "        # print('{}: {} then {}'.format(name, im.shape, img))\n",
    "    except:  # In case the images cannot be downloaded from GitHub, gets from local drive\n",
    "        path = \"storage/region-flags-gh-pages-png/40x40/{}.png\".format(name)\n",
    "        im = plt.imread(path)\n",
    "        zoom_ = width_size/im.shape[1]\n",
    "        img = OffsetImage(im, zoom=zoom_)\n",
    "        # print('From local drive: {} size {}'.format(name, im.shape))\n",
    "    return img\n",
    "\n",
    "def offset_image(coord, name, ax):\n",
    "    \"\"\"\n",
    "    Place the image inside the plot passed at 'ax'.\n",
    "    :param coord: Position on x (horizontal axis)\n",
    "    :type coord: int\n",
    "    :param name: Name of the country (ISO 2)\n",
    "    :type name: str\n",
    "    :param ax: subplot\n",
    "    :type ax: object\n",
    "    :return: Plot\n",
    "    :rtype: obj\n",
    "    \"\"\"\n",
    "    im = get_flag(name)\n",
    "    im.image.axes = ax\n",
    "    ab = AnnotationBbox(im, (coord, 0), xybox=(0., -16.), frameon=False, xycoords='data', boxcoords=\"offset points\", pad=0)\n",
    "    ax.add_artist(ab)\n",
    "\n",
    "def plot_bar_countries(df, countries, valuesA, nlargest=10):\n",
    "    \"\"\"\n",
    "    Plots the mean of 'valuesA' per 'countries'\n",
    "    :param df: DataFrame with the source of data\n",
    "    :type df: pandas.DataFrame\n",
    "    :param countries: Name of the column to be use to extract the countries\n",
    "    :type countries: str\n",
    "    :param valuesA: Name of the column to be use to extract the numeric value to average\n",
    "    :type valuesA: str\n",
    "    :param nlargest: Number of elements to show as columns\n",
    "    :type nlargest: int\n",
    "    :return: plot\n",
    "    :rtype: obj\n",
    "    \"\"\"\n",
    "    bottom_countries = df.groupby(countries).mean().sort_values(by=valuesA, ascending=False)[nlargest:].index.values\n",
    "    df2 = df.replace(bottom_countries, 'Others').groupby(countries).mean().sort_values(by=valuesA, ascending=False)\n",
    "\n",
    "    fig, ax = plt.subplots()\n",
    "\n",
    "    ax.bar(range(len(df2.index.values)), df2[valuesA], width=0.5, align=\"center\")\n",
    "    ax.set_xticks(range(len(df2.index.values)))\n",
    "    ax.set_xticklabels(df2.index.values)\n",
    "    ax.tick_params(axis='x', which='major', pad=26)\n",
    "\n",
    "    for i, c in enumerate(df2.index.values):\n",
    "        offset_image(i, c, ax)\n",
    "\n",
    "    plt.show()"
   ]
  },
  {
   "cell_type": "code",
   "execution_count": 24,
   "metadata": {
    "collapsed": false,
    "jupyter": {
     "outputs_hidden": false
    },
    "pycharm": {
     "name": "#%%\n"
    }
   },
   "outputs": [
    {
     "data": {
      "image/png": "[encoded data removed]",
      "text/plain": [
       "<Figure size 432x288 with 1 Axes>"
      ]
     },
     "metadata": {
      "needs_background": "light"
     },
     "output_type": "display_data"
    }
   ],
   "source": [
    "plot_bar_countries(df, 'residentCountry', 'avg_last_90_days', 6)"
   ]
  },
  {
   "cell_type": "markdown",
   "metadata": {},
   "source": [
    "# Feature engineering"
   ]
  },
  {
   "cell_type": "markdown",
   "metadata": {},
   "source": [
    "Correct the missing variants in the `birthPlace`"
   ]
  },
  {
   "cell_type": "code",
   "execution_count": 25,
   "metadata": {
    "collapsed": false,
    "jupyter": {
     "outputs_hidden": false
    },
    "pycharm": {
     "name": "#%%\n"
    }
   },
   "outputs": [],
   "source": [
    "out = []\n",
    "for val in df['birthPlace']:\n",
    "    try:\n",
    "        if val.find('?')>=0 or val.strip()=='0':\n",
    "            out.append('-')\n",
    "        else:\n",
    "            out.append(val.strip().upper())\n",
    "    except:\n",
    "        out.append(val)\n",
    "\n",
    "# pd.Series(out).value_counts()\n",
    "df['birthPlace'] = out"
   ]
  },
  {
   "cell_type": "markdown",
   "metadata": {},
   "source": [
    "Transformations for `onboarding` from categorical to numerical variable"
   ]
  },
  {
   "cell_type": "code",
   "execution_count": 26,
   "metadata": {},
   "outputs": [],
   "source": [
    "# Addison\n",
    "\n",
    "df[\"onboarding\"].replace(to_replace=\"N\", value=0, inplace=True)\n",
    "df[\"onboarding\"].replace(to_replace=\"Y\", value=1, inplace=True)"
   ]
  },
  {
   "cell_type": "markdown",
   "metadata": {
    "pycharm": {
     "name": "#%% md\n"
    }
   },
   "source": [
    "## Remove, filtering"
   ]
  },
  {
   "cell_type": "markdown",
   "metadata": {},
   "source": [
    "Some examples to be consider to be removed or filtered:<br>\n",
    "More than 50% of the `GENDER` values are nulls. We remove the entire variable, or replace it with the mode (Male).<br>\n",
    "Another way is to use kNN imputation with another predictive variable (Profession) as it somehow gives indictions for the gender, but it suffers from high percentage of missing values (64%).<br>\n",
    "Since only 1% of the variable `LEGAL_STA_CODE` values is missing, and the dominating value is 1 (85%), it is advisable to replace the missing values with the mode. <br>\n",
    "100% of the variable `legal_Stat_desc` is missing, therefore the entire variable will be removed from the dataset.<br>\n",
    "No missing values at `avg_last_10_days`. The variable is a continuous number with both negative and positive values. Zero makes up 41% of total values. <br>\n",
    "No missing values at `avg_last_30_days`. The variable is a continuous number with both negative and positive values. Zero makes up 42% of total values. <br>\n",
    "No missing values at `avg_last_90_days`. The variable is a continuous number with both negative and positive values. Zero makes up 50% of total values. <br>\n",
    "No missing values at `number_of_cash_dep_90_days`. The variable is a continuous number with positive values. Zero makes up 89% of total values. <br>\n",
    "There are few notable outliers, some are suspicious such as (1267) total number of deposit within just 90 days.<br>\n",
    "No missing values at `avg_cash_deposit_90_days`. The variable is a continuous number with negative values. Zero makes up 89% of total values. <br>\n",
    "There are few notable outliers, but they look fine.<br>\n",
    "No missing values at `number_of_deposit_90_days`. The variable is a continuous number with positive values. Zero makes up 86% of total values. \n"
   ]
  },
  {
   "cell_type": "markdown",
   "metadata": {},
   "source": [
    "Remove fully NA columns"
   ]
  },
  {
   "cell_type": "code",
   "execution_count": 27,
   "metadata": {
    "collapsed": false,
    "jupyter": {
     "outputs_hidden": false
    },
    "pycharm": {
     "name": "#%%\n"
    }
   },
   "outputs": [],
   "source": [
    "# Drop columns where all the values are missing or null\n",
    "# https://pandas.pydata.org/pandas-docs/stable/reference/api/pandas.DataFrame.dropna.html\n",
    "df.dropna(axis='columns', how='all', inplace=True)"
   ]
  },
  {
   "cell_type": "markdown",
   "metadata": {
    "pycharm": {
     "name": "#%% md\n"
    }
   },
   "source": [
    "Remove constant value columns"
   ]
  },
  {
   "cell_type": "code",
   "execution_count": 28,
   "metadata": {
    "collapsed": false,
    "jupyter": {
     "outputs_hidden": false
    },
    "pycharm": {
     "name": "#%%\n"
    }
   },
   "outputs": [
    {
     "data": {
      "text/plain": [
       "Index(['org_code', 'giinCode', 'status', 'IsBlackListed',\n",
       "       'date_of_assessment'],\n",
       "      dtype='object')"
      ]
     },
     "execution_count": 28,
     "metadata": {},
     "output_type": "execute_result"
    }
   ],
   "source": [
    "# Addison proposal\n",
    "col_unique = df.columns[df.nunique()==1]\n",
    "col_unique"
   ]
  },
  {
   "cell_type": "code",
   "execution_count": 29,
   "metadata": {
    "collapsed": false,
    "jupyter": {
     "outputs_hidden": false
    },
    "pycharm": {
     "name": "#%%\n"
    }
   },
   "outputs": [],
   "source": [
    "df.drop(col_unique, axis=1, inplace=True)"
   ]
  },
  {
   "cell_type": "markdown",
   "metadata": {},
   "source": [
    "Remove high cardinality columns"
   ]
  },
  {
   "cell_type": "code",
   "execution_count": 30,
   "metadata": {
    "collapsed": false,
    "jupyter": {
     "outputs_hidden": false
    },
    "pycharm": {
     "name": "#%%\n"
    }
   },
   "outputs": [
    {
     "data": {
      "text/plain": [
       "fullaccount                        98.0\n",
       "avg_last_10_days                   47.3\n",
       "avg_last_30_days                   41.9\n",
       "customerId                         33.5\n",
       "avg_last_90_days                   16.7\n",
       "dateOfBirth                         9.5\n",
       "avg_of_dep_90_days                  5.0\n",
       "avg_of_wd_90_days                   3.9\n",
       "creationDate_indays                 3.1\n",
       "creationDate                        3.1\n",
       "avg_cash_deposit_90_days            2.6\n",
       "avg_of_cash_wd_90_days              2.4\n",
       "rbaValue                            0.3\n",
       "birthPlace                          0.2\n",
       "ECO_SEC_DescriptionENG              0.1\n",
       "number_of_deposit_90_days           0.1\n",
       "ECO_SEC                             0.1\n",
       "number_of_cash_dep_90_days          0.1\n",
       "ledgerCode                          0.1\n",
       "number_of_wd_90_days                0.1\n",
       "ledgerCode_DescriptionENG           0.1\n",
       "residentCountry                     0.0\n",
       "age_in_year                         0.0\n",
       "accountCurrency                     0.0\n",
       "residentStatus                      0.0\n",
       "extraNationality                    0.0\n",
       "customerType                        0.0\n",
       "nationalityOriginal                 0.0\n",
       "profession                          0.0\n",
       "companyType                         0.0\n",
       "onboarding                          0.0\n",
       "age                                 0.0\n",
       "jointAccount                        0.0\n",
       "CUS_CLASS_DescriptionENG            0.0\n",
       "Risk_Description                    0.0\n",
       "extraNationality_CountryName        0.0\n",
       "nationalityOriginal_CountryName     0.0\n",
       "residentCountry_CountryName         0.0\n",
       "accountCurrency_DescriptionENG      0.0\n",
       "LEGAL_STA_CODE_DescriptionENG       0.0\n",
       "profession_DescriptionENG           0.0\n",
       "CUS_CLASS                           0.0\n",
       "score_card                          0.0\n",
       "rbaGradeAbrv                        0.0\n",
       "number_of_cash_wd_90_days           0.0\n",
       "LEGAL_STA_CODE                      0.0\n",
       "GENDER                              0.0\n",
       "TYPE_OF_DEP                         0.0\n",
       "branchCode                          0.0\n",
       "dtype: float64"
      ]
     },
     "execution_count": 30,
     "metadata": {},
     "output_type": "execute_result"
    }
   ],
   "source": [
    "cardinality_list = df.apply(pd.Series.nunique)/df.shape[0]*100\n",
    "cardinality_list.round(1).sort_values(ascending=False)"
   ]
  },
  {
   "cell_type": "code",
   "execution_count": 31,
   "metadata": {
    "collapsed": false,
    "jupyter": {
     "outputs_hidden": false
    },
    "pycharm": {
     "name": "#%%\n"
    }
   },
   "outputs": [],
   "source": [
    "df.drop(['fullaccount'], axis=1, inplace=True)"
   ]
  },
  {
   "cell_type": "markdown",
   "metadata": {},
   "source": [
    "Remove columns with high ratio of missing values\n",
    "https://stackoverflow.com/a/50798593/3780957"
   ]
  },
  {
   "cell_type": "code",
   "execution_count": 32,
   "metadata": {
    "collapsed": false,
    "jupyter": {
     "outputs_hidden": false
    },
    "pycharm": {
     "name": "#%%\n"
    }
   },
   "outputs": [],
   "source": [
    "na_threshold = len(df) * .80\n",
    "df = df.dropna(thresh=na_threshold, axis=1)"
   ]
  },
  {
   "cell_type": "markdown",
   "metadata": {
    "pycharm": {
     "name": "#%% md\n"
    }
   },
   "source": [
    "Remove duplicate rows\n",
    "* https://pandas.pydata.org/pandas-docs/stable/reference/api/pandas.DataFrame.drop_duplicates.html\n",
    "* https://pandas.pydata.org/pandas-docs/stable/reference/api/pandas.DataFrame.duplicated.html"
   ]
  },
  {
   "cell_type": "code",
   "execution_count": 33,
   "metadata": {
    "collapsed": false,
    "jupyter": {
     "outputs_hidden": false
    },
    "pycharm": {
     "name": "#%%\n"
    },
    "tags": []
   },
   "outputs": [
    {
     "name": "stdout",
     "output_type": "stream",
     "text": [
      "Number of duplicates 13520 rows to be removed\n"
     ]
    }
   ],
   "source": [
    "print(f'Number of duplicates {df.duplicated().sum()} rows to be removed')\n",
    "df.drop_duplicates(inplace=True)"
   ]
  },
  {
   "cell_type": "markdown",
   "metadata": {
    "pycharm": {
     "name": "#%% md\n"
    }
   },
   "source": [
    "Remove unique column"
   ]
  },
  {
   "cell_type": "code",
   "execution_count": 34,
   "metadata": {
    "collapsed": false,
    "jupyter": {
     "outputs_hidden": false
    },
    "pycharm": {
     "name": "#%%\n"
    }
   },
   "outputs": [],
   "source": [
    "# df.drop(['df_index'], axis=1, inplace=True)"
   ]
  },
  {
   "cell_type": "markdown",
   "metadata": {},
   "source": [
    "Remove highly correlated columns"
   ]
  },
  {
   "cell_type": "code",
   "execution_count": 35,
   "metadata": {},
   "outputs": [
    {
     "data": {
      "text/plain": [
       "<matplotlib.axes._subplots.AxesSubplot at 0x28bd7a396d0>"
      ]
     },
     "execution_count": 35,
     "metadata": {},
     "output_type": "execute_result"
    },
    {
     "data": {
      "image/png": "[encoded data removed]",
      "text/plain": [
       "<Figure size 2160x720 with 2 Axes>"
      ]
     },
     "metadata": {
      "needs_background": "light"
     },
     "output_type": "display_data"
    }
   ],
   "source": [
    "# https://stackoverflow.com/a/60882164/3780957\n",
    "\n",
    "corr = df.corr()\n",
    "\n",
    "kot = corr[corr>=.9]\n",
    "plt.figure(figsize=(30,10))\n",
    "sns.heatmap(kot, cmap=\"Greens\")"
   ]
  },
  {
   "cell_type": "code",
   "execution_count": 36,
   "metadata": {},
   "outputs": [
    {
     "data": {
      "text/plain": [
       "avg_last_30_days  avg_last_90_days    0.975413\n",
       "avg_last_10_days  avg_last_90_days    0.977172\n",
       "                  avg_last_30_days    0.998307\n",
       "age_in_year       age                 0.999681\n",
       "onboarding        onboarding               NaN\n",
       "dtype: float64"
      ]
     },
     "execution_count": 36,
     "metadata": {},
     "output_type": "execute_result"
    }
   ],
   "source": [
    "# https://stackoverflow.com/a/63536382/3780957\n",
    "\n",
    "def corrFilter(x: pd.DataFrame, bound: float):\n",
    "    xCorr = x.corr()\n",
    "    xFiltered = xCorr[((xCorr >= bound) | (xCorr <= -bound)) & (xCorr !=1.000)]\n",
    "    xFlattened = xFiltered.unstack().sort_values().drop_duplicates()\n",
    "    return xFlattened\n",
    "\n",
    "cor_ = corrFilter(df, .8)\n",
    "cor_"
   ]
  },
  {
   "cell_type": "code",
   "execution_count": 37,
   "metadata": {},
   "outputs": [],
   "source": [
    "# https://stackoverflow.com/a/25733562/3780957\n",
    "df.drop(cor_.reset_index()['level_1'], axis=1, inplace=True)"
   ]
  },
  {
   "cell_type": "markdown",
   "metadata": {
    "pycharm": {
     "name": "#%% md\n"
    }
   },
   "source": [
    "## Imputation"
   ]
  },
  {
   "cell_type": "markdown",
   "metadata": {},
   "source": [
    "Creating variables for negative information\n",
    "Meaning 1 when original variable is missing and 0 otherwise"
   ]
  },
  {
   "cell_type": "code",
   "execution_count": 38,
   "metadata": {},
   "outputs": [
    {
     "name": "stdout",
     "output_type": "stream",
     "text": [
      "age_in_year has missings\n"
     ]
    }
   ],
   "source": [
    "num_columns = df.select_dtypes(include=['int64', 'float64']).columns\n",
    "num_feats = df.loc[:, num_columns]\n",
    "\n",
    "for var in num_columns:\n",
    "    if sum(1*num_feats[var].isnull()):\n",
    "        print(var, 'has missings')\n",
    "        mean_ = num_feats[var].mean()\n",
    "        num_feats.loc[num_feats[var].isnull(), var] = mean_\n",
    "        num_feats[var+'_missing'] = 1*num_feats[var].isnull()"
   ]
  },
  {
   "cell_type": "markdown",
   "metadata": {},
   "source": [
    "There are [several ways of imputing missing values](https://scikit-learn.org/stable/modules/impute.html#multivariate-feature-imputation). I'd like to use a multivariate approach, which is much better than univariate methods (imputing by the mean, etc.). To do so, I will use the methods available in `scikit-learn` library ([here](https://scikit-learn.org/stable/modules/impute.html#multivariate-feature-imputation)).\n",
    "\n",
    "https://scikit-learn.org/stable/modules/generated/sklearn.impute.IterativeImputer.html\n",
    "\n",
    "A more sophisticated approach is to use the IterativeImputer class, which models each feature with missing values as a function of other features, and uses that estimate for imputation. It does so in an iterated round-robin fashion: at each step, a feature column is designated as output y and the other feature columns are treated as inputs X. A regressor is fit on (X, y) for known y. Then, the regressor is used to predict the missing values of y. This is done for each feature in an iterative fashion, and then is repeated for max_iter imputation rounds. The results of the final imputation round are returned."
   ]
  },
  {
   "cell_type": "code",
   "execution_count": 39,
   "metadata": {},
   "outputs": [],
   "source": [
    "# num_imputer = IterativeImputer(max_iter=10, random_state=0)\n",
    "# num_columns = df.select_dtypes(include=['int64', 'float64']).columns\n",
    "# num_feats = num_imputer.fit_transform(df[num_columns])\n",
    "# num_feats = pd.DataFrame(data=num_feats, columns=num_columns)"
   ]
  },
  {
   "cell_type": "code",
   "execution_count": 40,
   "metadata": {},
   "outputs": [
    {
     "name": "stdout",
     "output_type": "stream",
     "text": [
      "residentCountry has missings\n",
      "nationalityOriginal has missings\n",
      "dateOfBirth has missings\n",
      "birthPlace has missings\n",
      "LEGAL_STA_CODE has missings\n",
      "ledgerCode_DescriptionENG has missings\n",
      "LEGAL_STA_CODE_DescriptionENG has missings\n",
      "residentCountry_CountryName has missings\n",
      "nationalityOriginal_CountryName has missings\n"
     ]
    }
   ],
   "source": [
    "## Mode fills for missing values\n",
    "cat_columns = df.select_dtypes(include=['object', 'datetime64']).columns\n",
    "cat_feats = df.loc[:, cat_columns]\n",
    "\n",
    "for var in cat_columns:\n",
    "    if sum(1*cat_feats[var].isnull()):\n",
    "        print(var, 'has missings')\n",
    "        mode_ = cat_feats[var].mode().iloc[0]\n",
    "        cat_feats.loc[cat_feats[var].isnull(), var] = mode_\n",
    "        cat_feats[var+'_missing'] = 1*cat_feats[var].isna()"
   ]
  },
  {
   "cell_type": "markdown",
   "metadata": {},
   "source": [
    "Feature engineering for the dates"
   ]
  },
  {
   "cell_type": "code",
   "execution_count": 41,
   "metadata": {},
   "outputs": [],
   "source": [
    "df_time = pd.DataFrame()\n",
    "for col in df.select_dtypes(include=['datetime64']):\n",
    "    df_time['{}_year'.format(col)] = df[col].dt.year\n",
    "    df_time['{}_month'.format(col)] = df[col].dt.month\n",
    "    df_time['{}_day'.format(col)] = df[col].dt.day\n",
    "    df_time['{}_dayofyear'.format(col)] = df[col].dt.dayofyear"
   ]
  },
  {
   "cell_type": "markdown",
   "metadata": {},
   "source": [
    "Finally, the result of imputing both: numerical and categorical, is now merged together in a single Dataset (or you can also use a dataframe, if you prefer)."
   ]
  },
  {
   "cell_type": "code",
   "execution_count": 42,
   "metadata": {},
   "outputs": [],
   "source": [
    "# https://pandas.pydata.org/pandas-docs/stable/user_guide/merging.html\n",
    "# date_columns = df.select_dtypes(include=['datetime64']).columns\n",
    "df = pd.concat([cat_feats, num_feats, df_time], axis=1, sort=False)"
   ]
  },
  {
   "cell_type": "markdown",
   "metadata": {},
   "source": [
    "Dataset is ready to be analyzed. Lots of categorical and numerical variables."
   ]
  },
  {
   "cell_type": "code",
   "execution_count": 43,
   "metadata": {},
   "outputs": [],
   "source": [
    "# Drop rows with NA\n",
    "\n",
    "df.dropna(axis='rows', how='any', inplace=True)"
   ]
  },
  {
   "cell_type": "markdown",
   "metadata": {},
   "source": [
    "## Scale\n",
    "\n",
    "Scale all the numeric values, at this point."
   ]
  },
  {
   "cell_type": "code",
   "execution_count": 44,
   "metadata": {},
   "outputs": [],
   "source": [
    "# https://stackoverflow.com/a/36475297/3780957\n",
    "\n",
    "num_columns = df.select_dtypes(include=['int64', 'float64']).columns\n",
    "\n",
    "scaler = StandardScaler()\n",
    "df[num_columns] = scaler.fit_transform(df[num_columns])"
   ]
  },
  {
   "cell_type": "markdown",
   "metadata": {},
   "source": [
    "# Regression model\n",
    "\n",
    "Develop one Regression model using `rbaValue` as target variable. Remember to assess the model performance using an appropriate measure for regression."
   ]
  },
  {
   "cell_type": "code",
   "execution_count": 45,
   "metadata": {},
   "outputs": [],
   "source": [
    "y = df['rbaValue']\n",
    "X = df.drop('rbaValue', axis=1)"
   ]
  },
  {
   "cell_type": "code",
   "execution_count": 46,
   "metadata": {},
   "outputs": [],
   "source": [
    "X = OneHotEncoder(drop='first').fit_transform(X)"
   ]
  },
  {
   "cell_type": "code",
   "execution_count": 47,
   "metadata": {
    "tags": []
   },
   "outputs": [],
   "source": [
    "# https://github.com/renero/class_notebooks/blob/master/Linear%20regression.ipynb\n",
    "\n",
    "X_train, X_test, y_train, y_test = train_test_split(X, y, test_size=0.2, random_state=42)\n",
    "\n",
    "lm = linear_model.LinearRegression()\n",
    "lm.fit(X_train, y_train)\n",
    "y_pred = lm.predict(X_test)"
   ]
  },
  {
   "cell_type": "markdown",
   "metadata": {},
   "source": [
    "For Linear Regression the most important model performance metrics are <br>\n",
    "R2 Score , RMSE value and Mean Absolute Percentage Error (MAPE).<br>\n",
    "The closer R2 Score is to 1 the more accurate our model.<br>\n",
    "RMSE value and MAPE value should be low for a good model.</h4>"
   ]
  },
  {
   "cell_type": "code",
   "execution_count": 48,
   "metadata": {
    "tags": []
   },
   "outputs": [
    {
     "name": "stdout",
     "output_type": "stream",
     "text": [
      "Intercept: 48.95963588864072\n",
      "Coefficients: [-0.07366136 -0.09229259 -0.23337009 ...  0.13170571 -0.12165644\n",
      "  0.21217157]\n",
      "Mean squared error (MSE): 3.33\n",
      "Variance score (R2): 0.95\n",
      "Mean Absolute Error: 0.77\n",
      "Root Mean Squared Error: 1.83\n",
      "Mean Absolute Percentage Error: 0.70\n"
     ]
    }
   ],
   "source": [
    "print('Intercept:', lm.intercept_)\n",
    "print('Coefficients:', lm.coef_)\n",
    "print('Mean squared error (MSE): {:.2f}'.format(mean_squared_error(y_test, y_pred)))\n",
    "print('Variance score (R2): {:.2f}'.format(r2_score(y_test, y_pred)))\n",
    "print('Mean Absolute Error: {:.2f}'.format(mean_absolute_error(y_test, y_pred)))\n",
    "print('Root Mean Squared Error: {:.2f}'.format(np.sqrt(mean_squared_error(y_test, y_pred))))\n",
    "print('Mean Absolute Percentage Error: {:.2f}'.format(np.mean(np.abs((y_test - y_pred) / y_test)) * 10))"
   ]
  },
  {
   "cell_type": "code",
   "execution_count": 49,
   "metadata": {},
   "outputs": [
    {
     "data": {
      "image/png": "[encoded data removed]",
      "text/plain": [
       "<Figure size 720x576 with 1 Axes>"
      ]
     },
     "metadata": {
      "needs_background": "light"
     },
     "output_type": "display_data"
    }
   ],
   "source": [
    "#Addison\n",
    "\n",
    "result = pd.DataFrame({'Actual': y_test, 'Predicted': y_pred})\n",
    "\n",
    "result1 = result[:10]\n",
    "result1.plot(kind='bar',figsize=(10,8))\n",
    "plt.grid(which='major', linestyle='-', linewidth='0.5', color='grey')\n",
    "plt.grid(which='minor', linestyle=':', linewidth='0.5', color='black')\n",
    "plt.show()"
   ]
  },
  {
   "cell_type": "markdown",
   "metadata": {
    "pycharm": {
     "name": "#%% md\n"
    }
   },
   "source": [
    "# Classification model\n",
    "\n",
    "Develop one binary Classification model using `Risk_Description` setting `Risk_Description` = Low as 0 and else 1 (Medium or High). Remember to assess your model performance using a appropriate measure for classification."
   ]
  },
  {
   "cell_type": "code",
   "execution_count": 50,
   "metadata": {},
   "outputs": [],
   "source": [
    "# Merge the categories 'Medium' and 'High'\n",
    "y = df['Risk_Description']\n",
    "y = [0 if x=='Low' else 1 for x in y]\n",
    "# pd.Series(y).value_counts()\n",
    "\n",
    "X = df.drop('Risk_Description', axis=1)"
   ]
  },
  {
   "cell_type": "code",
   "execution_count": 51,
   "metadata": {},
   "outputs": [],
   "source": [
    "X = OneHotEncoder(drop='first').fit_transform(X)"
   ]
  },
  {
   "cell_type": "code",
   "execution_count": 52,
   "metadata": {
    "pycharm": {
     "name": "#%%\n"
    },
    "tags": []
   },
   "outputs": [],
   "source": [
    "X_train, X_test, y_train, y_test = train_test_split(X, y, test_size=0.2, random_state=42)\n",
    "\n",
    "lr = LogisticRegression().fit(X_train, y_train)\n",
    "y_pred = lr.predict(X_test)"
   ]
  },
  {
   "cell_type": "code",
   "execution_count": 53,
   "metadata": {
    "pycharm": {
     "name": "#%%\n"
    },
    "tags": []
   },
   "outputs": [
    {
     "name": "stdout",
     "output_type": "stream",
     "text": [
      "Accuracy: 1.0\n",
      "F1: 1.0\n",
      "Recall: 1.0\n",
      "MCC: 1.0\n"
     ]
    }
   ],
   "source": [
    "# Metrics\n",
    "\n",
    "accuracy = accuracy_score(y_test, y_pred)\n",
    "F1 = f1_score(y_test, y_pred)\n",
    "recall = recall_score(y_test, y_pred)\n",
    "MCC = matthews_corrcoef(y_test, y_pred)\n",
    "\n",
    "print('Accuracy:', accuracy)\n",
    "print('F1:', F1)\n",
    "print('Recall:', recall)\n",
    "print('MCC:', MCC)"
   ]
  },
  {
   "cell_type": "code",
   "execution_count": 54,
   "metadata": {},
   "outputs": [
    {
     "name": "stdout",
     "output_type": "stream",
     "text": [
      "Confusion matrix:\n",
      "[[30253     0]\n",
      " [    0 11198]]\n",
      "\n",
      "Normalized confusion matrix:\n",
      "[1. 0.]\n",
      "[0. 1.]\n"
     ]
    }
   ],
   "source": [
    "# Calculating the confusion matrix \n",
    "# Saving confusion matrix and slice into four pieces\n",
    "confusion = confusion_matrix(y_test, y_pred)\n",
    "\n",
    "#[row, column]\n",
    "TP = confusion[1, 1]\n",
    "TN = confusion[0, 0]\n",
    "FP = confusion[0, 1]\n",
    "FN = confusion[1, 0]\n",
    "\n",
    "print(f\"Confusion matrix:\\n{confusion}\")\n",
    "\n",
    "# Normalizing by the true label counts to get rates\n",
    "print(f\"\\nNormalized confusion matrix:\")\n",
    "for row in confusion:\n",
    "    print(row / row.sum())"
   ]
  },
  {
   "cell_type": "code",
   "execution_count": 55,
   "metadata": {},
   "outputs": [
    {
     "name": "stdout",
     "output_type": "stream",
     "text": [
      "1.0\n",
      "1.0\n"
     ]
    }
   ],
   "source": [
    "## Classification Accuracy\n",
    "print((TP + TN) / float(TP + TN + FP + FN))\n",
    "print(accuracy_score(y_test, y_pred))"
   ]
  },
  {
   "cell_type": "code",
   "execution_count": 56,
   "metadata": {},
   "outputs": [
    {
     "name": "stdout",
     "output_type": "stream",
     "text": [
      "0.0\n",
      "0.0\n"
     ]
    }
   ],
   "source": [
    "## Classification Error\n",
    "classification_error = (FP + FN) / float(TP + TN + FP + FN)\n",
    "\n",
    "print(classification_error)\n",
    "print(1 - accuracy_score(y_test, y_pred))"
   ]
  },
  {
   "cell_type": "code",
   "execution_count": 57,
   "metadata": {},
   "outputs": [
    {
     "name": "stdout",
     "output_type": "stream",
     "text": [
      "1.0\n",
      "1.0\n"
     ]
    }
   ],
   "source": [
    "## Sensitivity\n",
    "sensitivity = TP / float(FN + TP)\n",
    "\n",
    "print(sensitivity)\n",
    "print(recall_score(y_test, y_pred))"
   ]
  },
  {
   "cell_type": "code",
   "execution_count": 58,
   "metadata": {},
   "outputs": [
    {
     "name": "stdout",
     "output_type": "stream",
     "text": [
      "1.0\n"
     ]
    }
   ],
   "source": [
    "## Specificity\n",
    "specificity = TN / (TN + FP)\n",
    "\n",
    "print(specificity)"
   ]
  },
  {
   "cell_type": "code",
   "execution_count": 59,
   "metadata": {},
   "outputs": [
    {
     "name": "stdout",
     "output_type": "stream",
     "text": [
      "0.0\n",
      "0.0\n"
     ]
    }
   ],
   "source": [
    "## False Positive Rate\n",
    "false_positive_rate = FP / float(TN + FP)\n",
    "\n",
    "print(false_positive_rate)\n",
    "print(1 - specificity)"
   ]
  },
  {
   "cell_type": "code",
   "execution_count": 60,
   "metadata": {},
   "outputs": [
    {
     "name": "stdout",
     "output_type": "stream",
     "text": [
      "1.0\n",
      "1.0\n"
     ]
    }
   ],
   "source": [
    "## Precision\n",
    "precision = TP / float(TP + FP)\n",
    "\n",
    "print(precision)\n",
    "print(precision_score(y_test, y_pred))"
   ]
  },
  {
   "cell_type": "markdown",
   "metadata": {},
   "source": [
    "<p>The confusion matrix is a more accurate metric for model performance. We can decide whether our model is ideal or not based on which sections of the confusion matrix we want to maximize. For example, in health related predictions false positives should be minimum.</p>"
   ]
  }
 ],
 "metadata": {
  "kernelspec": {
   "display_name": "PyCharm (STATISTICAL PROGRAMMING - PYTHON (MBD-EN-BL2020J-1_32R203_380389))",
   "language": "python",
   "name": "pycharm-392c1d3b"
  },
  "language_info": {
   "codemirror_mode": {
    "name": "ipython",
    "version": 3
   },
   "file_extension": ".py",
   "mimetype": "text/x-python",
   "name": "python",
   "nbconvert_exporter": "python",
   "pygments_lexer": "ipython3",
   "version": "3.8.3"
  }
 },
 "nbformat": 4,
 "nbformat_minor": 4
}
