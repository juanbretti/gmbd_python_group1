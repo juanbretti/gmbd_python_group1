{
 "cells": [
  {
   "cell_type": "markdown",
   "metadata": {},
   "source": [
    "<img src=\"raw\\profile_manoelgadi.png\" width=100 height=100 align=\"right\">\n",
    "\n",
    "Author: Manoel Gadi\n",
    "\n",
    "Last revision: 19/July/2020"
   ]
  },
  {
   "cell_type": "markdown",
   "metadata": {},
   "source": [
    "---"
   ]
  },
  {
   "cell_type": "markdown",
   "metadata": {},
   "source": [
    "Welcome to the GROUP VIDEO starter code.\n",
    "\n",
    "Your group task is to record a video of 10 - 15 minutes CLEANING DATA and DEVELOPING 2 MODELS using the RBA_KYC_Accounts_ALL_Ids.xlsx dataset. You should use Pandas, Matplotlib and Scikit Learn (Sklearn) libraries only if possible. Your video should include:\n",
    "\n",
    "* A quick explanation of Pandas, Matplotlib and Sklearn, specially including their histories. (less than a minute)\n",
    "* A quick Exploratory Data Analysis of the data set used.\n",
    "* Using the EDA, explain the problems of data quality in this data set.\n",
    "* Research about data preparation with Python. Propose and implement ways to clean, input missing and prepare the data for modelling. (YOUR VIDEO SHOULD FOCUS IN THIS PART - 70-80% OF THE VIDEO SHOULD BE ABOUT DATA CLEANING AND DATA PREPARATION)\n",
    "* Then, develop one Regression model using rbaValue as target variable.  Remember to assess the model performance using an appropriate measure for regression. \n",
    "* Then, develop one binary Classification model using Risk_Description setting Risk_Description = Low as 0 and else 1 (Medium or High). Remember to assess your model performance using a appropriate measure for classification.\n",
    "\n",
    "ps. please, don't improve the model, you don't need to make good one, simply do a quick one! This exercise is about explaining, in a video lecture, how to prepare the data for modelling , not about making a good model .\n",
    "\n",
    "ps. You can apply any of the steps in the model development seing in the last class, but be coincious of time it may take to do it all, so avoid overcomplicating things.\n",
    "\n",
    "Please find below couple videos from previous years (different data set and different objective) and from which you'll also learn some Python ideas:\n",
    "\n",
    "* 2018 MBD01 Group E Variable Transformation - https://www.youtube.com/watch?v=j_0HQ2UF_L0\n",
    "* 2019 - Risk & Fraud Analytics - Scikit Learn & Lending Club - Group C - https://www.youtube.com/watch?v=oTmHMXsksM8"
   ]
  },
  {
   "cell_type": "markdown",
   "metadata": {},
   "source": [
    "---"
   ]
  },
  {
   "cell_type": "markdown",
   "metadata": {},
   "source": [
    "### Importing the database: RBA_KYC_Accounts_ALL_Ids.xlsx"
   ]
  },
  {
   "cell_type": "code",
   "execution_count": 1,
   "metadata": {},
   "outputs": [],
   "source": [
    "import math\n",
    "import matplotlib.pyplot as plt\n",
    "import numpy as np\n",
    "import pandas as pd\n",
    "\n",
    "from sklearn.experimental import enable_iterative_imputer\n",
    "from sklearn.impute import IterativeImputer, SimpleImputer\n",
    "from sklearn.preprocessing import StandardScaler, OneHotEncoder\n",
    "\n",
    "from sklearn import datasets, linear_model\n",
    "from sklearn.metrics import mean_squared_error, r2_score\n",
    "\n",
    "from sklearn.metrics import accuracy_score, f1_score, recall_score, matthews_corrcoef\n",
    "from sklearn.model_selection import train_test_split\n",
    "from sklearn.linear_model import LogisticRegression\n",
    "\n",
    "# https://dateutil.readthedocs.io/en/stable/relativedelta.html\n",
    "from datetime import datetime\n",
    "from dateutil.relativedelta import relativedelta, MO"
   ]
  },
  {
   "cell_type": "code",
   "execution_count": 2,
   "metadata": {},
   "outputs": [],
   "source": [
    "# df = pd.read_excel('raw\\RBA_KYC_Accounts_ALL_Ids.xlsx')\n",
    "\n",
    "# For speed, we store the Excel file in a Pickle\n",
    "# https://stackoverflow.com/a/17098736/3780957\n",
    "# df.to_pickle('storage\\RBA_KYC_Accounts_ALL_Ids.pkl')"
   ]
  },
  {
   "cell_type": "code",
   "execution_count": 3,
   "metadata": {},
   "outputs": [],
   "source": [
    "df = pd.read_pickle('storage/RBA_KYC_Accounts_ALL_Ids.pkl')"
   ]
  },
  {
   "cell_type": "code",
   "execution_count": 4,
   "metadata": {},
   "outputs": [],
   "source": [
    "df['Risk_Description'] = df['rba_grade_desc']\n",
    "df.drop(['rba_grade_desc'], axis = 1, inplace = True) "
   ]
  },
  {
   "cell_type": "markdown",
   "metadata": {},
   "source": [
    "## Checking some quick statistics"
   ]
  },
  {
   "cell_type": "code",
   "execution_count": 5,
   "metadata": {},
   "outputs": [
    {
     "output_type": "execute_result",
     "data": {
      "text/plain": "       org_code     branchCode    customerId   customerType  residentStatus  \\\ncount  224868.0  224868.000000  2.248680e+05  224868.000000   224868.000000   \nmean        1.0     448.451323  4.394503e+16       1.114418        1.021221   \nstd         0.0     228.193308  2.349321e+16       0.318319        0.144122   \nmin         1.0     201.000000  2.020028e+09       1.000000        1.000000   \n25%         1.0     208.000000  2.070207e+16       1.000000        1.000000   \n50%         1.0     401.000000  4.011205e+16       1.000000        1.000000   \n75%         1.0     701.000000  7.012410e+16       1.000000        1.000000   \nmax         1.0     805.000000  8.052929e+16       2.000000        2.000000   \n\n         age_in_year  birthCountry    profession    companyType  lastUpdate  \\\ncount  220153.000000           0.0  79748.000000  114574.000000         0.0   \nmean       41.310575           NaN     18.309487      49.857577         NaN   \nstd        16.000536           NaN      6.586481       6.736115         NaN   \nmin         1.000000           NaN      1.000000       1.000000         NaN   \n25%        31.000000           NaN     20.000000      51.000000         NaN   \n50%        41.000000           NaN     20.000000      51.000000         NaN   \n75%        52.000000           NaN     21.000000      51.000000         NaN   \nmax       119.000000           NaN     39.000000     100.000000         NaN   \n\n       ...  number_of_cash_dep_90_days  avg_cash_deposit_90_days  \\\ncount  ...               224868.000000              2.248680e+05   \nmean   ...                    0.491422             -1.113435e+03   \nstd    ...                    5.335240              3.028084e+04   \nmin    ...                    0.000000             -5.482044e+06   \n25%    ...                    0.000000              0.000000e+00   \n50%    ...                    0.000000              0.000000e+00   \n75%    ...                    0.000000              0.000000e+00   \nmax    ...                 1267.000000              0.000000e+00   \n\n       number_of_deposit_90_days  avg_of_dep_90_days  \\\ncount              224868.000000        2.248680e+05   \nmean                    1.131437       -3.540383e+03   \nstd                    19.713739        9.151602e+04   \nmin                     0.000000       -1.654371e+07   \n25%                     0.000000        0.000000e+00   \n50%                     0.000000        0.000000e+00   \n75%                     0.000000        0.000000e+00   \nmax                  3292.000000        5.867291e+05   \n\n       number_of_cash_wd_90_days  avg_of_cash_wd_90_days  \\\ncount              224868.000000            2.248680e+05   \nmean                    0.254305            4.763851e+02   \nstd                     1.175586            2.028110e+04   \nmin                     0.000000            0.000000e+00   \n25%                     0.000000            0.000000e+00   \n50%                     0.000000            0.000000e+00   \n75%                     0.000000            0.000000e+00   \nmax                    78.000000            8.394000e+06   \n\n       number_of_wd_90_days  avg_of_wd_90_days  score_card_Desc       rbaValue  \ncount         224868.000000       2.248680e+05              0.0  224868.000000  \nmean               0.868518       2.450953e+03              NaN      17.624194  \nstd               12.373992       5.819818e+04              NaN       8.368345  \nmin                0.000000       0.000000e+00              NaN       4.080000  \n25%                0.000000       0.000000e+00              NaN      13.330000  \n50%                0.000000       0.000000e+00              NaN      16.530000  \n75%                0.000000       0.000000e+00              NaN      21.330000  \nmax             2858.000000       9.942530e+06              NaN     100.000000  \n\n[8 rows x 32 columns]",
      "text/html": "<div>\n<style scoped>\n    .dataframe tbody tr th:only-of-type {\n        vertical-align: middle;\n    }\n\n    .dataframe tbody tr th {\n        vertical-align: top;\n    }\n\n    .dataframe thead th {\n        text-align: right;\n    }\n</style>\n<table border=\"1\" class=\"dataframe\">\n  <thead>\n    <tr style=\"text-align: right;\">\n      <th></th>\n      <th>org_code</th>\n      <th>branchCode</th>\n      <th>customerId</th>\n      <th>customerType</th>\n      <th>residentStatus</th>\n      <th>age_in_year</th>\n      <th>birthCountry</th>\n      <th>profession</th>\n      <th>companyType</th>\n      <th>lastUpdate</th>\n      <th>...</th>\n      <th>number_of_cash_dep_90_days</th>\n      <th>avg_cash_deposit_90_days</th>\n      <th>number_of_deposit_90_days</th>\n      <th>avg_of_dep_90_days</th>\n      <th>number_of_cash_wd_90_days</th>\n      <th>avg_of_cash_wd_90_days</th>\n      <th>number_of_wd_90_days</th>\n      <th>avg_of_wd_90_days</th>\n      <th>score_card_Desc</th>\n      <th>rbaValue</th>\n    </tr>\n  </thead>\n  <tbody>\n    <tr>\n      <th>count</th>\n      <td>224868.0</td>\n      <td>224868.000000</td>\n      <td>2.248680e+05</td>\n      <td>224868.000000</td>\n      <td>224868.000000</td>\n      <td>220153.000000</td>\n      <td>0.0</td>\n      <td>79748.000000</td>\n      <td>114574.000000</td>\n      <td>0.0</td>\n      <td>...</td>\n      <td>224868.000000</td>\n      <td>2.248680e+05</td>\n      <td>224868.000000</td>\n      <td>2.248680e+05</td>\n      <td>224868.000000</td>\n      <td>2.248680e+05</td>\n      <td>224868.000000</td>\n      <td>2.248680e+05</td>\n      <td>0.0</td>\n      <td>224868.000000</td>\n    </tr>\n    <tr>\n      <th>mean</th>\n      <td>1.0</td>\n      <td>448.451323</td>\n      <td>4.394503e+16</td>\n      <td>1.114418</td>\n      <td>1.021221</td>\n      <td>41.310575</td>\n      <td>NaN</td>\n      <td>18.309487</td>\n      <td>49.857577</td>\n      <td>NaN</td>\n      <td>...</td>\n      <td>0.491422</td>\n      <td>-1.113435e+03</td>\n      <td>1.131437</td>\n      <td>-3.540383e+03</td>\n      <td>0.254305</td>\n      <td>4.763851e+02</td>\n      <td>0.868518</td>\n      <td>2.450953e+03</td>\n      <td>NaN</td>\n      <td>17.624194</td>\n    </tr>\n    <tr>\n      <th>std</th>\n      <td>0.0</td>\n      <td>228.193308</td>\n      <td>2.349321e+16</td>\n      <td>0.318319</td>\n      <td>0.144122</td>\n      <td>16.000536</td>\n      <td>NaN</td>\n      <td>6.586481</td>\n      <td>6.736115</td>\n      <td>NaN</td>\n      <td>...</td>\n      <td>5.335240</td>\n      <td>3.028084e+04</td>\n      <td>19.713739</td>\n      <td>9.151602e+04</td>\n      <td>1.175586</td>\n      <td>2.028110e+04</td>\n      <td>12.373992</td>\n      <td>5.819818e+04</td>\n      <td>NaN</td>\n      <td>8.368345</td>\n    </tr>\n    <tr>\n      <th>min</th>\n      <td>1.0</td>\n      <td>201.000000</td>\n      <td>2.020028e+09</td>\n      <td>1.000000</td>\n      <td>1.000000</td>\n      <td>1.000000</td>\n      <td>NaN</td>\n      <td>1.000000</td>\n      <td>1.000000</td>\n      <td>NaN</td>\n      <td>...</td>\n      <td>0.000000</td>\n      <td>-5.482044e+06</td>\n      <td>0.000000</td>\n      <td>-1.654371e+07</td>\n      <td>0.000000</td>\n      <td>0.000000e+00</td>\n      <td>0.000000</td>\n      <td>0.000000e+00</td>\n      <td>NaN</td>\n      <td>4.080000</td>\n    </tr>\n    <tr>\n      <th>25%</th>\n      <td>1.0</td>\n      <td>208.000000</td>\n      <td>2.070207e+16</td>\n      <td>1.000000</td>\n      <td>1.000000</td>\n      <td>31.000000</td>\n      <td>NaN</td>\n      <td>20.000000</td>\n      <td>51.000000</td>\n      <td>NaN</td>\n      <td>...</td>\n      <td>0.000000</td>\n      <td>0.000000e+00</td>\n      <td>0.000000</td>\n      <td>0.000000e+00</td>\n      <td>0.000000</td>\n      <td>0.000000e+00</td>\n      <td>0.000000</td>\n      <td>0.000000e+00</td>\n      <td>NaN</td>\n      <td>13.330000</td>\n    </tr>\n    <tr>\n      <th>50%</th>\n      <td>1.0</td>\n      <td>401.000000</td>\n      <td>4.011205e+16</td>\n      <td>1.000000</td>\n      <td>1.000000</td>\n      <td>41.000000</td>\n      <td>NaN</td>\n      <td>20.000000</td>\n      <td>51.000000</td>\n      <td>NaN</td>\n      <td>...</td>\n      <td>0.000000</td>\n      <td>0.000000e+00</td>\n      <td>0.000000</td>\n      <td>0.000000e+00</td>\n      <td>0.000000</td>\n      <td>0.000000e+00</td>\n      <td>0.000000</td>\n      <td>0.000000e+00</td>\n      <td>NaN</td>\n      <td>16.530000</td>\n    </tr>\n    <tr>\n      <th>75%</th>\n      <td>1.0</td>\n      <td>701.000000</td>\n      <td>7.012410e+16</td>\n      <td>1.000000</td>\n      <td>1.000000</td>\n      <td>52.000000</td>\n      <td>NaN</td>\n      <td>21.000000</td>\n      <td>51.000000</td>\n      <td>NaN</td>\n      <td>...</td>\n      <td>0.000000</td>\n      <td>0.000000e+00</td>\n      <td>0.000000</td>\n      <td>0.000000e+00</td>\n      <td>0.000000</td>\n      <td>0.000000e+00</td>\n      <td>0.000000</td>\n      <td>0.000000e+00</td>\n      <td>NaN</td>\n      <td>21.330000</td>\n    </tr>\n    <tr>\n      <th>max</th>\n      <td>1.0</td>\n      <td>805.000000</td>\n      <td>8.052929e+16</td>\n      <td>2.000000</td>\n      <td>2.000000</td>\n      <td>119.000000</td>\n      <td>NaN</td>\n      <td>39.000000</td>\n      <td>100.000000</td>\n      <td>NaN</td>\n      <td>...</td>\n      <td>1267.000000</td>\n      <td>0.000000e+00</td>\n      <td>3292.000000</td>\n      <td>5.867291e+05</td>\n      <td>78.000000</td>\n      <td>8.394000e+06</td>\n      <td>2858.000000</td>\n      <td>9.942530e+06</td>\n      <td>NaN</td>\n      <td>100.000000</td>\n    </tr>\n  </tbody>\n</table>\n<p>8 rows × 32 columns</p>\n</div>"
     },
     "metadata": {},
     "execution_count": 5
    }
   ],
   "source": [
    "df.describe()"
   ]
  },
  {
   "cell_type": "markdown",
   "metadata": {},
   "source": [
    "## Creating the variable creationDate_indays"
   ]
  },
  {
   "cell_type": "code",
   "execution_count": 6,
   "metadata": {},
   "outputs": [
    {
     "output_type": "execute_result",
     "data": {
      "text/plain": "0   1295 days\n1   1860 days\n2   1860 days\n3   1860 days\n4   1860 days\nName: creationDate_indays, dtype: timedelta64[ns]"
     },
     "metadata": {},
     "execution_count": 6
    }
   ],
   "source": [
    "df['creationDate_indays'] = df['creationDate'].astype('datetime64[ns]').max()-df['creationDate'].astype('datetime64[ns]') \n",
    "df['creationDate_indays'].head()"
   ]
  },
  {
   "cell_type": "markdown",
   "metadata": {},
   "source": [
    "## Creating the variable date of birth"
   ]
  },
  {
   "cell_type": "code",
   "execution_count": 7,
   "metadata": {},
   "outputs": [],
   "source": [
    "def f(end):\n",
    "    global max_date\n",
    "    try:\n",
    "        r = relativedelta(max_date, end) \n",
    "        return(r.years)\n",
    "    except:\n",
    "        return(0)\n",
    "#    r = relativedelta(pd.to_datetime('now'), end) \n",
    "#    return '{} years {} days'.format(r.years, r.days)"
   ]
  },
  {
   "cell_type": "code",
   "execution_count": 8,
   "metadata": {},
   "outputs": [
    {
     "output_type": "execute_result",
     "data": {
      "text/plain": "0     0\n1    29\n2    29\n3    29\n4    29\nName: age, dtype: int64"
     },
     "metadata": {},
     "execution_count": 8
    }
   ],
   "source": [
    "max_date = df['dateOfBirth'].astype('datetime64[ns]').max()\n",
    "df['age'] = df['dateOfBirth'].astype('datetime64[ns]').apply(f)\n",
    "df['age'].head()"
   ]
  },
  {
   "cell_type": "markdown",
   "metadata": {},
   "source": [
    "## Checking for percentage (%) of missing values"
   ]
  },
  {
   "cell_type": "code",
   "execution_count": 9,
   "metadata": {},
   "outputs": [
    {
     "output_type": "execute_result",
     "data": {
      "text/plain": "org_code                        0.000000\nbranchCode                      0.000000\ncustomerId                      0.000000\nfullaccount                     0.000000\ncustomerType                    0.000000\ncreationDate                    0.000000\nonboarding                      0.000000\nresidentStatus                  0.000000\nresidentCountry                 0.265044\nnationalityOriginal             1.529342\nextraNationality               99.202643\ndateOfBirth                     2.096786\nage_in_year                     2.096786\nbirthCountry                  100.000000\nbirthPlace                      9.713254\nprofession                     64.535639\ncompanyType                    49.048331\ngiinCode                       99.994664\nlastUpdate                    100.000000\nstatus                          0.000000\nledgerCode                      0.000000\naccountCurrency                 0.000000\njointAccount                    0.000000\nIsBlackListed                   0.000000\nCUS_CLASS                       0.000000\nECO_SEC                         0.000000\nTYPE_OF_DEP                     0.000000\nGENDER                         53.591885\nLEGAL_STA_CODE                  1.163349\nlegal_Stat_desc               100.000000\navg_last_10_days                0.000000\navg_last_30_days                0.000000\navg_last_90_days                0.000000\nnumber_of_cash_dep_90_days      0.000000\navg_cash_deposit_90_days        0.000000\nnumber_of_deposit_90_days       0.000000\navg_of_dep_90_days              0.000000\nnumber_of_cash_wd_90_days       0.000000\navg_of_cash_wd_90_days          0.000000\nnumber_of_wd_90_days            0.000000\navg_of_wd_90_days               0.000000\ndate_of_assessment              0.000000\nrbaGradeAbrv                    0.000000\nscore_card                      0.000000\nscore_card_Desc               100.000000\nrbaValue                        0.000000\nRisk_Description                0.000000\ncreationDate_indays             0.000000\nage                             0.000000\ndtype: float64"
     },
     "metadata": {},
     "execution_count": 9
    }
   ],
   "source": [
    "100*df.isnull().sum()/df.isnull().count()"
   ]
  },
  {
   "cell_type": "markdown",
   "metadata": {},
   "source": [
    "## Making some histograms"
   ]
  },
  {
   "cell_type": "code",
   "execution_count": 10,
   "metadata": {},
   "outputs": [],
   "source": [
    "# %matplotlib inline\n",
    "# import matplotlib.pylab as plt\n",
    "# attribute_columns = list(df.columns)\n",
    "# if True:\n",
    "#     fontsize = 10\n",
    "#     fig = df[attribute_columns].hist(bins = 20, figsize = (12, 12),\n",
    "#                                        xlabelsize=fontsize,\n",
    "#                                        ylabelsize=fontsize)\n",
    "#     for x in fig.ravel():\n",
    "#         x.title.set_size(fontsize)\n",
    "# else:\n",
    "#     nrows = (len(attribute_columns)+1) // 2\n",
    "#     plt.figure(figsize=(12,25))\n",
    "#     for i in range(len(attribute_columns)):\n",
    "#         name = attribute_columns[i]\n",
    "#         plt.subplot(nrows,2,i+1)\n",
    "#         data[name].hist()\n",
    "#         plt.title(name, fontsize=14)\n",
    "    \n",
    "# plt.show()"
   ]
  },
  {
   "cell_type": "markdown",
   "metadata": {},
   "source": [
    "### Now, is your group turn: \n",
    "..."
   ]
  },
  {
   "cell_type": "markdown",
   "metadata": {},
   "source": [
    "---"
   ]
  },
  {
   "cell_type": "markdown",
   "metadata": {},
   "source": [
    "# Introduction\n",
    "\n",
    "A quick explanation of Pandas, Matplotlib and Sklearn, specially including their histories. (less than a minute)\n",
    "https://medium.com/personal-project/numpy-pandas-and-scikit-learn-explained-e7336baecedc\n",
    "\n",
    "## Pandas\n",
    "https://en.wikipedia.org/wiki/Pandas_(software)#History\n",
    "Developer Wes McKinney started working on pandas in 2008 while at AQR Capital Management out of the need for a high performance, flexible tool to perform quantitative analysis on financial data. Before leaving AQR he was able to convince management to allow him to open source the library.\n",
    "Another AQR employee, Chang She, joined the effort in 2012 as the second major contributor to the library.\n",
    "In 2015, pandas signed on as a fiscally sponsored project of NumFOCUS, a 501(c)(3) nonprofit charity in the United States.[10]\n",
    "\n",
    "## Matplotlib\n",
    "https://en.wikipedia.org/wiki/Matplotlib\n",
    "Matplotlib was originally written by John D. Hunter, since then it has an active development community,[4] and is distributed under a BSD-style license. Michael Droettboom was nominated as matplotlib's lead developer shortly before John Hunter's death in August 2012,[5] and further joined by Thomas Caswell.[6][7]\n",
    "\n",
    "\n",
    "## Sklearn\n",
    "https://en.wikipedia.org/wiki/Scikit-learn\n",
    "The scikit-learn project started as scikits.learn, a Google Summer of Code project by David Cournapeau. Its name stems from the notion that it is a \"SciKit\" (SciPy Toolkit), a separately-developed and distributed third-party extension to SciPy.[4] The original codebase was later rewritten by other developers. In 2010 Fabian Pedregosa, Gael Varoquaux, Alexandre Gramfort and Vincent Michel, all from the French Institute for Research in Computer Science and Automation in Rocquencourt, France, took leadership of the project and made the first public release on February the 1st 2010.[5] Of the various scikits, scikit-learn as well as scikit-image were described as \"well-maintained and popular\" in November 2012.[6] Scikit-learn is one of the most popular machine learning libraries on GitHub.[7]"
   ]
  },
  {
   "cell_type": "markdown",
   "metadata": {},
   "source": [
    "# EDA"
   ]
  },
  {
   "cell_type": "code",
   "execution_count": 11,
   "metadata": {},
   "outputs": [],
   "source": [
    "# Datetime conversion\n",
    "\n",
    "df['creationDate'] = df['creationDate'].astype('datetime64[ns]')\n",
    "df['dateOfBirth'] = df['dateOfBirth'].astype('datetime64[ns]')\n",
    "df['date_of_assessment'] = df['date_of_assessment'].astype('datetime64[ns]')"
   ]
  },
  {
   "cell_type": "markdown",
   "metadata": {},
   "source": [
    "## Description per type"
   ]
  },
  {
   "cell_type": "code",
   "execution_count": 12,
   "metadata": {},
   "outputs": [
    {
     "output_type": "execute_result",
     "data": {
      "text/plain": "                  fullaccount onboarding residentCountry nationalityOriginal  \\\ncount                  224868     224868          224272              221429   \nunique                 220434          2              62                  67   \ntop     020902507770010010000          N              JO                  JO   \nfreq                       26     219791          219253              213141   \n\n       extraNationality birthPlace             giinCode  status  \\\ncount              1793     203026                   12  224868   \nunique               35       1000                    1       1   \ntop                  US       ????  ZLVK2E.99999.SL.400  Active   \nfreq               1028      76312                   12  224868   \n\n       accountCurrency rbaGradeAbrv  score_card Risk_Description  \ncount           224868       224868      224868           224868  \nunique              20            3           4                3  \ntop                JOD            L  I-Existing              Low  \nfreq            214657       159680      178495           159680  ",
      "text/html": "<div>\n<style scoped>\n    .dataframe tbody tr th:only-of-type {\n        vertical-align: middle;\n    }\n\n    .dataframe tbody tr th {\n        vertical-align: top;\n    }\n\n    .dataframe thead th {\n        text-align: right;\n    }\n</style>\n<table border=\"1\" class=\"dataframe\">\n  <thead>\n    <tr style=\"text-align: right;\">\n      <th></th>\n      <th>fullaccount</th>\n      <th>onboarding</th>\n      <th>residentCountry</th>\n      <th>nationalityOriginal</th>\n      <th>extraNationality</th>\n      <th>birthPlace</th>\n      <th>giinCode</th>\n      <th>status</th>\n      <th>accountCurrency</th>\n      <th>rbaGradeAbrv</th>\n      <th>score_card</th>\n      <th>Risk_Description</th>\n    </tr>\n  </thead>\n  <tbody>\n    <tr>\n      <th>count</th>\n      <td>224868</td>\n      <td>224868</td>\n      <td>224272</td>\n      <td>221429</td>\n      <td>1793</td>\n      <td>203026</td>\n      <td>12</td>\n      <td>224868</td>\n      <td>224868</td>\n      <td>224868</td>\n      <td>224868</td>\n      <td>224868</td>\n    </tr>\n    <tr>\n      <th>unique</th>\n      <td>220434</td>\n      <td>2</td>\n      <td>62</td>\n      <td>67</td>\n      <td>35</td>\n      <td>1000</td>\n      <td>1</td>\n      <td>1</td>\n      <td>20</td>\n      <td>3</td>\n      <td>4</td>\n      <td>3</td>\n    </tr>\n    <tr>\n      <th>top</th>\n      <td>020902507770010010000</td>\n      <td>N</td>\n      <td>JO</td>\n      <td>JO</td>\n      <td>US</td>\n      <td>????</td>\n      <td>ZLVK2E.99999.SL.400</td>\n      <td>Active</td>\n      <td>JOD</td>\n      <td>L</td>\n      <td>I-Existing</td>\n      <td>Low</td>\n    </tr>\n    <tr>\n      <th>freq</th>\n      <td>26</td>\n      <td>219791</td>\n      <td>219253</td>\n      <td>213141</td>\n      <td>1028</td>\n      <td>76312</td>\n      <td>12</td>\n      <td>224868</td>\n      <td>214657</td>\n      <td>159680</td>\n      <td>178495</td>\n      <td>159680</td>\n    </tr>\n  </tbody>\n</table>\n</div>"
     },
     "metadata": {},
     "execution_count": 12
    }
   ],
   "source": [
    "df.describe(include='object')"
   ]
  },
  {
   "cell_type": "code",
   "execution_count": 13,
   "metadata": {},
   "outputs": [
    {
     "output_type": "execute_result",
     "data": {
      "text/plain": "       org_code     branchCode    customerId   customerType  residentStatus  \\\ncount  224868.0  224868.000000  2.248680e+05  224868.000000   224868.000000   \nmean        1.0     448.451323  4.394503e+16       1.114418        1.021221   \nstd         0.0     228.193308  2.349321e+16       0.318319        0.144122   \nmin         1.0     201.000000  2.020028e+09       1.000000        1.000000   \n25%         1.0     208.000000  2.070207e+16       1.000000        1.000000   \n50%         1.0     401.000000  4.011205e+16       1.000000        1.000000   \n75%         1.0     701.000000  7.012410e+16       1.000000        1.000000   \nmax         1.0     805.000000  8.052929e+16       2.000000        2.000000   \n\n         age_in_year  birthCountry    profession    companyType  lastUpdate  \\\ncount  220153.000000           0.0  79748.000000  114574.000000         0.0   \nmean       41.310575           NaN     18.309487      49.857577         NaN   \nstd        16.000536           NaN      6.586481       6.736115         NaN   \nmin         1.000000           NaN      1.000000       1.000000         NaN   \n25%        31.000000           NaN     20.000000      51.000000         NaN   \n50%        41.000000           NaN     20.000000      51.000000         NaN   \n75%        52.000000           NaN     21.000000      51.000000         NaN   \nmax       119.000000           NaN     39.000000     100.000000         NaN   \n\n       ...  number_of_deposit_90_days  avg_of_dep_90_days  \\\ncount  ...              224868.000000        2.248680e+05   \nmean   ...                   1.131437       -3.540383e+03   \nstd    ...                  19.713739        9.151602e+04   \nmin    ...                   0.000000       -1.654371e+07   \n25%    ...                   0.000000        0.000000e+00   \n50%    ...                   0.000000        0.000000e+00   \n75%    ...                   0.000000        0.000000e+00   \nmax    ...                3292.000000        5.867291e+05   \n\n       number_of_cash_wd_90_days  avg_of_cash_wd_90_days  \\\ncount              224868.000000            2.248680e+05   \nmean                    0.254305            4.763851e+02   \nstd                     1.175586            2.028110e+04   \nmin                     0.000000            0.000000e+00   \n25%                     0.000000            0.000000e+00   \n50%                     0.000000            0.000000e+00   \n75%                     0.000000            0.000000e+00   \nmax                    78.000000            8.394000e+06   \n\n       number_of_wd_90_days  avg_of_wd_90_days  score_card_Desc  \\\ncount         224868.000000       2.248680e+05              0.0   \nmean               0.868518       2.450953e+03              NaN   \nstd               12.373992       5.819818e+04              NaN   \nmin                0.000000       0.000000e+00              NaN   \n25%                0.000000       0.000000e+00              NaN   \n50%                0.000000       0.000000e+00              NaN   \n75%                0.000000       0.000000e+00              NaN   \nmax             2858.000000       9.942530e+06              NaN   \n\n            rbaValue        creationDate_indays            age  \ncount  224868.000000                     224868  224868.000000  \nmean       17.624194  2419 days 01:19:10.178785      39.279640  \nstd         8.368345  2410 days 07:14:32.396639      16.859899  \nmin         4.080000            0 days 00:00:00       0.000000  \n25%        13.330000          731 days 00:00:00      29.000000  \n50%        16.530000         1739 days 00:00:00      39.000000  \n75%        21.330000         3065 days 00:00:00      50.000000  \nmax       100.000000        14644 days 00:00:00     118.000000  \n\n[8 rows x 34 columns]",
      "text/html": "<div>\n<style scoped>\n    .dataframe tbody tr th:only-of-type {\n        vertical-align: middle;\n    }\n\n    .dataframe tbody tr th {\n        vertical-align: top;\n    }\n\n    .dataframe thead th {\n        text-align: right;\n    }\n</style>\n<table border=\"1\" class=\"dataframe\">\n  <thead>\n    <tr style=\"text-align: right;\">\n      <th></th>\n      <th>org_code</th>\n      <th>branchCode</th>\n      <th>customerId</th>\n      <th>customerType</th>\n      <th>residentStatus</th>\n      <th>age_in_year</th>\n      <th>birthCountry</th>\n      <th>profession</th>\n      <th>companyType</th>\n      <th>lastUpdate</th>\n      <th>...</th>\n      <th>number_of_deposit_90_days</th>\n      <th>avg_of_dep_90_days</th>\n      <th>number_of_cash_wd_90_days</th>\n      <th>avg_of_cash_wd_90_days</th>\n      <th>number_of_wd_90_days</th>\n      <th>avg_of_wd_90_days</th>\n      <th>score_card_Desc</th>\n      <th>rbaValue</th>\n      <th>creationDate_indays</th>\n      <th>age</th>\n    </tr>\n  </thead>\n  <tbody>\n    <tr>\n      <th>count</th>\n      <td>224868.0</td>\n      <td>224868.000000</td>\n      <td>2.248680e+05</td>\n      <td>224868.000000</td>\n      <td>224868.000000</td>\n      <td>220153.000000</td>\n      <td>0.0</td>\n      <td>79748.000000</td>\n      <td>114574.000000</td>\n      <td>0.0</td>\n      <td>...</td>\n      <td>224868.000000</td>\n      <td>2.248680e+05</td>\n      <td>224868.000000</td>\n      <td>2.248680e+05</td>\n      <td>224868.000000</td>\n      <td>2.248680e+05</td>\n      <td>0.0</td>\n      <td>224868.000000</td>\n      <td>224868</td>\n      <td>224868.000000</td>\n    </tr>\n    <tr>\n      <th>mean</th>\n      <td>1.0</td>\n      <td>448.451323</td>\n      <td>4.394503e+16</td>\n      <td>1.114418</td>\n      <td>1.021221</td>\n      <td>41.310575</td>\n      <td>NaN</td>\n      <td>18.309487</td>\n      <td>49.857577</td>\n      <td>NaN</td>\n      <td>...</td>\n      <td>1.131437</td>\n      <td>-3.540383e+03</td>\n      <td>0.254305</td>\n      <td>4.763851e+02</td>\n      <td>0.868518</td>\n      <td>2.450953e+03</td>\n      <td>NaN</td>\n      <td>17.624194</td>\n      <td>2419 days 01:19:10.178785</td>\n      <td>39.279640</td>\n    </tr>\n    <tr>\n      <th>std</th>\n      <td>0.0</td>\n      <td>228.193308</td>\n      <td>2.349321e+16</td>\n      <td>0.318319</td>\n      <td>0.144122</td>\n      <td>16.000536</td>\n      <td>NaN</td>\n      <td>6.586481</td>\n      <td>6.736115</td>\n      <td>NaN</td>\n      <td>...</td>\n      <td>19.713739</td>\n      <td>9.151602e+04</td>\n      <td>1.175586</td>\n      <td>2.028110e+04</td>\n      <td>12.373992</td>\n      <td>5.819818e+04</td>\n      <td>NaN</td>\n      <td>8.368345</td>\n      <td>2410 days 07:14:32.396639</td>\n      <td>16.859899</td>\n    </tr>\n    <tr>\n      <th>min</th>\n      <td>1.0</td>\n      <td>201.000000</td>\n      <td>2.020028e+09</td>\n      <td>1.000000</td>\n      <td>1.000000</td>\n      <td>1.000000</td>\n      <td>NaN</td>\n      <td>1.000000</td>\n      <td>1.000000</td>\n      <td>NaN</td>\n      <td>...</td>\n      <td>0.000000</td>\n      <td>-1.654371e+07</td>\n      <td>0.000000</td>\n      <td>0.000000e+00</td>\n      <td>0.000000</td>\n      <td>0.000000e+00</td>\n      <td>NaN</td>\n      <td>4.080000</td>\n      <td>0 days 00:00:00</td>\n      <td>0.000000</td>\n    </tr>\n    <tr>\n      <th>25%</th>\n      <td>1.0</td>\n      <td>208.000000</td>\n      <td>2.070207e+16</td>\n      <td>1.000000</td>\n      <td>1.000000</td>\n      <td>31.000000</td>\n      <td>NaN</td>\n      <td>20.000000</td>\n      <td>51.000000</td>\n      <td>NaN</td>\n      <td>...</td>\n      <td>0.000000</td>\n      <td>0.000000e+00</td>\n      <td>0.000000</td>\n      <td>0.000000e+00</td>\n      <td>0.000000</td>\n      <td>0.000000e+00</td>\n      <td>NaN</td>\n      <td>13.330000</td>\n      <td>731 days 00:00:00</td>\n      <td>29.000000</td>\n    </tr>\n    <tr>\n      <th>50%</th>\n      <td>1.0</td>\n      <td>401.000000</td>\n      <td>4.011205e+16</td>\n      <td>1.000000</td>\n      <td>1.000000</td>\n      <td>41.000000</td>\n      <td>NaN</td>\n      <td>20.000000</td>\n      <td>51.000000</td>\n      <td>NaN</td>\n      <td>...</td>\n      <td>0.000000</td>\n      <td>0.000000e+00</td>\n      <td>0.000000</td>\n      <td>0.000000e+00</td>\n      <td>0.000000</td>\n      <td>0.000000e+00</td>\n      <td>NaN</td>\n      <td>16.530000</td>\n      <td>1739 days 00:00:00</td>\n      <td>39.000000</td>\n    </tr>\n    <tr>\n      <th>75%</th>\n      <td>1.0</td>\n      <td>701.000000</td>\n      <td>7.012410e+16</td>\n      <td>1.000000</td>\n      <td>1.000000</td>\n      <td>52.000000</td>\n      <td>NaN</td>\n      <td>21.000000</td>\n      <td>51.000000</td>\n      <td>NaN</td>\n      <td>...</td>\n      <td>0.000000</td>\n      <td>0.000000e+00</td>\n      <td>0.000000</td>\n      <td>0.000000e+00</td>\n      <td>0.000000</td>\n      <td>0.000000e+00</td>\n      <td>NaN</td>\n      <td>21.330000</td>\n      <td>3065 days 00:00:00</td>\n      <td>50.000000</td>\n    </tr>\n    <tr>\n      <th>max</th>\n      <td>1.0</td>\n      <td>805.000000</td>\n      <td>8.052929e+16</td>\n      <td>2.000000</td>\n      <td>2.000000</td>\n      <td>119.000000</td>\n      <td>NaN</td>\n      <td>39.000000</td>\n      <td>100.000000</td>\n      <td>NaN</td>\n      <td>...</td>\n      <td>3292.000000</td>\n      <td>5.867291e+05</td>\n      <td>78.000000</td>\n      <td>8.394000e+06</td>\n      <td>2858.000000</td>\n      <td>9.942530e+06</td>\n      <td>NaN</td>\n      <td>100.000000</td>\n      <td>14644 days 00:00:00</td>\n      <td>118.000000</td>\n    </tr>\n  </tbody>\n</table>\n<p>8 rows × 34 columns</p>\n</div>"
     },
     "metadata": {},
     "execution_count": 13
    }
   ],
   "source": [
    "df.describe(include=np.number)"
   ]
  },
  {
   "cell_type": "code",
   "execution_count": 14,
   "metadata": {},
   "outputs": [
    {
     "output_type": "execute_result",
     "data": {
      "text/plain": "               creationDate          dateOfBirth   date_of_assessment\ncount                224868               220153               224868\nunique                 7041                21457                    1\ntop     2013-11-20 00:00:00  1992-07-22 00:00:00  2019-01-24 00:00:00\nfreq                   1079                 1035               224868\nfirst   1978-09-17 00:00:00  1900-06-01 00:00:00  2019-01-24 00:00:00\nlast    2018-10-21 00:00:00  2018-10-15 00:00:00  2019-01-24 00:00:00",
      "text/html": "<div>\n<style scoped>\n    .dataframe tbody tr th:only-of-type {\n        vertical-align: middle;\n    }\n\n    .dataframe tbody tr th {\n        vertical-align: top;\n    }\n\n    .dataframe thead th {\n        text-align: right;\n    }\n</style>\n<table border=\"1\" class=\"dataframe\">\n  <thead>\n    <tr style=\"text-align: right;\">\n      <th></th>\n      <th>creationDate</th>\n      <th>dateOfBirth</th>\n      <th>date_of_assessment</th>\n    </tr>\n  </thead>\n  <tbody>\n    <tr>\n      <th>count</th>\n      <td>224868</td>\n      <td>220153</td>\n      <td>224868</td>\n    </tr>\n    <tr>\n      <th>unique</th>\n      <td>7041</td>\n      <td>21457</td>\n      <td>1</td>\n    </tr>\n    <tr>\n      <th>top</th>\n      <td>2013-11-20 00:00:00</td>\n      <td>1992-07-22 00:00:00</td>\n      <td>2019-01-24 00:00:00</td>\n    </tr>\n    <tr>\n      <th>freq</th>\n      <td>1079</td>\n      <td>1035</td>\n      <td>224868</td>\n    </tr>\n    <tr>\n      <th>first</th>\n      <td>1978-09-17 00:00:00</td>\n      <td>1900-06-01 00:00:00</td>\n      <td>2019-01-24 00:00:00</td>\n    </tr>\n    <tr>\n      <th>last</th>\n      <td>2018-10-21 00:00:00</td>\n      <td>2018-10-15 00:00:00</td>\n      <td>2019-01-24 00:00:00</td>\n    </tr>\n  </tbody>\n</table>\n</div>"
     },
     "metadata": {},
     "execution_count": 14
    }
   ],
   "source": [
    "df.describe(include=np.datetime64)"
   ]
  },
  {
   "cell_type": "code",
   "execution_count": 15,
   "metadata": {
    "tags": []
   },
   "outputs": [
    {
     "output_type": "stream",
     "name": "stdout",
     "text": "VARIABLE = fullaccount\n020902507770010010000    26\n020301298000012957000    23\n020301298000011316000    23\n020301298000011306000    23\n020301298000011930001    23\n                         ..\n040212286570011355002     1\n020600866190010060000     1\n080500705260010060000     1\n040212293080010060000     1\n080226320350010010000     1\nName: fullaccount, Length: 220434, dtype: int64\n\n\n\nVARIABLE = onboarding\nN    219791\nY      5077\nName: onboarding, dtype: int64\n\n\n\nVARIABLE = residentCountry\nJO    219253\nOM       985\nIQ       981\nSA       657\nUS       358\n       ...  \nTH         2\nSO         1\nLR         1\nNG         1\nAF         1\nName: residentCountry, Length: 62, dtype: int64\n\n\n\nVARIABLE = nationalityOriginal\nJO    213141\nIQ      3206\nEG      1349\nSY      1215\nLY       433\n       ...  \nSG         1\nBG         1\nIO         1\nTH         1\nLR         1\nName: nationalityOriginal, Length: 67, dtype: int64\n\n\n\nVARIABLE = extraNationality\nUS    1028\nXK     435\nCA      45\nGB      42\nJO      34\nCO      20\nAU      17\nBA      15\nFR      15\nIQ      14\nEG      14\nIT      12\nSE      12\nUA      11\nRO      10\nES       8\nTR       6\nGR       5\nCH       5\nPL       5\nNL       4\nSA       4\nBR       4\nBG       4\nBH       3\nCL       3\nNO       3\nCY       3\nLY       3\nSY       3\nRU       2\nVE       1\nLB       1\nBE       1\nIO       1\nName: extraNationality, dtype: int64\n\n\n\nVARIABLE = birthPlace\n????                76312\n?????               38740\n??????              29904\n???????             19465\n????????             7690\n                    ...  \nJaban                   1\n????? ???? ?????        1\n?????? ??? ?????        1\nLONDON CAN              1\nHYDERABAD PAK           1\nName: birthPlace, Length: 1000, dtype: int64\n\n\n\nVARIABLE = giinCode\nZLVK2E.99999.SL.400    12\nName: giinCode, dtype: int64\n\n\n\nVARIABLE = status\nActive    224868\nName: status, dtype: int64\n\n\n\nVARIABLE = accountCurrency\nJOD    214657\nUSD      8478\nEUR      1079\nGBP       254\nAED        93\nCAD        81\nSAR        60\nJPY        41\nCHF        40\nAUD        37\nXAG        15\nXAU        11\nSEK         9\nQAR         4\nNZD         3\nDKK         2\nLBP         1\nESP         1\nKWD         1\nBHD         1\nName: accountCurrency, dtype: int64\n\n\n\nVARIABLE = rbaGradeAbrv\nL    159680\nM     65099\nH        89\nName: rbaGradeAbrv, dtype: int64\n\n\n\nVARIABLE = score_card\nI-Existing    178495\nE-Existing     25114\nI-New          20649\nE-NEW            610\nName: score_card, dtype: int64\n\n\n\nVARIABLE = Risk_Description\nLow       159680\nMedium     65099\nHigh          89\nName: Risk_Description, dtype: int64\n\n\n\n"
    }
   ],
   "source": [
    "cat_columns = df.select_dtypes(include=['object'])\n",
    "for col in cat_columns:\n",
    "    print(\"VARIABLE =\", col)\n",
    "    print(df[col].value_counts())\n",
    "    print('\\n'*2)"
   ]
  },
  {
   "cell_type": "markdown",
   "metadata": {},
   "source": [
    "Correct the missings varints in the 'birthPlace'"
   ]
  },
  {
   "cell_type": "code",
   "execution_count": 16,
   "metadata": {
    "tags": []
   },
   "outputs": [],
   "source": [
    "out = []\n",
    "for val in df['birthPlace']:\n",
    "    try:\n",
    "        if val.find('?')>=0 or val.strip()=='0':\n",
    "            out.append('-')\n",
    "        else:\n",
    "            out.append(val.strip().upper())\n",
    "    except:\n",
    "        out.append(val)\n",
    "\n",
    "# pd.Series(out).value_counts()\n",
    "df['birthPlace'] = out"
   ]
  },
  {
   "cell_type": "code",
   "execution_count": 17,
   "metadata": {
    "tags": []
   },
   "outputs": [
    {
     "output_type": "execute_result",
     "data": {
      "text/plain": "                               count          mean           std  \\\norg_code                    224868.0  1.000000e+00  0.000000e+00   \nbranchCode                  224868.0  4.484513e+02  2.281933e+02   \ncustomerId                  224868.0  4.394503e+16  2.349321e+16   \ncustomerType                224868.0  1.114418e+00  3.183193e-01   \nresidentStatus              224868.0  1.021221e+00  1.441218e-01   \nage_in_year                 220153.0  4.131057e+01  1.600054e+01   \nbirthCountry                     0.0           NaN           NaN   \nprofession                   79748.0  1.830949e+01  6.586481e+00   \ncompanyType                 114574.0  4.985758e+01  6.736115e+00   \nlastUpdate                       0.0           NaN           NaN   \nledgerCode                  224868.0  1.059329e+03  1.280875e+03   \njointAccount                224868.0  2.165270e-02  1.455471e-01   \nIsBlackListed               224868.0  0.000000e+00  0.000000e+00   \nCUS_CLASS                   224868.0  3.765231e+00  4.305015e+00   \nECO_SEC                     224868.0  8.938863e+01  2.940685e+01   \nTYPE_OF_DEP                 224868.0  3.550901e+01  1.549185e+01   \nGENDER                      104357.0  1.250975e+00  4.335762e-01   \nLEGAL_STA_CODE              222252.0  1.193564e+00  5.281911e-01   \nlegal_Stat_desc                  0.0           NaN           NaN   \navg_last_10_days            224868.0  7.832261e+03  1.325116e+06   \navg_last_30_days            224868.0  1.988950e+03  3.344322e+05   \navg_last_90_days            224868.0  1.887138e+01  3.685041e+03   \nnumber_of_cash_dep_90_days  224868.0  4.914216e-01  5.335240e+00   \navg_cash_deposit_90_days    224868.0 -1.113435e+03  3.028084e+04   \nnumber_of_deposit_90_days   224868.0  1.131437e+00  1.971374e+01   \navg_of_dep_90_days          224868.0 -3.540383e+03  9.151602e+04   \nnumber_of_cash_wd_90_days   224868.0  2.543047e-01  1.175586e+00   \navg_of_cash_wd_90_days      224868.0  4.763851e+02  2.028110e+04   \nnumber_of_wd_90_days        224868.0  8.685184e-01  1.237399e+01   \navg_of_wd_90_days           224868.0  2.450953e+03  5.819818e+04   \nscore_card_Desc                  0.0           NaN           NaN   \nrbaValue                    224868.0  1.762419e+01  8.368345e+00   \nage                         224868.0  3.927964e+01  1.685990e+01   \n\n                                     min           25%           50%  \\\norg_code                    1.000000e+00  1.000000e+00  1.000000e+00   \nbranchCode                  2.010000e+02  2.080000e+02  4.010000e+02   \ncustomerId                  2.020028e+09  2.070207e+16  4.011205e+16   \ncustomerType                1.000000e+00  1.000000e+00  1.000000e+00   \nresidentStatus              1.000000e+00  1.000000e+00  1.000000e+00   \nage_in_year                 1.000000e+00  3.100000e+01  4.100000e+01   \nbirthCountry                         NaN           NaN           NaN   \nprofession                  1.000000e+00  2.000000e+01  2.000000e+01   \ncompanyType                 1.000000e+00  5.100000e+01  5.100000e+01   \nlastUpdate                           NaN           NaN           NaN   \nledgerCode                  1.000000e+01  2.000000e+01  1.302000e+03   \njointAccount                0.000000e+00  0.000000e+00  0.000000e+00   \nIsBlackListed               0.000000e+00  0.000000e+00  0.000000e+00   \nCUS_CLASS                   0.000000e+00  2.000000e+00  2.000000e+00   \nECO_SEC                     0.000000e+00  9.000000e+01  9.000000e+01   \nTYPE_OF_DEP                 0.000000e+00  2.000000e+01  3.500000e+01   \nGENDER                      1.000000e+00  1.000000e+00  1.000000e+00   \nLEGAL_STA_CODE              1.000000e+00  1.000000e+00  1.000000e+00   \nlegal_Stat_desc                      NaN           NaN           NaN   \navg_last_10_days           -1.791005e+08  0.000000e+00  0.000000e+00   \navg_last_30_days           -4.513426e+07  0.000000e+00  0.000000e+00   \navg_last_90_days           -4.856867e+05  0.000000e+00  0.000000e+00   \nnumber_of_cash_dep_90_days  0.000000e+00  0.000000e+00  0.000000e+00   \navg_cash_deposit_90_days   -5.482044e+06  0.000000e+00  0.000000e+00   \nnumber_of_deposit_90_days   0.000000e+00  0.000000e+00  0.000000e+00   \navg_of_dep_90_days         -1.654371e+07  0.000000e+00  0.000000e+00   \nnumber_of_cash_wd_90_days   0.000000e+00  0.000000e+00  0.000000e+00   \navg_of_cash_wd_90_days      0.000000e+00  0.000000e+00  0.000000e+00   \nnumber_of_wd_90_days        0.000000e+00  0.000000e+00  0.000000e+00   \navg_of_wd_90_days           0.000000e+00  0.000000e+00  0.000000e+00   \nscore_card_Desc                      NaN           NaN           NaN   \nrbaValue                    4.080000e+00  1.333000e+01  1.653000e+01   \nage                         0.000000e+00  2.900000e+01  3.900000e+01   \n\n                                     75%           max  \norg_code                    1.000000e+00  1.000000e+00  \nbranchCode                  7.010000e+02  8.050000e+02  \ncustomerId                  7.012410e+16  8.052929e+16  \ncustomerType                1.000000e+00  2.000000e+00  \nresidentStatus              1.000000e+00  2.000000e+00  \nage_in_year                 5.200000e+01  1.190000e+02  \nbirthCountry                         NaN           NaN  \nprofession                  2.100000e+01  3.900000e+01  \ncompanyType                 5.100000e+01  1.000000e+02  \nlastUpdate                           NaN           NaN  \nledgerCode                  1.396000e+03  8.700000e+03  \njointAccount                0.000000e+00  1.000000e+00  \nIsBlackListed               0.000000e+00  0.000000e+00  \nCUS_CLASS                   2.000000e+00  5.100000e+01  \nECO_SEC                     9.000000e+01  3.920000e+02  \nTYPE_OF_DEP                 5.100000e+01  1.000000e+02  \nGENDER                      2.000000e+00  2.000000e+00  \nLEGAL_STA_CODE              1.000000e+00  4.000000e+00  \nlegal_Stat_desc                      NaN           NaN  \navg_last_10_days            6.914525e+02  1.531514e+08  \navg_last_30_days            1.826150e+02  3.859913e+07  \navg_last_90_days            1.100000e+00  4.150444e+05  \nnumber_of_cash_dep_90_days  0.000000e+00  1.267000e+03  \navg_cash_deposit_90_days    0.000000e+00  0.000000e+00  \nnumber_of_deposit_90_days   0.000000e+00  3.292000e+03  \navg_of_dep_90_days          0.000000e+00  5.867291e+05  \nnumber_of_cash_wd_90_days   0.000000e+00  7.800000e+01  \navg_of_cash_wd_90_days      0.000000e+00  8.394000e+06  \nnumber_of_wd_90_days        0.000000e+00  2.858000e+03  \navg_of_wd_90_days           0.000000e+00  9.942530e+06  \nscore_card_Desc                      NaN           NaN  \nrbaValue                    2.133000e+01  1.000000e+02  \nage                         5.000000e+01  1.180000e+02  ",
      "text/html": "<div>\n<style scoped>\n    .dataframe tbody tr th:only-of-type {\n        vertical-align: middle;\n    }\n\n    .dataframe tbody tr th {\n        vertical-align: top;\n    }\n\n    .dataframe thead th {\n        text-align: right;\n    }\n</style>\n<table border=\"1\" class=\"dataframe\">\n  <thead>\n    <tr style=\"text-align: right;\">\n      <th></th>\n      <th>count</th>\n      <th>mean</th>\n      <th>std</th>\n      <th>min</th>\n      <th>25%</th>\n      <th>50%</th>\n      <th>75%</th>\n      <th>max</th>\n    </tr>\n  </thead>\n  <tbody>\n    <tr>\n      <th>org_code</th>\n      <td>224868.0</td>\n      <td>1.000000e+00</td>\n      <td>0.000000e+00</td>\n      <td>1.000000e+00</td>\n      <td>1.000000e+00</td>\n      <td>1.000000e+00</td>\n      <td>1.000000e+00</td>\n      <td>1.000000e+00</td>\n    </tr>\n    <tr>\n      <th>branchCode</th>\n      <td>224868.0</td>\n      <td>4.484513e+02</td>\n      <td>2.281933e+02</td>\n      <td>2.010000e+02</td>\n      <td>2.080000e+02</td>\n      <td>4.010000e+02</td>\n      <td>7.010000e+02</td>\n      <td>8.050000e+02</td>\n    </tr>\n    <tr>\n      <th>customerId</th>\n      <td>224868.0</td>\n      <td>4.394503e+16</td>\n      <td>2.349321e+16</td>\n      <td>2.020028e+09</td>\n      <td>2.070207e+16</td>\n      <td>4.011205e+16</td>\n      <td>7.012410e+16</td>\n      <td>8.052929e+16</td>\n    </tr>\n    <tr>\n      <th>customerType</th>\n      <td>224868.0</td>\n      <td>1.114418e+00</td>\n      <td>3.183193e-01</td>\n      <td>1.000000e+00</td>\n      <td>1.000000e+00</td>\n      <td>1.000000e+00</td>\n      <td>1.000000e+00</td>\n      <td>2.000000e+00</td>\n    </tr>\n    <tr>\n      <th>residentStatus</th>\n      <td>224868.0</td>\n      <td>1.021221e+00</td>\n      <td>1.441218e-01</td>\n      <td>1.000000e+00</td>\n      <td>1.000000e+00</td>\n      <td>1.000000e+00</td>\n      <td>1.000000e+00</td>\n      <td>2.000000e+00</td>\n    </tr>\n    <tr>\n      <th>age_in_year</th>\n      <td>220153.0</td>\n      <td>4.131057e+01</td>\n      <td>1.600054e+01</td>\n      <td>1.000000e+00</td>\n      <td>3.100000e+01</td>\n      <td>4.100000e+01</td>\n      <td>5.200000e+01</td>\n      <td>1.190000e+02</td>\n    </tr>\n    <tr>\n      <th>birthCountry</th>\n      <td>0.0</td>\n      <td>NaN</td>\n      <td>NaN</td>\n      <td>NaN</td>\n      <td>NaN</td>\n      <td>NaN</td>\n      <td>NaN</td>\n      <td>NaN</td>\n    </tr>\n    <tr>\n      <th>profession</th>\n      <td>79748.0</td>\n      <td>1.830949e+01</td>\n      <td>6.586481e+00</td>\n      <td>1.000000e+00</td>\n      <td>2.000000e+01</td>\n      <td>2.000000e+01</td>\n      <td>2.100000e+01</td>\n      <td>3.900000e+01</td>\n    </tr>\n    <tr>\n      <th>companyType</th>\n      <td>114574.0</td>\n      <td>4.985758e+01</td>\n      <td>6.736115e+00</td>\n      <td>1.000000e+00</td>\n      <td>5.100000e+01</td>\n      <td>5.100000e+01</td>\n      <td>5.100000e+01</td>\n      <td>1.000000e+02</td>\n    </tr>\n    <tr>\n      <th>lastUpdate</th>\n      <td>0.0</td>\n      <td>NaN</td>\n      <td>NaN</td>\n      <td>NaN</td>\n      <td>NaN</td>\n      <td>NaN</td>\n      <td>NaN</td>\n      <td>NaN</td>\n    </tr>\n    <tr>\n      <th>ledgerCode</th>\n      <td>224868.0</td>\n      <td>1.059329e+03</td>\n      <td>1.280875e+03</td>\n      <td>1.000000e+01</td>\n      <td>2.000000e+01</td>\n      <td>1.302000e+03</td>\n      <td>1.396000e+03</td>\n      <td>8.700000e+03</td>\n    </tr>\n    <tr>\n      <th>jointAccount</th>\n      <td>224868.0</td>\n      <td>2.165270e-02</td>\n      <td>1.455471e-01</td>\n      <td>0.000000e+00</td>\n      <td>0.000000e+00</td>\n      <td>0.000000e+00</td>\n      <td>0.000000e+00</td>\n      <td>1.000000e+00</td>\n    </tr>\n    <tr>\n      <th>IsBlackListed</th>\n      <td>224868.0</td>\n      <td>0.000000e+00</td>\n      <td>0.000000e+00</td>\n      <td>0.000000e+00</td>\n      <td>0.000000e+00</td>\n      <td>0.000000e+00</td>\n      <td>0.000000e+00</td>\n      <td>0.000000e+00</td>\n    </tr>\n    <tr>\n      <th>CUS_CLASS</th>\n      <td>224868.0</td>\n      <td>3.765231e+00</td>\n      <td>4.305015e+00</td>\n      <td>0.000000e+00</td>\n      <td>2.000000e+00</td>\n      <td>2.000000e+00</td>\n      <td>2.000000e+00</td>\n      <td>5.100000e+01</td>\n    </tr>\n    <tr>\n      <th>ECO_SEC</th>\n      <td>224868.0</td>\n      <td>8.938863e+01</td>\n      <td>2.940685e+01</td>\n      <td>0.000000e+00</td>\n      <td>9.000000e+01</td>\n      <td>9.000000e+01</td>\n      <td>9.000000e+01</td>\n      <td>3.920000e+02</td>\n    </tr>\n    <tr>\n      <th>TYPE_OF_DEP</th>\n      <td>224868.0</td>\n      <td>3.550901e+01</td>\n      <td>1.549185e+01</td>\n      <td>0.000000e+00</td>\n      <td>2.000000e+01</td>\n      <td>3.500000e+01</td>\n      <td>5.100000e+01</td>\n      <td>1.000000e+02</td>\n    </tr>\n    <tr>\n      <th>GENDER</th>\n      <td>104357.0</td>\n      <td>1.250975e+00</td>\n      <td>4.335762e-01</td>\n      <td>1.000000e+00</td>\n      <td>1.000000e+00</td>\n      <td>1.000000e+00</td>\n      <td>2.000000e+00</td>\n      <td>2.000000e+00</td>\n    </tr>\n    <tr>\n      <th>LEGAL_STA_CODE</th>\n      <td>222252.0</td>\n      <td>1.193564e+00</td>\n      <td>5.281911e-01</td>\n      <td>1.000000e+00</td>\n      <td>1.000000e+00</td>\n      <td>1.000000e+00</td>\n      <td>1.000000e+00</td>\n      <td>4.000000e+00</td>\n    </tr>\n    <tr>\n      <th>legal_Stat_desc</th>\n      <td>0.0</td>\n      <td>NaN</td>\n      <td>NaN</td>\n      <td>NaN</td>\n      <td>NaN</td>\n      <td>NaN</td>\n      <td>NaN</td>\n      <td>NaN</td>\n    </tr>\n    <tr>\n      <th>avg_last_10_days</th>\n      <td>224868.0</td>\n      <td>7.832261e+03</td>\n      <td>1.325116e+06</td>\n      <td>-1.791005e+08</td>\n      <td>0.000000e+00</td>\n      <td>0.000000e+00</td>\n      <td>6.914525e+02</td>\n      <td>1.531514e+08</td>\n    </tr>\n    <tr>\n      <th>avg_last_30_days</th>\n      <td>224868.0</td>\n      <td>1.988950e+03</td>\n      <td>3.344322e+05</td>\n      <td>-4.513426e+07</td>\n      <td>0.000000e+00</td>\n      <td>0.000000e+00</td>\n      <td>1.826150e+02</td>\n      <td>3.859913e+07</td>\n    </tr>\n    <tr>\n      <th>avg_last_90_days</th>\n      <td>224868.0</td>\n      <td>1.887138e+01</td>\n      <td>3.685041e+03</td>\n      <td>-4.856867e+05</td>\n      <td>0.000000e+00</td>\n      <td>0.000000e+00</td>\n      <td>1.100000e+00</td>\n      <td>4.150444e+05</td>\n    </tr>\n    <tr>\n      <th>number_of_cash_dep_90_days</th>\n      <td>224868.0</td>\n      <td>4.914216e-01</td>\n      <td>5.335240e+00</td>\n      <td>0.000000e+00</td>\n      <td>0.000000e+00</td>\n      <td>0.000000e+00</td>\n      <td>0.000000e+00</td>\n      <td>1.267000e+03</td>\n    </tr>\n    <tr>\n      <th>avg_cash_deposit_90_days</th>\n      <td>224868.0</td>\n      <td>-1.113435e+03</td>\n      <td>3.028084e+04</td>\n      <td>-5.482044e+06</td>\n      <td>0.000000e+00</td>\n      <td>0.000000e+00</td>\n      <td>0.000000e+00</td>\n      <td>0.000000e+00</td>\n    </tr>\n    <tr>\n      <th>number_of_deposit_90_days</th>\n      <td>224868.0</td>\n      <td>1.131437e+00</td>\n      <td>1.971374e+01</td>\n      <td>0.000000e+00</td>\n      <td>0.000000e+00</td>\n      <td>0.000000e+00</td>\n      <td>0.000000e+00</td>\n      <td>3.292000e+03</td>\n    </tr>\n    <tr>\n      <th>avg_of_dep_90_days</th>\n      <td>224868.0</td>\n      <td>-3.540383e+03</td>\n      <td>9.151602e+04</td>\n      <td>-1.654371e+07</td>\n      <td>0.000000e+00</td>\n      <td>0.000000e+00</td>\n      <td>0.000000e+00</td>\n      <td>5.867291e+05</td>\n    </tr>\n    <tr>\n      <th>number_of_cash_wd_90_days</th>\n      <td>224868.0</td>\n      <td>2.543047e-01</td>\n      <td>1.175586e+00</td>\n      <td>0.000000e+00</td>\n      <td>0.000000e+00</td>\n      <td>0.000000e+00</td>\n      <td>0.000000e+00</td>\n      <td>7.800000e+01</td>\n    </tr>\n    <tr>\n      <th>avg_of_cash_wd_90_days</th>\n      <td>224868.0</td>\n      <td>4.763851e+02</td>\n      <td>2.028110e+04</td>\n      <td>0.000000e+00</td>\n      <td>0.000000e+00</td>\n      <td>0.000000e+00</td>\n      <td>0.000000e+00</td>\n      <td>8.394000e+06</td>\n    </tr>\n    <tr>\n      <th>number_of_wd_90_days</th>\n      <td>224868.0</td>\n      <td>8.685184e-01</td>\n      <td>1.237399e+01</td>\n      <td>0.000000e+00</td>\n      <td>0.000000e+00</td>\n      <td>0.000000e+00</td>\n      <td>0.000000e+00</td>\n      <td>2.858000e+03</td>\n    </tr>\n    <tr>\n      <th>avg_of_wd_90_days</th>\n      <td>224868.0</td>\n      <td>2.450953e+03</td>\n      <td>5.819818e+04</td>\n      <td>0.000000e+00</td>\n      <td>0.000000e+00</td>\n      <td>0.000000e+00</td>\n      <td>0.000000e+00</td>\n      <td>9.942530e+06</td>\n    </tr>\n    <tr>\n      <th>score_card_Desc</th>\n      <td>0.0</td>\n      <td>NaN</td>\n      <td>NaN</td>\n      <td>NaN</td>\n      <td>NaN</td>\n      <td>NaN</td>\n      <td>NaN</td>\n      <td>NaN</td>\n    </tr>\n    <tr>\n      <th>rbaValue</th>\n      <td>224868.0</td>\n      <td>1.762419e+01</td>\n      <td>8.368345e+00</td>\n      <td>4.080000e+00</td>\n      <td>1.333000e+01</td>\n      <td>1.653000e+01</td>\n      <td>2.133000e+01</td>\n      <td>1.000000e+02</td>\n    </tr>\n    <tr>\n      <th>age</th>\n      <td>224868.0</td>\n      <td>3.927964e+01</td>\n      <td>1.685990e+01</td>\n      <td>0.000000e+00</td>\n      <td>2.900000e+01</td>\n      <td>3.900000e+01</td>\n      <td>5.000000e+01</td>\n      <td>1.180000e+02</td>\n    </tr>\n  </tbody>\n</table>\n</div>"
     },
     "metadata": {},
     "execution_count": 17
    }
   ],
   "source": [
    "num_columns = df.select_dtypes(include=['int64', 'float64']).columns\n",
    "df[num_columns].describe().T\n",
    "\n",
    "# for col in num_columns:\n",
    "#     print(\"VARIABLE = \", col)\n",
    "#     print(df[col].describe())\n",
    "#     print('\\n'*2)"
   ]
  },
  {
   "cell_type": "markdown",
   "metadata": {},
   "source": [
    "## Remove fully NA columns"
   ]
  },
  {
   "cell_type": "code",
   "execution_count": 18,
   "metadata": {
    "tags": []
   },
   "outputs": [],
   "source": [
    "# df.info()"
   ]
  },
  {
   "cell_type": "code",
   "execution_count": 19,
   "metadata": {},
   "outputs": [],
   "source": [
    "# Drop columns where all the values are missing or null\n",
    "# https://pandas.pydata.org/pandas-docs/stable/reference/api/pandas.DataFrame.dropna.html\n",
    "df.dropna(axis='columns', how='all', inplace=True)"
   ]
  },
  {
   "cell_type": "code",
   "execution_count": 20,
   "metadata": {
    "tags": []
   },
   "outputs": [],
   "source": [
    "# df.info()\n",
    "# 100*df.isnull().sum()/df.isnull().count()"
   ]
  },
  {
   "cell_type": "markdown",
   "metadata": {},
   "source": [
    "## Imputation and Scaling\n",
    "\n",
    "There are [several ways of imputing missing values](https://scikit-learn.org/stable/modules/impute.html#multivariate-feature-imputation). I'd like to use a multivariate approach, which is much better than univariate methods (imputing by the mean, etc.). To do so, I will use the methods available in `scikit-learn` library ([here](https://scikit-learn.org/stable/modules/impute.html#multivariate-feature-imputation))."
   ]
  },
  {
   "cell_type": "code",
   "execution_count": 21,
   "metadata": {},
   "outputs": [
    {
     "output_type": "execute_result",
     "data": {
      "text/plain": "        org_code  branchCode         customerId  customerType  residentStatus  \\\n0              1         201  20100400550000072             2               1   \n1              1         202  20200207860000638             1               1   \n2              1         202  20200207860000638             1               1   \n3              1         202  20200207860000638             1               1   \n4              1         202  20200207860000638             1               1   \n...          ...         ...                ...           ...             ...   \n224863         1         404  40400811920003507             1               1   \n224864         1         202  20200577640010547             2               1   \n224865         1         502  50220271300005255             1               1   \n224866         1         704  70424500690004664             1               1   \n224867         1         209  20900444790003021             1               1   \n\n        age_in_year  profession  companyType  ledgerCode  jointAccount  ...  \\\n0               NaN         NaN         35.0        5817             0  ...   \n1              30.0        27.0          NaN        1330             0  ...   \n2              30.0        27.0          NaN        1389             0  ...   \n3              30.0        27.0          NaN          60             0  ...   \n4              30.0        27.0          NaN          10             0  ...   \n...             ...         ...          ...         ...           ...  ...   \n224863         66.0         NaN          NaN          20             0  ...   \n224864         13.0         NaN         35.0        5300             0  ...   \n224865         41.0         NaN         51.0        2980             0  ...   \n224866         70.0         NaN          NaN        1396             0  ...   \n224867         32.0         NaN         51.0        1396             0  ...   \n\n        avg_cash_deposit_90_days  number_of_deposit_90_days  \\\n0                            0.0                          0   \n1                            0.0                          0   \n2                            0.0                          0   \n3                         -550.0                          4   \n4                         -540.0                          4   \n...                          ...                        ...   \n224863                       0.0                          0   \n224864                       0.0                          0   \n224865                       0.0                          0   \n224866                       0.0                          0   \n224867                       0.0                          0   \n\n        avg_of_dep_90_days  number_of_cash_wd_90_days  avg_of_cash_wd_90_days  \\\n0                      0.0                          0                     0.0   \n1                      0.0                          0                     0.0   \n2                      0.0                          0                     0.0   \n3                   -550.0                          1                    50.0   \n4                   -540.0                          1                    56.0   \n...                    ...                        ...                     ...   \n224863                 0.0                          0                     0.0   \n224864                 0.0                          0                     0.0   \n224865                 0.0                          0                     0.0   \n224866                 0.0                          0                     0.0   \n224867                 0.0                          0                     0.0   \n\n        number_of_wd_90_days  avg_of_wd_90_days  rbaValue  \\\n0                          0                0.0     13.20   \n1                          0                0.0     16.93   \n2                          0                0.0     16.93   \n3                          1               50.0     16.93   \n4                          1               56.0     16.93   \n...                      ...                ...       ...   \n224863                     0                0.0     16.53   \n224864                     0                0.0     57.60   \n224865                     0                0.0     14.53   \n224866                     0                0.0     24.53   \n224867                     0                0.0     22.88   \n\n        creationDate_indays  age  \n0                 1295 days    0  \n1                 1860 days   29  \n2                 1860 days   29  \n3                 1860 days   29  \n4                 1860 days   29  \n...                     ...  ...  \n224863             364 days   65  \n224864            5199 days   12  \n224865            6633 days   40  \n224866            3931 days   69  \n224867            1103 days   31  \n\n[224868 rows x 30 columns]",
      "text/html": "<div>\n<style scoped>\n    .dataframe tbody tr th:only-of-type {\n        vertical-align: middle;\n    }\n\n    .dataframe tbody tr th {\n        vertical-align: top;\n    }\n\n    .dataframe thead th {\n        text-align: right;\n    }\n</style>\n<table border=\"1\" class=\"dataframe\">\n  <thead>\n    <tr style=\"text-align: right;\">\n      <th></th>\n      <th>org_code</th>\n      <th>branchCode</th>\n      <th>customerId</th>\n      <th>customerType</th>\n      <th>residentStatus</th>\n      <th>age_in_year</th>\n      <th>profession</th>\n      <th>companyType</th>\n      <th>ledgerCode</th>\n      <th>jointAccount</th>\n      <th>...</th>\n      <th>avg_cash_deposit_90_days</th>\n      <th>number_of_deposit_90_days</th>\n      <th>avg_of_dep_90_days</th>\n      <th>number_of_cash_wd_90_days</th>\n      <th>avg_of_cash_wd_90_days</th>\n      <th>number_of_wd_90_days</th>\n      <th>avg_of_wd_90_days</th>\n      <th>rbaValue</th>\n      <th>creationDate_indays</th>\n      <th>age</th>\n    </tr>\n  </thead>\n  <tbody>\n    <tr>\n      <th>0</th>\n      <td>1</td>\n      <td>201</td>\n      <td>20100400550000072</td>\n      <td>2</td>\n      <td>1</td>\n      <td>NaN</td>\n      <td>NaN</td>\n      <td>35.0</td>\n      <td>5817</td>\n      <td>0</td>\n      <td>...</td>\n      <td>0.0</td>\n      <td>0</td>\n      <td>0.0</td>\n      <td>0</td>\n      <td>0.0</td>\n      <td>0</td>\n      <td>0.0</td>\n      <td>13.20</td>\n      <td>1295 days</td>\n      <td>0</td>\n    </tr>\n    <tr>\n      <th>1</th>\n      <td>1</td>\n      <td>202</td>\n      <td>20200207860000638</td>\n      <td>1</td>\n      <td>1</td>\n      <td>30.0</td>\n      <td>27.0</td>\n      <td>NaN</td>\n      <td>1330</td>\n      <td>0</td>\n      <td>...</td>\n      <td>0.0</td>\n      <td>0</td>\n      <td>0.0</td>\n      <td>0</td>\n      <td>0.0</td>\n      <td>0</td>\n      <td>0.0</td>\n      <td>16.93</td>\n      <td>1860 days</td>\n      <td>29</td>\n    </tr>\n    <tr>\n      <th>2</th>\n      <td>1</td>\n      <td>202</td>\n      <td>20200207860000638</td>\n      <td>1</td>\n      <td>1</td>\n      <td>30.0</td>\n      <td>27.0</td>\n      <td>NaN</td>\n      <td>1389</td>\n      <td>0</td>\n      <td>...</td>\n      <td>0.0</td>\n      <td>0</td>\n      <td>0.0</td>\n      <td>0</td>\n      <td>0.0</td>\n      <td>0</td>\n      <td>0.0</td>\n      <td>16.93</td>\n      <td>1860 days</td>\n      <td>29</td>\n    </tr>\n    <tr>\n      <th>3</th>\n      <td>1</td>\n      <td>202</td>\n      <td>20200207860000638</td>\n      <td>1</td>\n      <td>1</td>\n      <td>30.0</td>\n      <td>27.0</td>\n      <td>NaN</td>\n      <td>60</td>\n      <td>0</td>\n      <td>...</td>\n      <td>-550.0</td>\n      <td>4</td>\n      <td>-550.0</td>\n      <td>1</td>\n      <td>50.0</td>\n      <td>1</td>\n      <td>50.0</td>\n      <td>16.93</td>\n      <td>1860 days</td>\n      <td>29</td>\n    </tr>\n    <tr>\n      <th>4</th>\n      <td>1</td>\n      <td>202</td>\n      <td>20200207860000638</td>\n      <td>1</td>\n      <td>1</td>\n      <td>30.0</td>\n      <td>27.0</td>\n      <td>NaN</td>\n      <td>10</td>\n      <td>0</td>\n      <td>...</td>\n      <td>-540.0</td>\n      <td>4</td>\n      <td>-540.0</td>\n      <td>1</td>\n      <td>56.0</td>\n      <td>1</td>\n      <td>56.0</td>\n      <td>16.93</td>\n      <td>1860 days</td>\n      <td>29</td>\n    </tr>\n    <tr>\n      <th>...</th>\n      <td>...</td>\n      <td>...</td>\n      <td>...</td>\n      <td>...</td>\n      <td>...</td>\n      <td>...</td>\n      <td>...</td>\n      <td>...</td>\n      <td>...</td>\n      <td>...</td>\n      <td>...</td>\n      <td>...</td>\n      <td>...</td>\n      <td>...</td>\n      <td>...</td>\n      <td>...</td>\n      <td>...</td>\n      <td>...</td>\n      <td>...</td>\n      <td>...</td>\n      <td>...</td>\n    </tr>\n    <tr>\n      <th>224863</th>\n      <td>1</td>\n      <td>404</td>\n      <td>40400811920003507</td>\n      <td>1</td>\n      <td>1</td>\n      <td>66.0</td>\n      <td>NaN</td>\n      <td>NaN</td>\n      <td>20</td>\n      <td>0</td>\n      <td>...</td>\n      <td>0.0</td>\n      <td>0</td>\n      <td>0.0</td>\n      <td>0</td>\n      <td>0.0</td>\n      <td>0</td>\n      <td>0.0</td>\n      <td>16.53</td>\n      <td>364 days</td>\n      <td>65</td>\n    </tr>\n    <tr>\n      <th>224864</th>\n      <td>1</td>\n      <td>202</td>\n      <td>20200577640010547</td>\n      <td>2</td>\n      <td>1</td>\n      <td>13.0</td>\n      <td>NaN</td>\n      <td>35.0</td>\n      <td>5300</td>\n      <td>0</td>\n      <td>...</td>\n      <td>0.0</td>\n      <td>0</td>\n      <td>0.0</td>\n      <td>0</td>\n      <td>0.0</td>\n      <td>0</td>\n      <td>0.0</td>\n      <td>57.60</td>\n      <td>5199 days</td>\n      <td>12</td>\n    </tr>\n    <tr>\n      <th>224865</th>\n      <td>1</td>\n      <td>502</td>\n      <td>50220271300005255</td>\n      <td>1</td>\n      <td>1</td>\n      <td>41.0</td>\n      <td>NaN</td>\n      <td>51.0</td>\n      <td>2980</td>\n      <td>0</td>\n      <td>...</td>\n      <td>0.0</td>\n      <td>0</td>\n      <td>0.0</td>\n      <td>0</td>\n      <td>0.0</td>\n      <td>0</td>\n      <td>0.0</td>\n      <td>14.53</td>\n      <td>6633 days</td>\n      <td>40</td>\n    </tr>\n    <tr>\n      <th>224866</th>\n      <td>1</td>\n      <td>704</td>\n      <td>70424500690004664</td>\n      <td>1</td>\n      <td>1</td>\n      <td>70.0</td>\n      <td>NaN</td>\n      <td>NaN</td>\n      <td>1396</td>\n      <td>0</td>\n      <td>...</td>\n      <td>0.0</td>\n      <td>0</td>\n      <td>0.0</td>\n      <td>0</td>\n      <td>0.0</td>\n      <td>0</td>\n      <td>0.0</td>\n      <td>24.53</td>\n      <td>3931 days</td>\n      <td>69</td>\n    </tr>\n    <tr>\n      <th>224867</th>\n      <td>1</td>\n      <td>209</td>\n      <td>20900444790003021</td>\n      <td>1</td>\n      <td>1</td>\n      <td>32.0</td>\n      <td>NaN</td>\n      <td>51.0</td>\n      <td>1396</td>\n      <td>0</td>\n      <td>...</td>\n      <td>0.0</td>\n      <td>0</td>\n      <td>0.0</td>\n      <td>0</td>\n      <td>0.0</td>\n      <td>0</td>\n      <td>0.0</td>\n      <td>22.88</td>\n      <td>1103 days</td>\n      <td>31</td>\n    </tr>\n  </tbody>\n</table>\n<p>224868 rows × 30 columns</p>\n</div>"
     },
     "metadata": {},
     "execution_count": 21
    }
   ],
   "source": [
    "df.select_dtypes(include=np.number)"
   ]
  },
  {
   "cell_type": "markdown",
   "metadata": {},
   "source": [
    "https://scikit-learn.org/stable/modules/generated/sklearn.impute.IterativeImputer.html\n",
    "\n",
    "A more sophisticated approach is to use the IterativeImputer class, which models each feature with missing values as a function of other features, and uses that estimate for imputation. It does so in an iterated round-robin fashion: at each step, a feature column is designated as output y and the other feature columns are treated as inputs X. A regressor is fit on (X, y) for known y. Then, the regressor is used to predict the missing values of y. This is done for each feature in an iterative fashion, and then is repeated for max_iter imputation rounds. The results of the final imputation round are returned."
   ]
  },
  {
   "cell_type": "code",
   "execution_count": 22,
   "metadata": {},
   "outputs": [],
   "source": [
    "num_imputer = IterativeImputer(max_iter=10, random_state=0)\n",
    "num_columns = df.select_dtypes(include=['int64', 'float64']).columns\n",
    "num_feats = num_imputer.fit_transform(df[num_columns])\n",
    "num_feats = pd.DataFrame(data=num_feats, columns=num_columns)"
   ]
  },
  {
   "cell_type": "markdown",
   "metadata": {},
   "source": [
    "To perform imputaton on categorical variables, I decided to use a method provided by the library `sklearn_pandas` that implements a `CategoricalImputer`."
   ]
  },
  {
   "cell_type": "markdown",
   "metadata": {},
   "source": [
    "https://github.com/scikit-learn-contrib/sklearn-pandas\n",
    "\n",
    "Since the scikit-learn Imputer transformer currently only works with numbers, sklearn-pandas provides an equivalent helper transformer that works with strings, substituting null values with the most frequent value in that column. Alternatively, you can specify a fixed value to use.\n",
    "\n",
    "Alternative\n",
    "https://stackoverflow.com/questions/42846345/sklearn-categorical-imputer  \n",
    "https://github.com/scikit-learn-contrib/sklearn-pandas  \n",
    "https://scikit-learn.org/stable/modules/impute.html"
   ]
  },
  {
   "cell_type": "code",
   "execution_count": 23,
   "outputs": [],
   "source": [
    "cat_imputer = SimpleImputer(strategy=\"most_frequent\")\n",
    "cat_columns = df.select_dtypes(include=['object', 'datetime64']).columns\n",
    "cat_feats = cat_imputer.fit_transform(df[cat_columns])\n",
    "cat_feats = pd.DataFrame(data=cat_feats, columns=cat_columns)\n"
   ],
   "metadata": {
    "collapsed": false,
    "pycharm": {
     "name": "#%%\n"
    }
   }
  },
  {
   "cell_type": "markdown",
   "metadata": {},
   "source": [
    "Feature engineering for the dates"
   ]
  },
  {
   "cell_type": "code",
   "execution_count": 24,
   "metadata": {},
   "outputs": [],
   "source": [
    "df_time = pd.DataFrame()\n",
    "for col in df.select_dtypes(include=['datetime64']):\n",
    "    df_time['{}_year'.format(col)] = df[col].dt.year\n",
    "    df_time['{}_month'.format(col)] = df[col].dt.month\n",
    "    df_time['{}_day'.format(col)] = df[col].dt.day\n",
    "    df_time['{}_dayofyear'.format(col)] = df[col].dt.dayofyear"
   ]
  },
  {
   "cell_type": "markdown",
   "metadata": {},
   "source": [
    "Finally, the result of imputing both: numerical and categorical, is now merged together in a single Dataset (or you can also use a dataframe, if you prefer)."
   ]
  },
  {
   "cell_type": "code",
   "execution_count": 25,
   "metadata": {},
   "outputs": [],
   "source": [
    "# https://pandas.pydata.org/pandas-docs/stable/user_guide/merging.html\n",
    "# date_columns = df.select_dtypes(include=['datetime64']).columns\n",
    "df = pd.concat([cat_feats, num_feats, df_time], axis=1, sort=False)"
   ]
  },
  {
   "cell_type": "markdown",
   "metadata": {},
   "source": [
    "Scale all the numeric values, at this point."
   ]
  },
  {
   "cell_type": "code",
   "execution_count": 26,
   "metadata": {},
   "outputs": [],
   "source": [
    "# https://stackoverflow.com/a/36475297/3780957\n",
    "\n",
    "num_columns = df.select_dtypes(include=['int64', 'float64']).columns\n",
    "\n",
    "scaler = StandardScaler()\n",
    "df[num_columns] = scaler.fit_transform(df[num_columns])"
   ]
  },
  {
   "cell_type": "markdown",
   "metadata": {},
   "source": [
    "Now, my dataset is ready to be analyzed. Lots of categorical and numerical variables."
   ]
  },
  {
   "cell_type": "code",
   "execution_count": 27,
   "metadata": {},
   "outputs": [
    {
     "output_type": "execute_result",
     "data": {
      "text/plain": "       org_code    branchCode    customerId  customerType  residentStatus  \\\ncount  224868.0  2.248680e+05  2.248680e+05  2.248680e+05    2.248680e+05   \nmean        0.0 -3.367415e-13  4.082475e-14 -1.266870e-13    1.632239e-13   \nstd         0.0  1.000002e+00  1.000002e+00  1.000002e+00    1.000002e+00   \nmin         0.0 -1.084396e+00 -1.870545e+00 -3.594457e-01   -1.472462e-01   \n25%         0.0 -1.053720e+00 -9.893499e-01 -3.594457e-01   -1.472462e-01   \n50%         0.0 -2.079440e-01 -1.631530e-01 -3.594457e-01   -1.472462e-01   \n75%         0.0  1.106734e+00  1.114327e+00 -3.594457e-01   -1.472462e-01   \nmax         0.0  1.562489e+00  1.557230e+00  2.782061e+00    6.791346e+00   \n\n        age_in_year    profession   companyType    ledgerCode  jointAccount  \\\ncount  2.248680e+05  2.248680e+05  2.248680e+05  2.248680e+05  2.248680e+05   \nmean   1.110232e-15  1.199278e-14 -9.451181e-14  5.498509e-15  2.906594e-15   \nstd    1.000002e+00  1.000002e+00  1.000002e+00  1.000002e+00  1.000002e+00   \nmin   -1.920943e+01 -1.951664e+01 -4.467498e+00 -8.192297e-01 -1.487680e-01   \n25%   -6.082610e-01 -2.000604e-01 -1.002983e+00 -8.114225e-01 -1.487680e-01   \n50%   -2.369797e-02  5.024747e-02  1.499323e-01  1.894578e-01 -1.487680e-01   \n75%    6.777777e-01  4.556385e-01  9.977565e-01  2.628453e-01 -1.487680e-01   \nmax    4.594350e+00  8.158039e+00  4.273962e+00  5.965209e+00  6.721876e+00   \n\n       ...  creationDate_day  creationDate_dayofyear  dateOfBirth_year  \\\ncount  ...      2.248680e+05            2.248680e+05      2.201530e+05   \nmean   ...      1.906912e-16           -4.154938e-16     -6.999134e-15   \nstd    ...      1.000002e+00            1.000002e+00      1.000002e+00   \nmin    ...     -1.681182e+00           -1.735944e+00     -4.855437e+00   \n25%    ...     -8.918733e-01           -8.764719e-01     -6.680682e-01   \n50%    ...      1.019383e-02           -7.342251e-03      1.941033e-02   \n75%    ...      9.122610e-01            8.521304e-01      6.443908e-01   \nmax    ...      1.701570e+00            1.788859e+00      2.519332e+00   \n\n       dateOfBirth_month  dateOfBirth_day  dateOfBirth_dayofyear  \\\ncount       2.201530e+05     2.201530e+05           2.201530e+05   \nmean       -1.751600e-15     1.600596e-16          -5.817623e-16   \nstd         1.000002e+00     1.000002e+00           1.000002e+00   \nmin        -1.439436e+00    -1.363282e+00          -1.524098e+00   \n25%        -8.794958e-01    -9.323887e-01          -8.818017e-01   \n50%        -3.958569e-02    -7.060222e-02          -2.239115e-02   \n75%         8.003245e-01     7.911843e-01           8.460658e-01   \nmax         1.640235e+00     1.868417e+00           1.777848e+00   \n\n       date_of_assessment_year  date_of_assessment_month  \\\ncount                 224868.0                  224868.0   \nmean                       0.0                       0.0   \nstd                        0.0                       0.0   \nmin                        0.0                       0.0   \n25%                        0.0                       0.0   \n50%                        0.0                       0.0   \n75%                        0.0                       0.0   \nmax                        0.0                       0.0   \n\n       date_of_assessment_day  date_of_assessment_dayofyear  \ncount                224868.0                      224868.0  \nmean                      0.0                           0.0  \nstd                       0.0                           0.0  \nmin                       0.0                           0.0  \n25%                       0.0                           0.0  \n50%                       0.0                           0.0  \n75%                       0.0                           0.0  \nmax                       0.0                           0.0  \n\n[8 rows x 41 columns]",
      "text/html": "<div>\n<style scoped>\n    .dataframe tbody tr th:only-of-type {\n        vertical-align: middle;\n    }\n\n    .dataframe tbody tr th {\n        vertical-align: top;\n    }\n\n    .dataframe thead th {\n        text-align: right;\n    }\n</style>\n<table border=\"1\" class=\"dataframe\">\n  <thead>\n    <tr style=\"text-align: right;\">\n      <th></th>\n      <th>org_code</th>\n      <th>branchCode</th>\n      <th>customerId</th>\n      <th>customerType</th>\n      <th>residentStatus</th>\n      <th>age_in_year</th>\n      <th>profession</th>\n      <th>companyType</th>\n      <th>ledgerCode</th>\n      <th>jointAccount</th>\n      <th>...</th>\n      <th>creationDate_day</th>\n      <th>creationDate_dayofyear</th>\n      <th>dateOfBirth_year</th>\n      <th>dateOfBirth_month</th>\n      <th>dateOfBirth_day</th>\n      <th>dateOfBirth_dayofyear</th>\n      <th>date_of_assessment_year</th>\n      <th>date_of_assessment_month</th>\n      <th>date_of_assessment_day</th>\n      <th>date_of_assessment_dayofyear</th>\n    </tr>\n  </thead>\n  <tbody>\n    <tr>\n      <th>count</th>\n      <td>224868.0</td>\n      <td>2.248680e+05</td>\n      <td>2.248680e+05</td>\n      <td>2.248680e+05</td>\n      <td>2.248680e+05</td>\n      <td>2.248680e+05</td>\n      <td>2.248680e+05</td>\n      <td>2.248680e+05</td>\n      <td>2.248680e+05</td>\n      <td>2.248680e+05</td>\n      <td>...</td>\n      <td>2.248680e+05</td>\n      <td>2.248680e+05</td>\n      <td>2.201530e+05</td>\n      <td>2.201530e+05</td>\n      <td>2.201530e+05</td>\n      <td>2.201530e+05</td>\n      <td>224868.0</td>\n      <td>224868.0</td>\n      <td>224868.0</td>\n      <td>224868.0</td>\n    </tr>\n    <tr>\n      <th>mean</th>\n      <td>0.0</td>\n      <td>-3.367415e-13</td>\n      <td>4.082475e-14</td>\n      <td>-1.266870e-13</td>\n      <td>1.632239e-13</td>\n      <td>1.110232e-15</td>\n      <td>1.199278e-14</td>\n      <td>-9.451181e-14</td>\n      <td>5.498509e-15</td>\n      <td>2.906594e-15</td>\n      <td>...</td>\n      <td>1.906912e-16</td>\n      <td>-4.154938e-16</td>\n      <td>-6.999134e-15</td>\n      <td>-1.751600e-15</td>\n      <td>1.600596e-16</td>\n      <td>-5.817623e-16</td>\n      <td>0.0</td>\n      <td>0.0</td>\n      <td>0.0</td>\n      <td>0.0</td>\n    </tr>\n    <tr>\n      <th>std</th>\n      <td>0.0</td>\n      <td>1.000002e+00</td>\n      <td>1.000002e+00</td>\n      <td>1.000002e+00</td>\n      <td>1.000002e+00</td>\n      <td>1.000002e+00</td>\n      <td>1.000002e+00</td>\n      <td>1.000002e+00</td>\n      <td>1.000002e+00</td>\n      <td>1.000002e+00</td>\n      <td>...</td>\n      <td>1.000002e+00</td>\n      <td>1.000002e+00</td>\n      <td>1.000002e+00</td>\n      <td>1.000002e+00</td>\n      <td>1.000002e+00</td>\n      <td>1.000002e+00</td>\n      <td>0.0</td>\n      <td>0.0</td>\n      <td>0.0</td>\n      <td>0.0</td>\n    </tr>\n    <tr>\n      <th>min</th>\n      <td>0.0</td>\n      <td>-1.084396e+00</td>\n      <td>-1.870545e+00</td>\n      <td>-3.594457e-01</td>\n      <td>-1.472462e-01</td>\n      <td>-1.920943e+01</td>\n      <td>-1.951664e+01</td>\n      <td>-4.467498e+00</td>\n      <td>-8.192297e-01</td>\n      <td>-1.487680e-01</td>\n      <td>...</td>\n      <td>-1.681182e+00</td>\n      <td>-1.735944e+00</td>\n      <td>-4.855437e+00</td>\n      <td>-1.439436e+00</td>\n      <td>-1.363282e+00</td>\n      <td>-1.524098e+00</td>\n      <td>0.0</td>\n      <td>0.0</td>\n      <td>0.0</td>\n      <td>0.0</td>\n    </tr>\n    <tr>\n      <th>25%</th>\n      <td>0.0</td>\n      <td>-1.053720e+00</td>\n      <td>-9.893499e-01</td>\n      <td>-3.594457e-01</td>\n      <td>-1.472462e-01</td>\n      <td>-6.082610e-01</td>\n      <td>-2.000604e-01</td>\n      <td>-1.002983e+00</td>\n      <td>-8.114225e-01</td>\n      <td>-1.487680e-01</td>\n      <td>...</td>\n      <td>-8.918733e-01</td>\n      <td>-8.764719e-01</td>\n      <td>-6.680682e-01</td>\n      <td>-8.794958e-01</td>\n      <td>-9.323887e-01</td>\n      <td>-8.818017e-01</td>\n      <td>0.0</td>\n      <td>0.0</td>\n      <td>0.0</td>\n      <td>0.0</td>\n    </tr>\n    <tr>\n      <th>50%</th>\n      <td>0.0</td>\n      <td>-2.079440e-01</td>\n      <td>-1.631530e-01</td>\n      <td>-3.594457e-01</td>\n      <td>-1.472462e-01</td>\n      <td>-2.369797e-02</td>\n      <td>5.024747e-02</td>\n      <td>1.499323e-01</td>\n      <td>1.894578e-01</td>\n      <td>-1.487680e-01</td>\n      <td>...</td>\n      <td>1.019383e-02</td>\n      <td>-7.342251e-03</td>\n      <td>1.941033e-02</td>\n      <td>-3.958569e-02</td>\n      <td>-7.060222e-02</td>\n      <td>-2.239115e-02</td>\n      <td>0.0</td>\n      <td>0.0</td>\n      <td>0.0</td>\n      <td>0.0</td>\n    </tr>\n    <tr>\n      <th>75%</th>\n      <td>0.0</td>\n      <td>1.106734e+00</td>\n      <td>1.114327e+00</td>\n      <td>-3.594457e-01</td>\n      <td>-1.472462e-01</td>\n      <td>6.777777e-01</td>\n      <td>4.556385e-01</td>\n      <td>9.977565e-01</td>\n      <td>2.628453e-01</td>\n      <td>-1.487680e-01</td>\n      <td>...</td>\n      <td>9.122610e-01</td>\n      <td>8.521304e-01</td>\n      <td>6.443908e-01</td>\n      <td>8.003245e-01</td>\n      <td>7.911843e-01</td>\n      <td>8.460658e-01</td>\n      <td>0.0</td>\n      <td>0.0</td>\n      <td>0.0</td>\n      <td>0.0</td>\n    </tr>\n    <tr>\n      <th>max</th>\n      <td>0.0</td>\n      <td>1.562489e+00</td>\n      <td>1.557230e+00</td>\n      <td>2.782061e+00</td>\n      <td>6.791346e+00</td>\n      <td>4.594350e+00</td>\n      <td>8.158039e+00</td>\n      <td>4.273962e+00</td>\n      <td>5.965209e+00</td>\n      <td>6.721876e+00</td>\n      <td>...</td>\n      <td>1.701570e+00</td>\n      <td>1.788859e+00</td>\n      <td>2.519332e+00</td>\n      <td>1.640235e+00</td>\n      <td>1.868417e+00</td>\n      <td>1.777848e+00</td>\n      <td>0.0</td>\n      <td>0.0</td>\n      <td>0.0</td>\n      <td>0.0</td>\n    </tr>\n  </tbody>\n</table>\n<p>8 rows × 41 columns</p>\n</div>"
     },
     "metadata": {},
     "execution_count": 27
    }
   ],
   "source": [
    "df.describe()"
   ]
  },
  {
   "cell_type": "code",
   "execution_count": 28,
   "metadata": {},
   "outputs": [
    {
     "output_type": "execute_result",
     "data": {
      "text/plain": "fullaccount                     0.000000\ncreationDate                    0.000000\nonboarding                      0.000000\nresidentCountry                 0.000000\nnationalityOriginal             0.000000\nextraNationality                0.000000\ndateOfBirth                     0.000000\nbirthPlace                      0.000000\ngiinCode                        0.000000\nstatus                          0.000000\naccountCurrency                 0.000000\ndate_of_assessment              0.000000\nrbaGradeAbrv                    0.000000\nscore_card                      0.000000\nRisk_Description                0.000000\norg_code                        0.000000\nbranchCode                      0.000000\ncustomerId                      0.000000\ncustomerType                    0.000000\nresidentStatus                  0.000000\nage_in_year                     0.000000\nprofession                      0.000000\ncompanyType                     0.000000\nledgerCode                      0.000000\njointAccount                    0.000000\nIsBlackListed                   0.000000\nCUS_CLASS                       0.000000\nECO_SEC                         0.000000\nTYPE_OF_DEP                     0.000000\nGENDER                          0.000000\nLEGAL_STA_CODE                  0.000000\navg_last_10_days                0.000000\navg_last_30_days                0.000000\navg_last_90_days                0.000000\nnumber_of_cash_dep_90_days      0.000000\navg_cash_deposit_90_days        0.000000\nnumber_of_deposit_90_days       0.000000\navg_of_dep_90_days              0.000000\nnumber_of_cash_wd_90_days       0.000000\navg_of_cash_wd_90_days          0.000000\nnumber_of_wd_90_days            0.000000\navg_of_wd_90_days               0.000000\nrbaValue                        0.000000\nage                             0.000000\ncreationDate_year               0.000000\ncreationDate_month              0.000000\ncreationDate_day                0.000000\ncreationDate_dayofyear          0.000000\ndateOfBirth_year                2.096786\ndateOfBirth_month               2.096786\ndateOfBirth_day                 2.096786\ndateOfBirth_dayofyear           2.096786\ndate_of_assessment_year         0.000000\ndate_of_assessment_month        0.000000\ndate_of_assessment_day          0.000000\ndate_of_assessment_dayofyear    0.000000\ndtype: float64"
     },
     "metadata": {},
     "execution_count": 28
    }
   ],
   "source": [
    "100*df.isnull().sum()/df.isnull().count()"
   ]
  },
  {
   "cell_type": "code",
   "execution_count": 29,
   "metadata": {},
   "outputs": [],
   "source": [
    "# Drop rows with NA\n",
    "\n",
    "df.dropna(axis='rows', how='any', inplace=True)"
   ]
  },
  {
   "cell_type": "markdown",
   "metadata": {},
   "source": [
    "# Regression model\n",
    "\n",
    "Develop one Regression model using rbaValue as target variable. Remember to assess the model performance using an appropriate measure for regression."
   ]
  },
  {
   "cell_type": "code",
   "execution_count": 30,
   "metadata": {},
   "outputs": [],
   "source": [
    "y = df['rbaValue']\n",
    "X = df.drop('rbaValue', axis=1)"
   ]
  },
  {
   "cell_type": "code",
   "execution_count": 31,
   "metadata": {},
   "outputs": [],
   "source": [
    "X = OneHotEncoder(drop='first').fit_transform(X)"
   ]
  },
  {
   "cell_type": "code",
   "execution_count": 32,
   "metadata": {
    "tags": []
   },
   "outputs": [
    {
     "output_type": "stream",
     "name": "stdout",
     "text": "Intercept: 2.599457280549014\nCoefficients: [ 0.03112784  0.01856844  0.00262309 ... -0.02117579  0.01631475\n -0.07014494]\nMean squared error (MSE): 0.04\nVariance score (R2): 0.96\n"
    }
   ],
   "source": [
    "# https://github.com/renero/class_notebooks/blob/master/Linear%20regression.ipynb\n",
    "\n",
    "X_train, X_test, y_train, y_test = train_test_split(X, y, test_size=0.2, random_state=42)\n",
    "\n",
    "lm = linear_model.LinearRegression()\n",
    "lm.fit(X_train, y_train)\n",
    "y_pred = lm.predict(X_test)\n",
    "\n",
    "print('Intercept:', lm.intercept_)\n",
    "print('Coefficients:', lm.coef_)\n",
    "print('Mean squared error (MSE): {:.2f}'.format(mean_squared_error(y_test, y_pred)))\n",
    "print('Variance score (R2): {:.2f}'.format(r2_score(y_test, y_pred)))"
   ]
  },
  {
   "cell_type": "markdown",
   "metadata": {
    "pycharm": {
     "name": "#%% md\n"
    }
   },
   "source": [
    "# Classification model\n",
    "\n",
    "Develop one binary Classification model using Risk_Description setting Risk_Description = Low as 0 and else 1 (Medium or High). Remember to assess your model performance using a appropriate measure for classification."
   ]
  },
  {
   "cell_type": "code",
   "execution_count": 33,
   "metadata": {},
   "outputs": [],
   "source": [
    "# Merge the categories 'Medium' and 'High'\n",
    "y = df['Risk_Description']\n",
    "y = [0 if x=='Low' else 1 for x in y]\n",
    "# pd.Series(y).value_counts()\n",
    "\n",
    "X = df.drop('Risk_Description', axis=1)"
   ]
  },
  {
   "cell_type": "code",
   "execution_count": 34,
   "metadata": {},
   "outputs": [],
   "source": [
    "X = OneHotEncoder(drop='first').fit_transform(X)"
   ]
  },
  {
   "cell_type": "code",
   "execution_count": 35,
   "metadata": {
    "tags": []
   },
   "outputs": [
    {
     "output_type": "stream",
     "name": "stdout",
     "text": "Accuracy: 1.0\nF1: 1.0\nRecall: 1.0\nMCC: 1.0\n"
    }
   ],
   "source": [
    "X_train, X_test, y_train, y_test = train_test_split(X, y, test_size=0.2, random_state=42)\n",
    "\n",
    "lr = LogisticRegression().fit(X_train, y_train)\n",
    "y_hat = lr.predict(X_test)\n",
    "\n",
    "accuracy = accuracy_score(y_test, y_hat)\n",
    "F1 = f1_score(y_test, y_hat)\n",
    "recall = recall_score(y_test, y_hat)\n",
    "MCC = matthews_corrcoef(y_test, y_hat)\n",
    "\n",
    "print('Accuracy:', accuracy)\n",
    "print('F1:', F1)\n",
    "print('Recall:', recall)\n",
    "print('MCC:', MCC)"
   ]
  },
  {
   "cell_type": "code",
   "execution_count": 36,
   "outputs": [
    {
     "output_type": "execute_result",
     "data": {
      "text/plain": "2"
     },
     "metadata": {},
     "execution_count": 36
    }
   ],
   "source": [
    "1+1"
   ],
   "metadata": {
    "collapsed": false,
    "pycharm": {
     "name": "#%%\n"
    }
   }
  }
 ],
 "metadata": {
  "kernelspec": {
   "name": "pycharm-392c1d3b",
   "language": "python",
   "display_name": "PyCharm (STATISTICAL PROGRAMMING - PYTHON (MBD-EN-BL2020J-1_32R203_380389))"
  },
  "language_info": {
   "codemirror_mode": {
    "name": "ipython",
    "version": 3
   },
   "file_extension": ".py",
   "mimetype": "text/x-python",
   "name": "python",
   "nbconvert_exporter": "python",
   "pygments_lexer": "ipython3",
   "version": "3.7.6"
  }
 },
 "nbformat": 4,
 "nbformat_minor": 2
}